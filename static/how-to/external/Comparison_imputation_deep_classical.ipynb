{
 "cells": [
  {
   "cell_type": "markdown",
   "metadata": {},
   "source": [
    "<span style=\"font-size:2em\">Comparison of autoencoders and classical methods to impute missing values for continuous variables</span> \n",
    "\n",
    "**François Husson, Professor in Statistics, Rennes**"
   ]
  },
  {
   "cell_type": "markdown",
   "metadata": {},
   "source": [
    "The purpose of this notebook is to compare in terms of imputation different autoencoders: \n",
    "    \n",
    "* **MIDA**, a denoising autoencoder proposed by Lovedeep Gondara ande Wang (2018) in [MIDA : Multiple Imputation using Denoising Autoencoders](https://arxiv.org/abs/1705.02737),\n",
    "\n",
    "* **SDAi**, a denoising autoencoder proposed by Abiri et al. (2019) in [Establishing strong imputation performance of a denoising autoencoder in a wide range of missing data problems](https://arxiv.org/abs/2004.02584),\n",
    "\n",
    "* **MIWAE**, a variational autoencoder proposed by Mattei et Frellsen (2019) in  [MIWAE : Deep Generative Modelling and Imputation of Incomplete Data Sets](https://arxiv.org/abs/1812.02633),\n",
    "\n",
    "* **ImputePCA**, function from the [R package missMDA](https://www.jstatsoft.org/article/view/v070i01), viewed as a linear autoencoder\n",
    "\n",
    "to the classical methods of imputation:\n",
    "    \n",
    "* **RandomForest**, iterative imputation using an estimator based on random forests from [sklearn.impute](https://scikit-learn.org/stable/modules/generated/sklearn.impute.IterativeImputer.html).\n",
    "\n",
    "* **Mean**, the naive imputation by the mean. \n",
    "    \n",
    "This notebook is composed of 4 parts:\n",
    "<ol>\n",
    "<li>Install and load the packages.</li>\n",
    "<li>Create the files with the missing values.</li>\n",
    "<li>Automatic optimization of algorithms and performance evaluation.</li>\n",
    "<li>Creation of the synthesis files and plot of the results.</li> "
   ]
  },
  {
   "cell_type": "markdown",
   "metadata": {},
   "source": [
    "\n",
    "# Install and load the packages"
   ]
  },
  {
   "cell_type": "markdown",
   "metadata": {},
   "source": [
    "This notebook contains both Python and R code. Installing tensorflow and torch can be difficult, as can installing missMDA in R, please follow these instructions.\n",
    "\n",
    "The right environment with all the packages installed is available [here]():\n",
    "download the file and in a terminal do: **conda env create -f deep-husson-env.yml**.\n",
    "\n",
    "Then, \n",
    "\n",
    "* Install ipykernel\n",
    "\n",
    "* Activate a kernel related to our environment: **python -m ipykernel install --user --name=deep-husson-env**\n",
    "\n",
    "* Launch jupyter notebook (in the terminal)\n",
    "\n",
    "* Choose the kernel deep-husson-env\n",
    "\n",
    "\n",
    "\n",
    "If you do not want to use the available environment, in a terminal:\n",
    "\n",
    "* Create a new environment: **conda create --name deep-husson-env**\n",
    "\n",
    "* Activate the new environment: **conda activate deep-husson-env**\n",
    "\n",
    "* Install packages python (e.g. tensorflow, torch, pandas, scikit-learn, rpy2): use conda install (lines of code available [here](https://anaconda.org/conda-forge/repo)), pip install should be used as a last resort\n",
    "\n",
    "* In a R session (in the terminal), install missMDA: **install.packages(‘missMDA’)**"
   ]
  },
  {
   "cell_type": "code",
   "execution_count": 1,
   "metadata": {},
   "outputs": [
    {
     "name": "stderr",
     "output_type": "stream",
     "text": [
      "/Users/audesportisse/anaconda3/envs/deep-husson-env/lib/python3.7/site-packages/tensorflow/python/framework/dtypes.py:516: FutureWarning: Passing (type, 1) or '1type' as a synonym of type is deprecated; in a future version of numpy, it will be understood as (type, (1,)) / '(1,)type'.\n",
      "  _np_qint8 = np.dtype([(\"qint8\", np.int8, 1)])\n",
      "/Users/audesportisse/anaconda3/envs/deep-husson-env/lib/python3.7/site-packages/tensorflow/python/framework/dtypes.py:517: FutureWarning: Passing (type, 1) or '1type' as a synonym of type is deprecated; in a future version of numpy, it will be understood as (type, (1,)) / '(1,)type'.\n",
      "  _np_quint8 = np.dtype([(\"quint8\", np.uint8, 1)])\n",
      "/Users/audesportisse/anaconda3/envs/deep-husson-env/lib/python3.7/site-packages/tensorflow/python/framework/dtypes.py:518: FutureWarning: Passing (type, 1) or '1type' as a synonym of type is deprecated; in a future version of numpy, it will be understood as (type, (1,)) / '(1,)type'.\n",
      "  _np_qint16 = np.dtype([(\"qint16\", np.int16, 1)])\n",
      "/Users/audesportisse/anaconda3/envs/deep-husson-env/lib/python3.7/site-packages/tensorflow/python/framework/dtypes.py:519: FutureWarning: Passing (type, 1) or '1type' as a synonym of type is deprecated; in a future version of numpy, it will be understood as (type, (1,)) / '(1,)type'.\n",
      "  _np_quint16 = np.dtype([(\"quint16\", np.uint16, 1)])\n",
      "/Users/audesportisse/anaconda3/envs/deep-husson-env/lib/python3.7/site-packages/tensorflow/python/framework/dtypes.py:520: FutureWarning: Passing (type, 1) or '1type' as a synonym of type is deprecated; in a future version of numpy, it will be understood as (type, (1,)) / '(1,)type'.\n",
      "  _np_qint32 = np.dtype([(\"qint32\", np.int32, 1)])\n",
      "/Users/audesportisse/anaconda3/envs/deep-husson-env/lib/python3.7/site-packages/tensorflow/python/framework/dtypes.py:525: FutureWarning: Passing (type, 1) or '1type' as a synonym of type is deprecated; in a future version of numpy, it will be understood as (type, (1,)) / '(1,)type'.\n",
      "  np_resource = np.dtype([(\"resource\", np.ubyte, 1)])\n",
      "/Users/audesportisse/anaconda3/envs/deep-husson-env/lib/python3.7/site-packages/tensorboard/compat/tensorflow_stub/dtypes.py:541: FutureWarning: Passing (type, 1) or '1type' as a synonym of type is deprecated; in a future version of numpy, it will be understood as (type, (1,)) / '(1,)type'.\n",
      "  _np_qint8 = np.dtype([(\"qint8\", np.int8, 1)])\n",
      "/Users/audesportisse/anaconda3/envs/deep-husson-env/lib/python3.7/site-packages/tensorboard/compat/tensorflow_stub/dtypes.py:542: FutureWarning: Passing (type, 1) or '1type' as a synonym of type is deprecated; in a future version of numpy, it will be understood as (type, (1,)) / '(1,)type'.\n",
      "  _np_quint8 = np.dtype([(\"quint8\", np.uint8, 1)])\n",
      "/Users/audesportisse/anaconda3/envs/deep-husson-env/lib/python3.7/site-packages/tensorboard/compat/tensorflow_stub/dtypes.py:543: FutureWarning: Passing (type, 1) or '1type' as a synonym of type is deprecated; in a future version of numpy, it will be understood as (type, (1,)) / '(1,)type'.\n",
      "  _np_qint16 = np.dtype([(\"qint16\", np.int16, 1)])\n",
      "/Users/audesportisse/anaconda3/envs/deep-husson-env/lib/python3.7/site-packages/tensorboard/compat/tensorflow_stub/dtypes.py:544: FutureWarning: Passing (type, 1) or '1type' as a synonym of type is deprecated; in a future version of numpy, it will be understood as (type, (1,)) / '(1,)type'.\n",
      "  _np_quint16 = np.dtype([(\"quint16\", np.uint16, 1)])\n",
      "/Users/audesportisse/anaconda3/envs/deep-husson-env/lib/python3.7/site-packages/tensorboard/compat/tensorflow_stub/dtypes.py:545: FutureWarning: Passing (type, 1) or '1type' as a synonym of type is deprecated; in a future version of numpy, it will be understood as (type, (1,)) / '(1,)type'.\n",
      "  _np_qint32 = np.dtype([(\"qint32\", np.int32, 1)])\n",
      "/Users/audesportisse/anaconda3/envs/deep-husson-env/lib/python3.7/site-packages/tensorboard/compat/tensorflow_stub/dtypes.py:550: FutureWarning: Passing (type, 1) or '1type' as a synonym of type is deprecated; in a future version of numpy, it will be understood as (type, (1,)) / '(1,)type'.\n",
      "  np_resource = np.dtype([(\"resource\", np.ubyte, 1)])\n"
     ]
    }
   ],
   "source": [
    "from __future__ import absolute_import, division, print_function, unicode_literals\n",
    "\n",
    "import pandas as pd\n",
    "import numpy as np\n",
    "import matplotlib.pyplot as plt\n",
    "import csv\n",
    "\n",
    "import tensorflow as tf\n",
    "from tensorflow import keras\n",
    "from sklearn.ensemble import ExtraTreesRegressor\n",
    "from sklearn.experimental import enable_iterative_imputer\n",
    "from sklearn.impute import IterativeImputer\n",
    "from sklearn.preprocessing import MinMaxScaler\n",
    "from sklearn.preprocessing import StandardScaler\n",
    "from sklearn.linear_model import BayesianRidge\n",
    "from sklearn.impute import SimpleImputer\n",
    "\n",
    "import torch\n",
    "import torchvision\n",
    "import torch.nn as nn\n",
    "import scipy.stats\n",
    "import scipy.io\n",
    "import scipy.sparse\n",
    "from scipy.io import loadmat\n",
    "import torch.distributions as td\n",
    "\n",
    "from torch import nn, optim\n",
    "from torch.nn import functional as F\n",
    "from torchvision import datasets, transforms\n",
    "from torchvision.utils import save_image\n",
    "\n",
    "device = torch.device(\"cpu\")"
   ]
  },
  {
   "cell_type": "code",
   "execution_count": 2,
   "metadata": {},
   "outputs": [
    {
     "name": "stderr",
     "output_type": "stream",
     "text": [
      "/Users/audesportisse/anaconda3/envs/deep-husson-env/lib/python3.7/site-packages/rpy2/rinterface/__init__.py:146: RRuntimeWarning: Registered S3 methods overwritten by 'ggplot2':\n",
      "  method         from \n",
      "  [.quosures     rlang\n",
      "  c.quosures     rlang\n",
      "  print.quosures rlang\n",
      "\n",
      "  warnings.warn(x, RRuntimeWarning)\n",
      "/Users/audesportisse/anaconda3/envs/deep-husson-env/lib/python3.7/site-packages/rpy2/robjects/pandas2ri.py:17: FutureWarning: pandas.core.index is deprecated and will be removed in a future version.  The public classes are available in the top-level namespace.\n",
      "  from pandas.core.index import Index as PandasIndex\n"
     ]
    }
   ],
   "source": [
    "# Load the extension of python to use R.\n",
    "%load_ext rpy2.ipython"
   ]
  },
  {
   "cell_type": "code",
   "execution_count": 3,
   "metadata": {},
   "outputs": [
    {
     "data": {
      "text/plain": [
       "array(['mvtnorm', 'missMDA', 'tools', 'stats', 'graphics', 'grDevices',\n",
       "       'utils', 'datasets', 'methods', 'base'], dtype='<U9')"
      ]
     },
     "execution_count": 3,
     "metadata": {},
     "output_type": "execute_result"
    }
   ],
   "source": [
    "# Packages to load in R\n",
    "%R library(missMDA)\n",
    "%R library(mvtnorm)"
   ]
  },
  {
   "cell_type": "code",
   "execution_count": 4,
   "metadata": {},
   "outputs": [],
   "source": [
    "#To check if all the needed packages are in your R session. \n",
    "#%%R\n",
    "#sessionInfo()"
   ]
  },
  {
   "cell_type": "code",
   "execution_count": 5,
   "metadata": {},
   "outputs": [],
   "source": [
    "from Deep_Notebook_introduceNA import *"
   ]
  },
  {
   "cell_type": "code",
   "execution_count": 6,
   "metadata": {},
   "outputs": [],
   "source": [
    "from Deep_Notebook_methods import *"
   ]
  },
  {
   "cell_type": "markdown",
   "metadata": {},
   "source": [
    "# Create the datasets with missing values\n",
    "\n",
    "\n",
    "## Create a complete dataset "
   ]
  },
  {
   "cell_type": "markdown",
   "metadata": {},
   "source": [
    "First, we choose the proportion of the dataset for validation, a vector for the percentages of missing values to be tested and the number of version created for each percentage of missing values. "
   ]
  },
  {
   "cell_type": "code",
   "execution_count": 7,
   "metadata": {},
   "outputs": [],
   "source": [
    "## Parameters\n",
    "valid_size = 0.3 #Proportion of the dataset for validation\n",
    "t = [0.1,0.2,0.3] # Percentage of NA\n",
    "version = 10 # Number of versions created for each percentage of NA\n",
    "\n",
    "#DO NOT MODIFY\n",
    "NA = [str(int(k*100)) for k in t] # Percentage of NA as a character string"
   ]
  },
  {
   "cell_type": "markdown",
   "metadata": {},
   "source": [
    "### Complete dataset in R\n",
    "\n",
    "In this part, a complete dataset $X \\in \\mathbb{R}^{n\\times d}$ is generated. Different models can be chosen: \n",
    "\n",
    "* **linear relation** between the covariates. More particularly, \n",
    "\n",
    "    * we generate $(x_1,x_2) \\sim \\mathcal{N}(\\mu,\\Sigma)$, with $x_1,x_2 \\in \\mathbb{R}^n$.\n",
    "    * $X = [x_1,\\dots,x_1,x_2,\\dots,x_2] + \\epsilon,$ with $\\epsilon \\sim \\mathcal{N}(0,\\sigma^2 I_{d\\times d})$. The $k$ first columns are $x_1+\\mathrm{noise}$ and the $d-kd$ last columns are $x_2+\\mathrm{noise}$.\n",
    "    \n",
    "* **non-linear relation** between the covariates. \n",
    "\n",
    "    * $\\forall j \\in \\{1,\\dots,d\\}$, the column $j$ of $X$ is such that $X_{.j}=\\sin\\left(f_n\\left(2\\pi\\frac{(j-1)}{d} + u_n\\right)\\right)+\\epsilon_{.j}$,\n",
    "    with $u_n \\sim \\mathcal{U}[0;2\\pi]$ (uniform law) and $f_n$ is fixed and chosen by the user.\n",
    "    \n",
    "The function in R **create_complete_dataset** allows to create a complete dataset $X$ in such ways. The arguments are detailed as follows\n",
    "* `seed`: seed to reproduct the simulations.\n",
    "\n",
    "* `n`: number of observations in $X$.\n",
    "\n",
    "* `d`: number of covariates in $X$. \n",
    "\n",
    "* `noise`: variance of the noise $\\epsilon$.\n",
    "\n",
    "* `modSimu`: \"linear\" or \"non-linear\".\n",
    "\n",
    "* `k`: if `modSimu=\"linear\"`, it indicates how much colomns are equal to $x_1$ and $x_2$. \n",
    "\n",
    "* `mu`: if `modSimu=\"linear\"`, the mean vector of $(x_1,x_2)$.\n",
    "\n",
    "* `Sigma`: if `modSimu=\"linear\"`, the covariance matrix of $(x_1,x_2)$.\n",
    "\n",
    "* `fn`: if `modSimu=\"non-linear\"`, the scale-parameter to use."
   ]
  },
  {
   "cell_type": "code",
   "execution_count": 8,
   "metadata": {},
   "outputs": [],
   "source": [
    "%%R\n",
    "create_complete_dataset <- function(seed,nind,d,noise,modSimu,k=NULL,mu=NULL,Sigma=NULL,fn=NULL){\n",
    "    if (modSimu == \"linear\"){\n",
    "      X <- rmvnorm(nind, mu.X, Sigma.X)\n",
    "      X <- X[,c(rep(1,round(d*k)),rep(2,d-round(d*k)))]\n",
    "      X <- X + matrix(rnorm(nind*d,0,noise),ncol=d)\n",
    "      tab <- X\n",
    "    }\n",
    "    if (modSimu == \"non-linear\"){\n",
    "      un <-  runif(nind,0,2*pi)\n",
    "      tab <- matrix(NA,nind,d)\n",
    "      for (j in 1:d) tab[,j]= sin(fn * (2 * pi * (j-1)/d + un)) +rnorm(nind,0,noise)\n",
    "    }\n",
    "    return(tab)\n",
    "}"
   ]
  },
  {
   "cell_type": "markdown",
   "metadata": {},
   "source": [
    "The path indicates where the dataset is located and where files with missing values will be created.\n",
    "Think about adapting the way of uploading the dataset (pd.read_csv, pd.read_table...)"
   ]
  },
  {
   "cell_type": "code",
   "execution_count": 9,
   "metadata": {},
   "outputs": [],
   "source": [
    "#Directory for data and results\n",
    "path = './'\n",
    "\n",
    "np.random.seed(641)\n",
    "tf.random.set_random_seed(641)"
   ]
  },
  {
   "cell_type": "code",
   "execution_count": 10,
   "metadata": {},
   "outputs": [],
   "source": [
    "%%R\n",
    "seed <- 6451\n",
    "nind <- 300\n",
    "noise <- 0.1\n",
    "d <- 5\n",
    "#k <- 0.6\n",
    "#mu <- c(1, 1)\n",
    "#Sigma <- matrix(c(1, 1, 1, 4), nrow = 2)\n",
    "modSimu <- \"non-linear\"\n",
    "fn <- c(rep(1,d))\n",
    "\n",
    "tab <- create_complete_dataset(seed,nind,d,noise,modSimu,fn=fn)"
   ]
  },
  {
   "cell_type": "markdown",
   "metadata": {},
   "source": [
    "### Take the same dataset in Python"
   ]
  },
  {
   "cell_type": "code",
   "execution_count": 11,
   "metadata": {},
   "outputs": [],
   "source": [
    "tab_p = %R tab\n",
    "data = pd.DataFrame(tab_p)\n",
    "column = data.columns\n",
    "nind_p = %R nind\n",
    "noise_p = %R noise\n",
    "d_p = %R d\n",
    "nom_data = 'simu_nind{0}_noise{1}_d{2}'.format(int(nind_p[0]),int(100*noise_p[0]),int(d_p[0]))"
   ]
  },
  {
   "cell_type": "markdown",
   "metadata": {},
   "source": [
    "### Split the dataset in training and test dataset"
   ]
  },
  {
   "cell_type": "code",
   "execution_count": 12,
   "metadata": {},
   "outputs": [],
   "source": [
    "rows, cols = data.shape\n",
    "shuffled_index = np.random.permutation(rows)\n",
    "train_index = shuffled_index[:int(rows*(1-valid_size))]\n",
    "valid_index = shuffled_index[int(rows*(1-valid_size)):]\n",
    "\n",
    "train_data = data.iloc[train_index, :]\n",
    "valid_data = data.iloc[valid_index, :]"
   ]
  },
  {
   "cell_type": "markdown",
   "metadata": {},
   "source": [
    "### Standardization of the variables with MinMaxScaler"
   ]
  },
  {
   "cell_type": "code",
   "execution_count": 13,
   "metadata": {},
   "outputs": [],
   "source": [
    "#Standardization of the variables\n",
    "scaler = MinMaxScaler()\n",
    "scaler.fit(train_data)\n",
    "X_t = scaler.transform(train_data)\n",
    "X_v = scaler.transform(valid_data)\n",
    "X_train = pd.DataFrame(scaler.transform(train_data))\n",
    "X_train.columns = column\n",
    "X_Valid = pd.DataFrame(scaler.transform(valid_data))\n",
    "X_Valid.columns = column"
   ]
  },
  {
   "cell_type": "markdown",
   "metadata": {},
   "source": [
    "### Export the train and test dataset"
   ]
  },
  {
   "cell_type": "code",
   "execution_count": 14,
   "metadata": {},
   "outputs": [],
   "source": [
    "X_train.to_csv(path+'X_train.csv', index = True)\n",
    "X_Valid.to_csv(path+'X_Valid.csv', index = True)"
   ]
  },
  {
   "cell_type": "markdown",
   "metadata": {},
   "source": [
    "## Introduce missing values\n",
    "\n",
    "To introduce missing values, we use the function **missing_method** of the MIDA's [article](https://arxiv.org/abs/1705.02737) to add missing values with MCAR or MAR mechanism, when the unaivability of the data does not depend on the data values (MCAR) or depends on the values of the observed variables (MAR).\n",
    "\n",
    "The function **missing_method** has the following arguments:\n",
    "\n",
    "* `raw_data`: complete dataset.\n",
    "\n",
    "* `mechanism`: type of the process which causes the lack of data: \"mcar\" or \"mar\".\n",
    "\n",
    "* `method`: ...\n",
    "\n",
    "* `t`: percentage of missing values to introduce."
   ]
  },
  {
   "cell_type": "markdown",
   "metadata": {},
   "source": [
    "### Creation and export of the files with the datasets and the associates masks\n",
    "\n",
    "Missing values are imputed by the mean as an initialization step of the algorithms."
   ]
  },
  {
   "cell_type": "code",
   "execution_count": 15,
   "metadata": {},
   "outputs": [],
   "source": [
    "z = 0\n",
    "mecha = 'mcar'\n",
    "for prop_NA in t:\n",
    "    for i in range(1,version+1,1):\n",
    "        # Add missing values\n",
    "\n",
    "        missed_data, mask = missing_method(X_train, mechanism=mecha, method='uniform', t = prop_NA)\n",
    "        mask = np.invert(mask)\n",
    "\n",
    "        missed_valid, mask_valid = missing_method(X_Valid, mechanism=mecha, method='uniform', t = prop_NA)\n",
    "        mask_valid = np.invert(mask_valid)\n",
    "\n",
    "        # Impute by the mean\n",
    "\n",
    "        missed_data = imput_mean(missed_data,mask)\n",
    "        missed_valid = imput_mean(missed_valid,mask_valid)    \n",
    "\n",
    "        # Export as csv\n",
    "        missed_data.to_csv(path+'missed_data_{0}_v{1}.csv'.format(NA[z], i), index = True)\n",
    "        mask_export = pd.DataFrame(mask)\n",
    "        mask_export.to_csv(path+'mask_{0}_v{1}.csv'.format(NA[z], i), index = False)    \n",
    "        mask_export = pd.DataFrame(mask_valid)\n",
    "        mask_export.to_csv(path+'mask_valid_{0}_v{1}.csv'.format(NA[z], i), index = False)\n",
    "        missed_valid.to_csv(path+'missed_valid_{0}_v{1}.csv'.format(NA[z], i), index = True)\n",
    "        \n",
    "    z += 1\n"
   ]
  },
  {
   "cell_type": "markdown",
   "metadata": {},
   "source": [
    "# Automatic optimization of algorithms and performance evaluation\n",
    "\n",
    "In this part the algorithms are optimized. We test for the different autoencoders various structures (more or less layers, more or less nodes and 2 types of activation functions for MIDA, SDAI pt and SDAI spt) and for RandomForest various numbers of trees and different levels of depth.\n",
    "\n",
    "## Parameters\n",
    "\n",
    "If this part is executed independently of the previous one, please remove the '#' from the next cell and fill in the fields.\n"
   ]
  },
  {
   "cell_type": "code",
   "execution_count": 16,
   "metadata": {},
   "outputs": [],
   "source": [
    "versions = [k for k in range(1,version+1)]\n",
    "\n",
    "### Number of times for which a same combination is evaluated.\n",
    "rep = 1 \n",
    "\n",
    "###Tested algorithms\n",
    "###Names of the algorithms: \n",
    "#       - MIWAE\n",
    "#       - MIDA \n",
    "#       - SDAI spt/pt: without pre-training (spt) or with (pt)\n",
    "#       - RF : RandomForest\n",
    "#       - mean \n",
    "#article = ['MIDA','SDAI pt','SDAI spt','MIWAE','RF','mean'] \n",
    "article = ['mean','MIWAE','RF'] \n",
    "\n",
    "\n",
    "#Number of variables in the dataset \n",
    "#(useful to create the layers in autoencoders)\n",
    "\n",
    "columns_name = pd.read_csv(path+'X_train.csv'.format(NA), sep =',')\n",
    "columns_name = columns_name.columns\n",
    "\n",
    "nb_var = len(columns_name)-1"
   ]
  },
  {
   "cell_type": "markdown",
   "metadata": {},
   "source": [
    "#### Parameters for MIWAE (Variational AutoEncoder)"
   ]
  },
  {
   "cell_type": "code",
   "execution_count": 17,
   "metadata": {},
   "outputs": [],
   "source": [
    "### Size of the bachs\n",
    "bs  = 50\n",
    "\n",
    "### Number of epochs\n",
    "n_epochs = 50\n",
    "\n",
    "### Dimension of the latent space\n",
    "dim_lat = 10  \n",
    "\n",
    "### Number of IS during the training\n",
    "K = 20 \n",
    "\n",
    "### Number of units for each layer (this number is the same for all layers). \n",
    "### Encoder and decoder are multi-layer perceptrons with 3 hidden layers\n",
    "units=[128] "
   ]
  },
  {
   "cell_type": "markdown",
   "metadata": {},
   "source": [
    "#### Parameters for MIDA, SDAI pt/spt (Denoising AutoEncoders)"
   ]
  },
  {
   "cell_type": "code",
   "execution_count": 18,
   "metadata": {},
   "outputs": [],
   "source": [
    "###Size of the bachs\n",
    "batch_size = 32\n",
    "\n",
    "###Number of epochs for the pre training\n",
    "num_epochs_pt = 10 \n",
    "\n",
    "###Number of epochs for the fine tuning\n",
    "num_epochs_ft = 40 \n",
    "\n",
    "###Structures evaluated for each autoencoder. \n",
    "#Ex for MIDA: [15,20] = input layer -> encoder with 15 units -> latent layer with 20 units -> decoder with 15 units -> output layer\n",
    "\n",
    "layers = {'MIDA':[[25, 30], [25, 35], [25, 40], [25, 28, 30], [25, 30, 35],\n",
    "       [25, 30, 40], [25, 30, 45], [25, 30, 35, 40]],\n",
    "      # [25, 30, 40, 50]],\n",
    "          'SDAI spt':[[18, 14], [18, 10], [18, 8], [18, 16, 14], [18, 12, 6],\n",
    "       [18, 14, 10, 6]],\n",
    "          'SDAI pt':[[18, 14], [18, 10], [18, 8], [18, 16, 14], [18, 12, 6],\n",
    "       [18, 14, 10, 6]],\n",
    "}\n",
    "\n",
    "\n",
    "### Activated function\n",
    "activ = ['relu','tanh']\n",
    "\n",
    "### Activated function for the layer output\n",
    "output_activ = 'sigmoid' \n",
    "\n",
    "### Rate of cut pathways \n",
    "dropout_rate = 0.5 \n",
    "\n",
    "###Optimizer\n",
    "opt = tf.keras.optimizers.Adam(0.01)\n"
   ]
  },
  {
   "cell_type": "markdown",
   "metadata": {},
   "source": [
    "## Creation of output files with the results\n",
    "\n",
    "We now create output files with the results of the algorithms.\n",
    "\n",
    "The following informations are available:\n",
    "* **Algorithm** : name of the algorithm \n",
    "* **Percent_NA** : percentage of missing values\n",
    "* **Version** : number of version for a same percentage of missing values  \n",
    "* **Layers** : structure of the algorithm \n",
    "* **Activation** : activated function for the internal layers \n",
    "* **RMSE** : RMSE \n",
    "* **Loss** : list with the mean value of the loss function for each (on the train dataset) \n",
    "* **Validation_loss** :  list with the mean value of the loss function for each epoch (on the test dataset) \n",
    "<font color=red>ATTENTION: the following lines of code erase the file if it already exists</font>"
   ]
  },
  {
   "cell_type": "code",
   "execution_count": 19,
   "metadata": {},
   "outputs": [],
   "source": [
    "with open(path + 'Results_{}.csv'.format(nom_data), 'w', newline='') as file:\n",
    "    writer = csv.writer(file,delimiter=';')\n",
    "    writer.writerow(['Algorithm','Percent_NA','Version','Layers','Activation','RMSE','Loss','Validation_loss'])"
   ]
  },
  {
   "cell_type": "markdown",
   "metadata": {},
   "source": [
    "### Comparison of the algorithms\n",
    "\n",
    "Here, for each algorithm, each percentage of missing values and each file version for a percentage of missing values, all architecture(number of layers and nodes)/activation function combinations are searched for, whereby only ReLU is tested for MIWAE. The previously created csv file compiles the results (=RMSE) obtained from the test files. "
   ]
  },
  {
   "cell_type": "markdown",
   "metadata": {},
   "source": [
    "#### Methods in Python"
   ]
  },
  {
   "cell_type": "code",
   "execution_count": 20,
   "metadata": {
    "scrolled": true
   },
   "outputs": [
    {
     "name": "stdout",
     "output_type": "stream",
     "text": [
      "###################################Percentage NA: 10\n",
      "###################################Version: 1\n",
      "RMSE:  0.30723937544760627\n",
      "###################################Percentage NA: 10\n",
      "###################################Version: 2\n",
      "RMSE:  0.28559567284914655\n",
      "###################################Percentage NA: 10\n",
      "###################################Version: 3\n",
      "RMSE:  0.29767329797064307\n",
      "###################################Percentage NA: 10\n",
      "###################################Version: 4\n",
      "RMSE:  0.2806313687607458\n",
      "###################################Percentage NA: 10\n",
      "###################################Version: 5\n",
      "RMSE:  0.2662073220611853\n",
      "###################################Percentage NA: 10\n",
      "###################################Version: 6\n",
      "RMSE:  0.2889227048992675\n",
      "###################################Percentage NA: 10\n",
      "###################################Version: 7\n",
      "RMSE:  0.29136875139142615\n",
      "###################################Percentage NA: 10\n",
      "###################################Version: 8\n",
      "RMSE:  0.30715298700256666\n",
      "###################################Percentage NA: 10\n",
      "###################################Version: 9\n",
      "RMSE:  0.28733521533087664\n",
      "###################################Percentage NA: 10\n",
      "###################################Version: 10\n",
      "RMSE:  0.31423845845129195\n",
      "###################################Percentage NA: 20\n",
      "###################################Version: 1\n",
      "RMSE:  0.3103045191949211\n",
      "###################################Percentage NA: 20\n",
      "###################################Version: 2\n",
      "RMSE:  0.30331074459755536\n",
      "###################################Percentage NA: 20\n",
      "###################################Version: 3\n",
      "RMSE:  0.29689918199285625\n",
      "###################################Percentage NA: 20\n",
      "###################################Version: 4\n",
      "RMSE:  0.3184653605665166\n",
      "###################################Percentage NA: 20\n",
      "###################################Version: 5\n",
      "RMSE:  0.32485134931071064\n",
      "###################################Percentage NA: 20\n",
      "###################################Version: 6\n",
      "RMSE:  0.3051512296015089\n",
      "###################################Percentage NA: 20\n",
      "###################################Version: 7\n",
      "RMSE:  0.2953463058200638\n",
      "###################################Percentage NA: 20\n",
      "###################################Version: 8\n",
      "RMSE:  0.28686097582102155\n",
      "###################################Percentage NA: 20\n",
      "###################################Version: 9\n",
      "RMSE:  0.3081443294517453\n",
      "###################################Percentage NA: 20\n",
      "###################################Version: 10\n",
      "RMSE:  0.2881325728350982\n",
      "###################################Percentage NA: 30\n",
      "###################################Version: 1\n",
      "RMSE:  0.3104265386652598\n",
      "###################################Percentage NA: 30\n",
      "###################################Version: 2\n",
      "RMSE:  0.2844204287456323\n",
      "###################################Percentage NA: 30\n",
      "###################################Version: 3\n",
      "RMSE:  0.3034442850842829\n",
      "###################################Percentage NA: 30\n",
      "###################################Version: 4\n",
      "RMSE:  0.3087897755180697\n",
      "###################################Percentage NA: 30\n",
      "###################################Version: 5\n",
      "RMSE:  0.2901979793516647\n",
      "###################################Percentage NA: 30\n",
      "###################################Version: 6\n",
      "RMSE:  0.3028894432760768\n",
      "###################################Percentage NA: 30\n",
      "###################################Version: 7\n",
      "RMSE:  0.30901485457279243\n",
      "###################################Percentage NA: 30\n",
      "###################################Version: 8\n",
      "RMSE:  0.2909050392108845\n",
      "###################################Percentage NA: 30\n",
      "###################################Version: 9\n",
      "RMSE:  0.3002197377714265\n",
      "###################################Percentage NA: 30\n",
      "###################################Version: 10\n",
      "RMSE:  0.3090170313349014\n",
      "###################################Percentage of NA: 10\n",
      "###################################Version: 1\n",
      "###################################Value of the hidden units: 128\n",
      "RMSE : 0.139467\n",
      "###################################Percentage of NA: 10\n",
      "###################################Version: 2\n",
      "###################################Value of the hidden units: 128\n",
      "RMSE : 0.124527\n",
      "###################################Percentage of NA: 10\n",
      "###################################Version: 3\n",
      "###################################Value of the hidden units: 128\n",
      "RMSE : 0.140614\n",
      "###################################Percentage of NA: 10\n",
      "###################################Version: 4\n",
      "###################################Value of the hidden units: 128\n",
      "RMSE : 0.139907\n",
      "###################################Percentage of NA: 10\n",
      "###################################Version: 5\n",
      "###################################Value of the hidden units: 128\n",
      "RMSE : 0.0967497\n",
      "###################################Percentage of NA: 10\n",
      "###################################Version: 6\n",
      "###################################Value of the hidden units: 128\n",
      "RMSE : 0.103826\n",
      "###################################Percentage of NA: 10\n",
      "###################################Version: 7\n",
      "###################################Value of the hidden units: 128\n",
      "RMSE : 0.118393\n",
      "###################################Percentage of NA: 10\n",
      "###################################Version: 8\n",
      "###################################Value of the hidden units: 128\n",
      "RMSE : 0.104709\n",
      "###################################Percentage of NA: 10\n",
      "###################################Version: 9\n",
      "###################################Value of the hidden units: 128\n",
      "RMSE : 0.114832\n",
      "###################################Percentage of NA: 10\n",
      "###################################Version: 10\n",
      "###################################Value of the hidden units: 128\n",
      "RMSE : 0.100973\n",
      "###################################Percentage of NA: 20\n",
      "###################################Version: 1\n",
      "###################################Value of the hidden units: 128\n",
      "RMSE : 0.125536\n",
      "###################################Percentage of NA: 20\n",
      "###################################Version: 2\n",
      "###################################Value of the hidden units: 128\n",
      "RMSE : 0.115819\n",
      "###################################Percentage of NA: 20\n",
      "###################################Version: 3\n",
      "###################################Value of the hidden units: 128\n",
      "RMSE : 0.16075\n",
      "###################################Percentage of NA: 20\n",
      "###################################Version: 4\n",
      "###################################Value of the hidden units: 128\n",
      "RMSE : 0.160574\n",
      "###################################Percentage of NA: 20\n",
      "###################################Version: 5\n",
      "###################################Value of the hidden units: 128\n",
      "RMSE : 0.123394\n",
      "###################################Percentage of NA: 20\n",
      "###################################Version: 6\n",
      "###################################Value of the hidden units: 128\n",
      "RMSE : 0.12592\n",
      "###################################Percentage of NA: 20\n",
      "###################################Version: 7\n",
      "###################################Value of the hidden units: 128\n",
      "RMSE : 0.108634\n",
      "###################################Percentage of NA: 20\n",
      "###################################Version: 8\n",
      "###################################Value of the hidden units: 128\n",
      "RMSE : 0.134988\n",
      "###################################Percentage of NA: 20\n",
      "###################################Version: 9\n",
      "###################################Value of the hidden units: 128\n",
      "RMSE : 0.159855\n",
      "###################################Percentage of NA: 20\n",
      "###################################Version: 10\n",
      "###################################Value of the hidden units: 128\n",
      "RMSE : 0.175844\n",
      "###################################Percentage of NA: 30\n",
      "###################################Version: 1\n",
      "###################################Value of the hidden units: 128\n",
      "RMSE : 0.189646\n",
      "###################################Percentage of NA: 30\n",
      "###################################Version: 2\n",
      "###################################Value of the hidden units: 128\n",
      "RMSE : 0.16152\n",
      "###################################Percentage of NA: 30\n",
      "###################################Version: 3\n",
      "###################################Value of the hidden units: 128\n",
      "RMSE : 0.167969\n",
      "###################################Percentage of NA: 30\n",
      "###################################Version: 4\n",
      "###################################Value of the hidden units: 128\n",
      "RMSE : 0.142298\n",
      "###################################Percentage of NA: 30\n",
      "###################################Version: 5\n",
      "###################################Value of the hidden units: 128\n"
     ]
    },
    {
     "name": "stdout",
     "output_type": "stream",
     "text": [
      "RMSE : 0.162148\n",
      "###################################Percentage of NA: 30\n",
      "###################################Version: 6\n",
      "###################################Value of the hidden units: 128\n",
      "RMSE : 0.148599\n",
      "###################################Percentage of NA: 30\n",
      "###################################Version: 7\n",
      "###################################Value of the hidden units: 128\n",
      "RMSE : 0.183359\n",
      "###################################Percentage of NA: 30\n",
      "###################################Version: 8\n",
      "###################################Value of the hidden units: 128\n",
      "RMSE : 0.165227\n",
      "###################################Percentage of NA: 30\n",
      "###################################Version: 9\n",
      "###################################Value of the hidden units: 128\n",
      "RMSE : 0.156549\n",
      "###################################Percentage of NA: 30\n",
      "###################################Version: 10\n",
      "###################################Value of the hidden units: 128\n",
      "RMSE : 0.153012\n",
      "###################################Percentage NA: 10\n",
      "###################################Version: 1\n"
     ]
    },
    {
     "name": "stderr",
     "output_type": "stream",
     "text": [
      "/Users/audesportisse/anaconda3/envs/deep-husson-env/lib/python3.7/site-packages/sklearn/impute/_iterative.py:686: ConvergenceWarning: [IterativeImputer] Early stopping criterion not reached.\n",
      "  \" reached.\", ConvergenceWarning)\n",
      "/Users/audesportisse/anaconda3/envs/deep-husson-env/lib/python3.7/site-packages/sklearn/impute/_iterative.py:686: ConvergenceWarning: [IterativeImputer] Early stopping criterion not reached.\n",
      "  \" reached.\", ConvergenceWarning)\n",
      "/Users/audesportisse/anaconda3/envs/deep-husson-env/lib/python3.7/site-packages/sklearn/impute/_iterative.py:686: ConvergenceWarning: [IterativeImputer] Early stopping criterion not reached.\n",
      "  \" reached.\", ConvergenceWarning)\n",
      "/Users/audesportisse/anaconda3/envs/deep-husson-env/lib/python3.7/site-packages/sklearn/impute/_iterative.py:686: ConvergenceWarning: [IterativeImputer] Early stopping criterion not reached.\n",
      "  \" reached.\", ConvergenceWarning)\n",
      "/Users/audesportisse/anaconda3/envs/deep-husson-env/lib/python3.7/site-packages/sklearn/impute/_iterative.py:686: ConvergenceWarning: [IterativeImputer] Early stopping criterion not reached.\n",
      "  \" reached.\", ConvergenceWarning)\n",
      "/Users/audesportisse/anaconda3/envs/deep-husson-env/lib/python3.7/site-packages/sklearn/impute/_iterative.py:686: ConvergenceWarning: [IterativeImputer] Early stopping criterion not reached.\n",
      "  \" reached.\", ConvergenceWarning)\n",
      "/Users/audesportisse/anaconda3/envs/deep-husson-env/lib/python3.7/site-packages/sklearn/impute/_iterative.py:686: ConvergenceWarning: [IterativeImputer] Early stopping criterion not reached.\n",
      "  \" reached.\", ConvergenceWarning)\n"
     ]
    },
    {
     "name": "stdout",
     "output_type": "stream",
     "text": [
      "RMSE:  0.05281636864304139\n",
      "###################################Percentage NA: 10\n",
      "###################################Version: 2\n"
     ]
    },
    {
     "name": "stderr",
     "output_type": "stream",
     "text": [
      "/Users/audesportisse/anaconda3/envs/deep-husson-env/lib/python3.7/site-packages/sklearn/impute/_iterative.py:686: ConvergenceWarning: [IterativeImputer] Early stopping criterion not reached.\n",
      "  \" reached.\", ConvergenceWarning)\n",
      "/Users/audesportisse/anaconda3/envs/deep-husson-env/lib/python3.7/site-packages/sklearn/impute/_iterative.py:686: ConvergenceWarning: [IterativeImputer] Early stopping criterion not reached.\n",
      "  \" reached.\", ConvergenceWarning)\n",
      "/Users/audesportisse/anaconda3/envs/deep-husson-env/lib/python3.7/site-packages/sklearn/impute/_iterative.py:686: ConvergenceWarning: [IterativeImputer] Early stopping criterion not reached.\n",
      "  \" reached.\", ConvergenceWarning)\n",
      "/Users/audesportisse/anaconda3/envs/deep-husson-env/lib/python3.7/site-packages/sklearn/impute/_iterative.py:686: ConvergenceWarning: [IterativeImputer] Early stopping criterion not reached.\n",
      "  \" reached.\", ConvergenceWarning)\n",
      "/Users/audesportisse/anaconda3/envs/deep-husson-env/lib/python3.7/site-packages/sklearn/impute/_iterative.py:686: ConvergenceWarning: [IterativeImputer] Early stopping criterion not reached.\n",
      "  \" reached.\", ConvergenceWarning)\n",
      "/Users/audesportisse/anaconda3/envs/deep-husson-env/lib/python3.7/site-packages/sklearn/impute/_iterative.py:686: ConvergenceWarning: [IterativeImputer] Early stopping criterion not reached.\n",
      "  \" reached.\", ConvergenceWarning)\n",
      "/Users/audesportisse/anaconda3/envs/deep-husson-env/lib/python3.7/site-packages/sklearn/impute/_iterative.py:686: ConvergenceWarning: [IterativeImputer] Early stopping criterion not reached.\n",
      "  \" reached.\", ConvergenceWarning)\n"
     ]
    },
    {
     "name": "stdout",
     "output_type": "stream",
     "text": [
      "RMSE:  0.05118157532411237\n",
      "###################################Percentage NA: 10\n",
      "###################################Version: 3\n"
     ]
    },
    {
     "name": "stderr",
     "output_type": "stream",
     "text": [
      "/Users/audesportisse/anaconda3/envs/deep-husson-env/lib/python3.7/site-packages/sklearn/impute/_iterative.py:686: ConvergenceWarning: [IterativeImputer] Early stopping criterion not reached.\n",
      "  \" reached.\", ConvergenceWarning)\n",
      "/Users/audesportisse/anaconda3/envs/deep-husson-env/lib/python3.7/site-packages/sklearn/impute/_iterative.py:686: ConvergenceWarning: [IterativeImputer] Early stopping criterion not reached.\n",
      "  \" reached.\", ConvergenceWarning)\n",
      "/Users/audesportisse/anaconda3/envs/deep-husson-env/lib/python3.7/site-packages/sklearn/impute/_iterative.py:686: ConvergenceWarning: [IterativeImputer] Early stopping criterion not reached.\n",
      "  \" reached.\", ConvergenceWarning)\n",
      "/Users/audesportisse/anaconda3/envs/deep-husson-env/lib/python3.7/site-packages/sklearn/impute/_iterative.py:686: ConvergenceWarning: [IterativeImputer] Early stopping criterion not reached.\n",
      "  \" reached.\", ConvergenceWarning)\n",
      "/Users/audesportisse/anaconda3/envs/deep-husson-env/lib/python3.7/site-packages/sklearn/impute/_iterative.py:686: ConvergenceWarning: [IterativeImputer] Early stopping criterion not reached.\n",
      "  \" reached.\", ConvergenceWarning)\n",
      "/Users/audesportisse/anaconda3/envs/deep-husson-env/lib/python3.7/site-packages/sklearn/impute/_iterative.py:686: ConvergenceWarning: [IterativeImputer] Early stopping criterion not reached.\n",
      "  \" reached.\", ConvergenceWarning)\n",
      "/Users/audesportisse/anaconda3/envs/deep-husson-env/lib/python3.7/site-packages/sklearn/impute/_iterative.py:686: ConvergenceWarning: [IterativeImputer] Early stopping criterion not reached.\n",
      "  \" reached.\", ConvergenceWarning)\n"
     ]
    },
    {
     "name": "stdout",
     "output_type": "stream",
     "text": [
      "RMSE:  0.05233085181953142\n",
      "###################################Percentage NA: 10\n",
      "###################################Version: 4\n"
     ]
    },
    {
     "name": "stderr",
     "output_type": "stream",
     "text": [
      "/Users/audesportisse/anaconda3/envs/deep-husson-env/lib/python3.7/site-packages/sklearn/impute/_iterative.py:686: ConvergenceWarning: [IterativeImputer] Early stopping criterion not reached.\n",
      "  \" reached.\", ConvergenceWarning)\n",
      "/Users/audesportisse/anaconda3/envs/deep-husson-env/lib/python3.7/site-packages/sklearn/impute/_iterative.py:686: ConvergenceWarning: [IterativeImputer] Early stopping criterion not reached.\n",
      "  \" reached.\", ConvergenceWarning)\n",
      "/Users/audesportisse/anaconda3/envs/deep-husson-env/lib/python3.7/site-packages/sklearn/impute/_iterative.py:686: ConvergenceWarning: [IterativeImputer] Early stopping criterion not reached.\n",
      "  \" reached.\", ConvergenceWarning)\n",
      "/Users/audesportisse/anaconda3/envs/deep-husson-env/lib/python3.7/site-packages/sklearn/impute/_iterative.py:686: ConvergenceWarning: [IterativeImputer] Early stopping criterion not reached.\n",
      "  \" reached.\", ConvergenceWarning)\n",
      "/Users/audesportisse/anaconda3/envs/deep-husson-env/lib/python3.7/site-packages/sklearn/impute/_iterative.py:686: ConvergenceWarning: [IterativeImputer] Early stopping criterion not reached.\n",
      "  \" reached.\", ConvergenceWarning)\n",
      "/Users/audesportisse/anaconda3/envs/deep-husson-env/lib/python3.7/site-packages/sklearn/impute/_iterative.py:686: ConvergenceWarning: [IterativeImputer] Early stopping criterion not reached.\n",
      "  \" reached.\", ConvergenceWarning)\n",
      "/Users/audesportisse/anaconda3/envs/deep-husson-env/lib/python3.7/site-packages/sklearn/impute/_iterative.py:686: ConvergenceWarning: [IterativeImputer] Early stopping criterion not reached.\n",
      "  \" reached.\", ConvergenceWarning)\n"
     ]
    },
    {
     "name": "stdout",
     "output_type": "stream",
     "text": [
      "RMSE:  0.05644040356975443\n",
      "###################################Percentage NA: 10\n",
      "###################################Version: 5\n"
     ]
    },
    {
     "name": "stderr",
     "output_type": "stream",
     "text": [
      "/Users/audesportisse/anaconda3/envs/deep-husson-env/lib/python3.7/site-packages/sklearn/impute/_iterative.py:686: ConvergenceWarning: [IterativeImputer] Early stopping criterion not reached.\n",
      "  \" reached.\", ConvergenceWarning)\n",
      "/Users/audesportisse/anaconda3/envs/deep-husson-env/lib/python3.7/site-packages/sklearn/impute/_iterative.py:686: ConvergenceWarning: [IterativeImputer] Early stopping criterion not reached.\n",
      "  \" reached.\", ConvergenceWarning)\n",
      "/Users/audesportisse/anaconda3/envs/deep-husson-env/lib/python3.7/site-packages/sklearn/impute/_iterative.py:686: ConvergenceWarning: [IterativeImputer] Early stopping criterion not reached.\n",
      "  \" reached.\", ConvergenceWarning)\n",
      "/Users/audesportisse/anaconda3/envs/deep-husson-env/lib/python3.7/site-packages/sklearn/impute/_iterative.py:686: ConvergenceWarning: [IterativeImputer] Early stopping criterion not reached.\n",
      "  \" reached.\", ConvergenceWarning)\n",
      "/Users/audesportisse/anaconda3/envs/deep-husson-env/lib/python3.7/site-packages/sklearn/impute/_iterative.py:686: ConvergenceWarning: [IterativeImputer] Early stopping criterion not reached.\n",
      "  \" reached.\", ConvergenceWarning)\n",
      "/Users/audesportisse/anaconda3/envs/deep-husson-env/lib/python3.7/site-packages/sklearn/impute/_iterative.py:686: ConvergenceWarning: [IterativeImputer] Early stopping criterion not reached.\n",
      "  \" reached.\", ConvergenceWarning)\n",
      "/Users/audesportisse/anaconda3/envs/deep-husson-env/lib/python3.7/site-packages/sklearn/impute/_iterative.py:686: ConvergenceWarning: [IterativeImputer] Early stopping criterion not reached.\n",
      "  \" reached.\", ConvergenceWarning)\n"
     ]
    },
    {
     "name": "stdout",
     "output_type": "stream",
     "text": [
      "RMSE:  0.05260950867320992\n",
      "###################################Percentage NA: 10\n",
      "###################################Version: 6\n"
     ]
    },
    {
     "name": "stderr",
     "output_type": "stream",
     "text": [
      "/Users/audesportisse/anaconda3/envs/deep-husson-env/lib/python3.7/site-packages/sklearn/impute/_iterative.py:686: ConvergenceWarning: [IterativeImputer] Early stopping criterion not reached.\n",
      "  \" reached.\", ConvergenceWarning)\n",
      "/Users/audesportisse/anaconda3/envs/deep-husson-env/lib/python3.7/site-packages/sklearn/impute/_iterative.py:686: ConvergenceWarning: [IterativeImputer] Early stopping criterion not reached.\n",
      "  \" reached.\", ConvergenceWarning)\n",
      "/Users/audesportisse/anaconda3/envs/deep-husson-env/lib/python3.7/site-packages/sklearn/impute/_iterative.py:686: ConvergenceWarning: [IterativeImputer] Early stopping criterion not reached.\n",
      "  \" reached.\", ConvergenceWarning)\n",
      "/Users/audesportisse/anaconda3/envs/deep-husson-env/lib/python3.7/site-packages/sklearn/impute/_iterative.py:686: ConvergenceWarning: [IterativeImputer] Early stopping criterion not reached.\n",
      "  \" reached.\", ConvergenceWarning)\n",
      "/Users/audesportisse/anaconda3/envs/deep-husson-env/lib/python3.7/site-packages/sklearn/impute/_iterative.py:686: ConvergenceWarning: [IterativeImputer] Early stopping criterion not reached.\n",
      "  \" reached.\", ConvergenceWarning)\n",
      "/Users/audesportisse/anaconda3/envs/deep-husson-env/lib/python3.7/site-packages/sklearn/impute/_iterative.py:686: ConvergenceWarning: [IterativeImputer] Early stopping criterion not reached.\n",
      "  \" reached.\", ConvergenceWarning)\n",
      "/Users/audesportisse/anaconda3/envs/deep-husson-env/lib/python3.7/site-packages/sklearn/impute/_iterative.py:686: ConvergenceWarning: [IterativeImputer] Early stopping criterion not reached.\n",
      "  \" reached.\", ConvergenceWarning)\n"
     ]
    },
    {
     "name": "stdout",
     "output_type": "stream",
     "text": [
      "RMSE:  0.06716212259310883\n",
      "###################################Percentage NA: 10\n",
      "###################################Version: 7\n"
     ]
    },
    {
     "name": "stderr",
     "output_type": "stream",
     "text": [
      "/Users/audesportisse/anaconda3/envs/deep-husson-env/lib/python3.7/site-packages/sklearn/impute/_iterative.py:686: ConvergenceWarning: [IterativeImputer] Early stopping criterion not reached.\n",
      "  \" reached.\", ConvergenceWarning)\n",
      "/Users/audesportisse/anaconda3/envs/deep-husson-env/lib/python3.7/site-packages/sklearn/impute/_iterative.py:686: ConvergenceWarning: [IterativeImputer] Early stopping criterion not reached.\n",
      "  \" reached.\", ConvergenceWarning)\n",
      "/Users/audesportisse/anaconda3/envs/deep-husson-env/lib/python3.7/site-packages/sklearn/impute/_iterative.py:686: ConvergenceWarning: [IterativeImputer] Early stopping criterion not reached.\n",
      "  \" reached.\", ConvergenceWarning)\n",
      "/Users/audesportisse/anaconda3/envs/deep-husson-env/lib/python3.7/site-packages/sklearn/impute/_iterative.py:686: ConvergenceWarning: [IterativeImputer] Early stopping criterion not reached.\n",
      "  \" reached.\", ConvergenceWarning)\n",
      "/Users/audesportisse/anaconda3/envs/deep-husson-env/lib/python3.7/site-packages/sklearn/impute/_iterative.py:686: ConvergenceWarning: [IterativeImputer] Early stopping criterion not reached.\n",
      "  \" reached.\", ConvergenceWarning)\n",
      "/Users/audesportisse/anaconda3/envs/deep-husson-env/lib/python3.7/site-packages/sklearn/impute/_iterative.py:686: ConvergenceWarning: [IterativeImputer] Early stopping criterion not reached.\n",
      "  \" reached.\", ConvergenceWarning)\n",
      "/Users/audesportisse/anaconda3/envs/deep-husson-env/lib/python3.7/site-packages/sklearn/impute/_iterative.py:686: ConvergenceWarning: [IterativeImputer] Early stopping criterion not reached.\n",
      "  \" reached.\", ConvergenceWarning)\n"
     ]
    },
    {
     "name": "stdout",
     "output_type": "stream",
     "text": [
      "RMSE:  0.06420628043796706\n",
      "###################################Percentage NA: 10\n",
      "###################################Version: 8\n"
     ]
    },
    {
     "name": "stderr",
     "output_type": "stream",
     "text": [
      "/Users/audesportisse/anaconda3/envs/deep-husson-env/lib/python3.7/site-packages/sklearn/impute/_iterative.py:686: ConvergenceWarning: [IterativeImputer] Early stopping criterion not reached.\n",
      "  \" reached.\", ConvergenceWarning)\n",
      "/Users/audesportisse/anaconda3/envs/deep-husson-env/lib/python3.7/site-packages/sklearn/impute/_iterative.py:686: ConvergenceWarning: [IterativeImputer] Early stopping criterion not reached.\n",
      "  \" reached.\", ConvergenceWarning)\n",
      "/Users/audesportisse/anaconda3/envs/deep-husson-env/lib/python3.7/site-packages/sklearn/impute/_iterative.py:686: ConvergenceWarning: [IterativeImputer] Early stopping criterion not reached.\n",
      "  \" reached.\", ConvergenceWarning)\n",
      "/Users/audesportisse/anaconda3/envs/deep-husson-env/lib/python3.7/site-packages/sklearn/impute/_iterative.py:686: ConvergenceWarning: [IterativeImputer] Early stopping criterion not reached.\n",
      "  \" reached.\", ConvergenceWarning)\n",
      "/Users/audesportisse/anaconda3/envs/deep-husson-env/lib/python3.7/site-packages/sklearn/impute/_iterative.py:686: ConvergenceWarning: [IterativeImputer] Early stopping criterion not reached.\n",
      "  \" reached.\", ConvergenceWarning)\n",
      "/Users/audesportisse/anaconda3/envs/deep-husson-env/lib/python3.7/site-packages/sklearn/impute/_iterative.py:686: ConvergenceWarning: [IterativeImputer] Early stopping criterion not reached.\n",
      "  \" reached.\", ConvergenceWarning)\n",
      "/Users/audesportisse/anaconda3/envs/deep-husson-env/lib/python3.7/site-packages/sklearn/impute/_iterative.py:686: ConvergenceWarning: [IterativeImputer] Early stopping criterion not reached.\n",
      "  \" reached.\", ConvergenceWarning)\n"
     ]
    },
    {
     "name": "stdout",
     "output_type": "stream",
     "text": [
      "RMSE:  0.053041543144943096\n",
      "###################################Percentage NA: 10\n",
      "###################################Version: 9\n"
     ]
    },
    {
     "name": "stderr",
     "output_type": "stream",
     "text": [
      "/Users/audesportisse/anaconda3/envs/deep-husson-env/lib/python3.7/site-packages/sklearn/impute/_iterative.py:686: ConvergenceWarning: [IterativeImputer] Early stopping criterion not reached.\n",
      "  \" reached.\", ConvergenceWarning)\n",
      "/Users/audesportisse/anaconda3/envs/deep-husson-env/lib/python3.7/site-packages/sklearn/impute/_iterative.py:686: ConvergenceWarning: [IterativeImputer] Early stopping criterion not reached.\n",
      "  \" reached.\", ConvergenceWarning)\n",
      "/Users/audesportisse/anaconda3/envs/deep-husson-env/lib/python3.7/site-packages/sklearn/impute/_iterative.py:686: ConvergenceWarning: [IterativeImputer] Early stopping criterion not reached.\n",
      "  \" reached.\", ConvergenceWarning)\n",
      "/Users/audesportisse/anaconda3/envs/deep-husson-env/lib/python3.7/site-packages/sklearn/impute/_iterative.py:686: ConvergenceWarning: [IterativeImputer] Early stopping criterion not reached.\n",
      "  \" reached.\", ConvergenceWarning)\n",
      "/Users/audesportisse/anaconda3/envs/deep-husson-env/lib/python3.7/site-packages/sklearn/impute/_iterative.py:686: ConvergenceWarning: [IterativeImputer] Early stopping criterion not reached.\n",
      "  \" reached.\", ConvergenceWarning)\n",
      "/Users/audesportisse/anaconda3/envs/deep-husson-env/lib/python3.7/site-packages/sklearn/impute/_iterative.py:686: ConvergenceWarning: [IterativeImputer] Early stopping criterion not reached.\n",
      "  \" reached.\", ConvergenceWarning)\n",
      "/Users/audesportisse/anaconda3/envs/deep-husson-env/lib/python3.7/site-packages/sklearn/impute/_iterative.py:686: ConvergenceWarning: [IterativeImputer] Early stopping criterion not reached.\n",
      "  \" reached.\", ConvergenceWarning)\n"
     ]
    },
    {
     "name": "stdout",
     "output_type": "stream",
     "text": [
      "RMSE:  0.06743446959242666\n",
      "###################################Percentage NA: 10\n",
      "###################################Version: 10\n"
     ]
    },
    {
     "name": "stderr",
     "output_type": "stream",
     "text": [
      "/Users/audesportisse/anaconda3/envs/deep-husson-env/lib/python3.7/site-packages/sklearn/impute/_iterative.py:686: ConvergenceWarning: [IterativeImputer] Early stopping criterion not reached.\n",
      "  \" reached.\", ConvergenceWarning)\n",
      "/Users/audesportisse/anaconda3/envs/deep-husson-env/lib/python3.7/site-packages/sklearn/impute/_iterative.py:686: ConvergenceWarning: [IterativeImputer] Early stopping criterion not reached.\n",
      "  \" reached.\", ConvergenceWarning)\n",
      "/Users/audesportisse/anaconda3/envs/deep-husson-env/lib/python3.7/site-packages/sklearn/impute/_iterative.py:686: ConvergenceWarning: [IterativeImputer] Early stopping criterion not reached.\n",
      "  \" reached.\", ConvergenceWarning)\n",
      "/Users/audesportisse/anaconda3/envs/deep-husson-env/lib/python3.7/site-packages/sklearn/impute/_iterative.py:686: ConvergenceWarning: [IterativeImputer] Early stopping criterion not reached.\n",
      "  \" reached.\", ConvergenceWarning)\n",
      "/Users/audesportisse/anaconda3/envs/deep-husson-env/lib/python3.7/site-packages/sklearn/impute/_iterative.py:686: ConvergenceWarning: [IterativeImputer] Early stopping criterion not reached.\n",
      "  \" reached.\", ConvergenceWarning)\n",
      "/Users/audesportisse/anaconda3/envs/deep-husson-env/lib/python3.7/site-packages/sklearn/impute/_iterative.py:686: ConvergenceWarning: [IterativeImputer] Early stopping criterion not reached.\n",
      "  \" reached.\", ConvergenceWarning)\n",
      "/Users/audesportisse/anaconda3/envs/deep-husson-env/lib/python3.7/site-packages/sklearn/impute/_iterative.py:686: ConvergenceWarning: [IterativeImputer] Early stopping criterion not reached.\n",
      "  \" reached.\", ConvergenceWarning)\n"
     ]
    },
    {
     "name": "stdout",
     "output_type": "stream",
     "text": [
      "RMSE:  0.0644728094098894\n",
      "###################################Percentage NA: 20\n",
      "###################################Version: 1\n"
     ]
    },
    {
     "name": "stderr",
     "output_type": "stream",
     "text": [
      "/Users/audesportisse/anaconda3/envs/deep-husson-env/lib/python3.7/site-packages/sklearn/impute/_iterative.py:686: ConvergenceWarning: [IterativeImputer] Early stopping criterion not reached.\n",
      "  \" reached.\", ConvergenceWarning)\n",
      "/Users/audesportisse/anaconda3/envs/deep-husson-env/lib/python3.7/site-packages/sklearn/impute/_iterative.py:686: ConvergenceWarning: [IterativeImputer] Early stopping criterion not reached.\n",
      "  \" reached.\", ConvergenceWarning)\n",
      "/Users/audesportisse/anaconda3/envs/deep-husson-env/lib/python3.7/site-packages/sklearn/impute/_iterative.py:686: ConvergenceWarning: [IterativeImputer] Early stopping criterion not reached.\n",
      "  \" reached.\", ConvergenceWarning)\n",
      "/Users/audesportisse/anaconda3/envs/deep-husson-env/lib/python3.7/site-packages/sklearn/impute/_iterative.py:686: ConvergenceWarning: [IterativeImputer] Early stopping criterion not reached.\n",
      "  \" reached.\", ConvergenceWarning)\n",
      "/Users/audesportisse/anaconda3/envs/deep-husson-env/lib/python3.7/site-packages/sklearn/impute/_iterative.py:686: ConvergenceWarning: [IterativeImputer] Early stopping criterion not reached.\n",
      "  \" reached.\", ConvergenceWarning)\n",
      "/Users/audesportisse/anaconda3/envs/deep-husson-env/lib/python3.7/site-packages/sklearn/impute/_iterative.py:686: ConvergenceWarning: [IterativeImputer] Early stopping criterion not reached.\n",
      "  \" reached.\", ConvergenceWarning)\n",
      "/Users/audesportisse/anaconda3/envs/deep-husson-env/lib/python3.7/site-packages/sklearn/impute/_iterative.py:686: ConvergenceWarning: [IterativeImputer] Early stopping criterion not reached.\n",
      "  \" reached.\", ConvergenceWarning)\n"
     ]
    },
    {
     "name": "stdout",
     "output_type": "stream",
     "text": [
      "RMSE:  0.05324919091901314\n",
      "###################################Percentage NA: 20\n",
      "###################################Version: 2\n"
     ]
    },
    {
     "name": "stderr",
     "output_type": "stream",
     "text": [
      "/Users/audesportisse/anaconda3/envs/deep-husson-env/lib/python3.7/site-packages/sklearn/impute/_iterative.py:686: ConvergenceWarning: [IterativeImputer] Early stopping criterion not reached.\n",
      "  \" reached.\", ConvergenceWarning)\n",
      "/Users/audesportisse/anaconda3/envs/deep-husson-env/lib/python3.7/site-packages/sklearn/impute/_iterative.py:686: ConvergenceWarning: [IterativeImputer] Early stopping criterion not reached.\n",
      "  \" reached.\", ConvergenceWarning)\n",
      "/Users/audesportisse/anaconda3/envs/deep-husson-env/lib/python3.7/site-packages/sklearn/impute/_iterative.py:686: ConvergenceWarning: [IterativeImputer] Early stopping criterion not reached.\n",
      "  \" reached.\", ConvergenceWarning)\n",
      "/Users/audesportisse/anaconda3/envs/deep-husson-env/lib/python3.7/site-packages/sklearn/impute/_iterative.py:686: ConvergenceWarning: [IterativeImputer] Early stopping criterion not reached.\n",
      "  \" reached.\", ConvergenceWarning)\n",
      "/Users/audesportisse/anaconda3/envs/deep-husson-env/lib/python3.7/site-packages/sklearn/impute/_iterative.py:686: ConvergenceWarning: [IterativeImputer] Early stopping criterion not reached.\n",
      "  \" reached.\", ConvergenceWarning)\n",
      "/Users/audesportisse/anaconda3/envs/deep-husson-env/lib/python3.7/site-packages/sklearn/impute/_iterative.py:686: ConvergenceWarning: [IterativeImputer] Early stopping criterion not reached.\n",
      "  \" reached.\", ConvergenceWarning)\n",
      "/Users/audesportisse/anaconda3/envs/deep-husson-env/lib/python3.7/site-packages/sklearn/impute/_iterative.py:686: ConvergenceWarning: [IterativeImputer] Early stopping criterion not reached.\n",
      "  \" reached.\", ConvergenceWarning)\n"
     ]
    },
    {
     "name": "stdout",
     "output_type": "stream",
     "text": [
      "RMSE:  0.05160268652955723\n",
      "###################################Percentage NA: 20\n",
      "###################################Version: 3\n"
     ]
    },
    {
     "name": "stderr",
     "output_type": "stream",
     "text": [
      "/Users/audesportisse/anaconda3/envs/deep-husson-env/lib/python3.7/site-packages/sklearn/impute/_iterative.py:686: ConvergenceWarning: [IterativeImputer] Early stopping criterion not reached.\n",
      "  \" reached.\", ConvergenceWarning)\n",
      "/Users/audesportisse/anaconda3/envs/deep-husson-env/lib/python3.7/site-packages/sklearn/impute/_iterative.py:686: ConvergenceWarning: [IterativeImputer] Early stopping criterion not reached.\n",
      "  \" reached.\", ConvergenceWarning)\n",
      "/Users/audesportisse/anaconda3/envs/deep-husson-env/lib/python3.7/site-packages/sklearn/impute/_iterative.py:686: ConvergenceWarning: [IterativeImputer] Early stopping criterion not reached.\n",
      "  \" reached.\", ConvergenceWarning)\n",
      "/Users/audesportisse/anaconda3/envs/deep-husson-env/lib/python3.7/site-packages/sklearn/impute/_iterative.py:686: ConvergenceWarning: [IterativeImputer] Early stopping criterion not reached.\n",
      "  \" reached.\", ConvergenceWarning)\n",
      "/Users/audesportisse/anaconda3/envs/deep-husson-env/lib/python3.7/site-packages/sklearn/impute/_iterative.py:686: ConvergenceWarning: [IterativeImputer] Early stopping criterion not reached.\n",
      "  \" reached.\", ConvergenceWarning)\n",
      "/Users/audesportisse/anaconda3/envs/deep-husson-env/lib/python3.7/site-packages/sklearn/impute/_iterative.py:686: ConvergenceWarning: [IterativeImputer] Early stopping criterion not reached.\n",
      "  \" reached.\", ConvergenceWarning)\n",
      "/Users/audesportisse/anaconda3/envs/deep-husson-env/lib/python3.7/site-packages/sklearn/impute/_iterative.py:686: ConvergenceWarning: [IterativeImputer] Early stopping criterion not reached.\n",
      "  \" reached.\", ConvergenceWarning)\n"
     ]
    },
    {
     "name": "stdout",
     "output_type": "stream",
     "text": [
      "RMSE:  0.15841920976215876\n",
      "###################################Percentage NA: 20\n",
      "###################################Version: 4\n"
     ]
    },
    {
     "name": "stderr",
     "output_type": "stream",
     "text": [
      "/Users/audesportisse/anaconda3/envs/deep-husson-env/lib/python3.7/site-packages/sklearn/impute/_iterative.py:686: ConvergenceWarning: [IterativeImputer] Early stopping criterion not reached.\n",
      "  \" reached.\", ConvergenceWarning)\n",
      "/Users/audesportisse/anaconda3/envs/deep-husson-env/lib/python3.7/site-packages/sklearn/impute/_iterative.py:686: ConvergenceWarning: [IterativeImputer] Early stopping criterion not reached.\n",
      "  \" reached.\", ConvergenceWarning)\n",
      "/Users/audesportisse/anaconda3/envs/deep-husson-env/lib/python3.7/site-packages/sklearn/impute/_iterative.py:686: ConvergenceWarning: [IterativeImputer] Early stopping criterion not reached.\n",
      "  \" reached.\", ConvergenceWarning)\n",
      "/Users/audesportisse/anaconda3/envs/deep-husson-env/lib/python3.7/site-packages/sklearn/impute/_iterative.py:686: ConvergenceWarning: [IterativeImputer] Early stopping criterion not reached.\n",
      "  \" reached.\", ConvergenceWarning)\n",
      "/Users/audesportisse/anaconda3/envs/deep-husson-env/lib/python3.7/site-packages/sklearn/impute/_iterative.py:686: ConvergenceWarning: [IterativeImputer] Early stopping criterion not reached.\n",
      "  \" reached.\", ConvergenceWarning)\n",
      "/Users/audesportisse/anaconda3/envs/deep-husson-env/lib/python3.7/site-packages/sklearn/impute/_iterative.py:686: ConvergenceWarning: [IterativeImputer] Early stopping criterion not reached.\n",
      "  \" reached.\", ConvergenceWarning)\n",
      "/Users/audesportisse/anaconda3/envs/deep-husson-env/lib/python3.7/site-packages/sklearn/impute/_iterative.py:686: ConvergenceWarning: [IterativeImputer] Early stopping criterion not reached.\n",
      "  \" reached.\", ConvergenceWarning)\n"
     ]
    },
    {
     "name": "stdout",
     "output_type": "stream",
     "text": [
      "RMSE:  0.059506765715388474\n",
      "###################################Percentage NA: 20\n",
      "###################################Version: 5\n"
     ]
    },
    {
     "name": "stderr",
     "output_type": "stream",
     "text": [
      "/Users/audesportisse/anaconda3/envs/deep-husson-env/lib/python3.7/site-packages/sklearn/impute/_iterative.py:686: ConvergenceWarning: [IterativeImputer] Early stopping criterion not reached.\n",
      "  \" reached.\", ConvergenceWarning)\n",
      "/Users/audesportisse/anaconda3/envs/deep-husson-env/lib/python3.7/site-packages/sklearn/impute/_iterative.py:686: ConvergenceWarning: [IterativeImputer] Early stopping criterion not reached.\n",
      "  \" reached.\", ConvergenceWarning)\n",
      "/Users/audesportisse/anaconda3/envs/deep-husson-env/lib/python3.7/site-packages/sklearn/impute/_iterative.py:686: ConvergenceWarning: [IterativeImputer] Early stopping criterion not reached.\n",
      "  \" reached.\", ConvergenceWarning)\n",
      "/Users/audesportisse/anaconda3/envs/deep-husson-env/lib/python3.7/site-packages/sklearn/impute/_iterative.py:686: ConvergenceWarning: [IterativeImputer] Early stopping criterion not reached.\n",
      "  \" reached.\", ConvergenceWarning)\n",
      "/Users/audesportisse/anaconda3/envs/deep-husson-env/lib/python3.7/site-packages/sklearn/impute/_iterative.py:686: ConvergenceWarning: [IterativeImputer] Early stopping criterion not reached.\n",
      "  \" reached.\", ConvergenceWarning)\n",
      "/Users/audesportisse/anaconda3/envs/deep-husson-env/lib/python3.7/site-packages/sklearn/impute/_iterative.py:686: ConvergenceWarning: [IterativeImputer] Early stopping criterion not reached.\n",
      "  \" reached.\", ConvergenceWarning)\n",
      "/Users/audesportisse/anaconda3/envs/deep-husson-env/lib/python3.7/site-packages/sklearn/impute/_iterative.py:686: ConvergenceWarning: [IterativeImputer] Early stopping criterion not reached.\n",
      "  \" reached.\", ConvergenceWarning)\n"
     ]
    },
    {
     "name": "stdout",
     "output_type": "stream",
     "text": [
      "RMSE:  0.05785620427330357\n",
      "###################################Percentage NA: 20\n",
      "###################################Version: 6\n"
     ]
    },
    {
     "name": "stderr",
     "output_type": "stream",
     "text": [
      "/Users/audesportisse/anaconda3/envs/deep-husson-env/lib/python3.7/site-packages/sklearn/impute/_iterative.py:686: ConvergenceWarning: [IterativeImputer] Early stopping criterion not reached.\n",
      "  \" reached.\", ConvergenceWarning)\n",
      "/Users/audesportisse/anaconda3/envs/deep-husson-env/lib/python3.7/site-packages/sklearn/impute/_iterative.py:686: ConvergenceWarning: [IterativeImputer] Early stopping criterion not reached.\n",
      "  \" reached.\", ConvergenceWarning)\n",
      "/Users/audesportisse/anaconda3/envs/deep-husson-env/lib/python3.7/site-packages/sklearn/impute/_iterative.py:686: ConvergenceWarning: [IterativeImputer] Early stopping criterion not reached.\n",
      "  \" reached.\", ConvergenceWarning)\n",
      "/Users/audesportisse/anaconda3/envs/deep-husson-env/lib/python3.7/site-packages/sklearn/impute/_iterative.py:686: ConvergenceWarning: [IterativeImputer] Early stopping criterion not reached.\n",
      "  \" reached.\", ConvergenceWarning)\n",
      "/Users/audesportisse/anaconda3/envs/deep-husson-env/lib/python3.7/site-packages/sklearn/impute/_iterative.py:686: ConvergenceWarning: [IterativeImputer] Early stopping criterion not reached.\n",
      "  \" reached.\", ConvergenceWarning)\n",
      "/Users/audesportisse/anaconda3/envs/deep-husson-env/lib/python3.7/site-packages/sklearn/impute/_iterative.py:686: ConvergenceWarning: [IterativeImputer] Early stopping criterion not reached.\n",
      "  \" reached.\", ConvergenceWarning)\n",
      "/Users/audesportisse/anaconda3/envs/deep-husson-env/lib/python3.7/site-packages/sklearn/impute/_iterative.py:686: ConvergenceWarning: [IterativeImputer] Early stopping criterion not reached.\n",
      "  \" reached.\", ConvergenceWarning)\n"
     ]
    },
    {
     "name": "stdout",
     "output_type": "stream",
     "text": [
      "RMSE:  0.07920129152908689\n",
      "###################################Percentage NA: 20\n",
      "###################################Version: 7\n"
     ]
    },
    {
     "name": "stderr",
     "output_type": "stream",
     "text": [
      "/Users/audesportisse/anaconda3/envs/deep-husson-env/lib/python3.7/site-packages/sklearn/impute/_iterative.py:686: ConvergenceWarning: [IterativeImputer] Early stopping criterion not reached.\n",
      "  \" reached.\", ConvergenceWarning)\n",
      "/Users/audesportisse/anaconda3/envs/deep-husson-env/lib/python3.7/site-packages/sklearn/impute/_iterative.py:686: ConvergenceWarning: [IterativeImputer] Early stopping criterion not reached.\n",
      "  \" reached.\", ConvergenceWarning)\n",
      "/Users/audesportisse/anaconda3/envs/deep-husson-env/lib/python3.7/site-packages/sklearn/impute/_iterative.py:686: ConvergenceWarning: [IterativeImputer] Early stopping criterion not reached.\n",
      "  \" reached.\", ConvergenceWarning)\n",
      "/Users/audesportisse/anaconda3/envs/deep-husson-env/lib/python3.7/site-packages/sklearn/impute/_iterative.py:686: ConvergenceWarning: [IterativeImputer] Early stopping criterion not reached.\n",
      "  \" reached.\", ConvergenceWarning)\n",
      "/Users/audesportisse/anaconda3/envs/deep-husson-env/lib/python3.7/site-packages/sklearn/impute/_iterative.py:686: ConvergenceWarning: [IterativeImputer] Early stopping criterion not reached.\n",
      "  \" reached.\", ConvergenceWarning)\n",
      "/Users/audesportisse/anaconda3/envs/deep-husson-env/lib/python3.7/site-packages/sklearn/impute/_iterative.py:686: ConvergenceWarning: [IterativeImputer] Early stopping criterion not reached.\n",
      "  \" reached.\", ConvergenceWarning)\n",
      "/Users/audesportisse/anaconda3/envs/deep-husson-env/lib/python3.7/site-packages/sklearn/impute/_iterative.py:686: ConvergenceWarning: [IterativeImputer] Early stopping criterion not reached.\n",
      "  \" reached.\", ConvergenceWarning)\n"
     ]
    },
    {
     "name": "stdout",
     "output_type": "stream",
     "text": [
      "RMSE:  0.06351147097051532\n",
      "###################################Percentage NA: 20\n",
      "###################################Version: 8\n"
     ]
    },
    {
     "name": "stderr",
     "output_type": "stream",
     "text": [
      "/Users/audesportisse/anaconda3/envs/deep-husson-env/lib/python3.7/site-packages/sklearn/impute/_iterative.py:686: ConvergenceWarning: [IterativeImputer] Early stopping criterion not reached.\n",
      "  \" reached.\", ConvergenceWarning)\n",
      "/Users/audesportisse/anaconda3/envs/deep-husson-env/lib/python3.7/site-packages/sklearn/impute/_iterative.py:686: ConvergenceWarning: [IterativeImputer] Early stopping criterion not reached.\n",
      "  \" reached.\", ConvergenceWarning)\n",
      "/Users/audesportisse/anaconda3/envs/deep-husson-env/lib/python3.7/site-packages/sklearn/impute/_iterative.py:686: ConvergenceWarning: [IterativeImputer] Early stopping criterion not reached.\n",
      "  \" reached.\", ConvergenceWarning)\n",
      "/Users/audesportisse/anaconda3/envs/deep-husson-env/lib/python3.7/site-packages/sklearn/impute/_iterative.py:686: ConvergenceWarning: [IterativeImputer] Early stopping criterion not reached.\n",
      "  \" reached.\", ConvergenceWarning)\n",
      "/Users/audesportisse/anaconda3/envs/deep-husson-env/lib/python3.7/site-packages/sklearn/impute/_iterative.py:686: ConvergenceWarning: [IterativeImputer] Early stopping criterion not reached.\n",
      "  \" reached.\", ConvergenceWarning)\n",
      "/Users/audesportisse/anaconda3/envs/deep-husson-env/lib/python3.7/site-packages/sklearn/impute/_iterative.py:686: ConvergenceWarning: [IterativeImputer] Early stopping criterion not reached.\n",
      "  \" reached.\", ConvergenceWarning)\n",
      "/Users/audesportisse/anaconda3/envs/deep-husson-env/lib/python3.7/site-packages/sklearn/impute/_iterative.py:686: ConvergenceWarning: [IterativeImputer] Early stopping criterion not reached.\n",
      "  \" reached.\", ConvergenceWarning)\n"
     ]
    },
    {
     "name": "stdout",
     "output_type": "stream",
     "text": [
      "RMSE:  0.06072890354962571\n",
      "###################################Percentage NA: 20\n",
      "###################################Version: 9\n"
     ]
    },
    {
     "name": "stderr",
     "output_type": "stream",
     "text": [
      "/Users/audesportisse/anaconda3/envs/deep-husson-env/lib/python3.7/site-packages/sklearn/impute/_iterative.py:686: ConvergenceWarning: [IterativeImputer] Early stopping criterion not reached.\n",
      "  \" reached.\", ConvergenceWarning)\n",
      "/Users/audesportisse/anaconda3/envs/deep-husson-env/lib/python3.7/site-packages/sklearn/impute/_iterative.py:686: ConvergenceWarning: [IterativeImputer] Early stopping criterion not reached.\n",
      "  \" reached.\", ConvergenceWarning)\n",
      "/Users/audesportisse/anaconda3/envs/deep-husson-env/lib/python3.7/site-packages/sklearn/impute/_iterative.py:686: ConvergenceWarning: [IterativeImputer] Early stopping criterion not reached.\n",
      "  \" reached.\", ConvergenceWarning)\n",
      "/Users/audesportisse/anaconda3/envs/deep-husson-env/lib/python3.7/site-packages/sklearn/impute/_iterative.py:686: ConvergenceWarning: [IterativeImputer] Early stopping criterion not reached.\n",
      "  \" reached.\", ConvergenceWarning)\n",
      "/Users/audesportisse/anaconda3/envs/deep-husson-env/lib/python3.7/site-packages/sklearn/impute/_iterative.py:686: ConvergenceWarning: [IterativeImputer] Early stopping criterion not reached.\n",
      "  \" reached.\", ConvergenceWarning)\n",
      "/Users/audesportisse/anaconda3/envs/deep-husson-env/lib/python3.7/site-packages/sklearn/impute/_iterative.py:686: ConvergenceWarning: [IterativeImputer] Early stopping criterion not reached.\n",
      "  \" reached.\", ConvergenceWarning)\n",
      "/Users/audesportisse/anaconda3/envs/deep-husson-env/lib/python3.7/site-packages/sklearn/impute/_iterative.py:686: ConvergenceWarning: [IterativeImputer] Early stopping criterion not reached.\n",
      "  \" reached.\", ConvergenceWarning)\n"
     ]
    },
    {
     "name": "stdout",
     "output_type": "stream",
     "text": [
      "RMSE:  0.058084944639647924\n",
      "###################################Percentage NA: 20\n",
      "###################################Version: 10\n"
     ]
    },
    {
     "name": "stderr",
     "output_type": "stream",
     "text": [
      "/Users/audesportisse/anaconda3/envs/deep-husson-env/lib/python3.7/site-packages/sklearn/impute/_iterative.py:686: ConvergenceWarning: [IterativeImputer] Early stopping criterion not reached.\n",
      "  \" reached.\", ConvergenceWarning)\n",
      "/Users/audesportisse/anaconda3/envs/deep-husson-env/lib/python3.7/site-packages/sklearn/impute/_iterative.py:686: ConvergenceWarning: [IterativeImputer] Early stopping criterion not reached.\n",
      "  \" reached.\", ConvergenceWarning)\n",
      "/Users/audesportisse/anaconda3/envs/deep-husson-env/lib/python3.7/site-packages/sklearn/impute/_iterative.py:686: ConvergenceWarning: [IterativeImputer] Early stopping criterion not reached.\n",
      "  \" reached.\", ConvergenceWarning)\n",
      "/Users/audesportisse/anaconda3/envs/deep-husson-env/lib/python3.7/site-packages/sklearn/impute/_iterative.py:686: ConvergenceWarning: [IterativeImputer] Early stopping criterion not reached.\n",
      "  \" reached.\", ConvergenceWarning)\n",
      "/Users/audesportisse/anaconda3/envs/deep-husson-env/lib/python3.7/site-packages/sklearn/impute/_iterative.py:686: ConvergenceWarning: [IterativeImputer] Early stopping criterion not reached.\n",
      "  \" reached.\", ConvergenceWarning)\n",
      "/Users/audesportisse/anaconda3/envs/deep-husson-env/lib/python3.7/site-packages/sklearn/impute/_iterative.py:686: ConvergenceWarning: [IterativeImputer] Early stopping criterion not reached.\n",
      "  \" reached.\", ConvergenceWarning)\n",
      "/Users/audesportisse/anaconda3/envs/deep-husson-env/lib/python3.7/site-packages/sklearn/impute/_iterative.py:686: ConvergenceWarning: [IterativeImputer] Early stopping criterion not reached.\n",
      "  \" reached.\", ConvergenceWarning)\n"
     ]
    },
    {
     "name": "stdout",
     "output_type": "stream",
     "text": [
      "RMSE:  0.12883828575473777\n",
      "###################################Percentage NA: 30\n",
      "###################################Version: 1\n"
     ]
    },
    {
     "name": "stderr",
     "output_type": "stream",
     "text": [
      "/Users/audesportisse/anaconda3/envs/deep-husson-env/lib/python3.7/site-packages/sklearn/impute/_iterative.py:686: ConvergenceWarning: [IterativeImputer] Early stopping criterion not reached.\n",
      "  \" reached.\", ConvergenceWarning)\n",
      "/Users/audesportisse/anaconda3/envs/deep-husson-env/lib/python3.7/site-packages/sklearn/impute/_iterative.py:686: ConvergenceWarning: [IterativeImputer] Early stopping criterion not reached.\n",
      "  \" reached.\", ConvergenceWarning)\n",
      "/Users/audesportisse/anaconda3/envs/deep-husson-env/lib/python3.7/site-packages/sklearn/impute/_iterative.py:686: ConvergenceWarning: [IterativeImputer] Early stopping criterion not reached.\n",
      "  \" reached.\", ConvergenceWarning)\n",
      "/Users/audesportisse/anaconda3/envs/deep-husson-env/lib/python3.7/site-packages/sklearn/impute/_iterative.py:686: ConvergenceWarning: [IterativeImputer] Early stopping criterion not reached.\n",
      "  \" reached.\", ConvergenceWarning)\n",
      "/Users/audesportisse/anaconda3/envs/deep-husson-env/lib/python3.7/site-packages/sklearn/impute/_iterative.py:686: ConvergenceWarning: [IterativeImputer] Early stopping criterion not reached.\n",
      "  \" reached.\", ConvergenceWarning)\n",
      "/Users/audesportisse/anaconda3/envs/deep-husson-env/lib/python3.7/site-packages/sklearn/impute/_iterative.py:686: ConvergenceWarning: [IterativeImputer] Early stopping criterion not reached.\n",
      "  \" reached.\", ConvergenceWarning)\n",
      "/Users/audesportisse/anaconda3/envs/deep-husson-env/lib/python3.7/site-packages/sklearn/impute/_iterative.py:686: ConvergenceWarning: [IterativeImputer] Early stopping criterion not reached.\n",
      "  \" reached.\", ConvergenceWarning)\n"
     ]
    },
    {
     "name": "stdout",
     "output_type": "stream",
     "text": [
      "RMSE:  0.06344891707796717\n",
      "###################################Percentage NA: 30\n",
      "###################################Version: 2\n"
     ]
    },
    {
     "name": "stderr",
     "output_type": "stream",
     "text": [
      "/Users/audesportisse/anaconda3/envs/deep-husson-env/lib/python3.7/site-packages/sklearn/impute/_iterative.py:686: ConvergenceWarning: [IterativeImputer] Early stopping criterion not reached.\n",
      "  \" reached.\", ConvergenceWarning)\n",
      "/Users/audesportisse/anaconda3/envs/deep-husson-env/lib/python3.7/site-packages/sklearn/impute/_iterative.py:686: ConvergenceWarning: [IterativeImputer] Early stopping criterion not reached.\n",
      "  \" reached.\", ConvergenceWarning)\n",
      "/Users/audesportisse/anaconda3/envs/deep-husson-env/lib/python3.7/site-packages/sklearn/impute/_iterative.py:686: ConvergenceWarning: [IterativeImputer] Early stopping criterion not reached.\n",
      "  \" reached.\", ConvergenceWarning)\n",
      "/Users/audesportisse/anaconda3/envs/deep-husson-env/lib/python3.7/site-packages/sklearn/impute/_iterative.py:686: ConvergenceWarning: [IterativeImputer] Early stopping criterion not reached.\n",
      "  \" reached.\", ConvergenceWarning)\n",
      "/Users/audesportisse/anaconda3/envs/deep-husson-env/lib/python3.7/site-packages/sklearn/impute/_iterative.py:686: ConvergenceWarning: [IterativeImputer] Early stopping criterion not reached.\n",
      "  \" reached.\", ConvergenceWarning)\n",
      "/Users/audesportisse/anaconda3/envs/deep-husson-env/lib/python3.7/site-packages/sklearn/impute/_iterative.py:686: ConvergenceWarning: [IterativeImputer] Early stopping criterion not reached.\n",
      "  \" reached.\", ConvergenceWarning)\n",
      "/Users/audesportisse/anaconda3/envs/deep-husson-env/lib/python3.7/site-packages/sklearn/impute/_iterative.py:686: ConvergenceWarning: [IterativeImputer] Early stopping criterion not reached.\n",
      "  \" reached.\", ConvergenceWarning)\n"
     ]
    },
    {
     "name": "stdout",
     "output_type": "stream",
     "text": [
      "RMSE:  0.0666685169763583\n",
      "###################################Percentage NA: 30\n",
      "###################################Version: 3\n"
     ]
    },
    {
     "name": "stderr",
     "output_type": "stream",
     "text": [
      "/Users/audesportisse/anaconda3/envs/deep-husson-env/lib/python3.7/site-packages/sklearn/impute/_iterative.py:686: ConvergenceWarning: [IterativeImputer] Early stopping criterion not reached.\n",
      "  \" reached.\", ConvergenceWarning)\n",
      "/Users/audesportisse/anaconda3/envs/deep-husson-env/lib/python3.7/site-packages/sklearn/impute/_iterative.py:686: ConvergenceWarning: [IterativeImputer] Early stopping criterion not reached.\n",
      "  \" reached.\", ConvergenceWarning)\n",
      "/Users/audesportisse/anaconda3/envs/deep-husson-env/lib/python3.7/site-packages/sklearn/impute/_iterative.py:686: ConvergenceWarning: [IterativeImputer] Early stopping criterion not reached.\n",
      "  \" reached.\", ConvergenceWarning)\n",
      "/Users/audesportisse/anaconda3/envs/deep-husson-env/lib/python3.7/site-packages/sklearn/impute/_iterative.py:686: ConvergenceWarning: [IterativeImputer] Early stopping criterion not reached.\n",
      "  \" reached.\", ConvergenceWarning)\n",
      "/Users/audesportisse/anaconda3/envs/deep-husson-env/lib/python3.7/site-packages/sklearn/impute/_iterative.py:686: ConvergenceWarning: [IterativeImputer] Early stopping criterion not reached.\n",
      "  \" reached.\", ConvergenceWarning)\n",
      "/Users/audesportisse/anaconda3/envs/deep-husson-env/lib/python3.7/site-packages/sklearn/impute/_iterative.py:686: ConvergenceWarning: [IterativeImputer] Early stopping criterion not reached.\n",
      "  \" reached.\", ConvergenceWarning)\n",
      "/Users/audesportisse/anaconda3/envs/deep-husson-env/lib/python3.7/site-packages/sklearn/impute/_iterative.py:686: ConvergenceWarning: [IterativeImputer] Early stopping criterion not reached.\n",
      "  \" reached.\", ConvergenceWarning)\n"
     ]
    },
    {
     "name": "stdout",
     "output_type": "stream",
     "text": [
      "RMSE:  0.11971827361447324\n",
      "###################################Percentage NA: 30\n",
      "###################################Version: 4\n"
     ]
    },
    {
     "name": "stderr",
     "output_type": "stream",
     "text": [
      "/Users/audesportisse/anaconda3/envs/deep-husson-env/lib/python3.7/site-packages/sklearn/impute/_iterative.py:686: ConvergenceWarning: [IterativeImputer] Early stopping criterion not reached.\n",
      "  \" reached.\", ConvergenceWarning)\n",
      "/Users/audesportisse/anaconda3/envs/deep-husson-env/lib/python3.7/site-packages/sklearn/impute/_iterative.py:686: ConvergenceWarning: [IterativeImputer] Early stopping criterion not reached.\n",
      "  \" reached.\", ConvergenceWarning)\n",
      "/Users/audesportisse/anaconda3/envs/deep-husson-env/lib/python3.7/site-packages/sklearn/impute/_iterative.py:686: ConvergenceWarning: [IterativeImputer] Early stopping criterion not reached.\n",
      "  \" reached.\", ConvergenceWarning)\n",
      "/Users/audesportisse/anaconda3/envs/deep-husson-env/lib/python3.7/site-packages/sklearn/impute/_iterative.py:686: ConvergenceWarning: [IterativeImputer] Early stopping criterion not reached.\n",
      "  \" reached.\", ConvergenceWarning)\n",
      "/Users/audesportisse/anaconda3/envs/deep-husson-env/lib/python3.7/site-packages/sklearn/impute/_iterative.py:686: ConvergenceWarning: [IterativeImputer] Early stopping criterion not reached.\n",
      "  \" reached.\", ConvergenceWarning)\n",
      "/Users/audesportisse/anaconda3/envs/deep-husson-env/lib/python3.7/site-packages/sklearn/impute/_iterative.py:686: ConvergenceWarning: [IterativeImputer] Early stopping criterion not reached.\n",
      "  \" reached.\", ConvergenceWarning)\n",
      "/Users/audesportisse/anaconda3/envs/deep-husson-env/lib/python3.7/site-packages/sklearn/impute/_iterative.py:686: ConvergenceWarning: [IterativeImputer] Early stopping criterion not reached.\n",
      "  \" reached.\", ConvergenceWarning)\n"
     ]
    },
    {
     "name": "stdout",
     "output_type": "stream",
     "text": [
      "RMSE:  0.1530856785698708\n",
      "###################################Percentage NA: 30\n",
      "###################################Version: 5\n"
     ]
    },
    {
     "name": "stderr",
     "output_type": "stream",
     "text": [
      "/Users/audesportisse/anaconda3/envs/deep-husson-env/lib/python3.7/site-packages/sklearn/impute/_iterative.py:686: ConvergenceWarning: [IterativeImputer] Early stopping criterion not reached.\n",
      "  \" reached.\", ConvergenceWarning)\n",
      "/Users/audesportisse/anaconda3/envs/deep-husson-env/lib/python3.7/site-packages/sklearn/impute/_iterative.py:686: ConvergenceWarning: [IterativeImputer] Early stopping criterion not reached.\n",
      "  \" reached.\", ConvergenceWarning)\n",
      "/Users/audesportisse/anaconda3/envs/deep-husson-env/lib/python3.7/site-packages/sklearn/impute/_iterative.py:686: ConvergenceWarning: [IterativeImputer] Early stopping criterion not reached.\n",
      "  \" reached.\", ConvergenceWarning)\n",
      "/Users/audesportisse/anaconda3/envs/deep-husson-env/lib/python3.7/site-packages/sklearn/impute/_iterative.py:686: ConvergenceWarning: [IterativeImputer] Early stopping criterion not reached.\n",
      "  \" reached.\", ConvergenceWarning)\n",
      "/Users/audesportisse/anaconda3/envs/deep-husson-env/lib/python3.7/site-packages/sklearn/impute/_iterative.py:686: ConvergenceWarning: [IterativeImputer] Early stopping criterion not reached.\n",
      "  \" reached.\", ConvergenceWarning)\n",
      "/Users/audesportisse/anaconda3/envs/deep-husson-env/lib/python3.7/site-packages/sklearn/impute/_iterative.py:686: ConvergenceWarning: [IterativeImputer] Early stopping criterion not reached.\n",
      "  \" reached.\", ConvergenceWarning)\n",
      "/Users/audesportisse/anaconda3/envs/deep-husson-env/lib/python3.7/site-packages/sklearn/impute/_iterative.py:686: ConvergenceWarning: [IterativeImputer] Early stopping criterion not reached.\n",
      "  \" reached.\", ConvergenceWarning)\n"
     ]
    },
    {
     "name": "stdout",
     "output_type": "stream",
     "text": [
      "RMSE:  0.1570787272324288\n",
      "###################################Percentage NA: 30\n",
      "###################################Version: 6\n"
     ]
    },
    {
     "name": "stderr",
     "output_type": "stream",
     "text": [
      "/Users/audesportisse/anaconda3/envs/deep-husson-env/lib/python3.7/site-packages/sklearn/impute/_iterative.py:686: ConvergenceWarning: [IterativeImputer] Early stopping criterion not reached.\n",
      "  \" reached.\", ConvergenceWarning)\n",
      "/Users/audesportisse/anaconda3/envs/deep-husson-env/lib/python3.7/site-packages/sklearn/impute/_iterative.py:686: ConvergenceWarning: [IterativeImputer] Early stopping criterion not reached.\n",
      "  \" reached.\", ConvergenceWarning)\n",
      "/Users/audesportisse/anaconda3/envs/deep-husson-env/lib/python3.7/site-packages/sklearn/impute/_iterative.py:686: ConvergenceWarning: [IterativeImputer] Early stopping criterion not reached.\n",
      "  \" reached.\", ConvergenceWarning)\n",
      "/Users/audesportisse/anaconda3/envs/deep-husson-env/lib/python3.7/site-packages/sklearn/impute/_iterative.py:686: ConvergenceWarning: [IterativeImputer] Early stopping criterion not reached.\n",
      "  \" reached.\", ConvergenceWarning)\n",
      "/Users/audesportisse/anaconda3/envs/deep-husson-env/lib/python3.7/site-packages/sklearn/impute/_iterative.py:686: ConvergenceWarning: [IterativeImputer] Early stopping criterion not reached.\n",
      "  \" reached.\", ConvergenceWarning)\n",
      "/Users/audesportisse/anaconda3/envs/deep-husson-env/lib/python3.7/site-packages/sklearn/impute/_iterative.py:686: ConvergenceWarning: [IterativeImputer] Early stopping criterion not reached.\n",
      "  \" reached.\", ConvergenceWarning)\n",
      "/Users/audesportisse/anaconda3/envs/deep-husson-env/lib/python3.7/site-packages/sklearn/impute/_iterative.py:686: ConvergenceWarning: [IterativeImputer] Early stopping criterion not reached.\n",
      "  \" reached.\", ConvergenceWarning)\n"
     ]
    },
    {
     "name": "stdout",
     "output_type": "stream",
     "text": [
      "RMSE:  0.06638769714181207\n",
      "###################################Percentage NA: 30\n",
      "###################################Version: 7\n"
     ]
    },
    {
     "name": "stderr",
     "output_type": "stream",
     "text": [
      "/Users/audesportisse/anaconda3/envs/deep-husson-env/lib/python3.7/site-packages/sklearn/impute/_iterative.py:686: ConvergenceWarning: [IterativeImputer] Early stopping criterion not reached.\n",
      "  \" reached.\", ConvergenceWarning)\n",
      "/Users/audesportisse/anaconda3/envs/deep-husson-env/lib/python3.7/site-packages/sklearn/impute/_iterative.py:686: ConvergenceWarning: [IterativeImputer] Early stopping criterion not reached.\n",
      "  \" reached.\", ConvergenceWarning)\n",
      "/Users/audesportisse/anaconda3/envs/deep-husson-env/lib/python3.7/site-packages/sklearn/impute/_iterative.py:686: ConvergenceWarning: [IterativeImputer] Early stopping criterion not reached.\n",
      "  \" reached.\", ConvergenceWarning)\n",
      "/Users/audesportisse/anaconda3/envs/deep-husson-env/lib/python3.7/site-packages/sklearn/impute/_iterative.py:686: ConvergenceWarning: [IterativeImputer] Early stopping criterion not reached.\n",
      "  \" reached.\", ConvergenceWarning)\n",
      "/Users/audesportisse/anaconda3/envs/deep-husson-env/lib/python3.7/site-packages/sklearn/impute/_iterative.py:686: ConvergenceWarning: [IterativeImputer] Early stopping criterion not reached.\n",
      "  \" reached.\", ConvergenceWarning)\n",
      "/Users/audesportisse/anaconda3/envs/deep-husson-env/lib/python3.7/site-packages/sklearn/impute/_iterative.py:686: ConvergenceWarning: [IterativeImputer] Early stopping criterion not reached.\n",
      "  \" reached.\", ConvergenceWarning)\n",
      "/Users/audesportisse/anaconda3/envs/deep-husson-env/lib/python3.7/site-packages/sklearn/impute/_iterative.py:686: ConvergenceWarning: [IterativeImputer] Early stopping criterion not reached.\n",
      "  \" reached.\", ConvergenceWarning)\n"
     ]
    },
    {
     "name": "stdout",
     "output_type": "stream",
     "text": [
      "RMSE:  0.15984722346642463\n",
      "###################################Percentage NA: 30\n",
      "###################################Version: 8\n"
     ]
    },
    {
     "name": "stderr",
     "output_type": "stream",
     "text": [
      "/Users/audesportisse/anaconda3/envs/deep-husson-env/lib/python3.7/site-packages/sklearn/impute/_iterative.py:686: ConvergenceWarning: [IterativeImputer] Early stopping criterion not reached.\n",
      "  \" reached.\", ConvergenceWarning)\n",
      "/Users/audesportisse/anaconda3/envs/deep-husson-env/lib/python3.7/site-packages/sklearn/impute/_iterative.py:686: ConvergenceWarning: [IterativeImputer] Early stopping criterion not reached.\n",
      "  \" reached.\", ConvergenceWarning)\n",
      "/Users/audesportisse/anaconda3/envs/deep-husson-env/lib/python3.7/site-packages/sklearn/impute/_iterative.py:686: ConvergenceWarning: [IterativeImputer] Early stopping criterion not reached.\n",
      "  \" reached.\", ConvergenceWarning)\n",
      "/Users/audesportisse/anaconda3/envs/deep-husson-env/lib/python3.7/site-packages/sklearn/impute/_iterative.py:686: ConvergenceWarning: [IterativeImputer] Early stopping criterion not reached.\n",
      "  \" reached.\", ConvergenceWarning)\n",
      "/Users/audesportisse/anaconda3/envs/deep-husson-env/lib/python3.7/site-packages/sklearn/impute/_iterative.py:686: ConvergenceWarning: [IterativeImputer] Early stopping criterion not reached.\n",
      "  \" reached.\", ConvergenceWarning)\n",
      "/Users/audesportisse/anaconda3/envs/deep-husson-env/lib/python3.7/site-packages/sklearn/impute/_iterative.py:686: ConvergenceWarning: [IterativeImputer] Early stopping criterion not reached.\n",
      "  \" reached.\", ConvergenceWarning)\n",
      "/Users/audesportisse/anaconda3/envs/deep-husson-env/lib/python3.7/site-packages/sklearn/impute/_iterative.py:686: ConvergenceWarning: [IterativeImputer] Early stopping criterion not reached.\n",
      "  \" reached.\", ConvergenceWarning)\n"
     ]
    },
    {
     "name": "stdout",
     "output_type": "stream",
     "text": [
      "RMSE:  0.13449161285292152\n",
      "###################################Percentage NA: 30\n",
      "###################################Version: 9\n"
     ]
    },
    {
     "name": "stderr",
     "output_type": "stream",
     "text": [
      "/Users/audesportisse/anaconda3/envs/deep-husson-env/lib/python3.7/site-packages/sklearn/impute/_iterative.py:686: ConvergenceWarning: [IterativeImputer] Early stopping criterion not reached.\n",
      "  \" reached.\", ConvergenceWarning)\n",
      "/Users/audesportisse/anaconda3/envs/deep-husson-env/lib/python3.7/site-packages/sklearn/impute/_iterative.py:686: ConvergenceWarning: [IterativeImputer] Early stopping criterion not reached.\n",
      "  \" reached.\", ConvergenceWarning)\n",
      "/Users/audesportisse/anaconda3/envs/deep-husson-env/lib/python3.7/site-packages/sklearn/impute/_iterative.py:686: ConvergenceWarning: [IterativeImputer] Early stopping criterion not reached.\n",
      "  \" reached.\", ConvergenceWarning)\n",
      "/Users/audesportisse/anaconda3/envs/deep-husson-env/lib/python3.7/site-packages/sklearn/impute/_iterative.py:686: ConvergenceWarning: [IterativeImputer] Early stopping criterion not reached.\n",
      "  \" reached.\", ConvergenceWarning)\n",
      "/Users/audesportisse/anaconda3/envs/deep-husson-env/lib/python3.7/site-packages/sklearn/impute/_iterative.py:686: ConvergenceWarning: [IterativeImputer] Early stopping criterion not reached.\n",
      "  \" reached.\", ConvergenceWarning)\n",
      "/Users/audesportisse/anaconda3/envs/deep-husson-env/lib/python3.7/site-packages/sklearn/impute/_iterative.py:686: ConvergenceWarning: [IterativeImputer] Early stopping criterion not reached.\n",
      "  \" reached.\", ConvergenceWarning)\n",
      "/Users/audesportisse/anaconda3/envs/deep-husson-env/lib/python3.7/site-packages/sklearn/impute/_iterative.py:686: ConvergenceWarning: [IterativeImputer] Early stopping criterion not reached.\n",
      "  \" reached.\", ConvergenceWarning)\n"
     ]
    },
    {
     "name": "stdout",
     "output_type": "stream",
     "text": [
      "RMSE:  0.08381271246926016\n",
      "###################################Percentage NA: 30\n",
      "###################################Version: 10\n"
     ]
    },
    {
     "name": "stderr",
     "output_type": "stream",
     "text": [
      "/Users/audesportisse/anaconda3/envs/deep-husson-env/lib/python3.7/site-packages/sklearn/impute/_iterative.py:686: ConvergenceWarning: [IterativeImputer] Early stopping criterion not reached.\n",
      "  \" reached.\", ConvergenceWarning)\n",
      "/Users/audesportisse/anaconda3/envs/deep-husson-env/lib/python3.7/site-packages/sklearn/impute/_iterative.py:686: ConvergenceWarning: [IterativeImputer] Early stopping criterion not reached.\n",
      "  \" reached.\", ConvergenceWarning)\n",
      "/Users/audesportisse/anaconda3/envs/deep-husson-env/lib/python3.7/site-packages/sklearn/impute/_iterative.py:686: ConvergenceWarning: [IterativeImputer] Early stopping criterion not reached.\n",
      "  \" reached.\", ConvergenceWarning)\n",
      "/Users/audesportisse/anaconda3/envs/deep-husson-env/lib/python3.7/site-packages/sklearn/impute/_iterative.py:686: ConvergenceWarning: [IterativeImputer] Early stopping criterion not reached.\n",
      "  \" reached.\", ConvergenceWarning)\n",
      "/Users/audesportisse/anaconda3/envs/deep-husson-env/lib/python3.7/site-packages/sklearn/impute/_iterative.py:686: ConvergenceWarning: [IterativeImputer] Early stopping criterion not reached.\n",
      "  \" reached.\", ConvergenceWarning)\n",
      "/Users/audesportisse/anaconda3/envs/deep-husson-env/lib/python3.7/site-packages/sklearn/impute/_iterative.py:686: ConvergenceWarning: [IterativeImputer] Early stopping criterion not reached.\n",
      "  \" reached.\", ConvergenceWarning)\n"
     ]
    },
    {
     "name": "stdout",
     "output_type": "stream",
     "text": [
      "RMSE:  0.07403372172103931\n"
     ]
    },
    {
     "name": "stderr",
     "output_type": "stream",
     "text": [
      "/Users/audesportisse/anaconda3/envs/deep-husson-env/lib/python3.7/site-packages/sklearn/impute/_iterative.py:686: ConvergenceWarning: [IterativeImputer] Early stopping criterion not reached.\n",
      "  \" reached.\", ConvergenceWarning)\n"
     ]
    }
   ],
   "source": [
    "for art in article: \n",
    "    for val in NA:\n",
    "        for vers in versions:   \n",
    "                  \n",
    "            mask = pd.read_csv(path+'mask_{0}_v{1}.csv'.format(val,vers))\n",
    "            mask = np.array(mask)\n",
    "            \n",
    "            missed_data = pd.read_csv(path+'missed_data_{0}_v{1}.csv'.format(val,vers), index_col = 0)\n",
    "            missed_data = np.array(missed_data)    \n",
    "            xhat_0 = np.copy(missed_data)\n",
    "            n = missed_data.shape[0]\n",
    "            \n",
    "            mask_valid = pd.read_csv(path+'mask_valid_{0}_v{1}.csv'.format(val,vers))\n",
    "            mask_valid = np.array(mask_valid)\n",
    "            \n",
    "            missed_valid = pd.read_csv(path+'missed_valid_{0}_v{1}.csv'.format(val,vers), index_col = 0)\n",
    "            missed_valid = np.array(missed_valid)\n",
    "            \n",
    "            X_valid = pd.read_csv(path+'X_valid.csv', index_col = 0)\n",
    "            X_valid = np.array(X_valid)\n",
    "            \n",
    "            X_train = pd.read_csv(path+'X_train.csv', index_col = 0)\n",
    "            X_train = np.array(X_train)\n",
    "                  \n",
    "            if art not in ['mean','RF','MIWAE']:\n",
    "                ###Management of data for the denoising autoencoders \n",
    "                \n",
    "                #####################################Dataset with NA tensorflow\n",
    "                miss_dataset = tf.data.experimental.make_csv_dataset(\n",
    "                        path+'missed_data_{}_v{}.csv'.format(val,vers),\n",
    "                        batch_size,\n",
    "                        column_names=columns_name,\n",
    "                        label_name='Unnamed: 0',\n",
    "                        shuffle = False,\n",
    "                        num_epochs=1)\n",
    "                \n",
    "                miss_dataset = miss_dataset.map(pack_features_vector)\n",
    "                features_miss, labels_miss = next(iter(miss_dataset))\n",
    "                \n",
    "                #####################################Reference dataset tensorflow\n",
    "                train_dataset = tf.data.experimental.make_csv_dataset(\n",
    "                        path+'X_train.csv',\n",
    "                        batch_size,\n",
    "                        column_names=columns_name,\n",
    "                        label_name='Unnamed: 0',\n",
    "                        shuffle = False,\n",
    "                        num_epochs=1)\n",
    "                \n",
    "                train_dataset = train_dataset.map(pack_features_vector)\n",
    "                features_train, labels_train = next(iter(train_dataset))\n",
    "                \n",
    "                #####################################Dataset valid tensorflow\n",
    "                if int(mask.shape[0]/batch_size)==mask.shape[0]/batch_size:\n",
    "                    num_b = int(mask.shape[0]/batch_size)\n",
    "                else:\n",
    "                    num_b = int(mask.shape[0]/batch_size) + 1\n",
    "                    \n",
    "                valid_dataset = tf.data.experimental.make_csv_dataset(\n",
    "                        path+'X_Valid.csv',\n",
    "                        num_b,\n",
    "                        column_names=columns_name,\n",
    "                        label_name='Unnamed: 0',\n",
    "                        shuffle = False,\n",
    "                        num_epochs=1)\n",
    "                \n",
    "                valid_dataset = valid_dataset.map(pack_features_vector)\n",
    "                features_valid, labels_valid = next(iter(valid_dataset))\n",
    "            \n",
    "            \n",
    "                for layers_dense in layers[art]:\n",
    "                    print('###################################Percentage NA:',val)\n",
    "                    print('###################################Version:',vers)\n",
    "                    print('###################################Layers:',layers_dense)\n",
    "                    for factiv in activ:\n",
    "                        for repet in range(rep):\n",
    "                            if art == 'SDAI pt' :\n",
    "                                ###el for the encoder layers and dl for the decoder layers\n",
    "                                el, dl, dense = pre_training(missed_data, X_valid, num_epochs_pt, output_activ, layers_dense, factiv, miss_dataset, valid_dataset, batch_size, opt, mask)\n",
    "                                NaN_sdae = keras.models.Sequential()\n",
    "                                NaN_sdae.add(keras.layers.Input(shape=[nb_var]))\n",
    "                                for k in range(0,len(dense),1):\n",
    "                                    NaN_sdae.add(keras.layers.Dropout(dropout_rate))\n",
    "                                    NaN_sdae.add(el[k])\n",
    "                                for k in range(0,len(dense),1):\n",
    "                                    ind = k + 1\n",
    "                                    NaN_sdae.add(dl[-ind])\n",
    "                                \n",
    "                            elif art == 'SDAI spt' :\n",
    "                                dense = layers_AE(layers_dense, factiv)\n",
    "                                NaN_sdae = keras.models.Sequential()\n",
    "                                NaN_sdae.add(keras.layers.Input(shape=[nb_var]))\n",
    "                                for k in range(0,len(dense),1):\n",
    "                                    NaN_sdae.add(keras.layers.Dropout(dropout_rate))\n",
    "                                    NaN_sdae.add(dense[k])\n",
    "                                for k in range(0,len(dense),1):\n",
    "                                    ind = k+ 1\n",
    "                                    if ind != len(dense):\n",
    "                                        NaN_sdae.add(DenseTranspose(dense[-ind], activation = factiv))\n",
    "                                    else:\n",
    "                                        NaN_sdae.add(DenseTranspose(dense[-ind], activation = output_activ))\n",
    "                            \n",
    "                            elif art == 'MIDA' :\n",
    "                                NaN_sdae = keras.models.Sequential()\n",
    "                                NaN_sdae.add(keras.layers.Input(shape=[nb_var]))\n",
    "                                for k in range(0,len(layers_dense),1):\n",
    "                                    NaN_sdae.add(keras.layers.Dropout(dropout_rate))\n",
    "                                    NaN_sdae.add(keras.layers.Dense(layers_dense[k], activation = factiv))\n",
    "                                for k in range(0,len(layers_dense)-1,1):\n",
    "                                    ind = k + 2\n",
    "                                    NaN_sdae.add(keras.layers.Dense(layers_dense[-ind], activation = factiv))\n",
    "                                NaN_sdae.add(keras.layers.Dense(nb_var, activation = output_activ))\n",
    "                            \n",
    "                            history = train_all(NaN_sdae, num_epochs_ft, opt, mask, miss_dataset, valid_dataset, batch_size) \n",
    "                            predictions = NaN_sdae(np.array(missed_valid)).numpy()           \n",
    "\n",
    "                            ### RMSE \n",
    "                            mask_NA = np.invert(mask_valid)\n",
    "                            data = missed_valid.copy()\n",
    "                            data[mask_NA] = predictions[mask_NA]\n",
    "                            ref = np.array(X_valid)\n",
    "                            RMSE = np.sqrt(np.mean(np.square((ref[mask_NA]-predictions[mask_NA]))))\t\t\n",
    "                            print('RMSE: ', RMSE)\n",
    "                            \n",
    "                            #write the results in the csv file\n",
    "                            with open(path + 'Results_{0}.csv'.format(nom_data), 'a', newline='') as file:\n",
    "                                writer = csv.writer(file, delimiter = ';')\n",
    "                                writer.writerow([art,val,vers,layers_dense,factiv,RMSE,history[0],history[1]])\n",
    "            elif art == 'MIWAE':\n",
    "                for h in units:\n",
    "                    for repet in range(rep):\n",
    "                        print('###################################Percentage of NA:',val)\n",
    "                        print('###################################Version:',vers)\n",
    "                        print('###################################Value of the hidden units:',h)\n",
    "\n",
    "                        ### Prior Gaussien \n",
    "                        p_z = td.Independent(td.Normal(loc=torch.zeros(dim_lat).to(device),scale=torch.ones(dim_lat).to(device)),1)\n",
    "\n",
    "                        ### 'ReLU' can be replaced by 'Tanh'\n",
    "                        encoder = nn.Sequential(\n",
    "                            torch.nn.Linear(nb_var, h),\n",
    "                            torch.nn.ReLU(),\n",
    "                            torch.nn.Linear(h, h),\n",
    "                            torch.nn.ReLU(),\n",
    "                            torch.nn.Linear(h, 2*dim_lat),  \n",
    "                        )\n",
    "\n",
    "                        ### the decoder gives the mean, the scale and the degree of freedom\n",
    "                        decoder = nn.Sequential(\n",
    "                            torch.nn.Linear(dim_lat, h),\n",
    "                            torch.nn.ReLU(),\n",
    "                            torch.nn.Linear(h, h),\n",
    "                            torch.nn.ReLU(),\n",
    "                            torch.nn.Linear(h, 3*nb_var),  \n",
    "                        )\n",
    "\n",
    "                        miwae_loss_train=np.array([])\n",
    "                        rmse_train=np.array([])\n",
    "\n",
    "                        # Matrix of the imputed/generated data\n",
    "                        xhat = np.copy(xhat_0) \n",
    "\n",
    "                        encoder.apply(weights_init)\n",
    "                        decoder.apply(weights_init)\n",
    "\n",
    "                        ###Optimizer\n",
    "                        optimizer = optim.Adam(list(encoder.parameters()) + list(decoder.parameters()),lr=1e-3)\n",
    "\n",
    "                        loss_train = []\n",
    "\n",
    "                        for ep in range(1,n_epochs):\n",
    "                            perm = np.random.permutation(n) \n",
    "                            batches_data = np.array_split(xhat_0[perm,], n/bs)\n",
    "                            batches_mask = np.array_split(mask[perm,], n/bs)\n",
    "                            for it in range(len(batches_data)):\n",
    "                                optimizer.zero_grad()\n",
    "                                encoder.zero_grad()\n",
    "                                decoder.zero_grad()\n",
    "                                b_data = torch.from_numpy(batches_data[it]).float().to(device)\n",
    "                                b_mask = torch.from_numpy(batches_mask[it]).float().to(device)\n",
    "                                loss = miwae_loss(iota_x = b_data,mask = b_mask, d = dim_lat, K = K, p_z = p_z, encoder = encoder, decoder = decoder)\n",
    "                                loss_train.append(loss)\n",
    "                                loss.backward()\n",
    "                                optimizer.step()\n",
    "\n",
    "                        ### Impute the values  \n",
    "                        missed_valid[~mask_valid] = miwae_impute(iota_x = torch.from_numpy(missed_valid).float().to(device),mask = torch.from_numpy(mask_valid).float().to(device),L=10, d = dim_lat, p_z = p_z, encoder = encoder, decoder = decoder).cpu().data.numpy()[~mask_valid]\n",
    "                        err = np.array([rmse(missed_valid,X_valid,mask_valid)])\n",
    "                        print('RMSE : %g' %err)\n",
    "                        with open(path + 'Results_{0}.csv'.format(nom_data), 'a', newline='') as file:\n",
    "                            writer = csv.writer(file, delimiter = ';')\n",
    "                            writer.writerow([art,val,vers,[h]*3,'ReLU',err[0],loss_train,'--'])\n",
    "                \n",
    "            else:\n",
    "                print('###################################Percentage NA:',val)\n",
    "                print('###################################Version:',vers)\n",
    "                layers_dense = '--'\n",
    "                factiv = '--'\n",
    "                history = ['--','--']\n",
    "                if art == 'RF':\n",
    "#                            parameters = {'n_estimators':[30], 'max_depth': [7]}\n",
    "#                            parameters = {'n_estimators':[5,10,20,30,40,50], 'max_depth': [1,3,5,7,9]}\n",
    "                            parameters = {'n_estimators':[5,10], 'max_depth': [1,3,5]}\n",
    "                            perf = []\n",
    "                            param = []\n",
    "                            mask_NA = np.invert(mask)\n",
    "                            missed_data[mask_NA] = np.nan\n",
    "                            for A in parameters['n_estimators']:\n",
    "                                for B in parameters['max_depth']:\n",
    "                                    missRF = IterativeImputer(estimator=ExtraTreesRegressor(n_estimators = A, max_depth = B))\n",
    "                                    missRF.fit(missed_data)\n",
    "                                    res = missRF.transform(missed_data)\n",
    "                                    data = missed_data.copy()\n",
    "                                    data[mask_NA] = res[mask_NA]\n",
    "                                    ref = np.array(X_train)\n",
    "                                    rmse = np.sqrt(np.mean(np.square((ref[mask_NA]-res[mask_NA]))))\n",
    "                                    perf.append(rmse)\n",
    "                                    param.append([A,B])\n",
    "                            RFimput = IterativeImputer(random_state=0, estimator=ExtraTreesRegressor(n_estimators = param[np.argmin(perf)][0], max_depth = param[np.argmin(perf)][1]))\n",
    "                            RFimput.fit(missed_data)\n",
    "                            test = missed_valid.copy()\n",
    "                            mask_NA = np.invert(mask_valid)\n",
    "                            test[mask_NA] = np.nan\n",
    "                            predictions = RFimput.transform(test)\n",
    "                        \n",
    "                elif art == 'mean':\n",
    "                    predictions = missed_valid\n",
    "                             \n",
    "                ### RMSE \n",
    "                mask_NA = np.invert(mask_valid)\n",
    "                data = missed_valid.copy()\n",
    "                data[mask_NA] = predictions[mask_NA]\n",
    "                ref = np.array(X_valid)\n",
    "                RMSE = np.sqrt(np.mean(np.square((ref[mask_NA]-predictions[mask_NA]))))\n",
    "                print('RMSE: ', RMSE)\n",
    "                \n",
    "                #Write the results in a csv file\n",
    "                with open(path + 'Results_{0}.csv'.format(nom_data), 'a', newline='') as file:\n",
    "                    writer = csv.writer(file,delimiter=';')\n",
    "                    writer.writerow([art,val,vers,layers_dense,factiv,RMSE,history[0],history[1]])\n"
   ]
  },
  {
   "cell_type": "markdown",
   "metadata": {},
   "source": [
    "#### Method in R"
   ]
  },
  {
   "cell_type": "code",
   "execution_count": 21,
   "metadata": {},
   "outputs": [],
   "source": [
    "percentages = NA\n",
    "%R -i percentages\n",
    "%R -i path\n",
    "%R -i nom_data\n",
    "%R -i version"
   ]
  },
  {
   "cell_type": "code",
   "execution_count": 22,
   "metadata": {},
   "outputs": [
    {
     "data": {
      "text/plain": [
       "[1] \"rmse:  0.056279423097127\"\n",
       "[1] \"rmse:  0.056279423097127\"\n",
       "[1] \"rmse:  0.056279423097127\"\n",
       "[1] \"rmse:  0.056279423097127\"\n",
       "[1] \"rmse:  0.056279423097127\"\n",
       "[1] \"rmse:  0.056279423097127\"\n",
       "[1] \"rmse:  0.056279423097127\"\n",
       "[1] \"rmse:  0.056279423097127\"\n",
       "[1] \"rmse:  0.056279423097127\"\n",
       "[1] \"rmse:  0.056279423097127\"\n",
       "[1] \"rmse:  0.0594719385562542\"\n",
       "[1] \"rmse:  0.0594719385562542\"\n",
       "[1] \"rmse:  0.0594719385562542\"\n",
       "[1] \"rmse:  0.0594719385562542\"\n",
       "[1] \"rmse:  0.0594719385562542\"\n",
       "[1] \"rmse:  0.0594719385562542\"\n",
       "[1] \"rmse:  0.0594719385562542\"\n",
       "[1] \"rmse:  0.0594719385562542\"\n",
       "[1] \"rmse:  0.0594719385562542\"\n",
       "[1] \"rmse:  0.0594719385562542\"\n",
       "[1] \"rmse:  0.0882093325636578\"\n",
       "[1] \"rmse:  0.0882093325636578\"\n",
       "[1] \"rmse:  0.0882093325636578\"\n",
       "[1] \"rmse:  0.0882093325636578\"\n",
       "[1] \"rmse:  0.0882093325636578\"\n",
       "[1] \"rmse:  0.0882093325636578\"\n",
       "[1] \"rmse:  0.0882093325636578\"\n",
       "[1] \"rmse:  0.0882093325636578\"\n",
       "[1] \"rmse:  0.0882093325636578\"\n",
       "[1] \"rmse:  0.0882093325636578\"\n"
      ]
     },
     "metadata": {},
     "output_type": "display_data"
    }
   ],
   "source": [
    "%%R\n",
    "percentages <- unlist(percentages)\n",
    "ref = read.csv(paste(path,'X_train.csv', sep =''), header = T, sep=',')[,-1]\n",
    "\n",
    "list_rmse = c()*length(percentages)\n",
    "for (k in percentages){\n",
    "  for (i in seq(1,version,1)){\n",
    "    i=1\n",
    "    data = read.csv(paste(path,'missed_data_',k,'_v',i,'.csv', sep =''), header = T, sep=',')[,-1]\n",
    "    mask = read.csv(paste(path,'mask_',k,'_v',i,'.csv', sep =''), header = T, sep=',')\n",
    "    mask_bis = matrix(TRUE, nrow = dim(mask)[1], ncol = dim(mask)[2])\n",
    "    mask_bis[which(mask[,]!='True')] = F\n",
    "    NAA=replace(data, !mask_bis, NA)\n",
    "    nb = estim_ncpPCA(as.data.frame(NAA),ncp.max=5)\n",
    "    res.comp = imputePCA(as.data.frame(NAA),ncp=nb$ncp)\n",
    "    rmse = sqrt(mean(((res.comp$completeObs-ref)[!mask_bis])**2))\n",
    "    print(paste('rmse: ',rmse))\n",
    "    list_rmse = c(list_rmse,rmse)\n",
    "    \n",
    "  }\n",
    "}\n",
    "\n",
    "df <- cbind.data.frame(rep(\"PCA\",length(percentages)),t(t(percentages)),rep('',2),rep('',2),rep('',2),list_rmse)\n",
    "write.table(df,file=paste0(path,'Results_',nom_data,'.csv'),append=TRUE,sep=\";\",row.names=FALSE,col.names=FALSE)"
   ]
  },
  {
   "cell_type": "markdown",
   "metadata": {},
   "source": [
    "# Plot of the results\n",
    "\n",
    "The code below provides: \n",
    "\n",
    "<ul>\n",
    "    <li> a plot with the RMSE by algorithm for each structure and each percetage of NA with a 95% confidence interval. </li>\n",
    "    <li> a csv file with, for each algorithm, each percentage of missing values, each structure and the associated RMSE. </li>\n",
    "    <li> a plot with the results of the algorithms for each percentage of missing values from the csv file. </li>\n",
    "</ul>"
   ]
  },
  {
   "cell_type": "markdown",
   "metadata": {},
   "source": [
    "## Plot of the results for an algorithm by structure and percentage of missing values\n",
    "\n",
    "If this part is used independently of the others, remember to remove the '#' and change 'path' and 'data_name'.\n",
    "Note also that **the plot is only possible for the autoencoders (non-linear)** which are: MIDA, SDAI pt, SDAI spt and MIWAE; the average does not have a structure to be optimized and the optimization of RandomForest is not of interest in our study."
   ]
  },
  {
   "cell_type": "code",
   "execution_count": 23,
   "metadata": {
    "scrolled": true
   },
   "outputs": [
    {
     "data": {
      "image/png": "[encoded data removed]",
      "text/plain": [
       "<Figure size 2520x1440 with 1 Axes>"
      ]
     },
     "metadata": {
      "needs_background": "light"
     },
     "output_type": "display_data"
    }
   ],
   "source": [
    "#Parameters\n",
    "\n",
    "algo = 'MIWAE'\n",
    "nom_fichier = 'Results_{0}.csv'.format(nom_data)\n",
    "\n",
    "#Import results\n",
    "res = pd.read_csv(path + nom_fichier, sep=';')\n",
    "data = res[res['Algorithm']== algo]\n",
    "NA = list(data['Percent_NA'].unique())\n",
    "layers = list(data['Layers'].unique())\n",
    "\n",
    "#Synthesis of the results\n",
    "gp1 = data.groupby(['Algorithm','Layers','Activation','Percent_NA'])\n",
    "nb_rep_vers = gp1['Version'].agg(['count']).iloc[0].unique()\n",
    "\n",
    "#Calculate mean et std for the chosen algorithm\n",
    "res_RMSE = gp1['RMSE'].agg(['mean','std','count'])\n",
    "res_algo = res_RMSE.loc['{}'.format(algo)]\n",
    "\n",
    "#Plot the results\n",
    "c = ['blue','red','green','darkviolet','orange','lightgreen','deeppink','coral','skyblue']\n",
    "fig, ax = plt.subplots(figsize=(35,20))\n",
    "if algo != 'MIWAE':\n",
    "    i = 0\n",
    "\n",
    "    for k in layers:\n",
    "        ax.errorbar(NA,\n",
    "                          res_algo.loc[k,'relu']['mean'],\n",
    "                          yerr=1.96*res_algo.loc[k,'relu']['std']/np.sqrt(nb_rep_vers), \n",
    "                          color = c[i], \n",
    "                          label = str(k+' relu'), \n",
    "                          marker = 's',\n",
    "                          capsize = 6,\n",
    "                          elinewidth = 4,\n",
    "                          lw = 5)\n",
    "                    \n",
    "        eb_tanh = ax.errorbar(NA,\n",
    "                      res_algo.loc[k,'tanh']['mean'],\n",
    "                      yerr=1.96*res_algo.loc[k,'tanh']['std']/np.sqrt(nb_rep_vers), \n",
    "                      color = c[i], \n",
    "                      label = str(k+' tanh'), \n",
    "                      marker = 's',\n",
    "                      capsize = 6,\n",
    "                      elinewidth = 4, \n",
    "                      linestyle = 'dashed',\n",
    "                      lw = 5 )\n",
    "        eb_tanh[-1][0].set_linestyle('--')\n",
    "        i += 1\n",
    "\n",
    "else: \n",
    "    i= 0\n",
    "    for k in layers:\n",
    "        ax.errorbar(NA,\n",
    "                          res_algo.loc[k,'ReLU']['mean'],\n",
    "                          yerr=1.96*res_algo.loc[k,'ReLU']['std']/np.sqrt(nb_rep_vers), \n",
    "                          color = c[i], \n",
    "                          label = str(k+' relu'), \n",
    "                          marker = 's',\n",
    "                          capsize = 6,\n",
    "                          elinewidth = 4,\n",
    "                          lw = 5)\n",
    "        i += 1\n",
    "\n",
    "\n",
    "ax.tick_params(axis='both', which='major', labelsize=50)\n",
    "ax.set_xlabel('Percentage of NA', fontsize = 50)\n",
    "ax.set_ylabel('RMSE', fontsize = 50)\n",
    "#ax.legend(fontsize = 40, loc = 'lower right')\n",
    "ax.grid(True)\n",
    "ax.set_title('{1} \\n {0} - Result by structure and percentage of NA'.format(algo, nom_data),fontsize = 55)\n",
    "\n",
    "#Sauvegarde du graphe au format png\n",
    "fig.savefig(path + 'Results {0} for {1}.png'.format(nom_data,algo))"
   ]
  },
  {
   "cell_type": "markdown",
   "metadata": {},
   "source": [
    "## Synthetic plot\n",
    "\n",
    "### Average of RMSE for the best structure for each combination algo/percentage of NA/version"
   ]
  },
  {
   "cell_type": "code",
   "execution_count": 24,
   "metadata": {},
   "outputs": [],
   "source": [
    "#Parameters\n",
    "path = path\n",
    "nom_data = nom_data\n",
    "nom_fichier = 'Results_{0}.csv'.format(nom_data)\n",
    "\n",
    "#Import the results\n",
    "res = pd.read_csv(path + nom_fichier, sep=';')\n",
    "\n",
    "#Export the results\n",
    "with open(path + 'Results_'+nom_data+'_best.csv', 'w', newline='') as file:\n",
    "    writer = csv.writer(file,delimiter=';')\n",
    "    writer.writerow(['Algorithm','Percent_NA','Version','Layers','Activation','RMSE'])\n",
    "    for a in ['mean','RF','PCA']:\n",
    "        for n in res[res['Algorithm']== a].iloc[:,0:6].values:\n",
    "            writer.writerow(n)\n",
    "\n",
    "data = res[res['Algorithm']!= 'mean']\n",
    "data = data[data['Algorithm']!= 'RF']\n",
    "data = data[data['Algorithm']!= 'PCA']\n",
    "\n",
    "NA, Versions, Algos = list(data['Percent_NA'].unique()), list(data['Version'].unique()), list(data['Algorithm'].unique())\n",
    "\n",
    "#Calculate the mean and sd for each combination of algo/percentage of NA/version/structure/activation function\n",
    "gp1 = data.groupby(['Algorithm','Percent_NA','Version','Layers','Activation'])\n",
    "res_RMSE = gp1['RMSE'].agg(['mean','std'])\n",
    "\n",
    "#Values are ranked by RMSE\n",
    "res_RMSE = res_RMSE.sort_values(['Algorithm','Percent_NA','Version','mean'],ascending=True)\n",
    "\n",
    "#Export mean of RMSE moyen for each combination\n",
    "for algo in Algos:\n",
    "    for na in NA:\n",
    "        for vers in Versions:\n",
    "            interm = res_RMSE.loc[algo,na,vers]['mean']\n",
    "            struc_acti = list(interm[interm == interm.min()].index[0])\n",
    "            rmse = res_RMSE.loc[algo,na,vers,struc_acti[0],struc_acti[1]]['mean']\n",
    "            with open(path + 'Results_' + nom_data + '_best.csv', 'a', newline='') as file:\n",
    "                writer = csv.writer(file,delimiter=';')\n",
    "                writer.writerow([algo,na,vers,struc_acti[0],struc_acti[1],rmse])\n",
    "        "
   ]
  },
  {
   "cell_type": "markdown",
   "metadata": {},
   "source": [
    "### Best average RMSE for algo/percentage of missing values/version combinations\n",
    "For each average RMSE is also indicated the 95% confidence interval, hence the need to do at least 2 repetitions to avoid any error in this part.\n",
    "Note: In order to take into account the PCA, you have to execute the associated R code and copy the results at the end of the 'Results_' + nom_data + _'_ _best.csv' obtained previously."
   ]
  },
  {
   "cell_type": "code",
   "execution_count": 25,
   "metadata": {},
   "outputs": [
    {
     "data": {
      "image/png": "[encoded data removed]",
      "text/plain": [
       "<Figure size 2520x1440 with 1 Axes>"
      ]
     },
     "metadata": {
      "needs_background": "light"
     },
     "output_type": "display_data"
    }
   ],
   "source": [
    "#Import results\n",
    "data = pd.read_csv(path + 'Results_' + nom_data + '_best.csv', sep=';')\n",
    "\n",
    "NA = data.iloc[:,1].unique()\n",
    "vers = len(data.iloc[:,2].unique())\n",
    "\n",
    "#Synthesis of the results : calculale mean and sd of RMSE by algorithm and % of NA\n",
    "gb = data.groupby(['Algorithm','Percent_NA'])\n",
    "synth = gb['RMSE'].agg(['mean','std'])\n",
    "\n",
    "#Export results\n",
    "synth.to_csv(path + 'Synthesis of the results {}.csv'.format(nom_data), sep = ';')\n",
    "\n",
    "#Number of algorithms\n",
    "algos = list(synth.index.get_level_values('Algorithm').unique())\n",
    "\n",
    "#Plot results\n",
    "c = ['blue','red','purple','darkgreen','orange','lightpink','k']\n",
    "fig, ax = plt.subplots(figsize=(35,20))\n",
    "for k in range(0,len(algos),1):\n",
    "    if algos[k] != 'MIWAE':\n",
    "        ax.errorbar(NA,\n",
    "                    synth.iloc[k*len(NA):(k+1)*len(NA),0],\n",
    "                    yerr=1.96*synth.iloc[k*len(NA):(k+1)*len(NA),1]/np.sqrt(vers), \n",
    "                    color = c[k], \n",
    "                    label = algos[k], \n",
    "                    marker = 's',\n",
    "                    capsize = 6,\n",
    "                    elinewidth = 2)\n",
    "    else:\n",
    "        ax.errorbar(NA,\n",
    "            synth.iloc[k*len(NA):(k+1)*len(NA),0],\n",
    "            yerr=1.96*synth.iloc[k*len(NA):(k+1)*len(NA),1]/np.sqrt(vers), \n",
    "            color = c[k], \n",
    "            label = algos[k], \n",
    "            marker = 's',\n",
    "            capsize = 6,\n",
    "            elinewidth = 2)\n",
    "    \n",
    "ax.tick_params(axis='both', which='major', labelsize=35)\n",
    "ax.set_xlabel('Percentage of NA', fontsize=35)\n",
    "ax.set_ylabel('RMSE', fontsize=35)\n",
    "ax.legend(fontsize = 20, loc = 'lower right')\n",
    "ax.grid(True)\n",
    "ax.set_title('Results for all the algorithms - {}'.format(nom_data),fontsize = 40)\n",
    "\n",
    "#Sauvegarde de la figure dans le dossier \n",
    "fig.savefig(path + '{}Results for all the algorithms.png'.format(nom_data))\n"
   ]
  }
 ],
 "metadata": {
  "kernelspec": {
   "display_name": "deep-husson-env",
   "language": "python",
   "name": "deep-husson-env"
  },
  "language_info": {
   "codemirror_mode": {
    "name": "ipython",
    "version": 3
   },
   "file_extension": ".py",
   "mimetype": "text/x-python",
   "name": "python",
   "nbconvert_exporter": "python",
   "pygments_lexer": "ipython3",
   "version": "3.7.7"
  },
  "toc": {
   "base_numbering": 1,
   "nav_menu": {},
   "number_sections": true,
   "sideBar": true,
   "skip_h1_title": false,
   "title_cell": "Table of Contents",
   "title_sidebar": "Contents",
   "toc_cell": false,
   "toc_position": {
    "height": "calc(100% - 180px)",
    "left": "10px",
    "top": "150px",
    "width": "218.59375px"
   },
   "toc_section_display": true,
   "toc_window_display": true
  }
 },
 "nbformat": 4,
 "nbformat_minor": 2
}
