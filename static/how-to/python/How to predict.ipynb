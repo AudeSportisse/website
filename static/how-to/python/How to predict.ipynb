{
 "cells": [
  {
   "cell_type": "markdown",
   "metadata": {},
   "source": [
    "<span style=\"font-size:3em\">How to predict with missing values in Python ?</span> \n",
    "\n",
    "**Aude Sportisse**"
   ]
  },
  {
   "cell_type": "markdown",
   "metadata": {},
   "source": [
    "Missing values occur in many applications of supervised learning. Methods to deal with missing values in supervised learning are very different from methods to deal with missing values in a inferential framework. For instance mean imputation which is the worst thing that can be done when the aim is to estimate parameter can be consistent when the aim is to predict as well as possible, as shown in [this recent paper](https://arxiv.org/abs/1902.06931?utm_source=feedburner&utm_medium=feed&utm_campaign=Feed%253A+arxiv%252FQSXk+%2528ExcitingAds%2521+cs+updates+on+arXiv.org%2529). \n",
    "\n",
    "In this notebook, we will cover how to accurately predict the response `y` given `X` when `X` contains missing values (missing values in both training and testing data). \n",
    "\n",
    "In this case, there are essentially two approaches:\n",
    "1. `Two-step strategy`: imputing missing data and applying classical methods on the completed data sets to predict;\n",
    "2. `One-step strategy`: Predicting with methods adapted to the missing data without necessarily imputing them.\n",
    " \n",
    "We first describe the methods on synthetic data and apply them on real datasets."
   ]
  },
  {
   "cell_type": "code",
   "execution_count": 27,
   "metadata": {},
   "outputs": [
    {
     "name": "stdout",
     "output_type": "stream",
     "text": [
      "Requirement already satisfied: wget in /Users/audesportisse/anaconda3/lib/python3.7/site-packages (3.2)\r\n"
     ]
    }
   ],
   "source": [
    "!pip install wget \n",
    "\n",
    "import numpy as np\n",
    "import pandas as pd\n",
    "import wget\n",
    "import matplotlib.pyplot as plt\n",
    "%matplotlib inline\n",
    "\n",
    "wget.download('https://raw.githubusercontent.com/R-miss-tastic/website/master/static/how-to/python/produceNA.py')\n",
    "wget.download('https://raw.githubusercontent.com/R-miss-tastic/website/master/static/how-to/python/tools.py')\n",
    "\n",
    "from produceNA import *\n",
    "\n",
    "from tools import color_imputedvalues_orange\n",
    "\n",
    "from sklearn.experimental import enable_iterative_imputer\n",
    "from sklearn.impute import IterativeImputer\n",
    "from sklearn.impute import SimpleImputer\n",
    "\n",
    "from sklearn.linear_model import LinearRegression\n",
    "from sklearn.model_selection import train_test_split\n",
    "from sklearn.ensemble import RandomForestRegressor\n",
    "from sklearn.experimental import enable_hist_gradient_boosting\n",
    "from sklearn.ensemble import HistGradientBoostingRegressor\n",
    "\n",
    "from sklearn.pipeline import Pipeline\n",
    "from sklearn.model_selection import ShuffleSplit, cross_val_score\n",
    "\n",
    "from sklearn.datasets import fetch_california_housing\n",
    "\n",
    "import random"
   ]
  },
  {
   "cell_type": "markdown",
   "metadata": {},
   "source": [
    "# Description of the different strategies"
   ]
  },
  {
   "cell_type": "markdown",
   "metadata": {},
   "source": [
    "We generate the covariates $X$ with 3 variables from a Gaussian distribution with positive structure of correlation, the Gaussian noise $\\epsilon$ from the standart Gaussian distribution and the fixed regression parameter $\\beta$ with the uniform distribution. The outcome variable is obtained with the following linear model:\n",
    "$$Y=X\\beta+\\epsilon.$$"
   ]
  },
  {
   "cell_type": "code",
   "execution_count": 2,
   "metadata": {},
   "outputs": [],
   "source": [
    "np.random.seed(0)  # fix the seed \n",
    "\n",
    "n = 1000\n",
    "d = 3\n",
    "\n",
    "mean = np.repeat(0, d)\n",
    "cov = 0.5 * (np.ones((d,d)) + np.eye(d))\n",
    "x_comp = np.random.multivariate_normal(mean, cov, size = n)\n",
    "b = np.random.uniform(low = 0, high = 3, size = d)\n",
    "sigma_eps = 0.25\n",
    "eps = np.random.normal(scale = sigma_eps, size = n)\n",
    "y = x_comp.dot(b) + eps"
   ]
  },
  {
   "cell_type": "markdown",
   "metadata": {},
   "source": [
    "We introduce some missing (here MCAR) values in the data matrix using the function `produce_NA` given in the Python Notebook [How to generate missing values in Python ?](https://rmisstastic.netlify.app/how-to/python/generate_html/how%20to%20generate%20missing%20values). "
   ]
  },
  {
   "cell_type": "code",
   "execution_count": 3,
   "metadata": {},
   "outputs": [
    {
     "name": "stdout",
     "output_type": "stream",
     "text": [
      "Ratio nan in X: 30.3 %\n"
     ]
    }
   ],
   "source": [
    "p = 0.3 #30% of Missing Values\n",
    "\n",
    "XproduceNA =  produce_NA(x_comp, p_miss=p, mecha=\"MCAR\") #True for missing values, false for others\n",
    "X_miss = XproduceNA['X_incomp']\n",
    "x_miss = X_miss.numpy()\n",
    "print('Ratio nan in X:', np.round(100 * np.sum(np.isnan(x_miss)) / x_miss.size,1), '%')"
   ]
  },
  {
   "cell_type": "code",
   "execution_count": 4,
   "metadata": {},
   "outputs": [
    {
     "data": {
      "text/html": [
       "<style  type=\"text/css\" >\n",
       "#T_803e1_row4_col2{\n",
       "            background-color:  orange;\n",
       "        }</style><table id=\"T_803e1_\" ><thead>    <tr>        <th class=\"blank level0\" ></th>        <th class=\"col_heading level0 col0\" >0</th>        <th class=\"col_heading level0 col1\" >1</th>        <th class=\"col_heading level0 col2\" >2</th>    </tr></thead><tbody>\n",
       "                <tr>\n",
       "                        <th id=\"T_803e1_level0_row0\" class=\"row_heading level0 row0\" >0</th>\n",
       "                        <td id=\"T_803e1_row0_col0\" class=\"data row0 col0\" >-0.875268</td>\n",
       "                        <td id=\"T_803e1_row0_col1\" class=\"data row0 col1\" >-1.922959</td>\n",
       "                        <td id=\"T_803e1_row0_col2\" class=\"data row0 col2\" >-1.522801</td>\n",
       "            </tr>\n",
       "            <tr>\n",
       "                        <th id=\"T_803e1_level0_row1\" class=\"row_heading level0 row1\" >1</th>\n",
       "                        <td id=\"T_803e1_row1_col0\" class=\"data row1 col0\" >-2.393913</td>\n",
       "                        <td id=\"T_803e1_row1_col1\" class=\"data row1 col1\" >-2.481345</td>\n",
       "                        <td id=\"T_803e1_row1_col2\" class=\"data row1 col2\" >-0.613787</td>\n",
       "            </tr>\n",
       "            <tr>\n",
       "                        <th id=\"T_803e1_level0_row2\" class=\"row_heading level0 row2\" >2</th>\n",
       "                        <td id=\"T_803e1_row2_col0\" class=\"data row2 col0\" >-0.835337</td>\n",
       "                        <td id=\"T_803e1_row2_col1\" class=\"data row2 col1\" >-0.670269</td>\n",
       "                        <td id=\"T_803e1_row2_col2\" class=\"data row2 col2\" >-0.821626</td>\n",
       "            </tr>\n",
       "            <tr>\n",
       "                        <th id=\"T_803e1_level0_row3\" class=\"row_heading level0 row3\" >3</th>\n",
       "                        <td id=\"T_803e1_row3_col0\" class=\"data row3 col0\" >0.504373</td>\n",
       "                        <td id=\"T_803e1_row3_col1\" class=\"data row3 col1\" >-0.827087</td>\n",
       "                        <td id=\"T_803e1_row3_col2\" class=\"data row3 col2\" >-0.683043</td>\n",
       "            </tr>\n",
       "            <tr>\n",
       "                        <th id=\"T_803e1_level0_row4\" class=\"row_heading level0 row4\" >4</th>\n",
       "                        <td id=\"T_803e1_row4_col0\" class=\"data row4 col0\" >-0.365120</td>\n",
       "                        <td id=\"T_803e1_row4_col1\" class=\"data row4 col1\" >-0.810354</td>\n",
       "                        <td id=\"T_803e1_row4_col2\" class=\"data row4 col2\" >nan</td>\n",
       "            </tr>\n",
       "    </tbody></table>"
      ],
      "text/plain": [
       "<pandas.io.formats.style.Styler at 0x117381e48>"
      ]
     },
     "execution_count": 4,
     "metadata": {},
     "output_type": "execute_result"
    }
   ],
   "source": [
    "pd.DataFrame(x_miss).head().style.highlight_null(null_color='orange')"
   ]
  },
  {
   "cell_type": "code",
   "execution_count": 5,
   "metadata": {},
   "outputs": [
    {
     "data": {
      "image/png": "[encoded data removed]",
      "text/plain": [
       "<Figure size 432x288 with 1 Axes>"
      ]
     },
     "metadata": {
      "needs_background": "light"
     },
     "output_type": "display_data"
    }
   ],
   "source": [
    "plt.scatter(x_miss[:400,0], x_miss[:400,1]);  #  data with missing coordinate are not plotted"
   ]
  },
  {
   "cell_type": "markdown",
   "metadata": {},
   "source": [
    "## Two-steps strategy\n",
    "\n",
    "We will consider two imputation methods:\n",
    "* `Mean imputation`: replace missing values by the mean of the feature (the column);\n",
    "* `Iterative imputation`: each feature is regressed/estimated from the others, which implies that imputation can take advantage of others features (it is the implementation proposed in [sklearn.impute.IterativeImputer](https://scikit-learn.org/stable/modules/generated/sklearn.impute.IterativeImputer.html#sklearn.impute.IterativeImputer))\n",
    "\n",
    "More details on these methods can be found in [How to impute missing values in Python](https://rmisstastic.netlify.app/how-to/python/howtoimpute). \n",
    "\n",
    "Note that [Josse et al.](https://hal.archives-ouvertes.fr/hal-02024202v3/document) study the classic tools of missing values in the context of supervised learning. More particularly, they give the following take-home messages:\n",
    "\n",
    "* If we possess a good learner algorithm and enough samples in our dataset (e.g. more than $10^5$), the mean imputation is a good default choice (since it is consistent). \n",
    "* It is important to use the same imputation for the train and the test set, since, in this case, the learning algorithm can learn the imputed value for detecting that the entry was initially missing.\n",
    "* It might by fruitfull to add the missing values indicator (by concatenating the missing values indicator to `X`), in particular when missingness can be related to the prediction target (MNAR or MAR values)."
   ]
  },
  {
   "cell_type": "code",
   "execution_count": 6,
   "metadata": {},
   "outputs": [
    {
     "data": {
      "text/html": [
       "<style  type=\"text/css\" >\n",
       "#T_499f2_row0_col0,#T_499f2_row0_col1,#T_499f2_row0_col2,#T_499f2_row1_col0,#T_499f2_row1_col1,#T_499f2_row1_col2,#T_499f2_row2_col0,#T_499f2_row2_col1,#T_499f2_row2_col2,#T_499f2_row3_col0,#T_499f2_row3_col1,#T_499f2_row3_col2,#T_499f2_row4_col0,#T_499f2_row4_col1{\n",
       "            background-color:  None;\n",
       "        }#T_499f2_row4_col2{\n",
       "            background-color:  orange;\n",
       "        }</style><table id=\"T_499f2_\" ><thead>    <tr>        <th class=\"blank level0\" ></th>        <th class=\"col_heading level0 col0\" >0</th>        <th class=\"col_heading level0 col1\" >1</th>        <th class=\"col_heading level0 col2\" >2</th>    </tr></thead><tbody>\n",
       "                <tr>\n",
       "                        <th id=\"T_499f2_level0_row0\" class=\"row_heading level0 row0\" >0</th>\n",
       "                        <td id=\"T_499f2_row0_col0\" class=\"data row0 col0\" >-0.875268</td>\n",
       "                        <td id=\"T_499f2_row0_col1\" class=\"data row0 col1\" >-1.922959</td>\n",
       "                        <td id=\"T_499f2_row0_col2\" class=\"data row0 col2\" >-1.522801</td>\n",
       "            </tr>\n",
       "            <tr>\n",
       "                        <th id=\"T_499f2_level0_row1\" class=\"row_heading level0 row1\" >1</th>\n",
       "                        <td id=\"T_499f2_row1_col0\" class=\"data row1 col0\" >-2.393913</td>\n",
       "                        <td id=\"T_499f2_row1_col1\" class=\"data row1 col1\" >-2.481345</td>\n",
       "                        <td id=\"T_499f2_row1_col2\" class=\"data row1 col2\" >-0.613787</td>\n",
       "            </tr>\n",
       "            <tr>\n",
       "                        <th id=\"T_499f2_level0_row2\" class=\"row_heading level0 row2\" >2</th>\n",
       "                        <td id=\"T_499f2_row2_col0\" class=\"data row2 col0\" >-0.835337</td>\n",
       "                        <td id=\"T_499f2_row2_col1\" class=\"data row2 col1\" >-0.670269</td>\n",
       "                        <td id=\"T_499f2_row2_col2\" class=\"data row2 col2\" >-0.821626</td>\n",
       "            </tr>\n",
       "            <tr>\n",
       "                        <th id=\"T_499f2_level0_row3\" class=\"row_heading level0 row3\" >3</th>\n",
       "                        <td id=\"T_499f2_row3_col0\" class=\"data row3 col0\" >0.504373</td>\n",
       "                        <td id=\"T_499f2_row3_col1\" class=\"data row3 col1\" >-0.827087</td>\n",
       "                        <td id=\"T_499f2_row3_col2\" class=\"data row3 col2\" >-0.683043</td>\n",
       "            </tr>\n",
       "            <tr>\n",
       "                        <th id=\"T_499f2_level0_row4\" class=\"row_heading level0 row4\" >4</th>\n",
       "                        <td id=\"T_499f2_row4_col0\" class=\"data row4 col0\" >-0.365120</td>\n",
       "                        <td id=\"T_499f2_row4_col1\" class=\"data row4 col1\" >-0.810354</td>\n",
       "                        <td id=\"T_499f2_row4_col2\" class=\"data row4 col2\" >0.029433</td>\n",
       "            </tr>\n",
       "    </tbody></table>"
      ],
      "text/plain": [
       "<pandas.io.formats.style.Styler at 0x1a226350b8>"
      ]
     },
     "execution_count": 6,
     "metadata": {},
     "output_type": "execute_result"
    }
   ],
   "source": [
    "## Mean imputation\n",
    "x_mean = SimpleImputer().fit_transform(x_miss)\n",
    "pd.DataFrame(x_mean).head().style.applymap(color_imputedvalues_orange, x_miss=x_miss)"
   ]
  },
  {
   "cell_type": "code",
   "execution_count": 7,
   "metadata": {},
   "outputs": [
    {
     "data": {
      "text/plain": [
       "<matplotlib.collections.PathCollection at 0x1a226ddf60>"
      ]
     },
     "execution_count": 7,
     "metadata": {},
     "output_type": "execute_result"
    },
    {
     "data": {
      "image/png": "[encoded data removed]",
      "text/plain": [
       "<Figure size 432x288 with 1 Axes>"
      ]
     },
     "metadata": {
      "needs_background": "light"
     },
     "output_type": "display_data"
    }
   ],
   "source": [
    "plt.scatter(x_mean[:400,0], x_mean[:400,1])\n",
    "\n",
    "missing_mask = np.where([any(x) for x in np.isnan(x_miss[:400][:,[0,1]])])\n",
    "plt.scatter(x_mean[missing_mask,0], x_mean[missing_mask,1])"
   ]
  },
  {
   "cell_type": "markdown",
   "metadata": {},
   "source": [
    "To concatenate the missing indicator to `X`, we can use the argument `add_indicator=True` of SimpleImputer. Note that this concatenation is done after imputation and is only used for prediction."
   ]
  },
  {
   "cell_type": "code",
   "execution_count": 8,
   "metadata": {},
   "outputs": [
    {
     "data": {
      "text/html": [
       "<style  type=\"text/css\" >\n",
       "#T_7e68c_row0_col0,#T_7e68c_row0_col1,#T_7e68c_row0_col2,#T_7e68c_row0_col3,#T_7e68c_row0_col4,#T_7e68c_row0_col5,#T_7e68c_row1_col0,#T_7e68c_row1_col1,#T_7e68c_row1_col2,#T_7e68c_row1_col3,#T_7e68c_row1_col4,#T_7e68c_row1_col5,#T_7e68c_row2_col0,#T_7e68c_row2_col1,#T_7e68c_row2_col2,#T_7e68c_row2_col3,#T_7e68c_row2_col4,#T_7e68c_row2_col5,#T_7e68c_row3_col0,#T_7e68c_row3_col1,#T_7e68c_row3_col2,#T_7e68c_row3_col3,#T_7e68c_row3_col4,#T_7e68c_row3_col5,#T_7e68c_row4_col0,#T_7e68c_row4_col1,#T_7e68c_row4_col3,#T_7e68c_row4_col4,#T_7e68c_row4_col5{\n",
       "            background-color:  None;\n",
       "        }#T_7e68c_row4_col2{\n",
       "            background-color:  orange;\n",
       "        }</style><table id=\"T_7e68c_\" ><thead>    <tr>        <th class=\"blank level0\" ></th>        <th class=\"col_heading level0 col0\" >0</th>        <th class=\"col_heading level0 col1\" >1</th>        <th class=\"col_heading level0 col2\" >2</th>        <th class=\"col_heading level0 col3\" >3</th>        <th class=\"col_heading level0 col4\" >4</th>        <th class=\"col_heading level0 col5\" >5</th>    </tr></thead><tbody>\n",
       "                <tr>\n",
       "                        <th id=\"T_7e68c_level0_row0\" class=\"row_heading level0 row0\" >0</th>\n",
       "                        <td id=\"T_7e68c_row0_col0\" class=\"data row0 col0\" >-0.875268</td>\n",
       "                        <td id=\"T_7e68c_row0_col1\" class=\"data row0 col1\" >-1.922959</td>\n",
       "                        <td id=\"T_7e68c_row0_col2\" class=\"data row0 col2\" >-1.522801</td>\n",
       "                        <td id=\"T_7e68c_row0_col3\" class=\"data row0 col3\" >0.000000</td>\n",
       "                        <td id=\"T_7e68c_row0_col4\" class=\"data row0 col4\" >0.000000</td>\n",
       "                        <td id=\"T_7e68c_row0_col5\" class=\"data row0 col5\" >0.000000</td>\n",
       "            </tr>\n",
       "            <tr>\n",
       "                        <th id=\"T_7e68c_level0_row1\" class=\"row_heading level0 row1\" >1</th>\n",
       "                        <td id=\"T_7e68c_row1_col0\" class=\"data row1 col0\" >-2.393913</td>\n",
       "                        <td id=\"T_7e68c_row1_col1\" class=\"data row1 col1\" >-2.481345</td>\n",
       "                        <td id=\"T_7e68c_row1_col2\" class=\"data row1 col2\" >-0.613787</td>\n",
       "                        <td id=\"T_7e68c_row1_col3\" class=\"data row1 col3\" >0.000000</td>\n",
       "                        <td id=\"T_7e68c_row1_col4\" class=\"data row1 col4\" >0.000000</td>\n",
       "                        <td id=\"T_7e68c_row1_col5\" class=\"data row1 col5\" >0.000000</td>\n",
       "            </tr>\n",
       "            <tr>\n",
       "                        <th id=\"T_7e68c_level0_row2\" class=\"row_heading level0 row2\" >2</th>\n",
       "                        <td id=\"T_7e68c_row2_col0\" class=\"data row2 col0\" >-0.835337</td>\n",
       "                        <td id=\"T_7e68c_row2_col1\" class=\"data row2 col1\" >-0.670269</td>\n",
       "                        <td id=\"T_7e68c_row2_col2\" class=\"data row2 col2\" >-0.821626</td>\n",
       "                        <td id=\"T_7e68c_row2_col3\" class=\"data row2 col3\" >0.000000</td>\n",
       "                        <td id=\"T_7e68c_row2_col4\" class=\"data row2 col4\" >0.000000</td>\n",
       "                        <td id=\"T_7e68c_row2_col5\" class=\"data row2 col5\" >0.000000</td>\n",
       "            </tr>\n",
       "            <tr>\n",
       "                        <th id=\"T_7e68c_level0_row3\" class=\"row_heading level0 row3\" >3</th>\n",
       "                        <td id=\"T_7e68c_row3_col0\" class=\"data row3 col0\" >0.504373</td>\n",
       "                        <td id=\"T_7e68c_row3_col1\" class=\"data row3 col1\" >-0.827087</td>\n",
       "                        <td id=\"T_7e68c_row3_col2\" class=\"data row3 col2\" >-0.683043</td>\n",
       "                        <td id=\"T_7e68c_row3_col3\" class=\"data row3 col3\" >0.000000</td>\n",
       "                        <td id=\"T_7e68c_row3_col4\" class=\"data row3 col4\" >0.000000</td>\n",
       "                        <td id=\"T_7e68c_row3_col5\" class=\"data row3 col5\" >0.000000</td>\n",
       "            </tr>\n",
       "            <tr>\n",
       "                        <th id=\"T_7e68c_level0_row4\" class=\"row_heading level0 row4\" >4</th>\n",
       "                        <td id=\"T_7e68c_row4_col0\" class=\"data row4 col0\" >-0.365120</td>\n",
       "                        <td id=\"T_7e68c_row4_col1\" class=\"data row4 col1\" >-0.810354</td>\n",
       "                        <td id=\"T_7e68c_row4_col2\" class=\"data row4 col2\" >0.029433</td>\n",
       "                        <td id=\"T_7e68c_row4_col3\" class=\"data row4 col3\" >0.000000</td>\n",
       "                        <td id=\"T_7e68c_row4_col4\" class=\"data row4 col4\" >0.000000</td>\n",
       "                        <td id=\"T_7e68c_row4_col5\" class=\"data row4 col5\" >1.000000</td>\n",
       "            </tr>\n",
       "    </tbody></table>"
      ],
      "text/plain": [
       "<pandas.io.formats.style.Styler at 0x1a226dd208>"
      ]
     },
     "execution_count": 8,
     "metadata": {},
     "output_type": "execute_result"
    }
   ],
   "source": [
    "## Mean imputation, return with indicator\n",
    "x_mean_with_indicator = SimpleImputer(add_indicator=True).fit_transform(x_miss)\n",
    "pd.DataFrame(x_mean_with_indicator).head().style.applymap(color_imputedvalues_orange, x_miss=np.concatenate((x_miss,np.isnan(x_miss)*1),axis=1))"
   ]
  },
  {
   "cell_type": "code",
   "execution_count": 9,
   "metadata": {},
   "outputs": [
    {
     "data": {
      "text/html": [
       "<style  type=\"text/css\" >\n",
       "#T_e2779_row0_col0,#T_e2779_row0_col1,#T_e2779_row0_col2,#T_e2779_row1_col0,#T_e2779_row1_col1,#T_e2779_row1_col2,#T_e2779_row2_col0,#T_e2779_row2_col1,#T_e2779_row2_col2,#T_e2779_row3_col0,#T_e2779_row3_col1,#T_e2779_row3_col2,#T_e2779_row4_col0,#T_e2779_row4_col1{\n",
       "            background-color:  None;\n",
       "        }#T_e2779_row4_col2{\n",
       "            background-color:  orange;\n",
       "        }</style><table id=\"T_e2779_\" ><thead>    <tr>        <th class=\"blank level0\" ></th>        <th class=\"col_heading level0 col0\" >0</th>        <th class=\"col_heading level0 col1\" >1</th>        <th class=\"col_heading level0 col2\" >2</th>    </tr></thead><tbody>\n",
       "                <tr>\n",
       "                        <th id=\"T_e2779_level0_row0\" class=\"row_heading level0 row0\" >0</th>\n",
       "                        <td id=\"T_e2779_row0_col0\" class=\"data row0 col0\" >-0.875268</td>\n",
       "                        <td id=\"T_e2779_row0_col1\" class=\"data row0 col1\" >-1.922959</td>\n",
       "                        <td id=\"T_e2779_row0_col2\" class=\"data row0 col2\" >-1.522801</td>\n",
       "            </tr>\n",
       "            <tr>\n",
       "                        <th id=\"T_e2779_level0_row1\" class=\"row_heading level0 row1\" >1</th>\n",
       "                        <td id=\"T_e2779_row1_col0\" class=\"data row1 col0\" >-2.393913</td>\n",
       "                        <td id=\"T_e2779_row1_col1\" class=\"data row1 col1\" >-2.481345</td>\n",
       "                        <td id=\"T_e2779_row1_col2\" class=\"data row1 col2\" >-0.613787</td>\n",
       "            </tr>\n",
       "            <tr>\n",
       "                        <th id=\"T_e2779_level0_row2\" class=\"row_heading level0 row2\" >2</th>\n",
       "                        <td id=\"T_e2779_row2_col0\" class=\"data row2 col0\" >-0.835337</td>\n",
       "                        <td id=\"T_e2779_row2_col1\" class=\"data row2 col1\" >-0.670269</td>\n",
       "                        <td id=\"T_e2779_row2_col2\" class=\"data row2 col2\" >-0.821626</td>\n",
       "            </tr>\n",
       "            <tr>\n",
       "                        <th id=\"T_e2779_level0_row3\" class=\"row_heading level0 row3\" >3</th>\n",
       "                        <td id=\"T_e2779_row3_col0\" class=\"data row3 col0\" >0.504373</td>\n",
       "                        <td id=\"T_e2779_row3_col1\" class=\"data row3 col1\" >-0.827087</td>\n",
       "                        <td id=\"T_e2779_row3_col2\" class=\"data row3 col2\" >-0.683043</td>\n",
       "            </tr>\n",
       "            <tr>\n",
       "                        <th id=\"T_e2779_level0_row4\" class=\"row_heading level0 row4\" >4</th>\n",
       "                        <td id=\"T_e2779_row4_col0\" class=\"data row4 col0\" >-0.365120</td>\n",
       "                        <td id=\"T_e2779_row4_col1\" class=\"data row4 col1\" >-0.810354</td>\n",
       "                        <td id=\"T_e2779_row4_col2\" class=\"data row4 col2\" >-0.462637</td>\n",
       "            </tr>\n",
       "    </tbody></table>"
      ],
      "text/plain": [
       "<pandas.io.formats.style.Styler at 0x1a226354a8>"
      ]
     },
     "execution_count": 9,
     "metadata": {},
     "output_type": "execute_result"
    }
   ],
   "source": [
    "# Iterative imputation\n",
    "x_ice = IterativeImputer().fit_transform(x_miss)\n",
    "pd.DataFrame(x_ice).head().style.applymap(color_imputedvalues_orange, x_miss=x_miss)"
   ]
  },
  {
   "cell_type": "code",
   "execution_count": 10,
   "metadata": {},
   "outputs": [
    {
     "data": {
      "text/plain": [
       "<matplotlib.collections.PathCollection at 0x1a22810d68>"
      ]
     },
     "execution_count": 10,
     "metadata": {},
     "output_type": "execute_result"
    },
    {
     "data": {
      "image/png": "[encoded data removed]",
      "text/plain": [
       "<Figure size 432x288 with 1 Axes>"
      ]
     },
     "metadata": {
      "needs_background": "light"
     },
     "output_type": "display_data"
    }
   ],
   "source": [
    "plt.scatter(x_ice[:400,0], x_ice[:400,1])\n",
    "\n",
    "missing_mask = np.where([any(x) for x in np.isnan(x_miss[:400][:,[0,1]])])\n",
    "plt.scatter(x_ice[missing_mask,0], x_ice[missing_mask,1])"
   ]
  },
  {
   "cell_type": "code",
   "execution_count": 11,
   "metadata": {},
   "outputs": [
    {
     "data": {
      "text/html": [
       "<style  type=\"text/css\" >\n",
       "#T_da516_row0_col0,#T_da516_row0_col1,#T_da516_row0_col2,#T_da516_row0_col3,#T_da516_row0_col4,#T_da516_row0_col5,#T_da516_row1_col0,#T_da516_row1_col1,#T_da516_row1_col2,#T_da516_row1_col3,#T_da516_row1_col4,#T_da516_row1_col5,#T_da516_row2_col0,#T_da516_row2_col1,#T_da516_row2_col2,#T_da516_row2_col3,#T_da516_row2_col4,#T_da516_row2_col5,#T_da516_row3_col0,#T_da516_row3_col1,#T_da516_row3_col2,#T_da516_row3_col3,#T_da516_row3_col4,#T_da516_row3_col5,#T_da516_row4_col0,#T_da516_row4_col1,#T_da516_row4_col3,#T_da516_row4_col4,#T_da516_row4_col5{\n",
       "            background-color:  None;\n",
       "        }#T_da516_row4_col2{\n",
       "            background-color:  orange;\n",
       "        }</style><table id=\"T_da516_\" ><thead>    <tr>        <th class=\"blank level0\" ></th>        <th class=\"col_heading level0 col0\" >0</th>        <th class=\"col_heading level0 col1\" >1</th>        <th class=\"col_heading level0 col2\" >2</th>        <th class=\"col_heading level0 col3\" >3</th>        <th class=\"col_heading level0 col4\" >4</th>        <th class=\"col_heading level0 col5\" >5</th>    </tr></thead><tbody>\n",
       "                <tr>\n",
       "                        <th id=\"T_da516_level0_row0\" class=\"row_heading level0 row0\" >0</th>\n",
       "                        <td id=\"T_da516_row0_col0\" class=\"data row0 col0\" >-0.875268</td>\n",
       "                        <td id=\"T_da516_row0_col1\" class=\"data row0 col1\" >-1.922959</td>\n",
       "                        <td id=\"T_da516_row0_col2\" class=\"data row0 col2\" >-1.522801</td>\n",
       "                        <td id=\"T_da516_row0_col3\" class=\"data row0 col3\" >0.000000</td>\n",
       "                        <td id=\"T_da516_row0_col4\" class=\"data row0 col4\" >0.000000</td>\n",
       "                        <td id=\"T_da516_row0_col5\" class=\"data row0 col5\" >0.000000</td>\n",
       "            </tr>\n",
       "            <tr>\n",
       "                        <th id=\"T_da516_level0_row1\" class=\"row_heading level0 row1\" >1</th>\n",
       "                        <td id=\"T_da516_row1_col0\" class=\"data row1 col0\" >-2.393913</td>\n",
       "                        <td id=\"T_da516_row1_col1\" class=\"data row1 col1\" >-2.481345</td>\n",
       "                        <td id=\"T_da516_row1_col2\" class=\"data row1 col2\" >-0.613787</td>\n",
       "                        <td id=\"T_da516_row1_col3\" class=\"data row1 col3\" >0.000000</td>\n",
       "                        <td id=\"T_da516_row1_col4\" class=\"data row1 col4\" >0.000000</td>\n",
       "                        <td id=\"T_da516_row1_col5\" class=\"data row1 col5\" >0.000000</td>\n",
       "            </tr>\n",
       "            <tr>\n",
       "                        <th id=\"T_da516_level0_row2\" class=\"row_heading level0 row2\" >2</th>\n",
       "                        <td id=\"T_da516_row2_col0\" class=\"data row2 col0\" >-0.835337</td>\n",
       "                        <td id=\"T_da516_row2_col1\" class=\"data row2 col1\" >-0.670269</td>\n",
       "                        <td id=\"T_da516_row2_col2\" class=\"data row2 col2\" >-0.821626</td>\n",
       "                        <td id=\"T_da516_row2_col3\" class=\"data row2 col3\" >0.000000</td>\n",
       "                        <td id=\"T_da516_row2_col4\" class=\"data row2 col4\" >0.000000</td>\n",
       "                        <td id=\"T_da516_row2_col5\" class=\"data row2 col5\" >0.000000</td>\n",
       "            </tr>\n",
       "            <tr>\n",
       "                        <th id=\"T_da516_level0_row3\" class=\"row_heading level0 row3\" >3</th>\n",
       "                        <td id=\"T_da516_row3_col0\" class=\"data row3 col0\" >0.504373</td>\n",
       "                        <td id=\"T_da516_row3_col1\" class=\"data row3 col1\" >-0.827087</td>\n",
       "                        <td id=\"T_da516_row3_col2\" class=\"data row3 col2\" >-0.683043</td>\n",
       "                        <td id=\"T_da516_row3_col3\" class=\"data row3 col3\" >0.000000</td>\n",
       "                        <td id=\"T_da516_row3_col4\" class=\"data row3 col4\" >0.000000</td>\n",
       "                        <td id=\"T_da516_row3_col5\" class=\"data row3 col5\" >0.000000</td>\n",
       "            </tr>\n",
       "            <tr>\n",
       "                        <th id=\"T_da516_level0_row4\" class=\"row_heading level0 row4\" >4</th>\n",
       "                        <td id=\"T_da516_row4_col0\" class=\"data row4 col0\" >-0.365120</td>\n",
       "                        <td id=\"T_da516_row4_col1\" class=\"data row4 col1\" >-0.810354</td>\n",
       "                        <td id=\"T_da516_row4_col2\" class=\"data row4 col2\" >-0.462637</td>\n",
       "                        <td id=\"T_da516_row4_col3\" class=\"data row4 col3\" >0.000000</td>\n",
       "                        <td id=\"T_da516_row4_col4\" class=\"data row4 col4\" >0.000000</td>\n",
       "                        <td id=\"T_da516_row4_col5\" class=\"data row4 col5\" >1.000000</td>\n",
       "            </tr>\n",
       "    </tbody></table>"
      ],
      "text/plain": [
       "<pandas.io.formats.style.Styler at 0x1a227f11d0>"
      ]
     },
     "execution_count": 11,
     "metadata": {},
     "output_type": "execute_result"
    }
   ],
   "source": [
    "## Iterative imputation, return with indicator\n",
    "x_mice_with_indicator = IterativeImputer(add_indicator=True).fit_transform(x_miss)\n",
    "pd.DataFrame(x_mice_with_indicator).head().style.applymap(color_imputedvalues_orange, x_miss=np.concatenate((x_miss,np.isnan(x_miss)*1),axis=1))"
   ]
  },
  {
   "cell_type": "markdown",
   "metadata": {},
   "source": [
    "## One-step strategy\n",
    "\n",
    "We compare these imputations methods to a learning algorithm which can perform predictions by directly accounting for missing values:\n",
    "\n",
    "* `Missing In Attribute Imputation (MIA)` [Twala et al.](https://www.sciencedirect.com/science/article/pii/S0167865508000305)): this method  is dedicated to handle missing values in tree based methods, such as randomforest, xgboost, etc... It is implimented in different packages (partykit  and grf in R and by default as imputation method in the function [HistGradientBoostingRegressor](https://scikit-learn.org/stable/modules/generated/sklearn.ensemble.HistGradientBoostingRegressor.html) from the module sklearn.ensemble of scikitlearn). If you want to implement it it by yourself, you can duplicate features twice and replace its missing values once by $\\infty$ and once by $- \\infty$ (or extreme out-of-range values).  Here, we choose to remplace them once by the maximum of the variable plus 1000 and once by the minimum of the variable minus 1000. More information on this method can be found in [Josse et al.](https://hal.archives-ouvertes.fr/hal-02024202v3/document).\n",
    "\n",
    "This method does not pretend to impute missing data.  Here, the step of duplicating features is internal in the tree based learning algorithm."
   ]
  },
  {
   "cell_type": "code",
   "execution_count": 12,
   "metadata": {},
   "outputs": [],
   "source": [
    "from sklearn.preprocessing import MinMaxScaler\n",
    "from sklearn.base import BaseEstimator, TransformerMixin\n",
    "\n",
    "class MinMaxImputer(BaseEstimator, TransformerMixin):\n",
    "    # replacing the `nan` by two extremes values (by duplicating each column)\n",
    "    \n",
    "    def fit(self, X, y=None):\n",
    "        mm = MinMaxScaler().fit(X)\n",
    "        self.data_min_ = mm.data_min_\n",
    "        self.data_max_ = mm.data_max_\n",
    "        return self\n",
    "\n",
    "    def transform(self, X):\n",
    "        X_min, X_max = X.copy(), X.copy()\n",
    "\n",
    "        for feature_idx in range(X.shape[1]):\n",
    "            nan_mask = np.isnan(X[:, feature_idx])\n",
    "            X_min[nan_mask, feature_idx] = self.data_min_[feature_idx] - 1\n",
    "            X_max[nan_mask, feature_idx] = self.data_max_[feature_idx] + 1\n",
    "\n",
    "        return np.concatenate([X_min, X_max], axis=1)"
   ]
  },
  {
   "cell_type": "code",
   "execution_count": 13,
   "metadata": {},
   "outputs": [],
   "source": [
    "x_MIA = MinMaxImputer().fit_transform(x_miss)"
   ]
  },
  {
   "cell_type": "code",
   "execution_count": 14,
   "metadata": {},
   "outputs": [
    {
     "data": {
      "text/html": [
       "<style  type=\"text/css\" >\n",
       "#T_81782_row0_col0,#T_81782_row0_col1,#T_81782_row0_col2,#T_81782_row0_col3,#T_81782_row0_col4,#T_81782_row0_col5,#T_81782_row1_col0,#T_81782_row1_col1,#T_81782_row1_col2,#T_81782_row1_col3,#T_81782_row1_col4,#T_81782_row1_col5,#T_81782_row2_col0,#T_81782_row2_col1,#T_81782_row2_col2,#T_81782_row2_col3,#T_81782_row2_col4,#T_81782_row2_col5,#T_81782_row3_col0,#T_81782_row3_col1,#T_81782_row3_col2,#T_81782_row3_col3,#T_81782_row3_col4,#T_81782_row3_col5,#T_81782_row4_col0,#T_81782_row4_col1,#T_81782_row4_col3,#T_81782_row4_col4{\n",
       "            background-color:  None;\n",
       "        }#T_81782_row4_col2,#T_81782_row4_col5{\n",
       "            background-color:  orange;\n",
       "        }</style><table id=\"T_81782_\" ><thead>    <tr>        <th class=\"blank level0\" ></th>        <th class=\"col_heading level0 col0\" >0</th>        <th class=\"col_heading level0 col1\" >1</th>        <th class=\"col_heading level0 col2\" >2</th>        <th class=\"col_heading level0 col3\" >3</th>        <th class=\"col_heading level0 col4\" >4</th>        <th class=\"col_heading level0 col5\" >5</th>    </tr></thead><tbody>\n",
       "                <tr>\n",
       "                        <th id=\"T_81782_level0_row0\" class=\"row_heading level0 row0\" >0</th>\n",
       "                        <td id=\"T_81782_row0_col0\" class=\"data row0 col0\" >-0.875268</td>\n",
       "                        <td id=\"T_81782_row0_col1\" class=\"data row0 col1\" >-1.922959</td>\n",
       "                        <td id=\"T_81782_row0_col2\" class=\"data row0 col2\" >-1.522801</td>\n",
       "                        <td id=\"T_81782_row0_col3\" class=\"data row0 col3\" >-0.875268</td>\n",
       "                        <td id=\"T_81782_row0_col4\" class=\"data row0 col4\" >-1.922959</td>\n",
       "                        <td id=\"T_81782_row0_col5\" class=\"data row0 col5\" >-1.522801</td>\n",
       "            </tr>\n",
       "            <tr>\n",
       "                        <th id=\"T_81782_level0_row1\" class=\"row_heading level0 row1\" >1</th>\n",
       "                        <td id=\"T_81782_row1_col0\" class=\"data row1 col0\" >-2.393913</td>\n",
       "                        <td id=\"T_81782_row1_col1\" class=\"data row1 col1\" >-2.481345</td>\n",
       "                        <td id=\"T_81782_row1_col2\" class=\"data row1 col2\" >-0.613787</td>\n",
       "                        <td id=\"T_81782_row1_col3\" class=\"data row1 col3\" >-2.393913</td>\n",
       "                        <td id=\"T_81782_row1_col4\" class=\"data row1 col4\" >-2.481345</td>\n",
       "                        <td id=\"T_81782_row1_col5\" class=\"data row1 col5\" >-0.613787</td>\n",
       "            </tr>\n",
       "            <tr>\n",
       "                        <th id=\"T_81782_level0_row2\" class=\"row_heading level0 row2\" >2</th>\n",
       "                        <td id=\"T_81782_row2_col0\" class=\"data row2 col0\" >-0.835337</td>\n",
       "                        <td id=\"T_81782_row2_col1\" class=\"data row2 col1\" >-0.670269</td>\n",
       "                        <td id=\"T_81782_row2_col2\" class=\"data row2 col2\" >-0.821626</td>\n",
       "                        <td id=\"T_81782_row2_col3\" class=\"data row2 col3\" >-0.835337</td>\n",
       "                        <td id=\"T_81782_row2_col4\" class=\"data row2 col4\" >-0.670269</td>\n",
       "                        <td id=\"T_81782_row2_col5\" class=\"data row2 col5\" >-0.821626</td>\n",
       "            </tr>\n",
       "            <tr>\n",
       "                        <th id=\"T_81782_level0_row3\" class=\"row_heading level0 row3\" >3</th>\n",
       "                        <td id=\"T_81782_row3_col0\" class=\"data row3 col0\" >0.504373</td>\n",
       "                        <td id=\"T_81782_row3_col1\" class=\"data row3 col1\" >-0.827087</td>\n",
       "                        <td id=\"T_81782_row3_col2\" class=\"data row3 col2\" >-0.683043</td>\n",
       "                        <td id=\"T_81782_row3_col3\" class=\"data row3 col3\" >0.504373</td>\n",
       "                        <td id=\"T_81782_row3_col4\" class=\"data row3 col4\" >-0.827087</td>\n",
       "                        <td id=\"T_81782_row3_col5\" class=\"data row3 col5\" >-0.683043</td>\n",
       "            </tr>\n",
       "            <tr>\n",
       "                        <th id=\"T_81782_level0_row4\" class=\"row_heading level0 row4\" >4</th>\n",
       "                        <td id=\"T_81782_row4_col0\" class=\"data row4 col0\" >-0.365120</td>\n",
       "                        <td id=\"T_81782_row4_col1\" class=\"data row4 col1\" >-0.810354</td>\n",
       "                        <td id=\"T_81782_row4_col2\" class=\"data row4 col2\" >-4.032794</td>\n",
       "                        <td id=\"T_81782_row4_col3\" class=\"data row4 col3\" >-0.365120</td>\n",
       "                        <td id=\"T_81782_row4_col4\" class=\"data row4 col4\" >-0.810354</td>\n",
       "                        <td id=\"T_81782_row4_col5\" class=\"data row4 col5\" >4.013304</td>\n",
       "            </tr>\n",
       "    </tbody></table>"
      ],
      "text/plain": [
       "<pandas.io.formats.style.Styler at 0x1a22865e10>"
      ]
     },
     "execution_count": 14,
     "metadata": {},
     "output_type": "execute_result"
    }
   ],
   "source": [
    "pd.DataFrame(x_MIA).head().style.applymap(color_imputedvalues_orange, x_miss=np.concatenate((x_miss,np.isnan(x_miss)*1),axis=1))"
   ]
  },
  {
   "cell_type": "markdown",
   "metadata": {},
   "source": [
    "## Pipeline\n",
    "\n",
    "Let's evaluate the different strategies. Let's consider our different imputers w.r.t. different machine learning algorithms. The pipeline will be \n",
    "1. Imputation.\n",
    "2. Regression on the imputed dataset.\n",
    "\n",
    "Here we decompose each step of the pipeline for clarity.\n",
    "\n",
    "First, we can split the data intro train and test datasets. "
   ]
  },
  {
   "cell_type": "code",
   "execution_count": 15,
   "metadata": {},
   "outputs": [
    {
     "name": "stdout",
     "output_type": "stream",
     "text": [
      "train shape: X.shape=(750, 3), y.shape=(750,)\n",
      "test shape: X.shape=(250, 3), y.shape=(250,)\n"
     ]
    }
   ],
   "source": [
    "x_train, x_test, y_train, y_test = train_test_split(x_miss, y)\n",
    "print('train shape: X.shape={}, y.shape={}'.format(x_train.shape, y_train.shape))\n",
    "print('test shape: X.shape={}, y.shape={}'.format(x_test.shape, y_test.shape))"
   ]
  },
  {
   "cell_type": "markdown",
   "metadata": {},
   "source": [
    "We can then choose a learning algorithm, for exemple the random forests. We can use the class [sklearn.linear_model](https://scikit-learn.org/stable/modules/generated/sklearn.ensemble.RandomForestRegressor.html#sklearn.ensemble.RandomForestRegressor) of scikit-learn. Note that we can not directly apply the learner, since it can not deal with missing values. "
   ]
  },
  {
   "cell_type": "code",
   "execution_count": 16,
   "metadata": {},
   "outputs": [],
   "source": [
    "learner = RandomForestRegressor()"
   ]
  },
  {
   "cell_type": "code",
   "execution_count": 17,
   "metadata": {},
   "outputs": [],
   "source": [
    "\"\"\" Line below would raise an ValueError: \n",
    "'Input contains NaN, infinity or a value too large for dtype('float64').'\n",
    "Because LinearRegressor couldn't deal with NaN values.\"\"\";\n",
    "\n",
    "# learner.fit(X_train, y_train) "
   ]
  },
  {
   "cell_type": "markdown",
   "metadata": {},
   "source": [
    "We fit the model for imputing missing values in the train dataset and then transform both train and test with the *same* imputer."
   ]
  },
  {
   "cell_type": "code",
   "execution_count": 18,
   "metadata": {},
   "outputs": [],
   "source": [
    "imputer = SimpleImputer(strategy='mean')\n",
    "imputer.fit(x_train)\n",
    "\n",
    "x_train_imp = imputer.transform(x_train)\n",
    "x_test_imp = imputer.transform(x_test)"
   ]
  },
  {
   "cell_type": "markdown",
   "metadata": {},
   "source": [
    "Finally, we can fit the learner. "
   ]
  },
  {
   "cell_type": "code",
   "execution_count": 19,
   "metadata": {},
   "outputs": [
    {
     "name": "stdout",
     "output_type": "stream",
     "text": [
      "Score on train: 0.9559328366636736\n",
      "Score on test: 0.8036095091168469\n"
     ]
    }
   ],
   "source": [
    "learner.fit(x_train_imp, y_train)\n",
    "print('Score on train:', learner.score(x_train_imp, y_train))\n",
    "print('Score on test:', learner.score(x_test_imp, y_test))"
   ]
  },
  {
   "cell_type": "markdown",
   "metadata": {},
   "source": [
    "# Method selection on synthetic data"
   ]
  },
  {
   "cell_type": "markdown",
   "metadata": {},
   "source": [
    "The function **score_pred** compares the strategies above for synthetic data in terms of prediction performances by applying chosen learning algorithms. \n",
    "\n",
    "More precisely, the function takes as imput a complete data matrix (`X`) and an output variable (`y`). Then, missing values are introduced in the complete data matrix with both specific percentage of missing values (`p`) and missing-data mechanism (`mecha`). Each method is performed with a learning algorithm (`learner`). The methods are detailed below:\n",
    "* Mean imputation with or without adding the mask + Learning algorithm (two-step method), \n",
    "* Iterative imputation with or without adding the mask + Learning algorithm (two-step method), \n",
    "* Learning algorithm if the learning algorithm account for MIA (one-step method, if `opt_learner=\"Learner_MIA\"`) or MIA + Learning algorithm otherwise.\n",
    "\n",
    "The introduction of the missing values is done several times (`nbsim`), it implies the stochasticity in the results (and boxplots).\n",
    "\n",
    "The arguments are the following.\n",
    "\n",
    "* `X`: complete data matrix (covariates).\n",
    "* `y`: output variable.\n",
    "* `learner`: learner to be performed for comparing strategies (e.g. random forests, gradient boosting, linear regression).\n",
    "* `p` : percentage of missing values to introduce.\n",
    "* `nbsim` : number of simulations performed.\n",
    "* `opt_learner`: indicates if the learning algorithm account for MIA (`opt_learn=\"Learner_MIA\"`).\n",
    "* `mecha` : missing-data mechanism to use for introducing the missing values.\n",
    "\n",
    "It returns scores for each strategy. "
   ]
  },
  {
   "cell_type": "code",
   "execution_count": 21,
   "metadata": {},
   "outputs": [],
   "source": [
    "def score_pred(X, y, learner, p, nbsim, opt_learner = \"Learner_MIA\", mecha = \"MCAR\"):\n",
    "    \"\"\"\n",
    "    Compare imputation methods (Mean imputation and Iterative imputation, with or without concatenating missing values indicator) \n",
    "    with the Missing In Attribute method in terms of prediction performance for chosen learning algorithms.\n",
    "    \n",
    "    \n",
    "    Parameters\n",
    "    ----------\n",
    "    X : complete data matrix (covariates).\n",
    "    y : output variable.\n",
    "    learner : dictionnary containing the learners to be performed for comparing strategies (e.g. random forests, linear regression).\n",
    "    learner_name : names of the learners.\n",
    "    p : percentage of missing values to introduce.\n",
    "    mecha : missing-data mechanism to use for introducing the missing values. \n",
    "    \n",
    "    Returns\n",
    "    -------\n",
    "    Scores for each strategy. \n",
    "    \"\"\"\n",
    "    \n",
    "    score_results = pd.DataFrame()\n",
    "    Methods = ['Mean','Iterative','Mean + Mask','Iterative + Mask','MIA']\n",
    "    for meth in Methods:\n",
    "        score_results[meth]=[]\n",
    "    \n",
    "    for sim in range(0,nbsim):\n",
    "        if mecha == 'MCAR':\n",
    "            XproduceNA =  produce_NA(x_comp, p_miss=p, mecha=mecha) \n",
    "            x_miss = XproduceNA['X_incomp'].numpy()\n",
    "        else:\n",
    "            XproduceNA =  produce_NA(x_comp, p_miss=p, mecha=mecha, opt=\"logistic\", p_obs=0.5) \n",
    "            x_miss = XproduceNA['X_incomp'].numpy()\n",
    "\n",
    "        x_train, x_test, y_train, y_test = train_test_split(x_miss, y)\n",
    "\n",
    "        #### Mean imputation without mask + learner\n",
    "        mean_imputer = SimpleImputer(add_indicator=False)\n",
    "        mean_imputer.fit(x_train)\n",
    "        x_train_imp = mean_imputer.transform(x_train)\n",
    "        x_test_imp = mean_imputer.transform(x_test)\n",
    "        learner.fit(x_train_imp, y_train)\n",
    "        score_mean = learner.score(x_test_imp, y_test)\n",
    "\n",
    "        #### Iterative imputation without mask + learner\n",
    "        it_imputer = IterativeImputer(add_indicator=False)\n",
    "        it_imputer.fit(x_train)\n",
    "        x_train_imp = it_imputer.transform(x_train)\n",
    "        x_test_imp = it_imputer.transform(x_test)\n",
    "        learner.fit(x_train_imp, y_train)\n",
    "        score_it = learner.score(x_test_imp, y_test)\n",
    "\n",
    "        #### Mean imputation with mask + learner\n",
    "        mean_wh_imputer = SimpleImputer(add_indicator=False)\n",
    "        mean_wh_imputer.fit(x_train)\n",
    "        x_train_imp = mean_wh_imputer.transform(x_train)\n",
    "        x_test_imp = mean_wh_imputer.transform(x_test)\n",
    "        learner.fit(x_train_imp, y_train)\n",
    "        score_mean_wh = learner.score(x_test_imp, y_test)\n",
    "\n",
    "        #### Iterative imputation with mask + learner\n",
    "        it_wh_imputer = IterativeImputer(add_indicator=False)\n",
    "        it_wh_imputer.fit(x_train)\n",
    "        x_train_imp = it_wh_imputer.transform(x_train)\n",
    "        x_test_imp = it_wh_imputer.transform(x_test)\n",
    "        learner.fit(x_train_imp, y_train)\n",
    "        score_it_wh = learner.score(x_test_imp, y_test)\n",
    "\n",
    "        #### MIA\n",
    "        if opt_learner == 'Learner_MIA':\n",
    "            learner.fit(x_train,y_train)\n",
    "            score_MIA = learner.score(x_test, y_test)\n",
    "        else: \n",
    "            MIA_imputer = MinMaxImputer()\n",
    "            x_train_imp = MIA_imputer.fit_transform(x_train)\n",
    "            x_test_imp = MIA_imputer.transform(x_test)\n",
    "            learner.fit(x_train_imp, y_train)\n",
    "            score_MIA = learner.score(x_test_imp, y_test)\n",
    "        \n",
    "        new_score = {'Mean': score_mean, 'Iterative': score_it, 'Mean + Mask': score_mean_wh, 'Iterative + Mask': score_it_wh, 'MIA': score_MIA}\n",
    "        score_results = score_results.append(new_score, ignore_index=True)\n",
    "\n",
    "        \n",
    "    return(score_results)"
   ]
  },
  {
   "cell_type": "markdown",
   "metadata": {},
   "source": [
    "We apply this function by introducing MCAR or MNAR values in `X`. MCAR means that the probability that an observation is missing is independent of the data. MNAR means that the missingness depends on the missing values and potentially also on the observed values. To introduce missing values, we use [How to generate missing values](https://rmisstastic.netlify.app/how-to/python/generate_html/how%20to%20generate%20missing%20values)."
   ]
  },
  {
   "cell_type": "code",
   "execution_count": 22,
   "metadata": {},
   "outputs": [
    {
     "data": {
      "image/png": "[encoded data removed]",
      "text/plain": [
       "<Figure size 1440x720 with 6 Axes>"
      ]
     },
     "metadata": {
      "needs_background": "light"
     },
     "output_type": "display_data"
    }
   ],
   "source": [
    "learners = {'LinReg': LinearRegression(),\n",
    "              'RandomForest': RandomForestRegressor(),\n",
    "              'HGBoost': HistGradientBoostingRegressor()}\n",
    "p = 0.2\n",
    "nbsim = 10\n",
    "\n",
    "fig, ax = plt.subplots(3,2,figsize=(20,10),sharex=True)\n",
    "for ind_l, (learner_name, learner) in enumerate(learners.items()):\n",
    "    for ind_m, mecha in enumerate(['MCAR', 'MNAR']):\n",
    "        if learner_name=='HGBoost':\n",
    "            opt_learner=\"Learner_MIA\"\n",
    "        else:\n",
    "            opt_learner=\"Learner_MIA_not\"\n",
    "        res=score_pred(x_comp, y, learner, p, nbsim=nbsim, opt_learner = opt_learner, mecha = mecha)\n",
    "        labels = res.columns\n",
    "        ax[ind_l,ind_m].set_title(learner_name+\" \"+mecha)  \n",
    "        ax[ind_l,ind_m].boxplot(res, labels=labels, vert=False, patch_artist=True)\n",
    "fig.tight_layout()"
   ]
  },
  {
   "cell_type": "markdown",
   "metadata": {},
   "source": [
    "# Method selection on real data"
   ]
  },
  {
   "cell_type": "markdown",
   "metadata": {},
   "source": [
    "The function **plot_score_realdatasets** can be used for real datasets containing missing values. The arguments are the following.\n",
    "\n",
    "* `X`: data matrix containing missing values (covariates).\n",
    "* `y`: output variable (containing no missing values)y: output variable (containing no missing values).\n",
    "* `learner`: dictionnary containing the learners to be performed for comparing strategies.\n",
    "\n",
    "It returns Boxplot scores for each method (Mean imputation, Iterative imputation, MIA), the stochasticity comes from the way to split the dataset into a train set and a test set which is repeated several times."
   ]
  },
  {
   "cell_type": "code",
   "execution_count": 23,
   "metadata": {},
   "outputs": [],
   "source": [
    "def plot_score_realdatasets(X, y, learner, learner_name='learner', X_complete=None, cv=5):\n",
    "    \"\"\"\n",
    "    Compare imputation methods (Mean imputation and Iterative imputation, with or without concatenating missing values indicator) \n",
    "    with the Missing In Attribute method in terms of prediction performance for chosen learning algorithms.\n",
    "    \n",
    "    \n",
    "    Parameters\n",
    "    ----------\n",
    "    X : data matrix containing missing values.\n",
    "    y : output variable (containing no missing values).\n",
    "    learner: dictionnary containing the learners to be performed for comparing strategies.\n",
    "    learner_name: name for the learners containing in learner.\n",
    "    X_complete: complete data matrix (None if the dataset contains real missing values).\n",
    "    cv: number of folds in the stratified folds.\n",
    "    \n",
    "    Returns\n",
    "    -------\n",
    "    Boxplot scores for each strategy.\n",
    "    \"\"\"\n",
    "    \n",
    "    imputers_wo_indicator = {'Mean': SimpleImputer(add_indicator=False),\n",
    "                         'Iterative': IterativeImputer(add_indicator=False)}\n",
    "    imputers_with_indicator = {'Mean': SimpleImputer(add_indicator=True),\n",
    "                           'Iterative': IterativeImputer(add_indicator=True),\n",
    "                           'MinMax': MinMaxImputer()}\n",
    "    \n",
    "    l_score = []\n",
    "    for imputers in [imputers_wo_indicator, imputers_with_indicator]:\n",
    "        for imputer_name, imputer in imputers.items():\n",
    "            pipeline = Pipeline([(imputer_name, imputer), (learner_name, learner)])\n",
    "            score = cross_val_score(pipeline, X, y, n_jobs=-1, cv = cv)\n",
    "            l_score.append(score)\n",
    "            \n",
    "    score_ground_truth = cross_val_score(learner, X_complete, y, n_jobs=-1, cv = cv)\n",
    "    l_score.append(score_ground_truth)\n",
    "    plt.title(learner_name)     \n",
    "    labels = ['Mean', 'Iterative', 'Mean+Mask', 'Iterative+Mask', 'MIA', 'X_complete']\n",
    "    bplot = plt.boxplot(l_score[::-1], labels=labels[::-1],\n",
    "                vert=False, patch_artist=True)\n",
    "\n",
    "    # Add colors to boxplots\n",
    "    #for patch, color in zip(bplot['boxes'],\n",
    "                            #['C0','C1','C2','C3', 'C4', 'C5']):\n",
    "        #patch.set_facecolor(color)"
   ]
  },
  {
   "cell_type": "markdown",
   "metadata": {},
   "source": [
    "Here, we study a real dataset which does not contain real missing values, thus we add some missing values (MCAR or MNAR) before applying the function **plot_score_realdatasets**. In this case, we can compute the scores for the complete matrix, which are represented in the boxplots."
   ]
  },
  {
   "cell_type": "code",
   "execution_count": 24,
   "metadata": {},
   "outputs": [],
   "source": [
    "x_comp, y = fetch_california_housing(return_X_y = True)"
   ]
  },
  {
   "cell_type": "code",
   "execution_count": 25,
   "metadata": {},
   "outputs": [
    {
     "name": "stdout",
     "output_type": "stream",
     "text": [
      "Ratio nan in X: 20.0 %\n",
      "Ratio nan in X: 19.9 %\n"
     ]
    }
   ],
   "source": [
    "p=0.2\n",
    "## MCAR values\n",
    "XproduceNA_MCAR =  produce_NA(x_comp, p_miss=p, mecha=\"MCAR\") \n",
    "x_MCAR = XproduceNA_MCAR['X_incomp'].numpy()\n",
    "print('Ratio nan in X:', np.round(100 * np.sum(np.isnan(x_MCAR)) / x_MCAR.size,1), '%')\n",
    "# MNAR values\n",
    "XproduceNA_MNAR = produce_NA(x_comp, p_miss=p, mecha=\"MNAR\", opt=\"logistic\", p_obs=0.5)\n",
    "x_MNAR = XproduceNA_MNAR['X_incomp'].numpy()\n",
    "print('Ratio nan in X:', np.round(100 * np.sum(np.isnan(x_MNAR)) / x_MNAR.size,1), '%')"
   ]
  },
  {
   "cell_type": "code",
   "execution_count": 28,
   "metadata": {},
   "outputs": [
    {
     "data": {
      "image/png": "[encoded data removed]",
      "text/plain": [
       "<Figure size 1440x720 with 2 Axes>"
      ]
     },
     "metadata": {
      "needs_background": "light"
     },
     "output_type": "display_data"
    },
    {
     "data": {
      "image/png": "[encoded data removed]",
      "text/plain": [
       "<Figure size 1440x720 with 2 Axes>"
      ]
     },
     "metadata": {
      "needs_background": "light"
     },
     "output_type": "display_data"
    },
    {
     "data": {
      "image/png": "[encoded data removed]",
      "text/plain": [
       "<Figure size 1440x720 with 2 Axes>"
      ]
     },
     "metadata": {
      "needs_background": "light"
     },
     "output_type": "display_data"
    }
   ],
   "source": [
    "learners = {'LinReg': LinearRegression(),\n",
    "              'RandomForest': RandomForestRegressor(),\n",
    "              \"HGBoost\": HistGradientBoostingRegressor()}\n",
    "\n",
    "for learner_name, learner in learners.items():\n",
    "    plt.figure(figsize=(20,10))\n",
    "    for ii, (X, X_name) in enumerate(zip([x_MCAR, x_MNAR], ['MCAR', 'MNAR'])):\n",
    "        plt.subplot(3, 2, ii+1)\n",
    "        plot_score_realdatasets(X, y, learner, learner_name + ' ' + X_name, x_comp)"
   ]
  }
 ],
 "metadata": {
  "kernelspec": {
   "display_name": "Python 3",
   "language": "python",
   "name": "python3"
  },
  "language_info": {
   "codemirror_mode": {
    "name": "ipython",
    "version": 3
   },
   "file_extension": ".py",
   "mimetype": "text/x-python",
   "name": "python",
   "nbconvert_exporter": "python",
   "pygments_lexer": "ipython3",
   "version": "3.7.3"
  },
  "toc": {
   "base_numbering": 1,
   "nav_menu": {},
   "number_sections": true,
   "sideBar": true,
   "skip_h1_title": false,
   "title_cell": "Table of Contents",
   "title_sidebar": "Contents",
   "toc_cell": false,
   "toc_position": {},
   "toc_section_display": true,
   "toc_window_display": true
  }
 },
 "nbformat": 4,
 "nbformat_minor": 4
}
