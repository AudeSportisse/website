{
 "cells": [
  {
   "cell_type": "markdown",
   "metadata": {},
   "source": [
    "<span style=\"font-size:3em\">How to predict with missing values in Python ?</span> \n"
   ]
  },
  {
   "cell_type": "markdown",
   "metadata": {},
   "source": [
    "Missing values occur in many applications of supervised learning. In this notebook, we will cover how to accurately predict the response `y` given `X` when `X` contains missing values (missing values in both training and testing data). \n",
    "\n",
    "In this case, there are essentially two approaches:\n",
    "1. `Two-step strategy`: imputing missing data and applying classical methods on the completed data sets to predict;\n",
    "2. `One-step strategy`: Predicting with methods adapted to the missing data without necessarily imputing them.\n",
    " \n",
    "We first describe the methods on synthetic data and apply them on real datasets."
   ]
  },
  {
   "cell_type": "markdown",
   "metadata": {},
   "source": [
    "# Description of the different strategies"
   ]
  },
  {
   "cell_type": "code",
   "execution_count": 1,
   "metadata": {},
   "outputs": [
    {
     "name": "stdout",
     "output_type": "stream",
     "text": [
      "Requirement already satisfied: wget in /Users/audesportisse/anaconda3/lib/python3.7/site-packages (3.2)\r\n"
     ]
    }
   ],
   "source": [
    "!pip install wget \n",
    "\n",
    "import numpy as np\n",
    "import pandas as pd\n",
    "import wget\n",
    "import matplotlib.pyplot as plt\n",
    "%matplotlib inline\n",
    "\n",
    "wget.download('https://raw.githubusercontent.com/R-miss-tastic/website/master/static/how-to/python/produceNA.py')\n",
    "wget.download('https://raw.githubusercontent.com/R-miss-tastic/website/master/static/how-to/python/tools.py')\n",
    "\n",
    "from produceNA import *\n",
    "\n",
    "from tools import color_imputedvalues_orange\n",
    "\n",
    "from sklearn.experimental import enable_iterative_imputer\n",
    "from sklearn.impute import IterativeImputer\n",
    "from sklearn.impute import SimpleImputer\n",
    "\n",
    "from sklearn.linear_model import LinearRegression\n",
    "from sklearn.model_selection import train_test_split\n",
    "from sklearn.ensemble import RandomForestRegressor\n",
    "from sklearn.experimental import enable_hist_gradient_boosting\n",
    "from sklearn.ensemble import HistGradientBoostingRegressor\n",
    "\n",
    "from sklearn.pipeline import Pipeline\n",
    "from sklearn.model_selection import ShuffleSplit, cross_val_score\n",
    "\n",
    "from sklearn.datasets import fetch_california_housing"
   ]
  },
  {
   "cell_type": "code",
   "execution_count": 2,
   "metadata": {},
   "outputs": [],
   "source": [
    "np.random.seed(0)  # fix the seed \n",
    "\n",
    "n = 1000\n",
    "p = 3\n",
    "\n",
    "mean = np.repeat(0, p)\n",
    "cov = 0.5 * (np.ones((p,p)) + np.eye(p))\n",
    "x_comp = np.random.multivariate_normal(mean, cov, size = n)\n",
    "b = np.random.uniform(low = 0, high = 3, size = p)\n",
    "sigma_eps = 0.25\n",
    "eps = np.random.normal(scale = sigma_eps, size = n)\n",
    "y = x_comp.dot(b) + eps"
   ]
  },
  {
   "cell_type": "markdown",
   "metadata": {},
   "source": [
    "We introduce some missing (here MCAR) values in the data matrix using the function `produce_NA` given in the Python Notebook [How to generate missing values in Python ?](https://rmisstastic.netlify.app/how-to/python/generate_html/how%20to%20generate%20missing%20values). "
   ]
  },
  {
   "cell_type": "code",
   "execution_count": 3,
   "metadata": {},
   "outputs": [
    {
     "name": "stdout",
     "output_type": "stream",
     "text": [
      "Ratio nan in X: 30.3 %\n"
     ]
    }
   ],
   "source": [
    "p = 0.3 #30% of Missing Values\n",
    "\n",
    "XproduceNA =  produce_NA(x_comp, p_miss=p, mecha=\"MCAR\") #True for missing values, false for others\n",
    "X_miss = XproduceNA['X_incomp']\n",
    "x_miss = X_miss.numpy()\n",
    "print('Ratio nan in X:', np.round(100 * np.sum(np.isnan(x_miss)) / x_miss.size,1), '%')"
   ]
  },
  {
   "cell_type": "code",
   "execution_count": 4,
   "metadata": {},
   "outputs": [
    {
     "data": {
      "text/html": [
       "<style  type=\"text/css\" >\n",
       "#T_cf42227e_59a7_11eb_9c66_f018984f2bd6row2_col0,#T_cf42227e_59a7_11eb_9c66_f018984f2bd6row2_col1,#T_cf42227e_59a7_11eb_9c66_f018984f2bd6row2_col2,#T_cf42227e_59a7_11eb_9c66_f018984f2bd6row4_col0{\n",
       "            background-color:  orange;\n",
       "        }</style><table id=\"T_cf42227e_59a7_11eb_9c66_f018984f2bd6\" ><thead>    <tr>        <th class=\"blank level0\" ></th>        <th class=\"col_heading level0 col0\" >0</th>        <th class=\"col_heading level0 col1\" >1</th>        <th class=\"col_heading level0 col2\" >2</th>    </tr></thead><tbody>\n",
       "                <tr>\n",
       "                        <th id=\"T_cf42227e_59a7_11eb_9c66_f018984f2bd6level0_row0\" class=\"row_heading level0 row0\" >0</th>\n",
       "                        <td id=\"T_cf42227e_59a7_11eb_9c66_f018984f2bd6row0_col0\" class=\"data row0 col0\" >-0.875268</td>\n",
       "                        <td id=\"T_cf42227e_59a7_11eb_9c66_f018984f2bd6row0_col1\" class=\"data row0 col1\" >-1.922959</td>\n",
       "                        <td id=\"T_cf42227e_59a7_11eb_9c66_f018984f2bd6row0_col2\" class=\"data row0 col2\" >-1.522801</td>\n",
       "            </tr>\n",
       "            <tr>\n",
       "                        <th id=\"T_cf42227e_59a7_11eb_9c66_f018984f2bd6level0_row1\" class=\"row_heading level0 row1\" >1</th>\n",
       "                        <td id=\"T_cf42227e_59a7_11eb_9c66_f018984f2bd6row1_col0\" class=\"data row1 col0\" >-2.393913</td>\n",
       "                        <td id=\"T_cf42227e_59a7_11eb_9c66_f018984f2bd6row1_col1\" class=\"data row1 col1\" >-2.481345</td>\n",
       "                        <td id=\"T_cf42227e_59a7_11eb_9c66_f018984f2bd6row1_col2\" class=\"data row1 col2\" >-0.613787</td>\n",
       "            </tr>\n",
       "            <tr>\n",
       "                        <th id=\"T_cf42227e_59a7_11eb_9c66_f018984f2bd6level0_row2\" class=\"row_heading level0 row2\" >2</th>\n",
       "                        <td id=\"T_cf42227e_59a7_11eb_9c66_f018984f2bd6row2_col0\" class=\"data row2 col0\" >nan</td>\n",
       "                        <td id=\"T_cf42227e_59a7_11eb_9c66_f018984f2bd6row2_col1\" class=\"data row2 col1\" >nan</td>\n",
       "                        <td id=\"T_cf42227e_59a7_11eb_9c66_f018984f2bd6row2_col2\" class=\"data row2 col2\" >nan</td>\n",
       "            </tr>\n",
       "            <tr>\n",
       "                        <th id=\"T_cf42227e_59a7_11eb_9c66_f018984f2bd6level0_row3\" class=\"row_heading level0 row3\" >3</th>\n",
       "                        <td id=\"T_cf42227e_59a7_11eb_9c66_f018984f2bd6row3_col0\" class=\"data row3 col0\" >0.504373</td>\n",
       "                        <td id=\"T_cf42227e_59a7_11eb_9c66_f018984f2bd6row3_col1\" class=\"data row3 col1\" >-0.827087</td>\n",
       "                        <td id=\"T_cf42227e_59a7_11eb_9c66_f018984f2bd6row3_col2\" class=\"data row3 col2\" >-0.683043</td>\n",
       "            </tr>\n",
       "            <tr>\n",
       "                        <th id=\"T_cf42227e_59a7_11eb_9c66_f018984f2bd6level0_row4\" class=\"row_heading level0 row4\" >4</th>\n",
       "                        <td id=\"T_cf42227e_59a7_11eb_9c66_f018984f2bd6row4_col0\" class=\"data row4 col0\" >nan</td>\n",
       "                        <td id=\"T_cf42227e_59a7_11eb_9c66_f018984f2bd6row4_col1\" class=\"data row4 col1\" >-0.810354</td>\n",
       "                        <td id=\"T_cf42227e_59a7_11eb_9c66_f018984f2bd6row4_col2\" class=\"data row4 col2\" >-0.688679</td>\n",
       "            </tr>\n",
       "    </tbody></table>"
      ],
      "text/plain": [
       "<pandas.io.formats.style.Styler at 0x10ab12c50>"
      ]
     },
     "execution_count": 4,
     "metadata": {},
     "output_type": "execute_result"
    }
   ],
   "source": [
    "pd.DataFrame(x_miss).head().style.highlight_null(null_color='orange')"
   ]
  },
  {
   "cell_type": "code",
   "execution_count": 5,
   "metadata": {},
   "outputs": [
    {
     "data": {
      "image/png": "[encoded data removed]",
      "text/plain": [
       "<Figure size 432x288 with 1 Axes>"
      ]
     },
     "metadata": {
      "needs_background": "light"
     },
     "output_type": "display_data"
    }
   ],
   "source": [
    "plt.scatter(x_miss[:400,0], x_miss[:400,1]);  #  data with missing coordinate are not plotted"
   ]
  },
  {
   "cell_type": "markdown",
   "metadata": {},
   "source": [
    "## Two-steps strategy\n",
    "\n",
    "We will consider two imputation methods:\n",
    "* `Mean imputation`: replace missing values by the mean of the feature (the column);\n",
    "* `Iterative imputation`: each feature is regressed/estimated from the others, which implies that imputation can take advantage of others features. \n",
    "\n",
    "More details on these methods can be found in [How to impute missing values in Python](https://rmisstastic.netlify.app/how-to/python/howtoimpute). \n",
    "\n",
    "Note that [Josse et al.](https://hal.archives-ouvertes.fr/hal-02024202v3/document) study the classic tools of missing values in the context of supervised learning. More particularly, they give the following take-home messages:\n",
    "\n",
    "* If we possess a good learner algorithm and enough samples in our dataset (e.g. more than $10^5$), the mean imputation is a good default choice (since it is consistent). \n",
    "* It is important to use the same imputation for the train and the test set, since, in this case, the learning algorithm can learn the imputed value for detecting that the entry was initially missing.\n",
    "* It might by fruitfull to add the missing values indicator (by concatenating the missing values indicator to `X`), in particular when missingness can be related to the prediction target (MNAR or MAR values)."
   ]
  },
  {
   "cell_type": "code",
   "execution_count": 6,
   "metadata": {},
   "outputs": [
    {
     "data": {
      "text/html": [
       "<style  type=\"text/css\" >\n",
       "#T_cf6bc0ac_59a7_11eb_9c66_f018984f2bd6row0_col0,#T_cf6bc0ac_59a7_11eb_9c66_f018984f2bd6row0_col1,#T_cf6bc0ac_59a7_11eb_9c66_f018984f2bd6row0_col2,#T_cf6bc0ac_59a7_11eb_9c66_f018984f2bd6row1_col0,#T_cf6bc0ac_59a7_11eb_9c66_f018984f2bd6row1_col1,#T_cf6bc0ac_59a7_11eb_9c66_f018984f2bd6row1_col2,#T_cf6bc0ac_59a7_11eb_9c66_f018984f2bd6row3_col0,#T_cf6bc0ac_59a7_11eb_9c66_f018984f2bd6row3_col1,#T_cf6bc0ac_59a7_11eb_9c66_f018984f2bd6row3_col2,#T_cf6bc0ac_59a7_11eb_9c66_f018984f2bd6row4_col1,#T_cf6bc0ac_59a7_11eb_9c66_f018984f2bd6row4_col2{\n",
       "            background-color:  None;\n",
       "        }#T_cf6bc0ac_59a7_11eb_9c66_f018984f2bd6row2_col0,#T_cf6bc0ac_59a7_11eb_9c66_f018984f2bd6row2_col1,#T_cf6bc0ac_59a7_11eb_9c66_f018984f2bd6row2_col2,#T_cf6bc0ac_59a7_11eb_9c66_f018984f2bd6row4_col0{\n",
       "            background-color:  orange;\n",
       "        }</style><table id=\"T_cf6bc0ac_59a7_11eb_9c66_f018984f2bd6\" ><thead>    <tr>        <th class=\"blank level0\" ></th>        <th class=\"col_heading level0 col0\" >0</th>        <th class=\"col_heading level0 col1\" >1</th>        <th class=\"col_heading level0 col2\" >2</th>    </tr></thead><tbody>\n",
       "                <tr>\n",
       "                        <th id=\"T_cf6bc0ac_59a7_11eb_9c66_f018984f2bd6level0_row0\" class=\"row_heading level0 row0\" >0</th>\n",
       "                        <td id=\"T_cf6bc0ac_59a7_11eb_9c66_f018984f2bd6row0_col0\" class=\"data row0 col0\" >-0.875268</td>\n",
       "                        <td id=\"T_cf6bc0ac_59a7_11eb_9c66_f018984f2bd6row0_col1\" class=\"data row0 col1\" >-1.922959</td>\n",
       "                        <td id=\"T_cf6bc0ac_59a7_11eb_9c66_f018984f2bd6row0_col2\" class=\"data row0 col2\" >-1.522801</td>\n",
       "            </tr>\n",
       "            <tr>\n",
       "                        <th id=\"T_cf6bc0ac_59a7_11eb_9c66_f018984f2bd6level0_row1\" class=\"row_heading level0 row1\" >1</th>\n",
       "                        <td id=\"T_cf6bc0ac_59a7_11eb_9c66_f018984f2bd6row1_col0\" class=\"data row1 col0\" >-2.393913</td>\n",
       "                        <td id=\"T_cf6bc0ac_59a7_11eb_9c66_f018984f2bd6row1_col1\" class=\"data row1 col1\" >-2.481345</td>\n",
       "                        <td id=\"T_cf6bc0ac_59a7_11eb_9c66_f018984f2bd6row1_col2\" class=\"data row1 col2\" >-0.613787</td>\n",
       "            </tr>\n",
       "            <tr>\n",
       "                        <th id=\"T_cf6bc0ac_59a7_11eb_9c66_f018984f2bd6level0_row2\" class=\"row_heading level0 row2\" >2</th>\n",
       "                        <td id=\"T_cf6bc0ac_59a7_11eb_9c66_f018984f2bd6row2_col0\" class=\"data row2 col0\" >-0.004322</td>\n",
       "                        <td id=\"T_cf6bc0ac_59a7_11eb_9c66_f018984f2bd6row2_col1\" class=\"data row2 col1\" >0.050350</td>\n",
       "                        <td id=\"T_cf6bc0ac_59a7_11eb_9c66_f018984f2bd6row2_col2\" class=\"data row2 col2\" >-0.017309</td>\n",
       "            </tr>\n",
       "            <tr>\n",
       "                        <th id=\"T_cf6bc0ac_59a7_11eb_9c66_f018984f2bd6level0_row3\" class=\"row_heading level0 row3\" >3</th>\n",
       "                        <td id=\"T_cf6bc0ac_59a7_11eb_9c66_f018984f2bd6row3_col0\" class=\"data row3 col0\" >0.504373</td>\n",
       "                        <td id=\"T_cf6bc0ac_59a7_11eb_9c66_f018984f2bd6row3_col1\" class=\"data row3 col1\" >-0.827087</td>\n",
       "                        <td id=\"T_cf6bc0ac_59a7_11eb_9c66_f018984f2bd6row3_col2\" class=\"data row3 col2\" >-0.683043</td>\n",
       "            </tr>\n",
       "            <tr>\n",
       "                        <th id=\"T_cf6bc0ac_59a7_11eb_9c66_f018984f2bd6level0_row4\" class=\"row_heading level0 row4\" >4</th>\n",
       "                        <td id=\"T_cf6bc0ac_59a7_11eb_9c66_f018984f2bd6row4_col0\" class=\"data row4 col0\" >-0.004322</td>\n",
       "                        <td id=\"T_cf6bc0ac_59a7_11eb_9c66_f018984f2bd6row4_col1\" class=\"data row4 col1\" >-0.810354</td>\n",
       "                        <td id=\"T_cf6bc0ac_59a7_11eb_9c66_f018984f2bd6row4_col2\" class=\"data row4 col2\" >-0.688679</td>\n",
       "            </tr>\n",
       "    </tbody></table>"
      ],
      "text/plain": [
       "<pandas.io.formats.style.Styler at 0x1a29739128>"
      ]
     },
     "execution_count": 6,
     "metadata": {},
     "output_type": "execute_result"
    }
   ],
   "source": [
    "## Mean imputation\n",
    "x_mean = SimpleImputer().fit_transform(x_miss)\n",
    "pd.DataFrame(x_mean).head().style.applymap(color_imputedvalues_orange, x_miss=x_miss)"
   ]
  },
  {
   "cell_type": "code",
   "execution_count": 7,
   "metadata": {},
   "outputs": [
    {
     "data": {
      "text/plain": [
       "<matplotlib.collections.PathCollection at 0x1a297d2748>"
      ]
     },
     "execution_count": 7,
     "metadata": {},
     "output_type": "execute_result"
    },
    {
     "data": {
      "image/png": "[encoded data removed]",
      "text/plain": [
       "<Figure size 432x288 with 1 Axes>"
      ]
     },
     "metadata": {
      "needs_background": "light"
     },
     "output_type": "display_data"
    }
   ],
   "source": [
    "plt.scatter(x_mean[:400,0], x_mean[:400,1])\n",
    "\n",
    "missing_mask = np.where([any(x) for x in np.isnan(x_miss[:400][:,[0,1]])])\n",
    "plt.scatter(x_mean[missing_mask,0], x_mean[missing_mask,1])"
   ]
  },
  {
   "cell_type": "markdown",
   "metadata": {},
   "source": [
    "To concatenate the missing indicator to `X`, we can use the argument `add_indicator=True` of SimpleImputer. Note that this concatenation is done after imputation and is only used for prediction."
   ]
  },
  {
   "cell_type": "code",
   "execution_count": 8,
   "metadata": {},
   "outputs": [
    {
     "data": {
      "text/html": [
       "<style  type=\"text/css\" >\n",
       "#T_cf899d0c_59a7_11eb_9c66_f018984f2bd6row0_col0,#T_cf899d0c_59a7_11eb_9c66_f018984f2bd6row0_col1,#T_cf899d0c_59a7_11eb_9c66_f018984f2bd6row0_col2,#T_cf899d0c_59a7_11eb_9c66_f018984f2bd6row0_col3,#T_cf899d0c_59a7_11eb_9c66_f018984f2bd6row0_col4,#T_cf899d0c_59a7_11eb_9c66_f018984f2bd6row0_col5,#T_cf899d0c_59a7_11eb_9c66_f018984f2bd6row1_col0,#T_cf899d0c_59a7_11eb_9c66_f018984f2bd6row1_col1,#T_cf899d0c_59a7_11eb_9c66_f018984f2bd6row1_col2,#T_cf899d0c_59a7_11eb_9c66_f018984f2bd6row1_col3,#T_cf899d0c_59a7_11eb_9c66_f018984f2bd6row1_col4,#T_cf899d0c_59a7_11eb_9c66_f018984f2bd6row1_col5,#T_cf899d0c_59a7_11eb_9c66_f018984f2bd6row2_col3,#T_cf899d0c_59a7_11eb_9c66_f018984f2bd6row2_col4,#T_cf899d0c_59a7_11eb_9c66_f018984f2bd6row2_col5,#T_cf899d0c_59a7_11eb_9c66_f018984f2bd6row3_col0,#T_cf899d0c_59a7_11eb_9c66_f018984f2bd6row3_col1,#T_cf899d0c_59a7_11eb_9c66_f018984f2bd6row3_col2,#T_cf899d0c_59a7_11eb_9c66_f018984f2bd6row3_col3,#T_cf899d0c_59a7_11eb_9c66_f018984f2bd6row3_col4,#T_cf899d0c_59a7_11eb_9c66_f018984f2bd6row3_col5,#T_cf899d0c_59a7_11eb_9c66_f018984f2bd6row4_col1,#T_cf899d0c_59a7_11eb_9c66_f018984f2bd6row4_col2,#T_cf899d0c_59a7_11eb_9c66_f018984f2bd6row4_col3,#T_cf899d0c_59a7_11eb_9c66_f018984f2bd6row4_col4,#T_cf899d0c_59a7_11eb_9c66_f018984f2bd6row4_col5{\n",
       "            background-color:  None;\n",
       "        }#T_cf899d0c_59a7_11eb_9c66_f018984f2bd6row2_col0,#T_cf899d0c_59a7_11eb_9c66_f018984f2bd6row2_col1,#T_cf899d0c_59a7_11eb_9c66_f018984f2bd6row2_col2,#T_cf899d0c_59a7_11eb_9c66_f018984f2bd6row4_col0{\n",
       "            background-color:  orange;\n",
       "        }</style><table id=\"T_cf899d0c_59a7_11eb_9c66_f018984f2bd6\" ><thead>    <tr>        <th class=\"blank level0\" ></th>        <th class=\"col_heading level0 col0\" >0</th>        <th class=\"col_heading level0 col1\" >1</th>        <th class=\"col_heading level0 col2\" >2</th>        <th class=\"col_heading level0 col3\" >3</th>        <th class=\"col_heading level0 col4\" >4</th>        <th class=\"col_heading level0 col5\" >5</th>    </tr></thead><tbody>\n",
       "                <tr>\n",
       "                        <th id=\"T_cf899d0c_59a7_11eb_9c66_f018984f2bd6level0_row0\" class=\"row_heading level0 row0\" >0</th>\n",
       "                        <td id=\"T_cf899d0c_59a7_11eb_9c66_f018984f2bd6row0_col0\" class=\"data row0 col0\" >-0.875268</td>\n",
       "                        <td id=\"T_cf899d0c_59a7_11eb_9c66_f018984f2bd6row0_col1\" class=\"data row0 col1\" >-1.922959</td>\n",
       "                        <td id=\"T_cf899d0c_59a7_11eb_9c66_f018984f2bd6row0_col2\" class=\"data row0 col2\" >-1.522801</td>\n",
       "                        <td id=\"T_cf899d0c_59a7_11eb_9c66_f018984f2bd6row0_col3\" class=\"data row0 col3\" >0.000000</td>\n",
       "                        <td id=\"T_cf899d0c_59a7_11eb_9c66_f018984f2bd6row0_col4\" class=\"data row0 col4\" >0.000000</td>\n",
       "                        <td id=\"T_cf899d0c_59a7_11eb_9c66_f018984f2bd6row0_col5\" class=\"data row0 col5\" >0.000000</td>\n",
       "            </tr>\n",
       "            <tr>\n",
       "                        <th id=\"T_cf899d0c_59a7_11eb_9c66_f018984f2bd6level0_row1\" class=\"row_heading level0 row1\" >1</th>\n",
       "                        <td id=\"T_cf899d0c_59a7_11eb_9c66_f018984f2bd6row1_col0\" class=\"data row1 col0\" >-2.393913</td>\n",
       "                        <td id=\"T_cf899d0c_59a7_11eb_9c66_f018984f2bd6row1_col1\" class=\"data row1 col1\" >-2.481345</td>\n",
       "                        <td id=\"T_cf899d0c_59a7_11eb_9c66_f018984f2bd6row1_col2\" class=\"data row1 col2\" >-0.613787</td>\n",
       "                        <td id=\"T_cf899d0c_59a7_11eb_9c66_f018984f2bd6row1_col3\" class=\"data row1 col3\" >0.000000</td>\n",
       "                        <td id=\"T_cf899d0c_59a7_11eb_9c66_f018984f2bd6row1_col4\" class=\"data row1 col4\" >0.000000</td>\n",
       "                        <td id=\"T_cf899d0c_59a7_11eb_9c66_f018984f2bd6row1_col5\" class=\"data row1 col5\" >0.000000</td>\n",
       "            </tr>\n",
       "            <tr>\n",
       "                        <th id=\"T_cf899d0c_59a7_11eb_9c66_f018984f2bd6level0_row2\" class=\"row_heading level0 row2\" >2</th>\n",
       "                        <td id=\"T_cf899d0c_59a7_11eb_9c66_f018984f2bd6row2_col0\" class=\"data row2 col0\" >-0.004322</td>\n",
       "                        <td id=\"T_cf899d0c_59a7_11eb_9c66_f018984f2bd6row2_col1\" class=\"data row2 col1\" >0.050350</td>\n",
       "                        <td id=\"T_cf899d0c_59a7_11eb_9c66_f018984f2bd6row2_col2\" class=\"data row2 col2\" >-0.017309</td>\n",
       "                        <td id=\"T_cf899d0c_59a7_11eb_9c66_f018984f2bd6row2_col3\" class=\"data row2 col3\" >1.000000</td>\n",
       "                        <td id=\"T_cf899d0c_59a7_11eb_9c66_f018984f2bd6row2_col4\" class=\"data row2 col4\" >1.000000</td>\n",
       "                        <td id=\"T_cf899d0c_59a7_11eb_9c66_f018984f2bd6row2_col5\" class=\"data row2 col5\" >1.000000</td>\n",
       "            </tr>\n",
       "            <tr>\n",
       "                        <th id=\"T_cf899d0c_59a7_11eb_9c66_f018984f2bd6level0_row3\" class=\"row_heading level0 row3\" >3</th>\n",
       "                        <td id=\"T_cf899d0c_59a7_11eb_9c66_f018984f2bd6row3_col0\" class=\"data row3 col0\" >0.504373</td>\n",
       "                        <td id=\"T_cf899d0c_59a7_11eb_9c66_f018984f2bd6row3_col1\" class=\"data row3 col1\" >-0.827087</td>\n",
       "                        <td id=\"T_cf899d0c_59a7_11eb_9c66_f018984f2bd6row3_col2\" class=\"data row3 col2\" >-0.683043</td>\n",
       "                        <td id=\"T_cf899d0c_59a7_11eb_9c66_f018984f2bd6row3_col3\" class=\"data row3 col3\" >0.000000</td>\n",
       "                        <td id=\"T_cf899d0c_59a7_11eb_9c66_f018984f2bd6row3_col4\" class=\"data row3 col4\" >0.000000</td>\n",
       "                        <td id=\"T_cf899d0c_59a7_11eb_9c66_f018984f2bd6row3_col5\" class=\"data row3 col5\" >0.000000</td>\n",
       "            </tr>\n",
       "            <tr>\n",
       "                        <th id=\"T_cf899d0c_59a7_11eb_9c66_f018984f2bd6level0_row4\" class=\"row_heading level0 row4\" >4</th>\n",
       "                        <td id=\"T_cf899d0c_59a7_11eb_9c66_f018984f2bd6row4_col0\" class=\"data row4 col0\" >-0.004322</td>\n",
       "                        <td id=\"T_cf899d0c_59a7_11eb_9c66_f018984f2bd6row4_col1\" class=\"data row4 col1\" >-0.810354</td>\n",
       "                        <td id=\"T_cf899d0c_59a7_11eb_9c66_f018984f2bd6row4_col2\" class=\"data row4 col2\" >-0.688679</td>\n",
       "                        <td id=\"T_cf899d0c_59a7_11eb_9c66_f018984f2bd6row4_col3\" class=\"data row4 col3\" >1.000000</td>\n",
       "                        <td id=\"T_cf899d0c_59a7_11eb_9c66_f018984f2bd6row4_col4\" class=\"data row4 col4\" >0.000000</td>\n",
       "                        <td id=\"T_cf899d0c_59a7_11eb_9c66_f018984f2bd6row4_col5\" class=\"data row4 col5\" >0.000000</td>\n",
       "            </tr>\n",
       "    </tbody></table>"
      ],
      "text/plain": [
       "<pandas.io.formats.style.Styler at 0x1a297e1160>"
      ]
     },
     "execution_count": 8,
     "metadata": {},
     "output_type": "execute_result"
    }
   ],
   "source": [
    "## Mean imputation, return with indicator\n",
    "x_mean_with_indicator = SimpleImputer(add_indicator=True).fit_transform(x_miss)\n",
    "pd.DataFrame(x_mean_with_indicator).head().style.applymap(color_imputedvalues_orange, x_miss=np.concatenate((x_miss,np.isnan(x_miss)*1),axis=1))"
   ]
  },
  {
   "cell_type": "code",
   "execution_count": 9,
   "metadata": {},
   "outputs": [
    {
     "data": {
      "text/html": [
       "<style  type=\"text/css\" >\n",
       "#T_cf934bae_59a7_11eb_9c66_f018984f2bd6row0_col0,#T_cf934bae_59a7_11eb_9c66_f018984f2bd6row0_col1,#T_cf934bae_59a7_11eb_9c66_f018984f2bd6row0_col2,#T_cf934bae_59a7_11eb_9c66_f018984f2bd6row1_col0,#T_cf934bae_59a7_11eb_9c66_f018984f2bd6row1_col1,#T_cf934bae_59a7_11eb_9c66_f018984f2bd6row1_col2,#T_cf934bae_59a7_11eb_9c66_f018984f2bd6row3_col0,#T_cf934bae_59a7_11eb_9c66_f018984f2bd6row3_col1,#T_cf934bae_59a7_11eb_9c66_f018984f2bd6row3_col2,#T_cf934bae_59a7_11eb_9c66_f018984f2bd6row4_col1,#T_cf934bae_59a7_11eb_9c66_f018984f2bd6row4_col2{\n",
       "            background-color:  None;\n",
       "        }#T_cf934bae_59a7_11eb_9c66_f018984f2bd6row2_col0,#T_cf934bae_59a7_11eb_9c66_f018984f2bd6row2_col1,#T_cf934bae_59a7_11eb_9c66_f018984f2bd6row2_col2,#T_cf934bae_59a7_11eb_9c66_f018984f2bd6row4_col0{\n",
       "            background-color:  orange;\n",
       "        }</style><table id=\"T_cf934bae_59a7_11eb_9c66_f018984f2bd6\" ><thead>    <tr>        <th class=\"blank level0\" ></th>        <th class=\"col_heading level0 col0\" >0</th>        <th class=\"col_heading level0 col1\" >1</th>        <th class=\"col_heading level0 col2\" >2</th>    </tr></thead><tbody>\n",
       "                <tr>\n",
       "                        <th id=\"T_cf934bae_59a7_11eb_9c66_f018984f2bd6level0_row0\" class=\"row_heading level0 row0\" >0</th>\n",
       "                        <td id=\"T_cf934bae_59a7_11eb_9c66_f018984f2bd6row0_col0\" class=\"data row0 col0\" >-0.875268</td>\n",
       "                        <td id=\"T_cf934bae_59a7_11eb_9c66_f018984f2bd6row0_col1\" class=\"data row0 col1\" >-1.922959</td>\n",
       "                        <td id=\"T_cf934bae_59a7_11eb_9c66_f018984f2bd6row0_col2\" class=\"data row0 col2\" >-1.522801</td>\n",
       "            </tr>\n",
       "            <tr>\n",
       "                        <th id=\"T_cf934bae_59a7_11eb_9c66_f018984f2bd6level0_row1\" class=\"row_heading level0 row1\" >1</th>\n",
       "                        <td id=\"T_cf934bae_59a7_11eb_9c66_f018984f2bd6row1_col0\" class=\"data row1 col0\" >-2.393913</td>\n",
       "                        <td id=\"T_cf934bae_59a7_11eb_9c66_f018984f2bd6row1_col1\" class=\"data row1 col1\" >-2.481345</td>\n",
       "                        <td id=\"T_cf934bae_59a7_11eb_9c66_f018984f2bd6row1_col2\" class=\"data row1 col2\" >-0.613787</td>\n",
       "            </tr>\n",
       "            <tr>\n",
       "                        <th id=\"T_cf934bae_59a7_11eb_9c66_f018984f2bd6level0_row2\" class=\"row_heading level0 row2\" >2</th>\n",
       "                        <td id=\"T_cf934bae_59a7_11eb_9c66_f018984f2bd6row2_col0\" class=\"data row2 col0\" >0.000511</td>\n",
       "                        <td id=\"T_cf934bae_59a7_11eb_9c66_f018984f2bd6row2_col1\" class=\"data row2 col1\" >0.026082</td>\n",
       "                        <td id=\"T_cf934bae_59a7_11eb_9c66_f018984f2bd6row2_col2\" class=\"data row2 col2\" >-0.018145</td>\n",
       "            </tr>\n",
       "            <tr>\n",
       "                        <th id=\"T_cf934bae_59a7_11eb_9c66_f018984f2bd6level0_row3\" class=\"row_heading level0 row3\" >3</th>\n",
       "                        <td id=\"T_cf934bae_59a7_11eb_9c66_f018984f2bd6row3_col0\" class=\"data row3 col0\" >0.504373</td>\n",
       "                        <td id=\"T_cf934bae_59a7_11eb_9c66_f018984f2bd6row3_col1\" class=\"data row3 col1\" >-0.827087</td>\n",
       "                        <td id=\"T_cf934bae_59a7_11eb_9c66_f018984f2bd6row3_col2\" class=\"data row3 col2\" >-0.683043</td>\n",
       "            </tr>\n",
       "            <tr>\n",
       "                        <th id=\"T_cf934bae_59a7_11eb_9c66_f018984f2bd6level0_row4\" class=\"row_heading level0 row4\" >4</th>\n",
       "                        <td id=\"T_cf934bae_59a7_11eb_9c66_f018984f2bd6row4_col0\" class=\"data row4 col0\" >-0.637556</td>\n",
       "                        <td id=\"T_cf934bae_59a7_11eb_9c66_f018984f2bd6row4_col1\" class=\"data row4 col1\" >-0.810354</td>\n",
       "                        <td id=\"T_cf934bae_59a7_11eb_9c66_f018984f2bd6row4_col2\" class=\"data row4 col2\" >-0.688679</td>\n",
       "            </tr>\n",
       "    </tbody></table>"
      ],
      "text/plain": [
       "<pandas.io.formats.style.Styler at 0x1a2909b2e8>"
      ]
     },
     "execution_count": 9,
     "metadata": {},
     "output_type": "execute_result"
    }
   ],
   "source": [
    "# Iterative imputation\n",
    "x_ice = IterativeImputer().fit_transform(x_miss)\n",
    "pd.DataFrame(x_ice).head().style.applymap(color_imputedvalues_orange, x_miss=x_miss)"
   ]
  },
  {
   "cell_type": "code",
   "execution_count": 10,
   "metadata": {},
   "outputs": [
    {
     "data": {
      "text/plain": [
       "<matplotlib.collections.PathCollection at 0x1a29898a58>"
      ]
     },
     "execution_count": 10,
     "metadata": {},
     "output_type": "execute_result"
    },
    {
     "data": {
      "image/png": "[encoded data removed]",
      "text/plain": [
       "<Figure size 432x288 with 1 Axes>"
      ]
     },
     "metadata": {
      "needs_background": "light"
     },
     "output_type": "display_data"
    }
   ],
   "source": [
    "plt.scatter(x_ice[:400,0], x_ice[:400,1])\n",
    "\n",
    "missing_mask = np.where([any(x) for x in np.isnan(x_miss[:400][:,[0,1]])])\n",
    "plt.scatter(x_ice[missing_mask,0], x_ice[missing_mask,1])"
   ]
  },
  {
   "cell_type": "code",
   "execution_count": 11,
   "metadata": {},
   "outputs": [
    {
     "data": {
      "text/html": [
       "<style  type=\"text/css\" >\n",
       "#T_cfc57dcc_59a7_11eb_9c66_f018984f2bd6row0_col0,#T_cfc57dcc_59a7_11eb_9c66_f018984f2bd6row0_col1,#T_cfc57dcc_59a7_11eb_9c66_f018984f2bd6row0_col2,#T_cfc57dcc_59a7_11eb_9c66_f018984f2bd6row0_col3,#T_cfc57dcc_59a7_11eb_9c66_f018984f2bd6row0_col4,#T_cfc57dcc_59a7_11eb_9c66_f018984f2bd6row0_col5,#T_cfc57dcc_59a7_11eb_9c66_f018984f2bd6row1_col0,#T_cfc57dcc_59a7_11eb_9c66_f018984f2bd6row1_col1,#T_cfc57dcc_59a7_11eb_9c66_f018984f2bd6row1_col2,#T_cfc57dcc_59a7_11eb_9c66_f018984f2bd6row1_col3,#T_cfc57dcc_59a7_11eb_9c66_f018984f2bd6row1_col4,#T_cfc57dcc_59a7_11eb_9c66_f018984f2bd6row1_col5,#T_cfc57dcc_59a7_11eb_9c66_f018984f2bd6row2_col3,#T_cfc57dcc_59a7_11eb_9c66_f018984f2bd6row2_col4,#T_cfc57dcc_59a7_11eb_9c66_f018984f2bd6row2_col5,#T_cfc57dcc_59a7_11eb_9c66_f018984f2bd6row3_col0,#T_cfc57dcc_59a7_11eb_9c66_f018984f2bd6row3_col1,#T_cfc57dcc_59a7_11eb_9c66_f018984f2bd6row3_col2,#T_cfc57dcc_59a7_11eb_9c66_f018984f2bd6row3_col3,#T_cfc57dcc_59a7_11eb_9c66_f018984f2bd6row3_col4,#T_cfc57dcc_59a7_11eb_9c66_f018984f2bd6row3_col5,#T_cfc57dcc_59a7_11eb_9c66_f018984f2bd6row4_col1,#T_cfc57dcc_59a7_11eb_9c66_f018984f2bd6row4_col2,#T_cfc57dcc_59a7_11eb_9c66_f018984f2bd6row4_col3,#T_cfc57dcc_59a7_11eb_9c66_f018984f2bd6row4_col4,#T_cfc57dcc_59a7_11eb_9c66_f018984f2bd6row4_col5{\n",
       "            background-color:  None;\n",
       "        }#T_cfc57dcc_59a7_11eb_9c66_f018984f2bd6row2_col0,#T_cfc57dcc_59a7_11eb_9c66_f018984f2bd6row2_col1,#T_cfc57dcc_59a7_11eb_9c66_f018984f2bd6row2_col2,#T_cfc57dcc_59a7_11eb_9c66_f018984f2bd6row4_col0{\n",
       "            background-color:  orange;\n",
       "        }</style><table id=\"T_cfc57dcc_59a7_11eb_9c66_f018984f2bd6\" ><thead>    <tr>        <th class=\"blank level0\" ></th>        <th class=\"col_heading level0 col0\" >0</th>        <th class=\"col_heading level0 col1\" >1</th>        <th class=\"col_heading level0 col2\" >2</th>        <th class=\"col_heading level0 col3\" >3</th>        <th class=\"col_heading level0 col4\" >4</th>        <th class=\"col_heading level0 col5\" >5</th>    </tr></thead><tbody>\n",
       "                <tr>\n",
       "                        <th id=\"T_cfc57dcc_59a7_11eb_9c66_f018984f2bd6level0_row0\" class=\"row_heading level0 row0\" >0</th>\n",
       "                        <td id=\"T_cfc57dcc_59a7_11eb_9c66_f018984f2bd6row0_col0\" class=\"data row0 col0\" >-0.875268</td>\n",
       "                        <td id=\"T_cfc57dcc_59a7_11eb_9c66_f018984f2bd6row0_col1\" class=\"data row0 col1\" >-1.922959</td>\n",
       "                        <td id=\"T_cfc57dcc_59a7_11eb_9c66_f018984f2bd6row0_col2\" class=\"data row0 col2\" >-1.522801</td>\n",
       "                        <td id=\"T_cfc57dcc_59a7_11eb_9c66_f018984f2bd6row0_col3\" class=\"data row0 col3\" >0.000000</td>\n",
       "                        <td id=\"T_cfc57dcc_59a7_11eb_9c66_f018984f2bd6row0_col4\" class=\"data row0 col4\" >0.000000</td>\n",
       "                        <td id=\"T_cfc57dcc_59a7_11eb_9c66_f018984f2bd6row0_col5\" class=\"data row0 col5\" >0.000000</td>\n",
       "            </tr>\n",
       "            <tr>\n",
       "                        <th id=\"T_cfc57dcc_59a7_11eb_9c66_f018984f2bd6level0_row1\" class=\"row_heading level0 row1\" >1</th>\n",
       "                        <td id=\"T_cfc57dcc_59a7_11eb_9c66_f018984f2bd6row1_col0\" class=\"data row1 col0\" >-2.393913</td>\n",
       "                        <td id=\"T_cfc57dcc_59a7_11eb_9c66_f018984f2bd6row1_col1\" class=\"data row1 col1\" >-2.481345</td>\n",
       "                        <td id=\"T_cfc57dcc_59a7_11eb_9c66_f018984f2bd6row1_col2\" class=\"data row1 col2\" >-0.613787</td>\n",
       "                        <td id=\"T_cfc57dcc_59a7_11eb_9c66_f018984f2bd6row1_col3\" class=\"data row1 col3\" >0.000000</td>\n",
       "                        <td id=\"T_cfc57dcc_59a7_11eb_9c66_f018984f2bd6row1_col4\" class=\"data row1 col4\" >0.000000</td>\n",
       "                        <td id=\"T_cfc57dcc_59a7_11eb_9c66_f018984f2bd6row1_col5\" class=\"data row1 col5\" >0.000000</td>\n",
       "            </tr>\n",
       "            <tr>\n",
       "                        <th id=\"T_cfc57dcc_59a7_11eb_9c66_f018984f2bd6level0_row2\" class=\"row_heading level0 row2\" >2</th>\n",
       "                        <td id=\"T_cfc57dcc_59a7_11eb_9c66_f018984f2bd6row2_col0\" class=\"data row2 col0\" >0.000511</td>\n",
       "                        <td id=\"T_cfc57dcc_59a7_11eb_9c66_f018984f2bd6row2_col1\" class=\"data row2 col1\" >0.026082</td>\n",
       "                        <td id=\"T_cfc57dcc_59a7_11eb_9c66_f018984f2bd6row2_col2\" class=\"data row2 col2\" >-0.018145</td>\n",
       "                        <td id=\"T_cfc57dcc_59a7_11eb_9c66_f018984f2bd6row2_col3\" class=\"data row2 col3\" >1.000000</td>\n",
       "                        <td id=\"T_cfc57dcc_59a7_11eb_9c66_f018984f2bd6row2_col4\" class=\"data row2 col4\" >1.000000</td>\n",
       "                        <td id=\"T_cfc57dcc_59a7_11eb_9c66_f018984f2bd6row2_col5\" class=\"data row2 col5\" >1.000000</td>\n",
       "            </tr>\n",
       "            <tr>\n",
       "                        <th id=\"T_cfc57dcc_59a7_11eb_9c66_f018984f2bd6level0_row3\" class=\"row_heading level0 row3\" >3</th>\n",
       "                        <td id=\"T_cfc57dcc_59a7_11eb_9c66_f018984f2bd6row3_col0\" class=\"data row3 col0\" >0.504373</td>\n",
       "                        <td id=\"T_cfc57dcc_59a7_11eb_9c66_f018984f2bd6row3_col1\" class=\"data row3 col1\" >-0.827087</td>\n",
       "                        <td id=\"T_cfc57dcc_59a7_11eb_9c66_f018984f2bd6row3_col2\" class=\"data row3 col2\" >-0.683043</td>\n",
       "                        <td id=\"T_cfc57dcc_59a7_11eb_9c66_f018984f2bd6row3_col3\" class=\"data row3 col3\" >0.000000</td>\n",
       "                        <td id=\"T_cfc57dcc_59a7_11eb_9c66_f018984f2bd6row3_col4\" class=\"data row3 col4\" >0.000000</td>\n",
       "                        <td id=\"T_cfc57dcc_59a7_11eb_9c66_f018984f2bd6row3_col5\" class=\"data row3 col5\" >0.000000</td>\n",
       "            </tr>\n",
       "            <tr>\n",
       "                        <th id=\"T_cfc57dcc_59a7_11eb_9c66_f018984f2bd6level0_row4\" class=\"row_heading level0 row4\" >4</th>\n",
       "                        <td id=\"T_cfc57dcc_59a7_11eb_9c66_f018984f2bd6row4_col0\" class=\"data row4 col0\" >-0.637556</td>\n",
       "                        <td id=\"T_cfc57dcc_59a7_11eb_9c66_f018984f2bd6row4_col1\" class=\"data row4 col1\" >-0.810354</td>\n",
       "                        <td id=\"T_cfc57dcc_59a7_11eb_9c66_f018984f2bd6row4_col2\" class=\"data row4 col2\" >-0.688679</td>\n",
       "                        <td id=\"T_cfc57dcc_59a7_11eb_9c66_f018984f2bd6row4_col3\" class=\"data row4 col3\" >1.000000</td>\n",
       "                        <td id=\"T_cfc57dcc_59a7_11eb_9c66_f018984f2bd6row4_col4\" class=\"data row4 col4\" >0.000000</td>\n",
       "                        <td id=\"T_cfc57dcc_59a7_11eb_9c66_f018984f2bd6row4_col5\" class=\"data row4 col5\" >0.000000</td>\n",
       "            </tr>\n",
       "    </tbody></table>"
      ],
      "text/plain": [
       "<pandas.io.formats.style.Styler at 0x1a298cce10>"
      ]
     },
     "execution_count": 11,
     "metadata": {},
     "output_type": "execute_result"
    }
   ],
   "source": [
    "## Iterative imputation, return with indicator\n",
    "x_mice_with_indicator = IterativeImputer(add_indicator=True).fit_transform(x_miss)\n",
    "pd.DataFrame(x_mice_with_indicator).head().style.applymap(color_imputedvalues_orange, x_miss=np.concatenate((x_miss,np.isnan(x_miss)*1),axis=1))"
   ]
  },
  {
   "cell_type": "markdown",
   "metadata": {},
   "source": [
    "## One-step strategy\n",
    "\n",
    "We compare these imputations methods to a learning algorithm which can perform predictions by directly accounting for missing values:\n",
    "\n",
    "* `MinMax Imputation (MIA)` (also refer as Missing In Attribute, by [Twala et al.](https://www.sciencedirect.com/science/article/pii/S0167865508000305)): duplicating features twice and replace its missing values once by $\\infty$ and once by $- \\infty$ (or extreme out-of-range values). Here, we choose to remplace them once by the maximum of the variable minus 1 and once by the minimum of the variable plus 1. More information on this method can be found in [Josse et al.](https://hal.archives-ouvertes.fr/hal-02024202v3/document).\n",
    "\n",
    "This method does not pretend to impute missing data. Here, the step of duplicating features is internal in the learning algorithm and allows to create two dummy variables used for assigning missing values either to the left or the right interval. However, this approach of handling missing values can be seen as implicit imputation by an interval value."
   ]
  },
  {
   "cell_type": "code",
   "execution_count": 12,
   "metadata": {},
   "outputs": [],
   "source": [
    "from sklearn.preprocessing import MinMaxScaler\n",
    "from sklearn.base import BaseEstimator, TransformerMixin\n",
    "\n",
    "class MinMaxImputer(BaseEstimator, TransformerMixin):\n",
    "    # replacing the `nan` by two extremes values (by duplicating each column)\n",
    "    \n",
    "    def fit(self, X, y=None):\n",
    "        mm = MinMaxScaler().fit(X)\n",
    "        self.data_min_ = mm.data_min_\n",
    "        self.data_max_ = mm.data_max_\n",
    "        return self\n",
    "\n",
    "    def transform(self, X):\n",
    "        X_min, X_max = X.copy(), X.copy()\n",
    "\n",
    "        for feature_idx in range(X.shape[1]):\n",
    "            nan_mask = np.isnan(X[:, feature_idx])\n",
    "            X_min[nan_mask, feature_idx] = self.data_min_[feature_idx] - 1\n",
    "            X_max[nan_mask, feature_idx] = self.data_max_[feature_idx] + 1\n",
    "\n",
    "        return np.concatenate([X_min, X_max], axis=1)"
   ]
  },
  {
   "cell_type": "code",
   "execution_count": 13,
   "metadata": {},
   "outputs": [],
   "source": [
    "x_MIA = MinMaxImputer().fit_transform(x_miss)"
   ]
  },
  {
   "cell_type": "code",
   "execution_count": 14,
   "metadata": {},
   "outputs": [
    {
     "data": {
      "text/html": [
       "<style  type=\"text/css\" >\n",
       "#T_cfcc2d34_59a7_11eb_9c66_f018984f2bd6row0_col0,#T_cfcc2d34_59a7_11eb_9c66_f018984f2bd6row0_col1,#T_cfcc2d34_59a7_11eb_9c66_f018984f2bd6row0_col2,#T_cfcc2d34_59a7_11eb_9c66_f018984f2bd6row0_col3,#T_cfcc2d34_59a7_11eb_9c66_f018984f2bd6row0_col4,#T_cfcc2d34_59a7_11eb_9c66_f018984f2bd6row0_col5,#T_cfcc2d34_59a7_11eb_9c66_f018984f2bd6row1_col0,#T_cfcc2d34_59a7_11eb_9c66_f018984f2bd6row1_col1,#T_cfcc2d34_59a7_11eb_9c66_f018984f2bd6row1_col2,#T_cfcc2d34_59a7_11eb_9c66_f018984f2bd6row1_col3,#T_cfcc2d34_59a7_11eb_9c66_f018984f2bd6row1_col4,#T_cfcc2d34_59a7_11eb_9c66_f018984f2bd6row1_col5,#T_cfcc2d34_59a7_11eb_9c66_f018984f2bd6row3_col0,#T_cfcc2d34_59a7_11eb_9c66_f018984f2bd6row3_col1,#T_cfcc2d34_59a7_11eb_9c66_f018984f2bd6row3_col2,#T_cfcc2d34_59a7_11eb_9c66_f018984f2bd6row3_col3,#T_cfcc2d34_59a7_11eb_9c66_f018984f2bd6row3_col4,#T_cfcc2d34_59a7_11eb_9c66_f018984f2bd6row3_col5,#T_cfcc2d34_59a7_11eb_9c66_f018984f2bd6row4_col1,#T_cfcc2d34_59a7_11eb_9c66_f018984f2bd6row4_col2,#T_cfcc2d34_59a7_11eb_9c66_f018984f2bd6row4_col4,#T_cfcc2d34_59a7_11eb_9c66_f018984f2bd6row4_col5{\n",
       "            background-color:  None;\n",
       "        }#T_cfcc2d34_59a7_11eb_9c66_f018984f2bd6row2_col0,#T_cfcc2d34_59a7_11eb_9c66_f018984f2bd6row2_col1,#T_cfcc2d34_59a7_11eb_9c66_f018984f2bd6row2_col2,#T_cfcc2d34_59a7_11eb_9c66_f018984f2bd6row2_col3,#T_cfcc2d34_59a7_11eb_9c66_f018984f2bd6row2_col4,#T_cfcc2d34_59a7_11eb_9c66_f018984f2bd6row2_col5,#T_cfcc2d34_59a7_11eb_9c66_f018984f2bd6row4_col0,#T_cfcc2d34_59a7_11eb_9c66_f018984f2bd6row4_col3{\n",
       "            background-color:  orange;\n",
       "        }</style><table id=\"T_cfcc2d34_59a7_11eb_9c66_f018984f2bd6\" ><thead>    <tr>        <th class=\"blank level0\" ></th>        <th class=\"col_heading level0 col0\" >0</th>        <th class=\"col_heading level0 col1\" >1</th>        <th class=\"col_heading level0 col2\" >2</th>        <th class=\"col_heading level0 col3\" >3</th>        <th class=\"col_heading level0 col4\" >4</th>        <th class=\"col_heading level0 col5\" >5</th>    </tr></thead><tbody>\n",
       "                <tr>\n",
       "                        <th id=\"T_cfcc2d34_59a7_11eb_9c66_f018984f2bd6level0_row0\" class=\"row_heading level0 row0\" >0</th>\n",
       "                        <td id=\"T_cfcc2d34_59a7_11eb_9c66_f018984f2bd6row0_col0\" class=\"data row0 col0\" >-0.875268</td>\n",
       "                        <td id=\"T_cfcc2d34_59a7_11eb_9c66_f018984f2bd6row0_col1\" class=\"data row0 col1\" >-1.922959</td>\n",
       "                        <td id=\"T_cfcc2d34_59a7_11eb_9c66_f018984f2bd6row0_col2\" class=\"data row0 col2\" >-1.522801</td>\n",
       "                        <td id=\"T_cfcc2d34_59a7_11eb_9c66_f018984f2bd6row0_col3\" class=\"data row0 col3\" >-0.875268</td>\n",
       "                        <td id=\"T_cfcc2d34_59a7_11eb_9c66_f018984f2bd6row0_col4\" class=\"data row0 col4\" >-1.922959</td>\n",
       "                        <td id=\"T_cfcc2d34_59a7_11eb_9c66_f018984f2bd6row0_col5\" class=\"data row0 col5\" >-1.522801</td>\n",
       "            </tr>\n",
       "            <tr>\n",
       "                        <th id=\"T_cfcc2d34_59a7_11eb_9c66_f018984f2bd6level0_row1\" class=\"row_heading level0 row1\" >1</th>\n",
       "                        <td id=\"T_cfcc2d34_59a7_11eb_9c66_f018984f2bd6row1_col0\" class=\"data row1 col0\" >-2.393913</td>\n",
       "                        <td id=\"T_cfcc2d34_59a7_11eb_9c66_f018984f2bd6row1_col1\" class=\"data row1 col1\" >-2.481345</td>\n",
       "                        <td id=\"T_cfcc2d34_59a7_11eb_9c66_f018984f2bd6row1_col2\" class=\"data row1 col2\" >-0.613787</td>\n",
       "                        <td id=\"T_cfcc2d34_59a7_11eb_9c66_f018984f2bd6row1_col3\" class=\"data row1 col3\" >-2.393913</td>\n",
       "                        <td id=\"T_cfcc2d34_59a7_11eb_9c66_f018984f2bd6row1_col4\" class=\"data row1 col4\" >-2.481345</td>\n",
       "                        <td id=\"T_cfcc2d34_59a7_11eb_9c66_f018984f2bd6row1_col5\" class=\"data row1 col5\" >-0.613787</td>\n",
       "            </tr>\n",
       "            <tr>\n",
       "                        <th id=\"T_cfcc2d34_59a7_11eb_9c66_f018984f2bd6level0_row2\" class=\"row_heading level0 row2\" >2</th>\n",
       "                        <td id=\"T_cfcc2d34_59a7_11eb_9c66_f018984f2bd6row2_col0\" class=\"data row2 col0\" >-3.973733</td>\n",
       "                        <td id=\"T_cfcc2d34_59a7_11eb_9c66_f018984f2bd6row2_col1\" class=\"data row2 col1\" >-3.906234</td>\n",
       "                        <td id=\"T_cfcc2d34_59a7_11eb_9c66_f018984f2bd6row2_col2\" class=\"data row2 col2\" >-4.032794</td>\n",
       "                        <td id=\"T_cfcc2d34_59a7_11eb_9c66_f018984f2bd6row2_col3\" class=\"data row2 col3\" >4.067673</td>\n",
       "                        <td id=\"T_cfcc2d34_59a7_11eb_9c66_f018984f2bd6row2_col4\" class=\"data row2 col4\" >4.167773</td>\n",
       "                        <td id=\"T_cfcc2d34_59a7_11eb_9c66_f018984f2bd6row2_col5\" class=\"data row2 col5\" >3.824628</td>\n",
       "            </tr>\n",
       "            <tr>\n",
       "                        <th id=\"T_cfcc2d34_59a7_11eb_9c66_f018984f2bd6level0_row3\" class=\"row_heading level0 row3\" >3</th>\n",
       "                        <td id=\"T_cfcc2d34_59a7_11eb_9c66_f018984f2bd6row3_col0\" class=\"data row3 col0\" >0.504373</td>\n",
       "                        <td id=\"T_cfcc2d34_59a7_11eb_9c66_f018984f2bd6row3_col1\" class=\"data row3 col1\" >-0.827087</td>\n",
       "                        <td id=\"T_cfcc2d34_59a7_11eb_9c66_f018984f2bd6row3_col2\" class=\"data row3 col2\" >-0.683043</td>\n",
       "                        <td id=\"T_cfcc2d34_59a7_11eb_9c66_f018984f2bd6row3_col3\" class=\"data row3 col3\" >0.504373</td>\n",
       "                        <td id=\"T_cfcc2d34_59a7_11eb_9c66_f018984f2bd6row3_col4\" class=\"data row3 col4\" >-0.827087</td>\n",
       "                        <td id=\"T_cfcc2d34_59a7_11eb_9c66_f018984f2bd6row3_col5\" class=\"data row3 col5\" >-0.683043</td>\n",
       "            </tr>\n",
       "            <tr>\n",
       "                        <th id=\"T_cfcc2d34_59a7_11eb_9c66_f018984f2bd6level0_row4\" class=\"row_heading level0 row4\" >4</th>\n",
       "                        <td id=\"T_cfcc2d34_59a7_11eb_9c66_f018984f2bd6row4_col0\" class=\"data row4 col0\" >-3.973733</td>\n",
       "                        <td id=\"T_cfcc2d34_59a7_11eb_9c66_f018984f2bd6row4_col1\" class=\"data row4 col1\" >-0.810354</td>\n",
       "                        <td id=\"T_cfcc2d34_59a7_11eb_9c66_f018984f2bd6row4_col2\" class=\"data row4 col2\" >-0.688679</td>\n",
       "                        <td id=\"T_cfcc2d34_59a7_11eb_9c66_f018984f2bd6row4_col3\" class=\"data row4 col3\" >4.067673</td>\n",
       "                        <td id=\"T_cfcc2d34_59a7_11eb_9c66_f018984f2bd6row4_col4\" class=\"data row4 col4\" >-0.810354</td>\n",
       "                        <td id=\"T_cfcc2d34_59a7_11eb_9c66_f018984f2bd6row4_col5\" class=\"data row4 col5\" >-0.688679</td>\n",
       "            </tr>\n",
       "    </tbody></table>"
      ],
      "text/plain": [
       "<pandas.io.formats.style.Styler at 0x1a298cc240>"
      ]
     },
     "execution_count": 14,
     "metadata": {},
     "output_type": "execute_result"
    }
   ],
   "source": [
    "pd.DataFrame(x_MIA).head().style.applymap(color_imputedvalues_orange, x_miss=np.concatenate((x_miss,np.isnan(x_miss)*1),axis=1))"
   ]
  },
  {
   "cell_type": "markdown",
   "metadata": {},
   "source": [
    "## Pipeline\n",
    "\n",
    "Let's evaluate the different strategies. Let's consider our different imputers w.r.t. different machine learning algorithms. The pipeline will be \n",
    "1. Imputation.\n",
    "2. Regression on the imputed dataset.\n",
    "\n",
    "Here we decompose each step of the pipeline for clarity.\n",
    "\n",
    "First, we can split the data intro train and test datasets. "
   ]
  },
  {
   "cell_type": "code",
   "execution_count": 15,
   "metadata": {},
   "outputs": [
    {
     "name": "stdout",
     "output_type": "stream",
     "text": [
      "train shape: X.shape=(750, 3), y.shape=(750,)\n",
      "test shape: X.shape=(250, 3), y.shape=(250,)\n"
     ]
    }
   ],
   "source": [
    "x_train, x_test, y_train, y_test = train_test_split(x_miss, y)\n",
    "print('train shape: X.shape={}, y.shape={}'.format(x_train.shape, y_train.shape))\n",
    "print('test shape: X.shape={}, y.shape={}'.format(x_test.shape, y_test.shape))"
   ]
  },
  {
   "cell_type": "markdown",
   "metadata": {},
   "source": [
    "We can then choose a learning algorithm, for exemple the ordinary least squares linear regression. We can use the class [sklearn.linear_model](https://scikit-learn.org/stable/modules/generated/sklearn.linear_model.LinearRegression.html) of scikit-learn. Note that we can not directly apply the regressor, since it can not deal with missing values. "
   ]
  },
  {
   "cell_type": "code",
   "execution_count": 16,
   "metadata": {},
   "outputs": [],
   "source": [
    "regressor = LinearRegression()"
   ]
  },
  {
   "cell_type": "code",
   "execution_count": 17,
   "metadata": {},
   "outputs": [],
   "source": [
    "\"\"\" Line below would raise an ValueError: \n",
    "'Input contains NaN, infinity or a value too large for dtype('float64').'\n",
    "Because LinearRegressor couldn't deal with NaN values.\"\"\";\n",
    "\n",
    "# regressor.fit(X_train, y_train) "
   ]
  },
  {
   "cell_type": "markdown",
   "metadata": {},
   "source": [
    "We fit the model for imputing missing values in the train dataset and then transform both train and test with the *same* imputer."
   ]
  },
  {
   "cell_type": "code",
   "execution_count": 18,
   "metadata": {},
   "outputs": [],
   "source": [
    "imputer = SimpleImputer(strategy='mean')\n",
    "imputer.fit(x_train)\n",
    "\n",
    "x_train_imp = imputer.transform(x_train)\n",
    "x_test_imp = imputer.transform(x_test)"
   ]
  },
  {
   "cell_type": "markdown",
   "metadata": {},
   "source": [
    "Finally, we can fit the regressor. "
   ]
  },
  {
   "cell_type": "code",
   "execution_count": 19,
   "metadata": {},
   "outputs": [
    {
     "name": "stdout",
     "output_type": "stream",
     "text": [
      "Score on train: 0.8023297760364352\n",
      "Score on test: 0.8360819580218508\n"
     ]
    }
   ],
   "source": [
    "regressor.fit(x_train_imp, y_train)\n",
    "print('Score on train:', regressor.score(x_train_imp, y_train))\n",
    "print('Score on test:', regressor.score(x_test_imp, y_test))"
   ]
  },
  {
   "cell_type": "markdown",
   "metadata": {},
   "source": [
    "# Model selection on synthetic data"
   ]
  },
  {
   "cell_type": "markdown",
   "metadata": {},
   "source": [
    "The function **plot_score_regressor** compares the strategies above (Mean imputation, Iterative imputation, MIA) in terms of prediction performances by applying them with chosen learning algorithms. The arguments are the following.\n",
    "\n",
    "* `X`: data matrix containing missing values (covariates).\n",
    "* `y`: output variable (containing no missing values).\n",
    "* `regressor`: dictionnary containing the regressors to be performed for comparing strategies.\n",
    "\n",
    "It returns Boxplot scores for each strategy."
   ]
  },
  {
   "cell_type": "code",
   "execution_count": 20,
   "metadata": {},
   "outputs": [],
   "source": [
    "def plot_score_regressor(X, y, regressor, regressor_name='regressor', X_complete=None):\n",
    "    \"\"\"\n",
    "    Compare imputation methods (Mean imputation and Iterative imputation, with or without concatenating missing values indicator) \n",
    "    with the Missing In Attribute method in terms of prediction performance for chosen learning algorithms.\n",
    "    \n",
    "    \n",
    "    Parameters\n",
    "    ----------\n",
    "    X : data matrix containing missing values.\n",
    "    y : output variable (containing no missing values).\n",
    "    regressor: dictionnary containing the regressors to be performed for comparing strategies.\n",
    "    regressor_name: name for the regressors containing in regressor.\n",
    "    X_complete: complete data matrix, required for computing scores.\n",
    "    \n",
    "    Returns\n",
    "    -------\n",
    "    Boxplot scores for each strategy.\n",
    "    \"\"\"\n",
    "    \n",
    "    imputers_wo_indicator = {'Simple': SimpleImputer(add_indicator=False),\n",
    "                         'Iterative': IterativeImputer(add_indicator=False)}\n",
    "    imputers_with_indicator = {'Simple': SimpleImputer(add_indicator=True),\n",
    "                           'Iterative': IterativeImputer(add_indicator=True),\n",
    "                           'MinMax': MinMaxImputer()}\n",
    "    \n",
    "    l_score = []\n",
    "    for imputers in [imputers_wo_indicator, imputers_with_indicator]:\n",
    "        for imputer_name, imputer in imputers.items():\n",
    "            pipeline = Pipeline([(imputer_name, imputer), (regressor_name, regressor)])\n",
    "            score = cross_val_score(pipeline, X, y, n_jobs=-1, cv = 5)\n",
    "            l_score.append(score)\n",
    "            \n",
    "    score_ground_truth = cross_val_score(regressor, X_complete, y, n_jobs=-1, cv = 5)\n",
    "    l_score.append(score_ground_truth)\n",
    "    plt.title(regressor_name)     \n",
    "    labels = ['Simple', 'Iterative', 'Simple+Mask', 'Iterative+Mask', 'MIA', 'X_complete']\n",
    "    bplot = plt.boxplot(l_score[::-1], labels=labels[::-1],\n",
    "                vert=False, patch_artist=True)\n",
    "\n",
    "    # Add colors to boxplots\n",
    "    for patch, color in zip(bplot['boxes'],\n",
    "                            ['C0','C1','C2','C3', 'C4', 'C5']):\n",
    "        patch.set_facecolor(color)"
   ]
  },
  {
   "cell_type": "markdown",
   "metadata": {},
   "source": [
    "We apply this function by introducing MCAR or MNAR values in `X`."
   ]
  },
  {
   "cell_type": "code",
   "execution_count": 21,
   "metadata": {},
   "outputs": [
    {
     "name": "stdout",
     "output_type": "stream",
     "text": [
      "Ratio nan in X: 29.5 %\n"
     ]
    }
   ],
   "source": [
    "## MCAR values\n",
    "XproduceNA_MCAR =  produce_NA(x_comp, p_miss=p, mecha=\"MCAR\") \n",
    "x_MCAR = XproduceNA_MCAR['X_incomp'].numpy()\n",
    "print('Ratio nan in X:', np.round(100 * np.sum(np.isnan(x_MCAR)) / x_MCAR.size,1), '%')"
   ]
  },
  {
   "cell_type": "code",
   "execution_count": 22,
   "metadata": {},
   "outputs": [
    {
     "data": {
      "text/html": [
       "<style  type=\"text/css\" >\n",
       "#T_cfdb3f22_59a7_11eb_9c66_f018984f2bd6row0_col1,#T_cfdb3f22_59a7_11eb_9c66_f018984f2bd6row0_col2,#T_cfdb3f22_59a7_11eb_9c66_f018984f2bd6row2_col1,#T_cfdb3f22_59a7_11eb_9c66_f018984f2bd6row3_col1,#T_cfdb3f22_59a7_11eb_9c66_f018984f2bd6row4_col1{\n",
       "            background-color:  orange;\n",
       "        }</style><table id=\"T_cfdb3f22_59a7_11eb_9c66_f018984f2bd6\" ><thead>    <tr>        <th class=\"blank level0\" ></th>        <th class=\"col_heading level0 col0\" >0</th>        <th class=\"col_heading level0 col1\" >1</th>        <th class=\"col_heading level0 col2\" >2</th>    </tr></thead><tbody>\n",
       "                <tr>\n",
       "                        <th id=\"T_cfdb3f22_59a7_11eb_9c66_f018984f2bd6level0_row0\" class=\"row_heading level0 row0\" >0</th>\n",
       "                        <td id=\"T_cfdb3f22_59a7_11eb_9c66_f018984f2bd6row0_col0\" class=\"data row0 col0\" >-0.875268</td>\n",
       "                        <td id=\"T_cfdb3f22_59a7_11eb_9c66_f018984f2bd6row0_col1\" class=\"data row0 col1\" >nan</td>\n",
       "                        <td id=\"T_cfdb3f22_59a7_11eb_9c66_f018984f2bd6row0_col2\" class=\"data row0 col2\" >nan</td>\n",
       "            </tr>\n",
       "            <tr>\n",
       "                        <th id=\"T_cfdb3f22_59a7_11eb_9c66_f018984f2bd6level0_row1\" class=\"row_heading level0 row1\" >1</th>\n",
       "                        <td id=\"T_cfdb3f22_59a7_11eb_9c66_f018984f2bd6row1_col0\" class=\"data row1 col0\" >-2.393913</td>\n",
       "                        <td id=\"T_cfdb3f22_59a7_11eb_9c66_f018984f2bd6row1_col1\" class=\"data row1 col1\" >-2.481345</td>\n",
       "                        <td id=\"T_cfdb3f22_59a7_11eb_9c66_f018984f2bd6row1_col2\" class=\"data row1 col2\" >-0.613787</td>\n",
       "            </tr>\n",
       "            <tr>\n",
       "                        <th id=\"T_cfdb3f22_59a7_11eb_9c66_f018984f2bd6level0_row2\" class=\"row_heading level0 row2\" >2</th>\n",
       "                        <td id=\"T_cfdb3f22_59a7_11eb_9c66_f018984f2bd6row2_col0\" class=\"data row2 col0\" >-0.835337</td>\n",
       "                        <td id=\"T_cfdb3f22_59a7_11eb_9c66_f018984f2bd6row2_col1\" class=\"data row2 col1\" >nan</td>\n",
       "                        <td id=\"T_cfdb3f22_59a7_11eb_9c66_f018984f2bd6row2_col2\" class=\"data row2 col2\" >-0.821626</td>\n",
       "            </tr>\n",
       "            <tr>\n",
       "                        <th id=\"T_cfdb3f22_59a7_11eb_9c66_f018984f2bd6level0_row3\" class=\"row_heading level0 row3\" >3</th>\n",
       "                        <td id=\"T_cfdb3f22_59a7_11eb_9c66_f018984f2bd6row3_col0\" class=\"data row3 col0\" >0.504373</td>\n",
       "                        <td id=\"T_cfdb3f22_59a7_11eb_9c66_f018984f2bd6row3_col1\" class=\"data row3 col1\" >nan</td>\n",
       "                        <td id=\"T_cfdb3f22_59a7_11eb_9c66_f018984f2bd6row3_col2\" class=\"data row3 col2\" >-0.683043</td>\n",
       "            </tr>\n",
       "            <tr>\n",
       "                        <th id=\"T_cfdb3f22_59a7_11eb_9c66_f018984f2bd6level0_row4\" class=\"row_heading level0 row4\" >4</th>\n",
       "                        <td id=\"T_cfdb3f22_59a7_11eb_9c66_f018984f2bd6row4_col0\" class=\"data row4 col0\" >-0.365120</td>\n",
       "                        <td id=\"T_cfdb3f22_59a7_11eb_9c66_f018984f2bd6row4_col1\" class=\"data row4 col1\" >nan</td>\n",
       "                        <td id=\"T_cfdb3f22_59a7_11eb_9c66_f018984f2bd6row4_col2\" class=\"data row4 col2\" >-0.688679</td>\n",
       "            </tr>\n",
       "    </tbody></table>"
      ],
      "text/plain": [
       "<pandas.io.formats.style.Styler at 0x1a298c3cc0>"
      ]
     },
     "execution_count": 22,
     "metadata": {},
     "output_type": "execute_result"
    }
   ],
   "source": [
    "pd.DataFrame(x_MCAR).head().style.highlight_null(null_color='orange')"
   ]
  },
  {
   "cell_type": "code",
   "execution_count": 23,
   "metadata": {},
   "outputs": [
    {
     "name": "stdout",
     "output_type": "stream",
     "text": [
      "Ratio nan in X: 30.4 %\n"
     ]
    }
   ],
   "source": [
    "# MNAR values\n",
    "XproduceNA_MNAR = produce_NA(x_comp, p_miss=p, mecha=\"MNAR\", opt=\"selfmasked\")\n",
    "x_MNAR = XproduceNA_MNAR['X_incomp'].numpy()\n",
    "print('Ratio nan in X:', np.round(100 * np.sum(np.isnan(x_MNAR)) / x_MNAR.size,1), '%')"
   ]
  },
  {
   "cell_type": "code",
   "execution_count": 24,
   "metadata": {},
   "outputs": [
    {
     "data": {
      "text/html": [
       "<style  type=\"text/css\" >\n",
       "#T_cfe314fe_59a7_11eb_9c66_f018984f2bd6row1_col1,#T_cfe314fe_59a7_11eb_9c66_f018984f2bd6row1_col2,#T_cfe314fe_59a7_11eb_9c66_f018984f2bd6row3_col1,#T_cfe314fe_59a7_11eb_9c66_f018984f2bd6row3_col2,#T_cfe314fe_59a7_11eb_9c66_f018984f2bd6row4_col2{\n",
       "            background-color:  orange;\n",
       "        }</style><table id=\"T_cfe314fe_59a7_11eb_9c66_f018984f2bd6\" ><thead>    <tr>        <th class=\"blank level0\" ></th>        <th class=\"col_heading level0 col0\" >0</th>        <th class=\"col_heading level0 col1\" >1</th>        <th class=\"col_heading level0 col2\" >2</th>    </tr></thead><tbody>\n",
       "                <tr>\n",
       "                        <th id=\"T_cfe314fe_59a7_11eb_9c66_f018984f2bd6level0_row0\" class=\"row_heading level0 row0\" >0</th>\n",
       "                        <td id=\"T_cfe314fe_59a7_11eb_9c66_f018984f2bd6row0_col0\" class=\"data row0 col0\" >-0.875268</td>\n",
       "                        <td id=\"T_cfe314fe_59a7_11eb_9c66_f018984f2bd6row0_col1\" class=\"data row0 col1\" >-1.922959</td>\n",
       "                        <td id=\"T_cfe314fe_59a7_11eb_9c66_f018984f2bd6row0_col2\" class=\"data row0 col2\" >-1.522801</td>\n",
       "            </tr>\n",
       "            <tr>\n",
       "                        <th id=\"T_cfe314fe_59a7_11eb_9c66_f018984f2bd6level0_row1\" class=\"row_heading level0 row1\" >1</th>\n",
       "                        <td id=\"T_cfe314fe_59a7_11eb_9c66_f018984f2bd6row1_col0\" class=\"data row1 col0\" >-2.393913</td>\n",
       "                        <td id=\"T_cfe314fe_59a7_11eb_9c66_f018984f2bd6row1_col1\" class=\"data row1 col1\" >nan</td>\n",
       "                        <td id=\"T_cfe314fe_59a7_11eb_9c66_f018984f2bd6row1_col2\" class=\"data row1 col2\" >nan</td>\n",
       "            </tr>\n",
       "            <tr>\n",
       "                        <th id=\"T_cfe314fe_59a7_11eb_9c66_f018984f2bd6level0_row2\" class=\"row_heading level0 row2\" >2</th>\n",
       "                        <td id=\"T_cfe314fe_59a7_11eb_9c66_f018984f2bd6row2_col0\" class=\"data row2 col0\" >-0.835337</td>\n",
       "                        <td id=\"T_cfe314fe_59a7_11eb_9c66_f018984f2bd6row2_col1\" class=\"data row2 col1\" >-0.670269</td>\n",
       "                        <td id=\"T_cfe314fe_59a7_11eb_9c66_f018984f2bd6row2_col2\" class=\"data row2 col2\" >-0.821626</td>\n",
       "            </tr>\n",
       "            <tr>\n",
       "                        <th id=\"T_cfe314fe_59a7_11eb_9c66_f018984f2bd6level0_row3\" class=\"row_heading level0 row3\" >3</th>\n",
       "                        <td id=\"T_cfe314fe_59a7_11eb_9c66_f018984f2bd6row3_col0\" class=\"data row3 col0\" >0.504373</td>\n",
       "                        <td id=\"T_cfe314fe_59a7_11eb_9c66_f018984f2bd6row3_col1\" class=\"data row3 col1\" >nan</td>\n",
       "                        <td id=\"T_cfe314fe_59a7_11eb_9c66_f018984f2bd6row3_col2\" class=\"data row3 col2\" >nan</td>\n",
       "            </tr>\n",
       "            <tr>\n",
       "                        <th id=\"T_cfe314fe_59a7_11eb_9c66_f018984f2bd6level0_row4\" class=\"row_heading level0 row4\" >4</th>\n",
       "                        <td id=\"T_cfe314fe_59a7_11eb_9c66_f018984f2bd6row4_col0\" class=\"data row4 col0\" >-0.365120</td>\n",
       "                        <td id=\"T_cfe314fe_59a7_11eb_9c66_f018984f2bd6row4_col1\" class=\"data row4 col1\" >-0.810354</td>\n",
       "                        <td id=\"T_cfe314fe_59a7_11eb_9c66_f018984f2bd6row4_col2\" class=\"data row4 col2\" >nan</td>\n",
       "            </tr>\n",
       "    </tbody></table>"
      ],
      "text/plain": [
       "<pandas.io.formats.style.Styler at 0x1a298c3908>"
      ]
     },
     "execution_count": 24,
     "metadata": {},
     "output_type": "execute_result"
    }
   ],
   "source": [
    "pd.DataFrame(x_MNAR).head().style.highlight_null(null_color='orange')"
   ]
  },
  {
   "cell_type": "code",
   "execution_count": 25,
   "metadata": {},
   "outputs": [
    {
     "data": {
      "image/png": "[encoded data removed]",
      "text/plain": [
       "<Figure size 1440x720 with 2 Axes>"
      ]
     },
     "metadata": {
      "needs_background": "light"
     },
     "output_type": "display_data"
    },
    {
     "data": {
      "image/png": "[encoded data removed]",
      "text/plain": [
       "<Figure size 1440x720 with 2 Axes>"
      ]
     },
     "metadata": {
      "needs_background": "light"
     },
     "output_type": "display_data"
    },
    {
     "data": {
      "image/png": "[encoded data removed]",
      "text/plain": [
       "<Figure size 1440x720 with 2 Axes>"
      ]
     },
     "metadata": {
      "needs_background": "light"
     },
     "output_type": "display_data"
    }
   ],
   "source": [
    "regressors = {'LinReg': LinearRegression(),\n",
    "              'RandomForest': RandomForestRegressor(),\n",
    "              \"HGBoost\": HistGradientBoostingRegressor()}\n",
    "\n",
    "for regressor_name, regressor in regressors.items():\n",
    "    plt.figure(figsize=(20,10))\n",
    "    for ii, (X, X_name) in enumerate(zip([x_MCAR, x_MNAR], ['MCAR', 'MNAR'])):\n",
    "        plt.subplot(3, 2, ii+1)\n",
    "        plot_score_regressor(X, y, regressor, regressor_name + ' ' + X_name, x_comp)"
   ]
  },
  {
   "cell_type": "markdown",
   "metadata": {},
   "source": [
    "# Model selection on real data"
   ]
  },
  {
   "cell_type": "markdown",
   "metadata": {},
   "source": [
    "The function **plot_score_regressor** can also be used for real datasets in the wame way. Note that for computing scores, we must have access to the complete matrix."
   ]
  },
  {
   "cell_type": "code",
   "execution_count": 26,
   "metadata": {},
   "outputs": [],
   "source": [
    "x_comp, y = fetch_california_housing(return_X_y = True)"
   ]
  },
  {
   "cell_type": "code",
   "execution_count": 27,
   "metadata": {},
   "outputs": [
    {
     "name": "stdout",
     "output_type": "stream",
     "text": [
      "Ratio nan in X: 30.1 %\n"
     ]
    }
   ],
   "source": [
    "## MCAR values\n",
    "XproduceNA_MCAR =  produce_NA(x_comp, p_miss=p, mecha=\"MCAR\") \n",
    "x_MCAR = XproduceNA_MCAR['X_incomp'].numpy()\n",
    "print('Ratio nan in X:', np.round(100 * np.sum(np.isnan(x_MCAR)) / x_MCAR.size,1), '%')"
   ]
  },
  {
   "cell_type": "code",
   "execution_count": 28,
   "metadata": {},
   "outputs": [
    {
     "data": {
      "text/html": [
       "<style  type=\"text/css\" >\n",
       "#T_db9ad9a8_59a7_11eb_9c66_f018984f2bd6row0_col4,#T_db9ad9a8_59a7_11eb_9c66_f018984f2bd6row0_col6,#T_db9ad9a8_59a7_11eb_9c66_f018984f2bd6row1_col3,#T_db9ad9a8_59a7_11eb_9c66_f018984f2bd6row1_col5,#T_db9ad9a8_59a7_11eb_9c66_f018984f2bd6row1_col7,#T_db9ad9a8_59a7_11eb_9c66_f018984f2bd6row2_col2,#T_db9ad9a8_59a7_11eb_9c66_f018984f2bd6row2_col4,#T_db9ad9a8_59a7_11eb_9c66_f018984f2bd6row3_col0,#T_db9ad9a8_59a7_11eb_9c66_f018984f2bd6row3_col2,#T_db9ad9a8_59a7_11eb_9c66_f018984f2bd6row3_col6,#T_db9ad9a8_59a7_11eb_9c66_f018984f2bd6row4_col1,#T_db9ad9a8_59a7_11eb_9c66_f018984f2bd6row4_col4,#T_db9ad9a8_59a7_11eb_9c66_f018984f2bd6row4_col6,#T_db9ad9a8_59a7_11eb_9c66_f018984f2bd6row4_col7{\n",
       "            background-color:  orange;\n",
       "        }</style><table id=\"T_db9ad9a8_59a7_11eb_9c66_f018984f2bd6\" ><thead>    <tr>        <th class=\"blank level0\" ></th>        <th class=\"col_heading level0 col0\" >0</th>        <th class=\"col_heading level0 col1\" >1</th>        <th class=\"col_heading level0 col2\" >2</th>        <th class=\"col_heading level0 col3\" >3</th>        <th class=\"col_heading level0 col4\" >4</th>        <th class=\"col_heading level0 col5\" >5</th>        <th class=\"col_heading level0 col6\" >6</th>        <th class=\"col_heading level0 col7\" >7</th>    </tr></thead><tbody>\n",
       "                <tr>\n",
       "                        <th id=\"T_db9ad9a8_59a7_11eb_9c66_f018984f2bd6level0_row0\" class=\"row_heading level0 row0\" >0</th>\n",
       "                        <td id=\"T_db9ad9a8_59a7_11eb_9c66_f018984f2bd6row0_col0\" class=\"data row0 col0\" >8.325200</td>\n",
       "                        <td id=\"T_db9ad9a8_59a7_11eb_9c66_f018984f2bd6row0_col1\" class=\"data row0 col1\" >41.000000</td>\n",
       "                        <td id=\"T_db9ad9a8_59a7_11eb_9c66_f018984f2bd6row0_col2\" class=\"data row0 col2\" >6.984127</td>\n",
       "                        <td id=\"T_db9ad9a8_59a7_11eb_9c66_f018984f2bd6row0_col3\" class=\"data row0 col3\" >1.023810</td>\n",
       "                        <td id=\"T_db9ad9a8_59a7_11eb_9c66_f018984f2bd6row0_col4\" class=\"data row0 col4\" >nan</td>\n",
       "                        <td id=\"T_db9ad9a8_59a7_11eb_9c66_f018984f2bd6row0_col5\" class=\"data row0 col5\" >2.555556</td>\n",
       "                        <td id=\"T_db9ad9a8_59a7_11eb_9c66_f018984f2bd6row0_col6\" class=\"data row0 col6\" >nan</td>\n",
       "                        <td id=\"T_db9ad9a8_59a7_11eb_9c66_f018984f2bd6row0_col7\" class=\"data row0 col7\" >-122.230003</td>\n",
       "            </tr>\n",
       "            <tr>\n",
       "                        <th id=\"T_db9ad9a8_59a7_11eb_9c66_f018984f2bd6level0_row1\" class=\"row_heading level0 row1\" >1</th>\n",
       "                        <td id=\"T_db9ad9a8_59a7_11eb_9c66_f018984f2bd6row1_col0\" class=\"data row1 col0\" >8.301400</td>\n",
       "                        <td id=\"T_db9ad9a8_59a7_11eb_9c66_f018984f2bd6row1_col1\" class=\"data row1 col1\" >21.000000</td>\n",
       "                        <td id=\"T_db9ad9a8_59a7_11eb_9c66_f018984f2bd6row1_col2\" class=\"data row1 col2\" >6.238137</td>\n",
       "                        <td id=\"T_db9ad9a8_59a7_11eb_9c66_f018984f2bd6row1_col3\" class=\"data row1 col3\" >nan</td>\n",
       "                        <td id=\"T_db9ad9a8_59a7_11eb_9c66_f018984f2bd6row1_col4\" class=\"data row1 col4\" >2401.000000</td>\n",
       "                        <td id=\"T_db9ad9a8_59a7_11eb_9c66_f018984f2bd6row1_col5\" class=\"data row1 col5\" >nan</td>\n",
       "                        <td id=\"T_db9ad9a8_59a7_11eb_9c66_f018984f2bd6row1_col6\" class=\"data row1 col6\" >37.860001</td>\n",
       "                        <td id=\"T_db9ad9a8_59a7_11eb_9c66_f018984f2bd6row1_col7\" class=\"data row1 col7\" >nan</td>\n",
       "            </tr>\n",
       "            <tr>\n",
       "                        <th id=\"T_db9ad9a8_59a7_11eb_9c66_f018984f2bd6level0_row2\" class=\"row_heading level0 row2\" >2</th>\n",
       "                        <td id=\"T_db9ad9a8_59a7_11eb_9c66_f018984f2bd6row2_col0\" class=\"data row2 col0\" >7.257400</td>\n",
       "                        <td id=\"T_db9ad9a8_59a7_11eb_9c66_f018984f2bd6row2_col1\" class=\"data row2 col1\" >52.000000</td>\n",
       "                        <td id=\"T_db9ad9a8_59a7_11eb_9c66_f018984f2bd6row2_col2\" class=\"data row2 col2\" >nan</td>\n",
       "                        <td id=\"T_db9ad9a8_59a7_11eb_9c66_f018984f2bd6row2_col3\" class=\"data row2 col3\" >1.073446</td>\n",
       "                        <td id=\"T_db9ad9a8_59a7_11eb_9c66_f018984f2bd6row2_col4\" class=\"data row2 col4\" >nan</td>\n",
       "                        <td id=\"T_db9ad9a8_59a7_11eb_9c66_f018984f2bd6row2_col5\" class=\"data row2 col5\" >2.802260</td>\n",
       "                        <td id=\"T_db9ad9a8_59a7_11eb_9c66_f018984f2bd6row2_col6\" class=\"data row2 col6\" >37.849998</td>\n",
       "                        <td id=\"T_db9ad9a8_59a7_11eb_9c66_f018984f2bd6row2_col7\" class=\"data row2 col7\" >-122.239998</td>\n",
       "            </tr>\n",
       "            <tr>\n",
       "                        <th id=\"T_db9ad9a8_59a7_11eb_9c66_f018984f2bd6level0_row3\" class=\"row_heading level0 row3\" >3</th>\n",
       "                        <td id=\"T_db9ad9a8_59a7_11eb_9c66_f018984f2bd6row3_col0\" class=\"data row3 col0\" >nan</td>\n",
       "                        <td id=\"T_db9ad9a8_59a7_11eb_9c66_f018984f2bd6row3_col1\" class=\"data row3 col1\" >52.000000</td>\n",
       "                        <td id=\"T_db9ad9a8_59a7_11eb_9c66_f018984f2bd6row3_col2\" class=\"data row3 col2\" >nan</td>\n",
       "                        <td id=\"T_db9ad9a8_59a7_11eb_9c66_f018984f2bd6row3_col3\" class=\"data row3 col3\" >1.073059</td>\n",
       "                        <td id=\"T_db9ad9a8_59a7_11eb_9c66_f018984f2bd6row3_col4\" class=\"data row3 col4\" >558.000000</td>\n",
       "                        <td id=\"T_db9ad9a8_59a7_11eb_9c66_f018984f2bd6row3_col5\" class=\"data row3 col5\" >2.547945</td>\n",
       "                        <td id=\"T_db9ad9a8_59a7_11eb_9c66_f018984f2bd6row3_col6\" class=\"data row3 col6\" >nan</td>\n",
       "                        <td id=\"T_db9ad9a8_59a7_11eb_9c66_f018984f2bd6row3_col7\" class=\"data row3 col7\" >-122.250000</td>\n",
       "            </tr>\n",
       "            <tr>\n",
       "                        <th id=\"T_db9ad9a8_59a7_11eb_9c66_f018984f2bd6level0_row4\" class=\"row_heading level0 row4\" >4</th>\n",
       "                        <td id=\"T_db9ad9a8_59a7_11eb_9c66_f018984f2bd6row4_col0\" class=\"data row4 col0\" >3.846200</td>\n",
       "                        <td id=\"T_db9ad9a8_59a7_11eb_9c66_f018984f2bd6row4_col1\" class=\"data row4 col1\" >nan</td>\n",
       "                        <td id=\"T_db9ad9a8_59a7_11eb_9c66_f018984f2bd6row4_col2\" class=\"data row4 col2\" >6.281853</td>\n",
       "                        <td id=\"T_db9ad9a8_59a7_11eb_9c66_f018984f2bd6row4_col3\" class=\"data row4 col3\" >1.081081</td>\n",
       "                        <td id=\"T_db9ad9a8_59a7_11eb_9c66_f018984f2bd6row4_col4\" class=\"data row4 col4\" >nan</td>\n",
       "                        <td id=\"T_db9ad9a8_59a7_11eb_9c66_f018984f2bd6row4_col5\" class=\"data row4 col5\" >2.181467</td>\n",
       "                        <td id=\"T_db9ad9a8_59a7_11eb_9c66_f018984f2bd6row4_col6\" class=\"data row4 col6\" >nan</td>\n",
       "                        <td id=\"T_db9ad9a8_59a7_11eb_9c66_f018984f2bd6row4_col7\" class=\"data row4 col7\" >nan</td>\n",
       "            </tr>\n",
       "    </tbody></table>"
      ],
      "text/plain": [
       "<pandas.io.formats.style.Styler at 0x1a2a683828>"
      ]
     },
     "execution_count": 28,
     "metadata": {},
     "output_type": "execute_result"
    }
   ],
   "source": [
    "pd.DataFrame(x_MCAR).head().style.highlight_null(null_color='orange')"
   ]
  },
  {
   "cell_type": "code",
   "execution_count": 29,
   "metadata": {},
   "outputs": [
    {
     "name": "stdout",
     "output_type": "stream",
     "text": [
      "Ratio nan in X: 49.6 %\n"
     ]
    }
   ],
   "source": [
    "# MNAR values\n",
    "XproduceNA_MNAR = produce_NA(x_comp, p_miss=p, mecha=\"MNAR\", opt=\"selfmasked\")\n",
    "x_MNAR = XproduceNA_MNAR['X_incomp'].numpy()\n",
    "print('Ratio nan in X:', np.round(100 * np.sum(np.isnan(x_MNAR)) / x_MNAR.size,1), '%')"
   ]
  },
  {
   "cell_type": "code",
   "execution_count": 30,
   "metadata": {},
   "outputs": [
    {
     "data": {
      "text/html": [
       "<style  type=\"text/css\" >\n",
       "#T_dbe8d7ca_59a7_11eb_9c66_f018984f2bd6row0_col1,#T_dbe8d7ca_59a7_11eb_9c66_f018984f2bd6row0_col3,#T_dbe8d7ca_59a7_11eb_9c66_f018984f2bd6row0_col4,#T_dbe8d7ca_59a7_11eb_9c66_f018984f2bd6row0_col6,#T_dbe8d7ca_59a7_11eb_9c66_f018984f2bd6row0_col7,#T_dbe8d7ca_59a7_11eb_9c66_f018984f2bd6row1_col2,#T_dbe8d7ca_59a7_11eb_9c66_f018984f2bd6row1_col3,#T_dbe8d7ca_59a7_11eb_9c66_f018984f2bd6row1_col6,#T_dbe8d7ca_59a7_11eb_9c66_f018984f2bd6row1_col7,#T_dbe8d7ca_59a7_11eb_9c66_f018984f2bd6row2_col1,#T_dbe8d7ca_59a7_11eb_9c66_f018984f2bd6row2_col3,#T_dbe8d7ca_59a7_11eb_9c66_f018984f2bd6row2_col7,#T_dbe8d7ca_59a7_11eb_9c66_f018984f2bd6row3_col1,#T_dbe8d7ca_59a7_11eb_9c66_f018984f2bd6row3_col2,#T_dbe8d7ca_59a7_11eb_9c66_f018984f2bd6row3_col3,#T_dbe8d7ca_59a7_11eb_9c66_f018984f2bd6row3_col6,#T_dbe8d7ca_59a7_11eb_9c66_f018984f2bd6row3_col7,#T_dbe8d7ca_59a7_11eb_9c66_f018984f2bd6row4_col0,#T_dbe8d7ca_59a7_11eb_9c66_f018984f2bd6row4_col1,#T_dbe8d7ca_59a7_11eb_9c66_f018984f2bd6row4_col6,#T_dbe8d7ca_59a7_11eb_9c66_f018984f2bd6row4_col7{\n",
       "            background-color:  orange;\n",
       "        }</style><table id=\"T_dbe8d7ca_59a7_11eb_9c66_f018984f2bd6\" ><thead>    <tr>        <th class=\"blank level0\" ></th>        <th class=\"col_heading level0 col0\" >0</th>        <th class=\"col_heading level0 col1\" >1</th>        <th class=\"col_heading level0 col2\" >2</th>        <th class=\"col_heading level0 col3\" >3</th>        <th class=\"col_heading level0 col4\" >4</th>        <th class=\"col_heading level0 col5\" >5</th>        <th class=\"col_heading level0 col6\" >6</th>        <th class=\"col_heading level0 col7\" >7</th>    </tr></thead><tbody>\n",
       "                <tr>\n",
       "                        <th id=\"T_dbe8d7ca_59a7_11eb_9c66_f018984f2bd6level0_row0\" class=\"row_heading level0 row0\" >0</th>\n",
       "                        <td id=\"T_dbe8d7ca_59a7_11eb_9c66_f018984f2bd6row0_col0\" class=\"data row0 col0\" >8.325200</td>\n",
       "                        <td id=\"T_dbe8d7ca_59a7_11eb_9c66_f018984f2bd6row0_col1\" class=\"data row0 col1\" >nan</td>\n",
       "                        <td id=\"T_dbe8d7ca_59a7_11eb_9c66_f018984f2bd6row0_col2\" class=\"data row0 col2\" >6.984127</td>\n",
       "                        <td id=\"T_dbe8d7ca_59a7_11eb_9c66_f018984f2bd6row0_col3\" class=\"data row0 col3\" >nan</td>\n",
       "                        <td id=\"T_dbe8d7ca_59a7_11eb_9c66_f018984f2bd6row0_col4\" class=\"data row0 col4\" >nan</td>\n",
       "                        <td id=\"T_dbe8d7ca_59a7_11eb_9c66_f018984f2bd6row0_col5\" class=\"data row0 col5\" >2.555556</td>\n",
       "                        <td id=\"T_dbe8d7ca_59a7_11eb_9c66_f018984f2bd6row0_col6\" class=\"data row0 col6\" >nan</td>\n",
       "                        <td id=\"T_dbe8d7ca_59a7_11eb_9c66_f018984f2bd6row0_col7\" class=\"data row0 col7\" >nan</td>\n",
       "            </tr>\n",
       "            <tr>\n",
       "                        <th id=\"T_dbe8d7ca_59a7_11eb_9c66_f018984f2bd6level0_row1\" class=\"row_heading level0 row1\" >1</th>\n",
       "                        <td id=\"T_dbe8d7ca_59a7_11eb_9c66_f018984f2bd6row1_col0\" class=\"data row1 col0\" >8.301400</td>\n",
       "                        <td id=\"T_dbe8d7ca_59a7_11eb_9c66_f018984f2bd6row1_col1\" class=\"data row1 col1\" >21.000000</td>\n",
       "                        <td id=\"T_dbe8d7ca_59a7_11eb_9c66_f018984f2bd6row1_col2\" class=\"data row1 col2\" >nan</td>\n",
       "                        <td id=\"T_dbe8d7ca_59a7_11eb_9c66_f018984f2bd6row1_col3\" class=\"data row1 col3\" >nan</td>\n",
       "                        <td id=\"T_dbe8d7ca_59a7_11eb_9c66_f018984f2bd6row1_col4\" class=\"data row1 col4\" >2401.000000</td>\n",
       "                        <td id=\"T_dbe8d7ca_59a7_11eb_9c66_f018984f2bd6row1_col5\" class=\"data row1 col5\" >2.109842</td>\n",
       "                        <td id=\"T_dbe8d7ca_59a7_11eb_9c66_f018984f2bd6row1_col6\" class=\"data row1 col6\" >nan</td>\n",
       "                        <td id=\"T_dbe8d7ca_59a7_11eb_9c66_f018984f2bd6row1_col7\" class=\"data row1 col7\" >nan</td>\n",
       "            </tr>\n",
       "            <tr>\n",
       "                        <th id=\"T_dbe8d7ca_59a7_11eb_9c66_f018984f2bd6level0_row2\" class=\"row_heading level0 row2\" >2</th>\n",
       "                        <td id=\"T_dbe8d7ca_59a7_11eb_9c66_f018984f2bd6row2_col0\" class=\"data row2 col0\" >7.257400</td>\n",
       "                        <td id=\"T_dbe8d7ca_59a7_11eb_9c66_f018984f2bd6row2_col1\" class=\"data row2 col1\" >nan</td>\n",
       "                        <td id=\"T_dbe8d7ca_59a7_11eb_9c66_f018984f2bd6row2_col2\" class=\"data row2 col2\" >8.288136</td>\n",
       "                        <td id=\"T_dbe8d7ca_59a7_11eb_9c66_f018984f2bd6row2_col3\" class=\"data row2 col3\" >nan</td>\n",
       "                        <td id=\"T_dbe8d7ca_59a7_11eb_9c66_f018984f2bd6row2_col4\" class=\"data row2 col4\" >496.000000</td>\n",
       "                        <td id=\"T_dbe8d7ca_59a7_11eb_9c66_f018984f2bd6row2_col5\" class=\"data row2 col5\" >2.802260</td>\n",
       "                        <td id=\"T_dbe8d7ca_59a7_11eb_9c66_f018984f2bd6row2_col6\" class=\"data row2 col6\" >37.849998</td>\n",
       "                        <td id=\"T_dbe8d7ca_59a7_11eb_9c66_f018984f2bd6row2_col7\" class=\"data row2 col7\" >nan</td>\n",
       "            </tr>\n",
       "            <tr>\n",
       "                        <th id=\"T_dbe8d7ca_59a7_11eb_9c66_f018984f2bd6level0_row3\" class=\"row_heading level0 row3\" >3</th>\n",
       "                        <td id=\"T_dbe8d7ca_59a7_11eb_9c66_f018984f2bd6row3_col0\" class=\"data row3 col0\" >5.643100</td>\n",
       "                        <td id=\"T_dbe8d7ca_59a7_11eb_9c66_f018984f2bd6row3_col1\" class=\"data row3 col1\" >nan</td>\n",
       "                        <td id=\"T_dbe8d7ca_59a7_11eb_9c66_f018984f2bd6row3_col2\" class=\"data row3 col2\" >nan</td>\n",
       "                        <td id=\"T_dbe8d7ca_59a7_11eb_9c66_f018984f2bd6row3_col3\" class=\"data row3 col3\" >nan</td>\n",
       "                        <td id=\"T_dbe8d7ca_59a7_11eb_9c66_f018984f2bd6row3_col4\" class=\"data row3 col4\" >558.000000</td>\n",
       "                        <td id=\"T_dbe8d7ca_59a7_11eb_9c66_f018984f2bd6row3_col5\" class=\"data row3 col5\" >2.547945</td>\n",
       "                        <td id=\"T_dbe8d7ca_59a7_11eb_9c66_f018984f2bd6row3_col6\" class=\"data row3 col6\" >nan</td>\n",
       "                        <td id=\"T_dbe8d7ca_59a7_11eb_9c66_f018984f2bd6row3_col7\" class=\"data row3 col7\" >nan</td>\n",
       "            </tr>\n",
       "            <tr>\n",
       "                        <th id=\"T_dbe8d7ca_59a7_11eb_9c66_f018984f2bd6level0_row4\" class=\"row_heading level0 row4\" >4</th>\n",
       "                        <td id=\"T_dbe8d7ca_59a7_11eb_9c66_f018984f2bd6row4_col0\" class=\"data row4 col0\" >nan</td>\n",
       "                        <td id=\"T_dbe8d7ca_59a7_11eb_9c66_f018984f2bd6row4_col1\" class=\"data row4 col1\" >nan</td>\n",
       "                        <td id=\"T_dbe8d7ca_59a7_11eb_9c66_f018984f2bd6row4_col2\" class=\"data row4 col2\" >6.281853</td>\n",
       "                        <td id=\"T_dbe8d7ca_59a7_11eb_9c66_f018984f2bd6row4_col3\" class=\"data row4 col3\" >1.081081</td>\n",
       "                        <td id=\"T_dbe8d7ca_59a7_11eb_9c66_f018984f2bd6row4_col4\" class=\"data row4 col4\" >565.000000</td>\n",
       "                        <td id=\"T_dbe8d7ca_59a7_11eb_9c66_f018984f2bd6row4_col5\" class=\"data row4 col5\" >2.181467</td>\n",
       "                        <td id=\"T_dbe8d7ca_59a7_11eb_9c66_f018984f2bd6row4_col6\" class=\"data row4 col6\" >nan</td>\n",
       "                        <td id=\"T_dbe8d7ca_59a7_11eb_9c66_f018984f2bd6row4_col7\" class=\"data row4 col7\" >nan</td>\n",
       "            </tr>\n",
       "    </tbody></table>"
      ],
      "text/plain": [
       "<pandas.io.formats.style.Styler at 0x1a2a66c160>"
      ]
     },
     "execution_count": 30,
     "metadata": {},
     "output_type": "execute_result"
    }
   ],
   "source": [
    "pd.DataFrame(x_MNAR).head().style.highlight_null(null_color='orange')"
   ]
  },
  {
   "cell_type": "code",
   "execution_count": 31,
   "metadata": {},
   "outputs": [
    {
     "data": {
      "image/png": "[encoded data removed]",
      "text/plain": [
       "<Figure size 1440x720 with 2 Axes>"
      ]
     },
     "metadata": {
      "needs_background": "light"
     },
     "output_type": "display_data"
    },
    {
     "data": {
      "image/png": "[encoded data removed]",
      "text/plain": [
       "<Figure size 1440x720 with 2 Axes>"
      ]
     },
     "metadata": {
      "needs_background": "light"
     },
     "output_type": "display_data"
    },
    {
     "data": {
      "image/png": "[encoded data removed]",
      "text/plain": [
       "<Figure size 1440x720 with 2 Axes>"
      ]
     },
     "metadata": {
      "needs_background": "light"
     },
     "output_type": "display_data"
    }
   ],
   "source": [
    "regressors = {'LinReg': LinearRegression(),\n",
    "              'RandomForest': RandomForestRegressor(),\n",
    "              \"HGBoost\": HistGradientBoostingRegressor()}\n",
    "\n",
    "for regressor_name, regressor in regressors.items():\n",
    "    plt.figure(figsize=(20,10))\n",
    "    for ii, (X, X_name) in enumerate(zip([x_MCAR, x_MNAR], ['MCAR', 'MNAR'])):\n",
    "        plt.subplot(3, 2, ii+1)\n",
    "        plot_score_regressor(X, y, regressor, regressor_name + ' ' + X_name, x_comp)"
   ]
  }
 ],
 "metadata": {
  "kernelspec": {
   "display_name": "Python 3",
   "language": "python",
   "name": "python3"
  },
  "language_info": {
   "codemirror_mode": {
    "name": "ipython",
    "version": 3
   },
   "file_extension": ".py",
   "mimetype": "text/x-python",
   "name": "python",
   "nbconvert_exporter": "python",
   "pygments_lexer": "ipython3",
   "version": "3.7.3"
  },
  "toc": {
   "base_numbering": 1,
   "nav_menu": {},
   "number_sections": true,
   "sideBar": true,
   "skip_h1_title": false,
   "title_cell": "Table of Contents",
   "title_sidebar": "Contents",
   "toc_cell": false,
   "toc_position": {},
   "toc_section_display": true,
   "toc_window_display": true
  }
 },
 "nbformat": 4,
 "nbformat_minor": 4
}
