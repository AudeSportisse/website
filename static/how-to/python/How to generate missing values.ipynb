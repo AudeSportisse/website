{
 "cells": [
  {
   "cell_type": "markdown",
   "metadata": {},
   "source": [
    "<span style=\"font-size:3em\">How to generate missing values in Python?</span> \n",
    "\n",
    "**Aude Sportisse with the help of Marine Le Morvan and Boris Muzellec**"
   ]
  },
  {
   "cell_type": "markdown",
   "metadata": {},
   "source": [
    "Missing values occur in many domains and most datasets contain missing values (due to non-responses, lost records, machine failures, dataset fusions, etc.). These missing values have to be considered before or during analyses of these datasets.\n",
    "\n",
    "Now, if you have a method that deals with missing values, for instance imputation or estimation with missing values, how can you assess the performance of your method on a given dataset? If the data already contains missing values, than this does not help you since you generally do not have a ground truth for these missing values. So you will have to simulate missing values, i.e. you remove values – which you therefore know to be the ground truth – to generate missing values.\n",
    "\n",
    "The mechanisms generating missing values can be various but usually they are classified into three main categories defined by (Rubin 1976): missing completely at random (MCAR), missing at random (MAR) and missing not at random (MNAR). The first two are also qualified as ignorable missing values mechanisms, for instance in likelihood-based approaches to handle missing values, whereas the MNAR mechanism generates nonignorable missing values. In the following we will briefly introduce each mechanism (with the definitions used widely in the literature) and propose ways of simulations missing values under these three mechanism assumptions. For more precise definitions we refer to references in the bibliography on the [R-miss-tastic](https://rmisstastic.netlify.app/bibliography/) website."
   ]
  },
  {
   "cell_type": "markdown",
   "metadata": {},
   "source": [
    "# Introduction"
   ]
  },
  {
   "cell_type": "markdown",
   "metadata": {},
   "source": [
    "## Notations"
   ]
  },
  {
   "cell_type": "markdown",
   "metadata": {},
   "source": [
    "Let's denote by $\\mathbf{X}\\in\\mathcal{X_1}\\times\\dots\\times\\mathcal{X_p}$ the complete observations. We assume that $\\mathbf{X}$ is a concatenation of $p$ columns $X_j\\in\\mathcal{X_j}$, $j\\in\\{1,\\dots,p\\}$, where $dim(\\mathcal{X_j})=n$ for all $j$. \n",
    "\n",
    "The data can be composed of quantitative and/or qualitative values, hence $\\mathcal{X_j}$ can be $\\mathbb{R}^n$, $\\mathbb{Z}^n$ or more generally $\\mathcal{S}^n$ for any discrete set $S$.\n",
    "\n",
    "Missing values are indicated as `NA` (not available) and we define an indicator matrix $\\mathbf{R}\\in\\{0,1\\}^{n\\times p}$ such that $R_{ij}=1$ if $X_{ij}$ is observed and $R_{ij}=0$ otherwise. We call this matrix $\\mathbf{R}$ the response (or missingness) pattern of the observations $\\mathbf{X}$. According to this pattern, we can partition the observations $\\mathbf{X}$ into observed and missing: $\\mathbf{X} = (\\mathbf{X}^{obs}, \\mathbf{X}^{mis})$."
   ]
  },
  {
   "cell_type": "markdown",
   "metadata": {},
   "source": [
    "## Definition of the mechanisms \n",
    "\n",
    "In order to define the different missing values mechanisms, both $\\mathbf{X}$ and $\\mathbf{R}$ are modeled as random variables with probability distributions $\\mathbb{P}_X$ and $\\mathbb{P}_R$ respectively. We parametrize the missingness distribution $\\mathbb{P}_R$ by a parameter $\\phi$.\n",
    "\n",
    "### MCAR \n",
    "\n",
    "The observations are said to be Missing Completely At Random (MCAR) if the probability that an observation is missing is independent of the variables and observations: the probability that an observation is missing does not depend on $(\\mathbf{X}^{obs},\\mathbf{X}^{mis})$. Formally this is:\n",
    "$$\\mathbb{P}_R(R\\,|\\, X^{obs}, X^{mis}; \\phi) = \\mathbb{P}_R(R) \\qquad \\forall \\, \\phi.$$\n",
    "\n",
    "### MAR\n",
    "\n",
    "The observations are said to be Missing At Random (MAR) if the probability that an observation is missing only depends on the observed data $\\mathbf{X}^{obs}$. Formally,\n",
    "\n",
    "$$\\mathbb{P}_R(R\\,|\\,X^{obs},X^{mis};\\phi)=\\mathbb{P}_R(R\\,|\\,X^{obs};\\phi) \\qquad \\forall \\,\\phi,\\, \\forall \\, X^{mis}.$$\n",
    "\n",
    "### MNAR\n",
    "\n",
    "The observations are said to be Missing Not At Random (MNAR) in all other cases, i.e. the missingness depends on the missing values and potentially also on the observed values.\n",
    "\n"
   ]
  },
  {
   "cell_type": "markdown",
   "metadata": {},
   "source": [
    "# Use of `produce_NA` with default settings\n",
    "\n",
    "For now, with the main function `produce_NA`, it is possible to generate missing values only for quantitative data which are complete.\n",
    "\n",
    "Missing values can be generated following one or more of the three main missing values mechanisms (see below for details).\n",
    "\n",
    "The function is widely based on the code of Boris Muzellec available [here](https://github.com/BorisMuzellec/MissingDataOT)."
   ]
  },
  {
   "cell_type": "markdown",
   "metadata": {},
   "source": [
    "We generate a small example of observations $\\mathbf{X}$:"
   ]
  },
  {
   "cell_type": "code",
   "execution_count": 1,
   "metadata": {},
   "outputs": [],
   "source": [
    "!pip install wget \n",
    "\n",
    "import wget\n",
    "wget.download('https://raw.githubusercontent.com/BorisMuzellec/MissingDataOT/master/utils.py')\n",
    "\n",
    "import numpy as np\n",
    "import pandas as pd\n",
    "from utils import *\n",
    "import torch\n",
    "import seaborn as sns"
   ]
  },
  {
   "cell_type": "code",
   "execution_count": 2,
   "metadata": {},
   "outputs": [],
   "source": [
    "# Fix the seed ------------------------------------------------------\n",
    "np.random.seed(0)"
   ]
  },
  {
   "cell_type": "code",
   "execution_count": 4,
   "metadata": {},
   "outputs": [
    {
     "data": {
      "text/html": [
       "<div>\n",
       "<style scoped>\n",
       "    .dataframe tbody tr th:only-of-type {\n",
       "        vertical-align: middle;\n",
       "    }\n",
       "\n",
       "    .dataframe tbody tr th {\n",
       "        vertical-align: top;\n",
       "    }\n",
       "\n",
       "    .dataframe thead th {\n",
       "        text-align: right;\n",
       "    }\n",
       "</style>\n",
       "<table border=\"1\" class=\"dataframe\">\n",
       "  <thead>\n",
       "    <tr style=\"text-align: right;\">\n",
       "      <th></th>\n",
       "      <th>0</th>\n",
       "      <th>1</th>\n",
       "      <th>2</th>\n",
       "      <th>3</th>\n",
       "    </tr>\n",
       "  </thead>\n",
       "  <tbody>\n",
       "    <tr>\n",
       "      <th>0</th>\n",
       "      <td>2.380172</td>\n",
       "      <td>4.405363</td>\n",
       "      <td>1.0</td>\n",
       "      <td>F</td>\n",
       "    </tr>\n",
       "    <tr>\n",
       "      <th>1</th>\n",
       "      <td>3.379180</td>\n",
       "      <td>2.400869</td>\n",
       "      <td>0.0</td>\n",
       "      <td>D</td>\n",
       "    </tr>\n",
       "    <tr>\n",
       "      <th>2</th>\n",
       "      <td>1.341582</td>\n",
       "      <td>4.944151</td>\n",
       "      <td>0.0</td>\n",
       "      <td>E</td>\n",
       "    </tr>\n",
       "    <tr>\n",
       "      <th>3</th>\n",
       "      <td>1.450141</td>\n",
       "      <td>2.922843</td>\n",
       "      <td>0.0</td>\n",
       "      <td>D</td>\n",
       "    </tr>\n",
       "    <tr>\n",
       "      <th>4</th>\n",
       "      <td>1.266093</td>\n",
       "      <td>0.695726</td>\n",
       "      <td>2.0</td>\n",
       "      <td>D</td>\n",
       "    </tr>\n",
       "  </tbody>\n",
       "</table>\n",
       "</div>"
      ],
      "text/plain": [
       "          0         1    2  3\n",
       "0  2.380172  4.405363  1.0  F\n",
       "1  3.379180  2.400869  0.0  D\n",
       "2  1.341582  4.944151  0.0  E\n",
       "3  1.450141  2.922843  0.0  D\n",
       "4  1.266093  0.695726  2.0  D"
      ]
     },
     "execution_count": 4,
     "metadata": {},
     "output_type": "execute_result"
    }
   ],
   "source": [
    "# Sample data generation ------------------------------------------------------\n",
    "# Generate complete data\n",
    "\n",
    "n = 100\n",
    "p = 2\n",
    "\n",
    "mu_X = np.repeat(1, p)\n",
    "Sigma_X = np.array([[1, 1], [1, 4]])\n",
    "X_complete_cont = np.random.multivariate_normal(mu_X, Sigma_X, size=n)\n",
    "\n",
    "from scipy.stats import poisson\n",
    "\n",
    "lamb = 0.5\n",
    "X_complete_discr = poisson.rvs(lamb, size=n)\n",
    "X_complete_discr = np.expand_dims(X_complete_discr, axis=1)\n",
    "\n",
    "\n",
    "n_cat = 5\n",
    "X_complete_cat = np.random.binomial(n=n_cat, p=0.5, size=n)\n",
    "X_complete_cat = np.expand_dims(X_complete_cat, axis=1)\n",
    "\n",
    "X_complete = np.concatenate((X_complete_cont, X_complete_discr, X_complete_cat),axis=1)\n",
    "\n",
    "X_complete = pd.DataFrame(X_complete)\n",
    "X_complete.iloc[:, 3] = X_complete.iloc[:, 3].astype('category')\n",
    "X_complete.iloc[:, 3].cat.categories = [\"F\", \"E\", \"D\", \"C\", \"B\", \"A\"]\n",
    "X_complete.head()"
   ]
  },
  {
   "cell_type": "markdown",
   "metadata": {},
   "source": [
    "## Minimal set of arguments\n",
    "\n",
    "In order to generate missing values for given data, `produce_NA` requires the following arguments:\n",
    "\n",
    "* `X`: the initial data (can be only complete for now) as a matrix or data.frame\n",
    "\n",
    "* `p_miss`: proportion of missing values to generate for variables which will have missing values\n",
    "\n",
    "* `mecha`: one of \"MCAR\", \"MAR\", \"MNAR\" (default: “MCAR”)"
   ]
  },
  {
   "cell_type": "code",
   "execution_count": 5,
   "metadata": {},
   "outputs": [],
   "source": [
    "# Function produce_NA for generating missing values ------------------------------------------------------\n",
    "\n",
    "def produce_NA(X, p_miss, mecha=\"MCAR\", opt=None, p_obs=None, q=None):\n",
    "    \"\"\"\n",
    "    Generate missing values for specifics missing-data mechanism and proportion of missing values. \n",
    "    \n",
    "    Parameters\n",
    "    ----------\n",
    "    X : torch.DoubleTensor or np.ndarray, shape (n, d)\n",
    "        Data for which missing values will be simulated.\n",
    "        If a numpy array is provided, it will be converted to a pytorch tensor.\n",
    "    p_miss : float\n",
    "        Proportion of missing values to generate for variables which will have missing values.\n",
    "    mecha : str, \n",
    "            Indicates the missing-data mechanism to be used. \"MCAR\" by default, \"MAR\", \"MNAR\" or \"MNARsmask\"\n",
    "    opt: str, \n",
    "         For mecha = \"MNAR\", it indicates how the missing-data mechanism is generated: using a logistic regression (\"logistic\"), quantile censorship (\"quantile\") or logistic regression for generating a self-masked MNAR mechanism (\"selfmasked\").\n",
    "    p_obs : float\n",
    "            If mecha = \"MAR\", or mecha = \"MNAR\" with opt = \"logistic\" or \"quanti\", proportion of variables with *no* missing values that will be used for the logistic masking model.\n",
    "    q : float\n",
    "        If mecha = \"MNAR\" and opt = \"quanti\", quantile level at which the cuts should occur.\n",
    "    \n",
    "    Returns\n",
    "    ----------\n",
    "    A dictionnary containing:\n",
    "    'X_init': the initial data matrix.\n",
    "    'X_incomp': the data with the generated missing values.\n",
    "    'mask': a matrix indexing the generated missing values.s\n",
    "    \"\"\"\n",
    "    \n",
    "    to_torch = torch.is_tensor(X) ## output a pytorch tensor, or a numpy array\n",
    "    if not to_torch:\n",
    "        X = X.astype(np.float32)\n",
    "        X = torch.from_numpy(X)\n",
    "    \n",
    "    if mecha == \"MAR\":\n",
    "        mask = MAR_mask(X, p_miss, p_obs).double()\n",
    "    elif mecha == \"MNAR\" and opt == \"logistic\":\n",
    "        mask = MNAR_mask_logistic(X, p_miss, p_obs).double()\n",
    "    elif mecha == \"MNAR\" and opt == \"quantile\":\n",
    "        mask = MNAR_mask_quantiles(X, p_miss, q, 1-p_obs).double()\n",
    "    elif mecha == \"MNAR\" and opt == \"selfmasked\":\n",
    "        mask = MNAR_self_mask_logistic(X, p_miss).double()\n",
    "    else:\n",
    "        mask = (torch.rand(X.shape) < p_miss).double()\n",
    "    \n",
    "    X_nas = X.clone()\n",
    "    X_nas[mask.bool()] = np.nan\n",
    "    \n",
    "    return {'X_init': X.double(), 'X_incomp': X_nas.double(), 'mask': mask}"
   ]
  },
  {
   "cell_type": "markdown",
   "metadata": {},
   "source": [
    "## Value\n",
    "\n",
    "`produce_NA` returns a list containing three elements: \n",
    "\n",
    "- `X_init`: the initial data\n",
    "- `X_incomp`: the data with the newly generated missing values\n",
    "- `mask`: a matrix indexing the generated missing values\n"
   ]
  },
  {
   "cell_type": "markdown",
   "metadata": {},
   "source": [
    "## Example"
   ]
  },
  {
   "cell_type": "code",
   "execution_count": 6,
   "metadata": {},
   "outputs": [
    {
     "name": "stdout",
     "output_type": "stream",
     "text": [
      "Percentage of newly generated missing values:  39.0  %\n"
     ]
    }
   ],
   "source": [
    "# Minimal example for generating missing data ------------------------\n",
    "X_miss_mcar = produce_NA(X_complete_cont, p_miss=0.4, mecha=\"MCAR\")\n",
    "\n",
    "X_mcar = X_miss_mcar['X_incomp']\n",
    "R_mcar = X_miss_mcar['mask']\n",
    "\n",
    "print(\"Percentage of newly generated missing values: \", (R_mcar.sum()).numpy()/np.prod(R_mcar.size())*100, \" %\")"
   ]
  },
  {
   "cell_type": "markdown",
   "metadata": {},
   "source": [
    "We can plot the data as a color-encoded matrix, cells with missing values are masked (in white). "
   ]
  },
  {
   "cell_type": "code",
   "execution_count": 7,
   "metadata": {},
   "outputs": [
    {
     "data": {
      "image/png": "[encoded data removed]",
      "text/plain": [
       "<Figure size 432x288 with 2 Axes>"
      ]
     },
     "metadata": {
      "needs_background": "light"
     },
     "output_type": "display_data"
    }
   ],
   "source": [
    "ax = sns.heatmap(X_mcar, mask=R_mcar.numpy()==1, linewidths=0.005, linecolor='black')"
   ]
  },
  {
   "cell_type": "markdown",
   "metadata": {},
   "source": [
    "# Details on all available specifications"
   ]
  },
  {
   "cell_type": "markdown",
   "metadata": {},
   "source": [
    "The main function `produce_NA` allows generating missing values in various ways. These can be specified through different arguments: \n",
    "\n",
    "`produce_NA(X, p_miss, mecha = \"MCAR\", opt = None, p_obs = None, q = None)`\n",
    "\n",
    "## Mechanisms"
   ]
  },
  {
   "cell_type": "markdown",
   "metadata": {},
   "source": [
    "### MCAR\n",
    "\n",
    "Missing Completely At Random values are generated using only the desired proportion of missing values `p_miss`, i.e. each value have the same probability `p_miss` of being missing. Therefore, we generate missing values using a Bernoulli distribution of parameter `p_miss`. "
   ]
  },
  {
   "cell_type": "code",
   "execution_count": 8,
   "metadata": {},
   "outputs": [
    {
     "name": "stdout",
     "output_type": "stream",
     "text": [
      "Percentage of generated missing values:  43.5  %\n"
     ]
    },
    {
     "data": {
      "image/png": "[encoded data removed]",
      "text/plain": [
       "<Figure size 432x288 with 2 Axes>"
      ]
     },
     "metadata": {
      "needs_background": "light"
     },
     "output_type": "display_data"
    }
   ],
   "source": [
    "# Sample mcar data -----------------------------------------\n",
    "X_miss_mcar = produce_NA(X_complete_cont, p_miss=0.4, mecha=\"MCAR\")\n",
    "\n",
    "X_mcar = X_miss_mcar['X_incomp']\n",
    "R_mcar = X_miss_mcar['mask']\n",
    "\n",
    "print(\"Percentage of generated missing values: \", (R_mcar.sum()).numpy()/np.prod(R_mcar.size())*100, \" %\")\n",
    "\n",
    "ax = sns.heatmap(X_mcar, mask=R_mcar.numpy()==1, linewidths=0.005, linecolor='black')"
   ]
  },
  {
   "cell_type": "markdown",
   "metadata": {},
   "source": [
    "### MAR\n",
    "\n",
    "Missing At Random mechanism values are generated by using a logistic model. A subset of fully observed variables (with *no* missing values) is randomly selected. The remaining variables have missing values according to a logistic model (depending on the fully observed variables only) with random weights, re-scaled so as to attain the desired proportion of missing values on those variables.\n",
    "\n",
    "There is an additional argument: \n",
    "\n",
    "* `p_obs`: the proportion of fully observed variables that will be used for the logistic masking model. Note that at least one variable is chosen to be observed\n",
    "\n",
    "Note that there exists other ways to generate missing values as described in the Rmarkdown [How generate missing values?](https://rmisstastic.netlify.app/how-to/generate/misssimul) by using patterns as in the first definition of Rubin (1976)."
   ]
  },
  {
   "cell_type": "code",
   "execution_count": 9,
   "metadata": {},
   "outputs": [
    {
     "name": "stdout",
     "output_type": "stream",
     "text": [
      "Percentage of generated missing values:  21.0  %\n"
     ]
    },
    {
     "data": {
      "image/png": "[encoded data removed]",
      "text/plain": [
       "<Figure size 432x288 with 2 Axes>"
      ]
     },
     "metadata": {
      "needs_background": "light"
     },
     "output_type": "display_data"
    }
   ],
   "source": [
    "# Sample mar data -----------------------------------------\n",
    "X_miss_mar = produce_NA(X_complete_cont, p_miss=0.4, mecha=\"MAR\", p_obs=0.5)\n",
    "\n",
    "X_mar = X_miss_mar['X_incomp']\n",
    "R_mar = X_miss_mar['mask']\n",
    "\n",
    "print(\"Percentage of generated missing values: \", (R_mar.sum()).numpy()/np.prod(R_mar.size())*100, \" %\")\n",
    "\n",
    "ax = sns.heatmap(X_mar, mask=R_mar.numpy()==1, linewidths=0.005, linecolor='black')"
   ]
  },
  {
   "cell_type": "markdown",
   "metadata": {},
   "source": [
    "### MNAR\n",
    "\n",
    "For generating MNAR data, an aditionnal argument should be given:\n",
    "\n",
    "* `opt`: it indicates how the missing-data mechanism is generated; using a logistic regression, logistic regression for generating a self-masked MNAR mechanism (\"selfmasked\") or quantile censorship (\"quantile\")\n",
    "\n",
    "#### MNAR with logistic model"
   ]
  },
  {
   "cell_type": "markdown",
   "metadata": {},
   "source": [
    "With `opt = \"logistic\"`, missing not at random data are generated with a logistic masking model. It implements two mechanisms:\n",
    "* Missing probabilities are selected with a logistic model, taking all variables as inputs. Hence, values that are\n",
    "    inputs can also be missing.\n",
    "* Variables are split into a set of intputs for a logistic model, and a set whose missing probabilities are\n",
    "    determined by the logistic model. Then inputs are then masked MCAR (hence, missing values from the second set will depend on masked values).\n",
    "  \n",
    "In either case, weights are random and the intercept is selected to attain the desired proportion of missing values.\n",
    "\n",
    "An additional argument is required: \n",
    "\n",
    "* `p_obs`: proportion of variables that will be used for the logistic masking model. Note that at the end, these variables are missing, since they are masked MCAR"
   ]
  },
  {
   "cell_type": "code",
   "execution_count": 9,
   "metadata": {},
   "outputs": [
    {
     "name": "stdout",
     "output_type": "stream",
     "text": [
      "Percentage of generated missing values:  39.5  %\n"
     ]
    },
    {
     "data": {
      "image/png": "[encoded data removed]",
      "text/plain": [
       "<Figure size 432x288 with 2 Axes>"
      ]
     },
     "metadata": {
      "needs_background": "light"
     },
     "output_type": "display_data"
    }
   ],
   "source": [
    "# Sample mnar data with logistic model -----------------------------------------\n",
    "X_miss_mnar = produce_NA(X_complete_cont, p_miss=0.4, mecha=\"MNAR\", opt=\"logistic\", p_obs=0.5)\n",
    "\n",
    "X_mnar = X_miss_mnar['X_incomp']\n",
    "R_mnar = X_miss_mnar['mask']\n",
    "\n",
    "print(\"Percentage of generated missing values: \", (R_mnar.sum()).numpy()/np.prod(R_mnar.size())*100, \" %\")\n",
    "\n",
    "ax = sns.heatmap(X_mnar, mask=R_mnar.numpy()==1, linewidths=0.005, linecolor='black')"
   ]
  },
  {
   "cell_type": "markdown",
   "metadata": {},
   "source": [
    "#### Self-masked MNAR"
   ]
  },
  {
   "cell_type": "markdown",
   "metadata": {},
   "source": [
    "For self-masked MNAR values, the missingness of the variable $X_j$ only depends on the values of $X_j$. \n",
    "\n",
    "With `opt = \"selfmasked\"`, self-masked missing not at random are generated with a logistic self-masking model. \n",
    "\n",
    "Variables have missing values probabilities\n",
    "    given by a logistic model, taking the same variable as input (hence, missingness is independent from one variable\n",
    "    to another). The intercepts are selected to attain the desired missing rate."
   ]
  },
  {
   "cell_type": "code",
   "execution_count": 10,
   "metadata": {},
   "outputs": [
    {
     "name": "stdout",
     "output_type": "stream",
     "text": [
      "Percentage of generated missing values:  39.0  %\n"
     ]
    },
    {
     "data": {
      "image/png": "[encoded data removed]",
      "text/plain": [
       "<Figure size 432x288 with 2 Axes>"
      ]
     },
     "metadata": {
      "needs_background": "light"
     },
     "output_type": "display_data"
    }
   ],
   "source": [
    "# Sample self-masked mnar data -----------------------------------------\n",
    "X_miss_selfmasked = produce_NA(X_complete_cont, p_miss=0.4, mecha=\"MNAR\", opt=\"selfmasked\")\n",
    "\n",
    "X_mnar_selfmasked = X_miss_selfmasked['X_incomp']\n",
    "R_mnar_selfmasked = X_miss_selfmasked['mask']\n",
    "\n",
    "print(\"Percentage of generated missing values: \", (R_mnar_selfmasked.sum()).numpy()/np.prod(R_mnar_selfmasked.size())*100, \" %\")\n",
    "\n",
    "ax = sns.heatmap(X_mnar_selfmasked, mask=R_mnar_selfmasked.numpy()==1, linewidths=0.005, linecolor='black')"
   ]
  },
  {
   "cell_type": "markdown",
   "metadata": {},
   "source": [
    "#### MNAR with quantile censorship"
   ]
  },
  {
   "cell_type": "markdown",
   "metadata": {},
   "source": [
    "With `opt = \"quantile\"`, missing not at random data are generated by using quantile censorship. First, a subset of variables which will have missing variables is randomly selected. Then, missing values are generated on the q-quantiles at random. Since missingness depends on quantile information, it depends on masked values, hence this is a MNAR mechanism.\n",
    "    \n",
    "Two additional arguments are required: \n",
    "\n",
    "* `p_obs`: the proportion of fully observed variables. Note that at least one variable is chosen to be observed. \n",
    "\n",
    "* `q`: quantile level at which the cuts should occur."
   ]
  },
  {
   "cell_type": "code",
   "execution_count": 11,
   "metadata": {},
   "outputs": [
    {
     "name": "stdout",
     "output_type": "stream",
     "text": [
      "Percentage of generated missing values:  16.5  %\n"
     ]
    },
    {
     "data": {
      "image/png": "[encoded data removed]",
      "text/plain": [
       "<Figure size 432x288 with 2 Axes>"
      ]
     },
     "metadata": {
      "needs_background": "light"
     },
     "output_type": "display_data"
    }
   ],
   "source": [
    "# Sample mnar missing data with quantiles -----------------------------------------\n",
    "X_miss_quant = produce_NA(X_complete_cont, p_miss=0.4, mecha=\"MNAR\", opt=\"quantile\", p_obs=0.5, q=0.3)\n",
    "\n",
    "X_mnar_quant = X_miss_quant['X_incomp']\n",
    "R_mnar_quant = X_miss_quant['mask']\n",
    "\n",
    "print(\"Percentage of generated missing values: \", (R_mnar_quant.sum()).numpy()/np.prod(R_mnar_quant.size())*100, \" %\")\n",
    "\n",
    "ax = sns.heatmap(X_mnar_quant, mask=R_mnar_quant.numpy()==1, linewidths=0.005, linecolor='black')"
   ]
  }
 ],
 "metadata": {
  "kernelspec": {
   "display_name": "Python 3",
   "language": "python",
   "name": "python3"
  },
  "language_info": {
   "codemirror_mode": {
    "name": "ipython",
    "version": 3
   },
   "file_extension": ".py",
   "mimetype": "text/x-python",
   "name": "python",
   "nbconvert_exporter": "python",
   "pygments_lexer": "ipython3",
   "version": "3.7.3"
  },
  "toc": {
   "base_numbering": 1,
   "nav_menu": {},
   "number_sections": true,
   "sideBar": true,
   "skip_h1_title": false,
   "title_cell": "Table of Contents",
   "title_sidebar": "Contents",
   "toc_cell": false,
   "toc_position": {
    "height": "calc(100% - 180px)",
    "left": "10px",
    "top": "150px",
    "width": "257.1875px"
   },
   "toc_section_display": true,
   "toc_window_display": true
  }
 },
 "nbformat": 4,
 "nbformat_minor": 4
}
