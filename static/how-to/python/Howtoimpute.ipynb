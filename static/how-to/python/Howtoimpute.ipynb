{
 "cells": [
  {
   "cell_type": "markdown",
   "metadata": {
    "colab_type": "text",
    "id": "view-in-github"
   },
   "source": [
    "<a href=\"https://colab.research.google.com/github/AudeSportisse/website/blob/master/static/how-to/python/Howtoimpute.ipynb\" target=\"_parent\"><img src=\"https://colab.research.google.com/assets/colab-badge.svg\" alt=\"Open In Colab\"/></a>"
   ]
  },
  {
   "cell_type": "markdown",
   "metadata": {
    "id": "i1qTcF91gs8S"
   },
   "source": [
    "<span style=\"font-size:3em\">How to impute missing values in Python ?</span> \n",
    "\n",
    "**Aude Sportisse**"
   ]
  },
  {
   "cell_type": "markdown",
   "metadata": {
    "id": "iBPO3Rvvg5Oe"
   },
   "source": [
    "The problem of missing data is ubiquitous in the practice of data analysis. Main approaches for handling missing data include imputation methods. In this Notebook, we first describe the main imputation methods available on R packages on synthetic data. Then, we compare them on both synthetic data for different missing-data mechanisms and percentage of missing values. Finally, we propose a function giving the comparison of the methods in one particular setting (missing-data mechanism, percentage of missing values) for a list of (complete) real datasets. "
   ]
  },
  {
   "cell_type": "markdown",
   "metadata": {
    "id": "ENTOf9I8g-A8"
   },
   "source": [
    "## Description of imputation methods on synthetic data"
   ]
  },
  {
   "cell_type": "markdown",
   "metadata": {
    "id": "Ho5xeIqlhBLr"
   },
   "source": [
    "In this section we provide, for some of the main classes and functions in Python (the list is of course not thorough) to impute missing values, links to tutorials if any, as well as a description of their main functionalities and reusable code. The goal is not to describe all the methods precisely, as many resources are already available, but rather to provide an overview of several imputation options. The methods we focus on are gathered in the table below."
   ]
  },
  {
   "cell_type": "markdown",
   "metadata": {
    "id": "FVpwbkruhFa5"
   },
   "source": [
    "| Class (or function)      | Data Types    | Underlying Method   | Imputation | Comments |\n",
    "| ------------- |:--------------| ------------------- |------------|--------------|\n",
    "| SingleImputer with strategy='mean' (default), sklearn.impute    | quantitative        |imputation by the mean| single| Easiest method |\n",
    "| softImpute function (mimics R into Python)    | quantitative  |low-rank matrix completion | single| Strong theoretical guarantees, regularization parameter to tune |\n",
    "| IterativeImputer with BayesianRidge (default), sklearn.impute         | mixed         |imputation by chained equations | single   |  Very flexible to data types, no parameter to tune |\n",
    "| IterativeImputer with ExtraTreesRegressor, sklearn.impute    | mixed         |random forests| single| Requires large sample sizes, no parameter to tune |\n",
    "| Sinkhorn imputation    | quantitative        |optimal transport| single|  |\n",
    "\n"
   ]
  },
  {
   "cell_type": "code",
   "execution_count": 1,
   "metadata": {
    "colab": {
     "base_uri": "https://localhost:8080/"
    },
    "id": "SMrtnIeWLrs3",
    "outputId": "7a6a5f26-0f15-4a29-f5c4-3dce4545e5c2"
   },
   "outputs": [
    {
     "name": "stdout",
     "output_type": "stream",
     "text": [
      "Collecting wget\n",
      "  Downloading https://files.pythonhosted.org/packages/47/6a/62e288da7bcda82b935ff0c6cfe542970f04e29c756b0e147251b2fb251f/wget-3.2.zip\n",
      "Building wheels for collected packages: wget\n",
      "  Building wheel for wget (setup.py) ... \u001b[?25l\u001b[?25hdone\n",
      "  Created wheel for wget: filename=wget-3.2-cp36-none-any.whl size=9681 sha256=eb675dbe5e31ce10b81921f50b4b2235ee2b2360f63a20cf2d14014bae29f17c\n",
      "  Stored in directory: /root/.cache/pip/wheels/40/15/30/7d8f7cea2902b4db79e3fea550d7d7b85ecb27ef992b618f3f\n",
      "Successfully built wget\n",
      "Installing collected packages: wget\n",
      "Successfully installed wget-3.2\n",
      "Collecting geomloss\n",
      "  Downloading https://files.pythonhosted.org/packages/75/66/f89d1bc1f7f21cf821d0e34aea40045a8d2a89222732cfe76511643077a1/geomloss-0.2.3-py3-none-any.whl\n",
      "Requirement already satisfied: numpy in /usr/local/lib/python3.6/dist-packages (from geomloss) (1.18.5)\n",
      "Installing collected packages: geomloss\n",
      "Successfully installed geomloss-0.2.3\n"
     ]
    }
   ],
   "source": [
    "!pip install wget \n",
    "!pip install geomloss\n",
    "from sklearn.impute import SimpleImputer\n",
    "from sklearn.experimental import enable_iterative_imputer\n",
    "from sklearn.impute import IterativeImputer\n",
    "from sklearn.ensemble import ExtraTreesRegressor\n",
    "from sklearn.linear_model import BayesianRidge\n",
    "\n",
    "\n",
    "## Downoald additional code\n",
    "import wget\n",
    "wget.download('https://raw.githubusercontent.com/BorisMuzellec/MissingDataOT/master/softimpute.py')\n",
    "wget.download('https://raw.githubusercontent.com/BorisMuzellec/MissingDataOT/master/imputers.py')\n",
    "wget.download('https://raw.githubusercontent.com/BorisMuzellec/MissingDataOT/master/data_loaders.py')\n",
    "wget.download('https://raw.githubusercontent.com/BorisMuzellec/MissingDataOT/master/utils.py')\n",
    "wget.download('https://raw.githubusercontent.com/R-miss-tastic/website/master/static/how-to/python/produceNA.py')\n",
    "wget.download('https://raw.githubusercontent.com/R-miss-tastic/website/master/static/how-to/python/tools.py')\n",
    "wget.download('https://raw.githubusercontent.com/R-miss-tastic/website/master/static/how-to/python/MIWAE_functions.py')\n",
    "from softimpute import softimpute, cv_softimpute\n",
    "from imputers import OTimputer\n",
    "from data_loaders import * \n",
    "\n",
    "import numpy as np\n",
    "\n",
    "import pandas as pd\n",
    "\n",
    "from utils import *\n",
    "\n",
    "import torch\n",
    "import torchvision\n",
    "import torch.nn as nn\n",
    "import torch.distributions as td\n",
    "from torch import nn, optim\n",
    "from torch.nn import functional as F\n",
    "from torchvision import datasets, transforms\n",
    "from torchvision.utils import save_image\n",
    "\n",
    "import scipy.stats\n",
    "import scipy.io\n",
    "import scipy.sparse\n",
    "from scipy.io import loadmat\n",
    "\n",
    "import matplotlib.pyplot as plt\n",
    "\n",
    "from produceNA import *\n",
    "\n",
    "from tools import color_imputedvalues_orange\n",
    "\n",
    "from itertools import product \n",
    "\n",
    "from sklearn.preprocessing import scale\n",
    "\n",
    "import os\n",
    "\n",
    "from MIWAE_functions import *\n",
    "\n",
    "def warn(*args, **kwargs):\n",
    "    pass\n",
    "import warnings\n",
    "warnings.warn = warn"
   ]
  },
  {
   "cell_type": "markdown",
   "metadata": {
    "id": "DhbsQAdIhMqm"
   },
   "source": [
    "Let us consider a Gaussian data matrix of size $n$ times $p$. "
   ]
  },
  {
   "cell_type": "code",
   "execution_count": 2,
   "metadata": {
    "id": "ftTfE3hSgLZO"
   },
   "outputs": [],
   "source": [
    "#### Simulation of the data matrix ####\n",
    "\n",
    "np.random.seed(0)  # fix the seed \n",
    "\n",
    "n = 1000 \n",
    "p = 10 \n",
    "\n",
    "mean = np.repeat(0, p) \n",
    "cov = 0.5 * (np.ones((p,p)) + np.eye(p)) \n",
    "x_comp = np.random.multivariate_normal(mean, cov, size = n)"
   ]
  },
  {
   "cell_type": "code",
   "execution_count": 3,
   "metadata": {
    "colab": {
     "base_uri": "https://localhost:8080/",
     "height": 204
    },
    "id": "DQzLbx6agPJ9",
    "outputId": "6aa2cce4-2126-4a33-e41d-9936faefe3a6"
   },
   "outputs": [
    {
     "data": {
      "text/html": [
       "<div>\n",
       "<style scoped>\n",
       "    .dataframe tbody tr th:only-of-type {\n",
       "        vertical-align: middle;\n",
       "    }\n",
       "\n",
       "    .dataframe tbody tr th {\n",
       "        vertical-align: top;\n",
       "    }\n",
       "\n",
       "    .dataframe thead th {\n",
       "        text-align: right;\n",
       "    }\n",
       "</style>\n",
       "<table border=\"1\" class=\"dataframe\">\n",
       "  <thead>\n",
       "    <tr style=\"text-align: right;\">\n",
       "      <th></th>\n",
       "      <th>0</th>\n",
       "      <th>1</th>\n",
       "      <th>2</th>\n",
       "      <th>3</th>\n",
       "      <th>4</th>\n",
       "      <th>5</th>\n",
       "      <th>6</th>\n",
       "      <th>7</th>\n",
       "      <th>8</th>\n",
       "      <th>9</th>\n",
       "    </tr>\n",
       "  </thead>\n",
       "  <tbody>\n",
       "    <tr>\n",
       "      <th>0</th>\n",
       "      <td>-1.039823</td>\n",
       "      <td>-1.406895</td>\n",
       "      <td>-0.701245</td>\n",
       "      <td>-0.243445</td>\n",
       "      <td>-0.512836</td>\n",
       "      <td>-2.146725</td>\n",
       "      <td>-2.522237</td>\n",
       "      <td>-0.761441</td>\n",
       "      <td>-2.379464</td>\n",
       "      <td>-1.368450</td>\n",
       "    </tr>\n",
       "    <tr>\n",
       "      <th>1</th>\n",
       "      <td>0.868731</td>\n",
       "      <td>-0.006509</td>\n",
       "      <td>0.654021</td>\n",
       "      <td>-0.705815</td>\n",
       "      <td>-0.288841</td>\n",
       "      <td>-0.423724</td>\n",
       "      <td>-0.259798</td>\n",
       "      <td>0.275939</td>\n",
       "      <td>-1.031320</td>\n",
       "      <td>-0.150938</td>\n",
       "    </tr>\n",
       "    <tr>\n",
       "      <th>2</th>\n",
       "      <td>2.331809</td>\n",
       "      <td>2.866483</td>\n",
       "      <td>2.478842</td>\n",
       "      <td>2.833329</td>\n",
       "      <td>2.348079</td>\n",
       "      <td>2.431913</td>\n",
       "      <td>0.914379</td>\n",
       "      <td>0.759329</td>\n",
       "      <td>1.057632</td>\n",
       "      <td>0.911685</td>\n",
       "    </tr>\n",
       "    <tr>\n",
       "      <th>3</th>\n",
       "      <td>0.138767</td>\n",
       "      <td>-0.401317</td>\n",
       "      <td>0.912531</td>\n",
       "      <td>-0.471823</td>\n",
       "      <td>-1.372814</td>\n",
       "      <td>0.072473</td>\n",
       "      <td>0.632320</td>\n",
       "      <td>-0.727102</td>\n",
       "      <td>0.330743</td>\n",
       "      <td>-0.262900</td>\n",
       "    </tr>\n",
       "    <tr>\n",
       "      <th>4</th>\n",
       "      <td>-0.174949</td>\n",
       "      <td>-0.192462</td>\n",
       "      <td>0.099167</td>\n",
       "      <td>1.580241</td>\n",
       "      <td>1.062209</td>\n",
       "      <td>-0.191656</td>\n",
       "      <td>0.591569</td>\n",
       "      <td>1.045559</td>\n",
       "      <td>2.122082</td>\n",
       "      <td>1.834517</td>\n",
       "    </tr>\n",
       "  </tbody>\n",
       "</table>\n",
       "</div>"
      ],
      "text/plain": [
       "          0         1         2  ...         7         8         9\n",
       "0 -1.039823 -1.406895 -0.701245  ... -0.761441 -2.379464 -1.368450\n",
       "1  0.868731 -0.006509  0.654021  ...  0.275939 -1.031320 -0.150938\n",
       "2  2.331809  2.866483  2.478842  ...  0.759329  1.057632  0.911685\n",
       "3  0.138767 -0.401317  0.912531  ... -0.727102  0.330743 -0.262900\n",
       "4 -0.174949 -0.192462  0.099167  ...  1.045559  2.122082  1.834517\n",
       "\n",
       "[5 rows x 10 columns]"
      ]
     },
     "execution_count": 3,
     "metadata": {
      "tags": []
     },
     "output_type": "execute_result"
    }
   ],
   "source": [
    "pd.DataFrame(x_comp).head()"
   ]
  },
  {
   "cell_type": "markdown",
   "metadata": {
    "id": "lb479WachRCy"
   },
   "source": [
    "We introduce some missing (here MCAR) values in the data matrix using the function `produce_NA` given in the Python Notebook [How to generate missing values in Python ?](https://rmisstastic.netlify.app/how-to/python/generate_html/how%20to%20generate%20missing%20values). "
   ]
  },
  {
   "cell_type": "code",
   "execution_count": 4,
   "metadata": {
    "id": "AkamQRyUgR3e"
   },
   "outputs": [],
   "source": [
    "#### Introduction of missing values ####\n",
    "\n",
    "perc_miss = 0.3 # 30% NA\n",
    "\n",
    "XproduceNA =  produce_NA(x_comp, p_miss=perc_miss, mecha=\"MCAR\")\n",
    "X_miss = XproduceNA['X_incomp']\n",
    "x_miss = X_miss.numpy()\n",
    "Mask = XproduceNA['mask'] # True for missing values, False for others"
   ]
  },
  {
   "cell_type": "code",
   "execution_count": 6,
   "metadata": {
    "colab": {
     "base_uri": "https://localhost:8080/",
     "height": 145
    },
    "id": "wZxCsxd_gXu2",
    "outputId": "487a6ddb-5d2f-4fb1-ffcb-59fa42a3664c"
   },
   "outputs": [
    {
     "data": {
      "text/html": [
       "<style  type=\"text/css\" >\n",
       "#T_1d3f395c_404f_11eb_864b_0242ac1c0002row0_col4,#T_1d3f395c_404f_11eb_864b_0242ac1c0002row0_col7,#T_1d3f395c_404f_11eb_864b_0242ac1c0002row1_col1,#T_1d3f395c_404f_11eb_864b_0242ac1c0002row1_col3,#T_1d3f395c_404f_11eb_864b_0242ac1c0002row1_col6,#T_1d3f395c_404f_11eb_864b_0242ac1c0002row1_col8,#T_1d3f395c_404f_11eb_864b_0242ac1c0002row2_col0,#T_1d3f395c_404f_11eb_864b_0242ac1c0002row2_col4,#T_1d3f395c_404f_11eb_864b_0242ac1c0002row2_col5,#T_1d3f395c_404f_11eb_864b_0242ac1c0002row3_col7,#T_1d3f395c_404f_11eb_864b_0242ac1c0002row4_col0,#T_1d3f395c_404f_11eb_864b_0242ac1c0002row4_col3,#T_1d3f395c_404f_11eb_864b_0242ac1c0002row4_col7{\n",
       "            background-color:  orange;\n",
       "        }</style><table id=\"T_1d3f395c_404f_11eb_864b_0242ac1c0002\" ><thead>    <tr>        <th class=\"blank level0\" ></th>        <th class=\"col_heading level0 col0\" >0</th>        <th class=\"col_heading level0 col1\" >1</th>        <th class=\"col_heading level0 col2\" >2</th>        <th class=\"col_heading level0 col3\" >3</th>        <th class=\"col_heading level0 col4\" >4</th>        <th class=\"col_heading level0 col5\" >5</th>        <th class=\"col_heading level0 col6\" >6</th>        <th class=\"col_heading level0 col7\" >7</th>        <th class=\"col_heading level0 col8\" >8</th>        <th class=\"col_heading level0 col9\" >9</th>    </tr></thead><tbody>\n",
       "                <tr>\n",
       "                        <th id=\"T_1d3f395c_404f_11eb_864b_0242ac1c0002level0_row0\" class=\"row_heading level0 row0\" >0</th>\n",
       "                        <td id=\"T_1d3f395c_404f_11eb_864b_0242ac1c0002row0_col0\" class=\"data row0 col0\" >-1.039823</td>\n",
       "                        <td id=\"T_1d3f395c_404f_11eb_864b_0242ac1c0002row0_col1\" class=\"data row0 col1\" >-1.406895</td>\n",
       "                        <td id=\"T_1d3f395c_404f_11eb_864b_0242ac1c0002row0_col2\" class=\"data row0 col2\" >-0.701245</td>\n",
       "                        <td id=\"T_1d3f395c_404f_11eb_864b_0242ac1c0002row0_col3\" class=\"data row0 col3\" >-0.243445</td>\n",
       "                        <td id=\"T_1d3f395c_404f_11eb_864b_0242ac1c0002row0_col4\" class=\"data row0 col4\" >nan</td>\n",
       "                        <td id=\"T_1d3f395c_404f_11eb_864b_0242ac1c0002row0_col5\" class=\"data row0 col5\" >-2.146725</td>\n",
       "                        <td id=\"T_1d3f395c_404f_11eb_864b_0242ac1c0002row0_col6\" class=\"data row0 col6\" >-2.522237</td>\n",
       "                        <td id=\"T_1d3f395c_404f_11eb_864b_0242ac1c0002row0_col7\" class=\"data row0 col7\" >nan</td>\n",
       "                        <td id=\"T_1d3f395c_404f_11eb_864b_0242ac1c0002row0_col8\" class=\"data row0 col8\" >-2.379464</td>\n",
       "                        <td id=\"T_1d3f395c_404f_11eb_864b_0242ac1c0002row0_col9\" class=\"data row0 col9\" >-1.368450</td>\n",
       "            </tr>\n",
       "            <tr>\n",
       "                        <th id=\"T_1d3f395c_404f_11eb_864b_0242ac1c0002level0_row1\" class=\"row_heading level0 row1\" >1</th>\n",
       "                        <td id=\"T_1d3f395c_404f_11eb_864b_0242ac1c0002row1_col0\" class=\"data row1 col0\" >0.868731</td>\n",
       "                        <td id=\"T_1d3f395c_404f_11eb_864b_0242ac1c0002row1_col1\" class=\"data row1 col1\" >nan</td>\n",
       "                        <td id=\"T_1d3f395c_404f_11eb_864b_0242ac1c0002row1_col2\" class=\"data row1 col2\" >0.654021</td>\n",
       "                        <td id=\"T_1d3f395c_404f_11eb_864b_0242ac1c0002row1_col3\" class=\"data row1 col3\" >nan</td>\n",
       "                        <td id=\"T_1d3f395c_404f_11eb_864b_0242ac1c0002row1_col4\" class=\"data row1 col4\" >-0.288841</td>\n",
       "                        <td id=\"T_1d3f395c_404f_11eb_864b_0242ac1c0002row1_col5\" class=\"data row1 col5\" >-0.423724</td>\n",
       "                        <td id=\"T_1d3f395c_404f_11eb_864b_0242ac1c0002row1_col6\" class=\"data row1 col6\" >nan</td>\n",
       "                        <td id=\"T_1d3f395c_404f_11eb_864b_0242ac1c0002row1_col7\" class=\"data row1 col7\" >0.275939</td>\n",
       "                        <td id=\"T_1d3f395c_404f_11eb_864b_0242ac1c0002row1_col8\" class=\"data row1 col8\" >nan</td>\n",
       "                        <td id=\"T_1d3f395c_404f_11eb_864b_0242ac1c0002row1_col9\" class=\"data row1 col9\" >-0.150938</td>\n",
       "            </tr>\n",
       "            <tr>\n",
       "                        <th id=\"T_1d3f395c_404f_11eb_864b_0242ac1c0002level0_row2\" class=\"row_heading level0 row2\" >2</th>\n",
       "                        <td id=\"T_1d3f395c_404f_11eb_864b_0242ac1c0002row2_col0\" class=\"data row2 col0\" >nan</td>\n",
       "                        <td id=\"T_1d3f395c_404f_11eb_864b_0242ac1c0002row2_col1\" class=\"data row2 col1\" >2.866483</td>\n",
       "                        <td id=\"T_1d3f395c_404f_11eb_864b_0242ac1c0002row2_col2\" class=\"data row2 col2\" >2.478842</td>\n",
       "                        <td id=\"T_1d3f395c_404f_11eb_864b_0242ac1c0002row2_col3\" class=\"data row2 col3\" >2.833329</td>\n",
       "                        <td id=\"T_1d3f395c_404f_11eb_864b_0242ac1c0002row2_col4\" class=\"data row2 col4\" >nan</td>\n",
       "                        <td id=\"T_1d3f395c_404f_11eb_864b_0242ac1c0002row2_col5\" class=\"data row2 col5\" >nan</td>\n",
       "                        <td id=\"T_1d3f395c_404f_11eb_864b_0242ac1c0002row2_col6\" class=\"data row2 col6\" >0.914379</td>\n",
       "                        <td id=\"T_1d3f395c_404f_11eb_864b_0242ac1c0002row2_col7\" class=\"data row2 col7\" >0.759329</td>\n",
       "                        <td id=\"T_1d3f395c_404f_11eb_864b_0242ac1c0002row2_col8\" class=\"data row2 col8\" >1.057632</td>\n",
       "                        <td id=\"T_1d3f395c_404f_11eb_864b_0242ac1c0002row2_col9\" class=\"data row2 col9\" >0.911685</td>\n",
       "            </tr>\n",
       "            <tr>\n",
       "                        <th id=\"T_1d3f395c_404f_11eb_864b_0242ac1c0002level0_row3\" class=\"row_heading level0 row3\" >3</th>\n",
       "                        <td id=\"T_1d3f395c_404f_11eb_864b_0242ac1c0002row3_col0\" class=\"data row3 col0\" >0.138767</td>\n",
       "                        <td id=\"T_1d3f395c_404f_11eb_864b_0242ac1c0002row3_col1\" class=\"data row3 col1\" >-0.401317</td>\n",
       "                        <td id=\"T_1d3f395c_404f_11eb_864b_0242ac1c0002row3_col2\" class=\"data row3 col2\" >0.912531</td>\n",
       "                        <td id=\"T_1d3f395c_404f_11eb_864b_0242ac1c0002row3_col3\" class=\"data row3 col3\" >-0.471823</td>\n",
       "                        <td id=\"T_1d3f395c_404f_11eb_864b_0242ac1c0002row3_col4\" class=\"data row3 col4\" >-1.372814</td>\n",
       "                        <td id=\"T_1d3f395c_404f_11eb_864b_0242ac1c0002row3_col5\" class=\"data row3 col5\" >0.072473</td>\n",
       "                        <td id=\"T_1d3f395c_404f_11eb_864b_0242ac1c0002row3_col6\" class=\"data row3 col6\" >0.632320</td>\n",
       "                        <td id=\"T_1d3f395c_404f_11eb_864b_0242ac1c0002row3_col7\" class=\"data row3 col7\" >nan</td>\n",
       "                        <td id=\"T_1d3f395c_404f_11eb_864b_0242ac1c0002row3_col8\" class=\"data row3 col8\" >0.330743</td>\n",
       "                        <td id=\"T_1d3f395c_404f_11eb_864b_0242ac1c0002row3_col9\" class=\"data row3 col9\" >-0.262900</td>\n",
       "            </tr>\n",
       "            <tr>\n",
       "                        <th id=\"T_1d3f395c_404f_11eb_864b_0242ac1c0002level0_row4\" class=\"row_heading level0 row4\" >4</th>\n",
       "                        <td id=\"T_1d3f395c_404f_11eb_864b_0242ac1c0002row4_col0\" class=\"data row4 col0\" >nan</td>\n",
       "                        <td id=\"T_1d3f395c_404f_11eb_864b_0242ac1c0002row4_col1\" class=\"data row4 col1\" >-0.192462</td>\n",
       "                        <td id=\"T_1d3f395c_404f_11eb_864b_0242ac1c0002row4_col2\" class=\"data row4 col2\" >0.099167</td>\n",
       "                        <td id=\"T_1d3f395c_404f_11eb_864b_0242ac1c0002row4_col3\" class=\"data row4 col3\" >nan</td>\n",
       "                        <td id=\"T_1d3f395c_404f_11eb_864b_0242ac1c0002row4_col4\" class=\"data row4 col4\" >1.062209</td>\n",
       "                        <td id=\"T_1d3f395c_404f_11eb_864b_0242ac1c0002row4_col5\" class=\"data row4 col5\" >-0.191656</td>\n",
       "                        <td id=\"T_1d3f395c_404f_11eb_864b_0242ac1c0002row4_col6\" class=\"data row4 col6\" >0.591569</td>\n",
       "                        <td id=\"T_1d3f395c_404f_11eb_864b_0242ac1c0002row4_col7\" class=\"data row4 col7\" >nan</td>\n",
       "                        <td id=\"T_1d3f395c_404f_11eb_864b_0242ac1c0002row4_col8\" class=\"data row4 col8\" >2.122082</td>\n",
       "                        <td id=\"T_1d3f395c_404f_11eb_864b_0242ac1c0002row4_col9\" class=\"data row4 col9\" >1.834517</td>\n",
       "            </tr>\n",
       "    </tbody></table>"
      ],
      "text/plain": [
       "<pandas.io.formats.style.Styler at 0x7fbefc7f2828>"
      ]
     },
     "execution_count": 6,
     "metadata": {
      "tags": []
     },
     "output_type": "execute_result"
    }
   ],
   "source": [
    "pd.DataFrame(x_miss).head().style.highlight_null(null_color='orange')"
   ]
  },
  {
   "cell_type": "markdown",
   "metadata": {
    "id": "QN3Yzt19ggGj"
   },
   "source": [
    "### Imputation by the mean"
   ]
  },
  {
   "cell_type": "markdown",
   "metadata": {
    "id": "ZuTTnjDngkUC"
   },
   "source": [
    "The [SimpleImputer](https://scikit-learn.org/stable/modules/generated/sklearn.impute.SimpleImputer.html#sklearn.impute.SimpleImputer) class provides basic strategies for imputing missing values as the mean imputation. This is a naive imputation, which serves as benchmark in the sequel. "
   ]
  },
  {
   "cell_type": "code",
   "execution_count": 5,
   "metadata": {
    "id": "rE8Z9hUngap6"
   },
   "outputs": [],
   "source": [
    "x_mean = SimpleImputer().fit_transform(x_miss)"
   ]
  },
  {
   "cell_type": "code",
   "execution_count": 6,
   "metadata": {
    "colab": {
     "base_uri": "https://localhost:8080/",
     "height": 145
    },
    "id": "DuKeiY9bgqQU",
    "outputId": "4e8856ee-d76a-4ee1-85e7-2119bd967f6b"
   },
   "outputs": [
    {
     "data": {
      "text/html": [
       "<style  type=\"text/css\" >\n",
       "#T_23da4872_4051_11eb_900d_0242ac1c0002row0_col0,#T_23da4872_4051_11eb_900d_0242ac1c0002row0_col4,#T_23da4872_4051_11eb_900d_0242ac1c0002row1_col1,#T_23da4872_4051_11eb_900d_0242ac1c0002row1_col2,#T_23da4872_4051_11eb_900d_0242ac1c0002row1_col3,#T_23da4872_4051_11eb_900d_0242ac1c0002row1_col4,#T_23da4872_4051_11eb_900d_0242ac1c0002row1_col6,#T_23da4872_4051_11eb_900d_0242ac1c0002row1_col7,#T_23da4872_4051_11eb_900d_0242ac1c0002row1_col8,#T_23da4872_4051_11eb_900d_0242ac1c0002row2_col1,#T_23da4872_4051_11eb_900d_0242ac1c0002row2_col7,#T_23da4872_4051_11eb_900d_0242ac1c0002row2_col9,#T_23da4872_4051_11eb_900d_0242ac1c0002row3_col0,#T_23da4872_4051_11eb_900d_0242ac1c0002row3_col4,#T_23da4872_4051_11eb_900d_0242ac1c0002row3_col8,#T_23da4872_4051_11eb_900d_0242ac1c0002row4_col3,#T_23da4872_4051_11eb_900d_0242ac1c0002row4_col5,#T_23da4872_4051_11eb_900d_0242ac1c0002row4_col8,#T_23da4872_4051_11eb_900d_0242ac1c0002row4_col9{\n",
       "            background-color:  orange;\n",
       "        }#T_23da4872_4051_11eb_900d_0242ac1c0002row0_col1,#T_23da4872_4051_11eb_900d_0242ac1c0002row0_col2,#T_23da4872_4051_11eb_900d_0242ac1c0002row0_col3,#T_23da4872_4051_11eb_900d_0242ac1c0002row0_col5,#T_23da4872_4051_11eb_900d_0242ac1c0002row0_col6,#T_23da4872_4051_11eb_900d_0242ac1c0002row0_col7,#T_23da4872_4051_11eb_900d_0242ac1c0002row0_col8,#T_23da4872_4051_11eb_900d_0242ac1c0002row0_col9,#T_23da4872_4051_11eb_900d_0242ac1c0002row1_col0,#T_23da4872_4051_11eb_900d_0242ac1c0002row1_col5,#T_23da4872_4051_11eb_900d_0242ac1c0002row1_col9,#T_23da4872_4051_11eb_900d_0242ac1c0002row2_col0,#T_23da4872_4051_11eb_900d_0242ac1c0002row2_col2,#T_23da4872_4051_11eb_900d_0242ac1c0002row2_col3,#T_23da4872_4051_11eb_900d_0242ac1c0002row2_col4,#T_23da4872_4051_11eb_900d_0242ac1c0002row2_col5,#T_23da4872_4051_11eb_900d_0242ac1c0002row2_col6,#T_23da4872_4051_11eb_900d_0242ac1c0002row2_col8,#T_23da4872_4051_11eb_900d_0242ac1c0002row3_col1,#T_23da4872_4051_11eb_900d_0242ac1c0002row3_col2,#T_23da4872_4051_11eb_900d_0242ac1c0002row3_col3,#T_23da4872_4051_11eb_900d_0242ac1c0002row3_col5,#T_23da4872_4051_11eb_900d_0242ac1c0002row3_col6,#T_23da4872_4051_11eb_900d_0242ac1c0002row3_col7,#T_23da4872_4051_11eb_900d_0242ac1c0002row3_col9,#T_23da4872_4051_11eb_900d_0242ac1c0002row4_col0,#T_23da4872_4051_11eb_900d_0242ac1c0002row4_col1,#T_23da4872_4051_11eb_900d_0242ac1c0002row4_col2,#T_23da4872_4051_11eb_900d_0242ac1c0002row4_col4,#T_23da4872_4051_11eb_900d_0242ac1c0002row4_col6,#T_23da4872_4051_11eb_900d_0242ac1c0002row4_col7{\n",
       "            background-color:  None;\n",
       "        }</style><table id=\"T_23da4872_4051_11eb_900d_0242ac1c0002\" ><thead>    <tr>        <th class=\"blank level0\" ></th>        <th class=\"col_heading level0 col0\" >0</th>        <th class=\"col_heading level0 col1\" >1</th>        <th class=\"col_heading level0 col2\" >2</th>        <th class=\"col_heading level0 col3\" >3</th>        <th class=\"col_heading level0 col4\" >4</th>        <th class=\"col_heading level0 col5\" >5</th>        <th class=\"col_heading level0 col6\" >6</th>        <th class=\"col_heading level0 col7\" >7</th>        <th class=\"col_heading level0 col8\" >8</th>        <th class=\"col_heading level0 col9\" >9</th>    </tr></thead><tbody>\n",
       "                <tr>\n",
       "                        <th id=\"T_23da4872_4051_11eb_900d_0242ac1c0002level0_row0\" class=\"row_heading level0 row0\" >0</th>\n",
       "                        <td id=\"T_23da4872_4051_11eb_900d_0242ac1c0002row0_col0\" class=\"data row0 col0\" >0.029710</td>\n",
       "                        <td id=\"T_23da4872_4051_11eb_900d_0242ac1c0002row0_col1\" class=\"data row0 col1\" >-1.406895</td>\n",
       "                        <td id=\"T_23da4872_4051_11eb_900d_0242ac1c0002row0_col2\" class=\"data row0 col2\" >-0.701245</td>\n",
       "                        <td id=\"T_23da4872_4051_11eb_900d_0242ac1c0002row0_col3\" class=\"data row0 col3\" >-0.243445</td>\n",
       "                        <td id=\"T_23da4872_4051_11eb_900d_0242ac1c0002row0_col4\" class=\"data row0 col4\" >0.033973</td>\n",
       "                        <td id=\"T_23da4872_4051_11eb_900d_0242ac1c0002row0_col5\" class=\"data row0 col5\" >-2.146725</td>\n",
       "                        <td id=\"T_23da4872_4051_11eb_900d_0242ac1c0002row0_col6\" class=\"data row0 col6\" >-2.522237</td>\n",
       "                        <td id=\"T_23da4872_4051_11eb_900d_0242ac1c0002row0_col7\" class=\"data row0 col7\" >-0.761441</td>\n",
       "                        <td id=\"T_23da4872_4051_11eb_900d_0242ac1c0002row0_col8\" class=\"data row0 col8\" >-2.379464</td>\n",
       "                        <td id=\"T_23da4872_4051_11eb_900d_0242ac1c0002row0_col9\" class=\"data row0 col9\" >-1.368450</td>\n",
       "            </tr>\n",
       "            <tr>\n",
       "                        <th id=\"T_23da4872_4051_11eb_900d_0242ac1c0002level0_row1\" class=\"row_heading level0 row1\" >1</th>\n",
       "                        <td id=\"T_23da4872_4051_11eb_900d_0242ac1c0002row1_col0\" class=\"data row1 col0\" >0.868731</td>\n",
       "                        <td id=\"T_23da4872_4051_11eb_900d_0242ac1c0002row1_col1\" class=\"data row1 col1\" >-0.020743</td>\n",
       "                        <td id=\"T_23da4872_4051_11eb_900d_0242ac1c0002row1_col2\" class=\"data row1 col2\" >-0.031679</td>\n",
       "                        <td id=\"T_23da4872_4051_11eb_900d_0242ac1c0002row1_col3\" class=\"data row1 col3\" >0.053342</td>\n",
       "                        <td id=\"T_23da4872_4051_11eb_900d_0242ac1c0002row1_col4\" class=\"data row1 col4\" >0.033973</td>\n",
       "                        <td id=\"T_23da4872_4051_11eb_900d_0242ac1c0002row1_col5\" class=\"data row1 col5\" >-0.423724</td>\n",
       "                        <td id=\"T_23da4872_4051_11eb_900d_0242ac1c0002row1_col6\" class=\"data row1 col6\" >0.074815</td>\n",
       "                        <td id=\"T_23da4872_4051_11eb_900d_0242ac1c0002row1_col7\" class=\"data row1 col7\" >-0.030403</td>\n",
       "                        <td id=\"T_23da4872_4051_11eb_900d_0242ac1c0002row1_col8\" class=\"data row1 col8\" >0.037237</td>\n",
       "                        <td id=\"T_23da4872_4051_11eb_900d_0242ac1c0002row1_col9\" class=\"data row1 col9\" >-0.150938</td>\n",
       "            </tr>\n",
       "            <tr>\n",
       "                        <th id=\"T_23da4872_4051_11eb_900d_0242ac1c0002level0_row2\" class=\"row_heading level0 row2\" >2</th>\n",
       "                        <td id=\"T_23da4872_4051_11eb_900d_0242ac1c0002row2_col0\" class=\"data row2 col0\" >2.331809</td>\n",
       "                        <td id=\"T_23da4872_4051_11eb_900d_0242ac1c0002row2_col1\" class=\"data row2 col1\" >-0.020743</td>\n",
       "                        <td id=\"T_23da4872_4051_11eb_900d_0242ac1c0002row2_col2\" class=\"data row2 col2\" >2.478842</td>\n",
       "                        <td id=\"T_23da4872_4051_11eb_900d_0242ac1c0002row2_col3\" class=\"data row2 col3\" >2.833329</td>\n",
       "                        <td id=\"T_23da4872_4051_11eb_900d_0242ac1c0002row2_col4\" class=\"data row2 col4\" >2.348079</td>\n",
       "                        <td id=\"T_23da4872_4051_11eb_900d_0242ac1c0002row2_col5\" class=\"data row2 col5\" >2.431913</td>\n",
       "                        <td id=\"T_23da4872_4051_11eb_900d_0242ac1c0002row2_col6\" class=\"data row2 col6\" >0.914379</td>\n",
       "                        <td id=\"T_23da4872_4051_11eb_900d_0242ac1c0002row2_col7\" class=\"data row2 col7\" >-0.030403</td>\n",
       "                        <td id=\"T_23da4872_4051_11eb_900d_0242ac1c0002row2_col8\" class=\"data row2 col8\" >1.057632</td>\n",
       "                        <td id=\"T_23da4872_4051_11eb_900d_0242ac1c0002row2_col9\" class=\"data row2 col9\" >-0.041246</td>\n",
       "            </tr>\n",
       "            <tr>\n",
       "                        <th id=\"T_23da4872_4051_11eb_900d_0242ac1c0002level0_row3\" class=\"row_heading level0 row3\" >3</th>\n",
       "                        <td id=\"T_23da4872_4051_11eb_900d_0242ac1c0002row3_col0\" class=\"data row3 col0\" >0.029710</td>\n",
       "                        <td id=\"T_23da4872_4051_11eb_900d_0242ac1c0002row3_col1\" class=\"data row3 col1\" >-0.401317</td>\n",
       "                        <td id=\"T_23da4872_4051_11eb_900d_0242ac1c0002row3_col2\" class=\"data row3 col2\" >0.912531</td>\n",
       "                        <td id=\"T_23da4872_4051_11eb_900d_0242ac1c0002row3_col3\" class=\"data row3 col3\" >-0.471823</td>\n",
       "                        <td id=\"T_23da4872_4051_11eb_900d_0242ac1c0002row3_col4\" class=\"data row3 col4\" >0.033973</td>\n",
       "                        <td id=\"T_23da4872_4051_11eb_900d_0242ac1c0002row3_col5\" class=\"data row3 col5\" >0.072473</td>\n",
       "                        <td id=\"T_23da4872_4051_11eb_900d_0242ac1c0002row3_col6\" class=\"data row3 col6\" >0.632320</td>\n",
       "                        <td id=\"T_23da4872_4051_11eb_900d_0242ac1c0002row3_col7\" class=\"data row3 col7\" >-0.727102</td>\n",
       "                        <td id=\"T_23da4872_4051_11eb_900d_0242ac1c0002row3_col8\" class=\"data row3 col8\" >0.037237</td>\n",
       "                        <td id=\"T_23da4872_4051_11eb_900d_0242ac1c0002row3_col9\" class=\"data row3 col9\" >-0.262900</td>\n",
       "            </tr>\n",
       "            <tr>\n",
       "                        <th id=\"T_23da4872_4051_11eb_900d_0242ac1c0002level0_row4\" class=\"row_heading level0 row4\" >4</th>\n",
       "                        <td id=\"T_23da4872_4051_11eb_900d_0242ac1c0002row4_col0\" class=\"data row4 col0\" >-0.174949</td>\n",
       "                        <td id=\"T_23da4872_4051_11eb_900d_0242ac1c0002row4_col1\" class=\"data row4 col1\" >-0.192462</td>\n",
       "                        <td id=\"T_23da4872_4051_11eb_900d_0242ac1c0002row4_col2\" class=\"data row4 col2\" >0.099167</td>\n",
       "                        <td id=\"T_23da4872_4051_11eb_900d_0242ac1c0002row4_col3\" class=\"data row4 col3\" >0.053342</td>\n",
       "                        <td id=\"T_23da4872_4051_11eb_900d_0242ac1c0002row4_col4\" class=\"data row4 col4\" >1.062209</td>\n",
       "                        <td id=\"T_23da4872_4051_11eb_900d_0242ac1c0002row4_col5\" class=\"data row4 col5\" >0.010758</td>\n",
       "                        <td id=\"T_23da4872_4051_11eb_900d_0242ac1c0002row4_col6\" class=\"data row4 col6\" >0.591569</td>\n",
       "                        <td id=\"T_23da4872_4051_11eb_900d_0242ac1c0002row4_col7\" class=\"data row4 col7\" >1.045559</td>\n",
       "                        <td id=\"T_23da4872_4051_11eb_900d_0242ac1c0002row4_col8\" class=\"data row4 col8\" >0.037237</td>\n",
       "                        <td id=\"T_23da4872_4051_11eb_900d_0242ac1c0002row4_col9\" class=\"data row4 col9\" >-0.041246</td>\n",
       "            </tr>\n",
       "    </tbody></table>"
      ],
      "text/plain": [
       "<pandas.io.formats.style.Styler at 0x7f6172686f60>"
      ]
     },
     "execution_count": 6,
     "metadata": {
      "tags": []
     },
     "output_type": "execute_result"
    }
   ],
   "source": [
    "pd.DataFrame(x_mean).head().style.applymap(color_imputedvalues_orange, x_miss=x_miss)"
   ]
  },
  {
   "cell_type": "markdown",
   "metadata": {
    "id": "JtkJbkPYhjbq"
   },
   "source": [
    "### softimpute"
   ]
  },
  {
   "cell_type": "markdown",
   "metadata": {
    "id": "ylBM0_flhwH1"
   },
   "source": [
    "The function softimpute (original article of [Hastie and al.](http://jmlr.org/papers/volume16/hastie15a/hastie15a.pdf)) can be used to impute quantitative data. The function coded here in Python mimics the function softimpute of the [R package softImpute](https://cran.r-project.org/web/packages/softImpute/index.html). It fits a low-rank matrix approximation to a matrix with missing values via nuclear-norm regularization. The main arguments are the following. \n",
    "\n",
    "* `X`: the data set with missing values (matrix).\n",
    "\n",
    "* `lambda`: the nuclear-norm regularization parameter.\n",
    "\n",
    "To calibrate the parameter lambda, one may perform cross-validation, coded in the function cv_softimpute which takes in argument the data set with missing values and the length of the grid on which cross-validation is performed."
   ]
  },
  {
   "cell_type": "code",
   "execution_count": 7,
   "metadata": {
    "id": "hV6nTvcjh9p6"
   },
   "outputs": [],
   "source": [
    "cv_error, grid_lambda = cv_softimpute(x_miss, grid_len=15)\n",
    "lbda = grid_lambda[np.argmin(cv_error)]\n",
    "x_soft = softimpute((x_miss), lbda)[1]"
   ]
  },
  {
   "cell_type": "code",
   "execution_count": 8,
   "metadata": {
    "colab": {
     "base_uri": "https://localhost:8080/",
     "height": 145
    },
    "id": "whQMfIJhiAVF",
    "outputId": "64dfd84a-435c-4aa5-e3b4-a9ded99efb9b"
   },
   "outputs": [
    {
     "data": {
      "text/html": [
       "<style  type=\"text/css\" >\n",
       "#T_2d903c8c_4051_11eb_900d_0242ac1c0002row0_col0,#T_2d903c8c_4051_11eb_900d_0242ac1c0002row0_col4,#T_2d903c8c_4051_11eb_900d_0242ac1c0002row1_col1,#T_2d903c8c_4051_11eb_900d_0242ac1c0002row1_col2,#T_2d903c8c_4051_11eb_900d_0242ac1c0002row1_col3,#T_2d903c8c_4051_11eb_900d_0242ac1c0002row1_col4,#T_2d903c8c_4051_11eb_900d_0242ac1c0002row1_col6,#T_2d903c8c_4051_11eb_900d_0242ac1c0002row1_col7,#T_2d903c8c_4051_11eb_900d_0242ac1c0002row1_col8,#T_2d903c8c_4051_11eb_900d_0242ac1c0002row2_col1,#T_2d903c8c_4051_11eb_900d_0242ac1c0002row2_col7,#T_2d903c8c_4051_11eb_900d_0242ac1c0002row2_col9,#T_2d903c8c_4051_11eb_900d_0242ac1c0002row3_col0,#T_2d903c8c_4051_11eb_900d_0242ac1c0002row3_col4,#T_2d903c8c_4051_11eb_900d_0242ac1c0002row3_col8,#T_2d903c8c_4051_11eb_900d_0242ac1c0002row4_col3,#T_2d903c8c_4051_11eb_900d_0242ac1c0002row4_col5,#T_2d903c8c_4051_11eb_900d_0242ac1c0002row4_col8,#T_2d903c8c_4051_11eb_900d_0242ac1c0002row4_col9{\n",
       "            background-color:  orange;\n",
       "        }#T_2d903c8c_4051_11eb_900d_0242ac1c0002row0_col1,#T_2d903c8c_4051_11eb_900d_0242ac1c0002row0_col2,#T_2d903c8c_4051_11eb_900d_0242ac1c0002row0_col3,#T_2d903c8c_4051_11eb_900d_0242ac1c0002row0_col5,#T_2d903c8c_4051_11eb_900d_0242ac1c0002row0_col6,#T_2d903c8c_4051_11eb_900d_0242ac1c0002row0_col7,#T_2d903c8c_4051_11eb_900d_0242ac1c0002row0_col8,#T_2d903c8c_4051_11eb_900d_0242ac1c0002row0_col9,#T_2d903c8c_4051_11eb_900d_0242ac1c0002row1_col0,#T_2d903c8c_4051_11eb_900d_0242ac1c0002row1_col5,#T_2d903c8c_4051_11eb_900d_0242ac1c0002row1_col9,#T_2d903c8c_4051_11eb_900d_0242ac1c0002row2_col0,#T_2d903c8c_4051_11eb_900d_0242ac1c0002row2_col2,#T_2d903c8c_4051_11eb_900d_0242ac1c0002row2_col3,#T_2d903c8c_4051_11eb_900d_0242ac1c0002row2_col4,#T_2d903c8c_4051_11eb_900d_0242ac1c0002row2_col5,#T_2d903c8c_4051_11eb_900d_0242ac1c0002row2_col6,#T_2d903c8c_4051_11eb_900d_0242ac1c0002row2_col8,#T_2d903c8c_4051_11eb_900d_0242ac1c0002row3_col1,#T_2d903c8c_4051_11eb_900d_0242ac1c0002row3_col2,#T_2d903c8c_4051_11eb_900d_0242ac1c0002row3_col3,#T_2d903c8c_4051_11eb_900d_0242ac1c0002row3_col5,#T_2d903c8c_4051_11eb_900d_0242ac1c0002row3_col6,#T_2d903c8c_4051_11eb_900d_0242ac1c0002row3_col7,#T_2d903c8c_4051_11eb_900d_0242ac1c0002row3_col9,#T_2d903c8c_4051_11eb_900d_0242ac1c0002row4_col0,#T_2d903c8c_4051_11eb_900d_0242ac1c0002row4_col1,#T_2d903c8c_4051_11eb_900d_0242ac1c0002row4_col2,#T_2d903c8c_4051_11eb_900d_0242ac1c0002row4_col4,#T_2d903c8c_4051_11eb_900d_0242ac1c0002row4_col6,#T_2d903c8c_4051_11eb_900d_0242ac1c0002row4_col7{\n",
       "            background-color:  None;\n",
       "        }</style><table id=\"T_2d903c8c_4051_11eb_900d_0242ac1c0002\" ><thead>    <tr>        <th class=\"blank level0\" ></th>        <th class=\"col_heading level0 col0\" >0</th>        <th class=\"col_heading level0 col1\" >1</th>        <th class=\"col_heading level0 col2\" >2</th>        <th class=\"col_heading level0 col3\" >3</th>        <th class=\"col_heading level0 col4\" >4</th>        <th class=\"col_heading level0 col5\" >5</th>        <th class=\"col_heading level0 col6\" >6</th>        <th class=\"col_heading level0 col7\" >7</th>        <th class=\"col_heading level0 col8\" >8</th>        <th class=\"col_heading level0 col9\" >9</th>    </tr></thead><tbody>\n",
       "                <tr>\n",
       "                        <th id=\"T_2d903c8c_4051_11eb_900d_0242ac1c0002level0_row0\" class=\"row_heading level0 row0\" >0</th>\n",
       "                        <td id=\"T_2d903c8c_4051_11eb_900d_0242ac1c0002row0_col0\" class=\"data row0 col0\" >-1.002617</td>\n",
       "                        <td id=\"T_2d903c8c_4051_11eb_900d_0242ac1c0002row0_col1\" class=\"data row0 col1\" >-1.406895</td>\n",
       "                        <td id=\"T_2d903c8c_4051_11eb_900d_0242ac1c0002row0_col2\" class=\"data row0 col2\" >-0.701245</td>\n",
       "                        <td id=\"T_2d903c8c_4051_11eb_900d_0242ac1c0002row0_col3\" class=\"data row0 col3\" >-0.243445</td>\n",
       "                        <td id=\"T_2d903c8c_4051_11eb_900d_0242ac1c0002row0_col4\" class=\"data row0 col4\" >-0.856365</td>\n",
       "                        <td id=\"T_2d903c8c_4051_11eb_900d_0242ac1c0002row0_col5\" class=\"data row0 col5\" >-2.146725</td>\n",
       "                        <td id=\"T_2d903c8c_4051_11eb_900d_0242ac1c0002row0_col6\" class=\"data row0 col6\" >-2.522237</td>\n",
       "                        <td id=\"T_2d903c8c_4051_11eb_900d_0242ac1c0002row0_col7\" class=\"data row0 col7\" >-0.761441</td>\n",
       "                        <td id=\"T_2d903c8c_4051_11eb_900d_0242ac1c0002row0_col8\" class=\"data row0 col8\" >-2.379464</td>\n",
       "                        <td id=\"T_2d903c8c_4051_11eb_900d_0242ac1c0002row0_col9\" class=\"data row0 col9\" >-1.368450</td>\n",
       "            </tr>\n",
       "            <tr>\n",
       "                        <th id=\"T_2d903c8c_4051_11eb_900d_0242ac1c0002level0_row1\" class=\"row_heading level0 row1\" >1</th>\n",
       "                        <td id=\"T_2d903c8c_4051_11eb_900d_0242ac1c0002row1_col0\" class=\"data row1 col0\" >0.868731</td>\n",
       "                        <td id=\"T_2d903c8c_4051_11eb_900d_0242ac1c0002row1_col1\" class=\"data row1 col1\" >0.067122</td>\n",
       "                        <td id=\"T_2d903c8c_4051_11eb_900d_0242ac1c0002row1_col2\" class=\"data row1 col2\" >0.026269</td>\n",
       "                        <td id=\"T_2d903c8c_4051_11eb_900d_0242ac1c0002row1_col3\" class=\"data row1 col3\" >0.047901</td>\n",
       "                        <td id=\"T_2d903c8c_4051_11eb_900d_0242ac1c0002row1_col4\" class=\"data row1 col4\" >0.060389</td>\n",
       "                        <td id=\"T_2d903c8c_4051_11eb_900d_0242ac1c0002row1_col5\" class=\"data row1 col5\" >-0.423724</td>\n",
       "                        <td id=\"T_2d903c8c_4051_11eb_900d_0242ac1c0002row1_col6\" class=\"data row1 col6\" >0.042934</td>\n",
       "                        <td id=\"T_2d903c8c_4051_11eb_900d_0242ac1c0002row1_col7\" class=\"data row1 col7\" >-0.009069</td>\n",
       "                        <td id=\"T_2d903c8c_4051_11eb_900d_0242ac1c0002row1_col8\" class=\"data row1 col8\" >0.058313</td>\n",
       "                        <td id=\"T_2d903c8c_4051_11eb_900d_0242ac1c0002row1_col9\" class=\"data row1 col9\" >-0.150938</td>\n",
       "            </tr>\n",
       "            <tr>\n",
       "                        <th id=\"T_2d903c8c_4051_11eb_900d_0242ac1c0002level0_row2\" class=\"row_heading level0 row2\" >2</th>\n",
       "                        <td id=\"T_2d903c8c_4051_11eb_900d_0242ac1c0002row2_col0\" class=\"data row2 col0\" >2.331809</td>\n",
       "                        <td id=\"T_2d903c8c_4051_11eb_900d_0242ac1c0002row2_col1\" class=\"data row2 col1\" >1.342976</td>\n",
       "                        <td id=\"T_2d903c8c_4051_11eb_900d_0242ac1c0002row2_col2\" class=\"data row2 col2\" >2.478842</td>\n",
       "                        <td id=\"T_2d903c8c_4051_11eb_900d_0242ac1c0002row2_col3\" class=\"data row2 col3\" >2.833329</td>\n",
       "                        <td id=\"T_2d903c8c_4051_11eb_900d_0242ac1c0002row2_col4\" class=\"data row2 col4\" >2.348079</td>\n",
       "                        <td id=\"T_2d903c8c_4051_11eb_900d_0242ac1c0002row2_col5\" class=\"data row2 col5\" >2.431913</td>\n",
       "                        <td id=\"T_2d903c8c_4051_11eb_900d_0242ac1c0002row2_col6\" class=\"data row2 col6\" >0.914379</td>\n",
       "                        <td id=\"T_2d903c8c_4051_11eb_900d_0242ac1c0002row2_col7\" class=\"data row2 col7\" >1.266218</td>\n",
       "                        <td id=\"T_2d903c8c_4051_11eb_900d_0242ac1c0002row2_col8\" class=\"data row2 col8\" >1.057632</td>\n",
       "                        <td id=\"T_2d903c8c_4051_11eb_900d_0242ac1c0002row2_col9\" class=\"data row2 col9\" >1.373486</td>\n",
       "            </tr>\n",
       "            <tr>\n",
       "                        <th id=\"T_2d903c8c_4051_11eb_900d_0242ac1c0002level0_row3\" class=\"row_heading level0 row3\" >3</th>\n",
       "                        <td id=\"T_2d903c8c_4051_11eb_900d_0242ac1c0002row3_col0\" class=\"data row3 col0\" >-0.026684</td>\n",
       "                        <td id=\"T_2d903c8c_4051_11eb_900d_0242ac1c0002row3_col1\" class=\"data row3 col1\" >-0.401317</td>\n",
       "                        <td id=\"T_2d903c8c_4051_11eb_900d_0242ac1c0002row3_col2\" class=\"data row3 col2\" >0.912531</td>\n",
       "                        <td id=\"T_2d903c8c_4051_11eb_900d_0242ac1c0002row3_col3\" class=\"data row3 col3\" >-0.471823</td>\n",
       "                        <td id=\"T_2d903c8c_4051_11eb_900d_0242ac1c0002row3_col4\" class=\"data row3 col4\" >-0.020879</td>\n",
       "                        <td id=\"T_2d903c8c_4051_11eb_900d_0242ac1c0002row3_col5\" class=\"data row3 col5\" >0.072473</td>\n",
       "                        <td id=\"T_2d903c8c_4051_11eb_900d_0242ac1c0002row3_col6\" class=\"data row3 col6\" >0.632320</td>\n",
       "                        <td id=\"T_2d903c8c_4051_11eb_900d_0242ac1c0002row3_col7\" class=\"data row3 col7\" >-0.727102</td>\n",
       "                        <td id=\"T_2d903c8c_4051_11eb_900d_0242ac1c0002row3_col8\" class=\"data row3 col8\" >-0.027941</td>\n",
       "                        <td id=\"T_2d903c8c_4051_11eb_900d_0242ac1c0002row3_col9\" class=\"data row3 col9\" >-0.262900</td>\n",
       "            </tr>\n",
       "            <tr>\n",
       "                        <th id=\"T_2d903c8c_4051_11eb_900d_0242ac1c0002level0_row4\" class=\"row_heading level0 row4\" >4</th>\n",
       "                        <td id=\"T_2d903c8c_4051_11eb_900d_0242ac1c0002row4_col0\" class=\"data row4 col0\" >-0.174949</td>\n",
       "                        <td id=\"T_2d903c8c_4051_11eb_900d_0242ac1c0002row4_col1\" class=\"data row4 col1\" >-0.192462</td>\n",
       "                        <td id=\"T_2d903c8c_4051_11eb_900d_0242ac1c0002row4_col2\" class=\"data row4 col2\" >0.099167</td>\n",
       "                        <td id=\"T_2d903c8c_4051_11eb_900d_0242ac1c0002row4_col3\" class=\"data row4 col3\" >0.267834</td>\n",
       "                        <td id=\"T_2d903c8c_4051_11eb_900d_0242ac1c0002row4_col4\" class=\"data row4 col4\" >1.062209</td>\n",
       "                        <td id=\"T_2d903c8c_4051_11eb_900d_0242ac1c0002row4_col5\" class=\"data row4 col5\" >0.273338</td>\n",
       "                        <td id=\"T_2d903c8c_4051_11eb_900d_0242ac1c0002row4_col6\" class=\"data row4 col6\" >0.591569</td>\n",
       "                        <td id=\"T_2d903c8c_4051_11eb_900d_0242ac1c0002row4_col7\" class=\"data row4 col7\" >1.045559</td>\n",
       "                        <td id=\"T_2d903c8c_4051_11eb_900d_0242ac1c0002row4_col8\" class=\"data row4 col8\" >0.224839</td>\n",
       "                        <td id=\"T_2d903c8c_4051_11eb_900d_0242ac1c0002row4_col9\" class=\"data row4 col9\" >0.287975</td>\n",
       "            </tr>\n",
       "    </tbody></table>"
      ],
      "text/plain": [
       "<pandas.io.formats.style.Styler at 0x7f6113bd0ef0>"
      ]
     },
     "execution_count": 8,
     "metadata": {
      "tags": []
     },
     "output_type": "execute_result"
    }
   ],
   "source": [
    "pd.DataFrame(x_soft).head().style.applymap(color_imputedvalues_orange, x_miss=x_miss)"
   ]
  },
  {
   "cell_type": "markdown",
   "metadata": {
    "id": "_NvD41DniCZk"
   },
   "source": [
    "### Iterative chained equations"
   ]
  },
  {
   "cell_type": "markdown",
   "metadata": {
    "id": "G0Ouw8ZuiIy_"
   },
   "source": [
    "Iterative chained equations methods consist in (iterative) imputation using conditional expectation. The [IterativeImputer](https://scikit-learn.org/stable/modules/generated/sklearn.impute.IterativeImputer.html#sklearn.impute.IterativeImputer) class provides such methods and is inspired by the [mice](https://cran.r-project.org/web/packages/mice/index.html)  package in R but differs from it by returning a single imputation instead of multiple imputations. \n",
    "\n",
    "The main arguments are\n",
    "\n",
    "* `estimator`: the estimator to use for the imputation. By default, it is the BayesianRidge estimator which does a regularized linear regression.\n",
    "\n",
    "*  `random_state`: maximum number of imputation rounds to perform. (The last imputations are returned.)\n",
    "\n",
    "*  `max_iter`: seed of the pseudo random number generator to use.\n",
    "\n",
    "The method fit_transform allows to fit the imputer on the incomplete matrix and return the complete matrix. "
   ]
  },
  {
   "cell_type": "code",
   "execution_count": 9,
   "metadata": {
    "id": "17Y8BsBUiLSw"
   },
   "outputs": [],
   "source": [
    "x_ice = IterativeImputer(random_state=0, max_iter=50).fit_transform(x_miss)"
   ]
  },
  {
   "cell_type": "code",
   "execution_count": 10,
   "metadata": {
    "colab": {
     "base_uri": "https://localhost:8080/",
     "height": 145
    },
    "id": "HLr1FZ0QiNHN",
    "outputId": "b84761f9-b596-4d8e-fc89-6c07c8213cee"
   },
   "outputs": [
    {
     "data": {
      "text/html": [
       "<style  type=\"text/css\" >\n",
       "#T_2db16b50_4051_11eb_900d_0242ac1c0002row0_col0,#T_2db16b50_4051_11eb_900d_0242ac1c0002row0_col4,#T_2db16b50_4051_11eb_900d_0242ac1c0002row1_col1,#T_2db16b50_4051_11eb_900d_0242ac1c0002row1_col2,#T_2db16b50_4051_11eb_900d_0242ac1c0002row1_col3,#T_2db16b50_4051_11eb_900d_0242ac1c0002row1_col4,#T_2db16b50_4051_11eb_900d_0242ac1c0002row1_col6,#T_2db16b50_4051_11eb_900d_0242ac1c0002row1_col7,#T_2db16b50_4051_11eb_900d_0242ac1c0002row1_col8,#T_2db16b50_4051_11eb_900d_0242ac1c0002row2_col1,#T_2db16b50_4051_11eb_900d_0242ac1c0002row2_col7,#T_2db16b50_4051_11eb_900d_0242ac1c0002row2_col9,#T_2db16b50_4051_11eb_900d_0242ac1c0002row3_col0,#T_2db16b50_4051_11eb_900d_0242ac1c0002row3_col4,#T_2db16b50_4051_11eb_900d_0242ac1c0002row3_col8,#T_2db16b50_4051_11eb_900d_0242ac1c0002row4_col3,#T_2db16b50_4051_11eb_900d_0242ac1c0002row4_col5,#T_2db16b50_4051_11eb_900d_0242ac1c0002row4_col8,#T_2db16b50_4051_11eb_900d_0242ac1c0002row4_col9{\n",
       "            background-color:  orange;\n",
       "        }#T_2db16b50_4051_11eb_900d_0242ac1c0002row0_col1,#T_2db16b50_4051_11eb_900d_0242ac1c0002row0_col2,#T_2db16b50_4051_11eb_900d_0242ac1c0002row0_col3,#T_2db16b50_4051_11eb_900d_0242ac1c0002row0_col5,#T_2db16b50_4051_11eb_900d_0242ac1c0002row0_col6,#T_2db16b50_4051_11eb_900d_0242ac1c0002row0_col7,#T_2db16b50_4051_11eb_900d_0242ac1c0002row0_col8,#T_2db16b50_4051_11eb_900d_0242ac1c0002row0_col9,#T_2db16b50_4051_11eb_900d_0242ac1c0002row1_col0,#T_2db16b50_4051_11eb_900d_0242ac1c0002row1_col5,#T_2db16b50_4051_11eb_900d_0242ac1c0002row1_col9,#T_2db16b50_4051_11eb_900d_0242ac1c0002row2_col0,#T_2db16b50_4051_11eb_900d_0242ac1c0002row2_col2,#T_2db16b50_4051_11eb_900d_0242ac1c0002row2_col3,#T_2db16b50_4051_11eb_900d_0242ac1c0002row2_col4,#T_2db16b50_4051_11eb_900d_0242ac1c0002row2_col5,#T_2db16b50_4051_11eb_900d_0242ac1c0002row2_col6,#T_2db16b50_4051_11eb_900d_0242ac1c0002row2_col8,#T_2db16b50_4051_11eb_900d_0242ac1c0002row3_col1,#T_2db16b50_4051_11eb_900d_0242ac1c0002row3_col2,#T_2db16b50_4051_11eb_900d_0242ac1c0002row3_col3,#T_2db16b50_4051_11eb_900d_0242ac1c0002row3_col5,#T_2db16b50_4051_11eb_900d_0242ac1c0002row3_col6,#T_2db16b50_4051_11eb_900d_0242ac1c0002row3_col7,#T_2db16b50_4051_11eb_900d_0242ac1c0002row3_col9,#T_2db16b50_4051_11eb_900d_0242ac1c0002row4_col0,#T_2db16b50_4051_11eb_900d_0242ac1c0002row4_col1,#T_2db16b50_4051_11eb_900d_0242ac1c0002row4_col2,#T_2db16b50_4051_11eb_900d_0242ac1c0002row4_col4,#T_2db16b50_4051_11eb_900d_0242ac1c0002row4_col6,#T_2db16b50_4051_11eb_900d_0242ac1c0002row4_col7{\n",
       "            background-color:  None;\n",
       "        }</style><table id=\"T_2db16b50_4051_11eb_900d_0242ac1c0002\" ><thead>    <tr>        <th class=\"blank level0\" ></th>        <th class=\"col_heading level0 col0\" >0</th>        <th class=\"col_heading level0 col1\" >1</th>        <th class=\"col_heading level0 col2\" >2</th>        <th class=\"col_heading level0 col3\" >3</th>        <th class=\"col_heading level0 col4\" >4</th>        <th class=\"col_heading level0 col5\" >5</th>        <th class=\"col_heading level0 col6\" >6</th>        <th class=\"col_heading level0 col7\" >7</th>        <th class=\"col_heading level0 col8\" >8</th>        <th class=\"col_heading level0 col9\" >9</th>    </tr></thead><tbody>\n",
       "                <tr>\n",
       "                        <th id=\"T_2db16b50_4051_11eb_900d_0242ac1c0002level0_row0\" class=\"row_heading level0 row0\" >0</th>\n",
       "                        <td id=\"T_2db16b50_4051_11eb_900d_0242ac1c0002row0_col0\" class=\"data row0 col0\" >-1.438259</td>\n",
       "                        <td id=\"T_2db16b50_4051_11eb_900d_0242ac1c0002row0_col1\" class=\"data row0 col1\" >-1.406895</td>\n",
       "                        <td id=\"T_2db16b50_4051_11eb_900d_0242ac1c0002row0_col2\" class=\"data row0 col2\" >-0.701245</td>\n",
       "                        <td id=\"T_2db16b50_4051_11eb_900d_0242ac1c0002row0_col3\" class=\"data row0 col3\" >-0.243445</td>\n",
       "                        <td id=\"T_2db16b50_4051_11eb_900d_0242ac1c0002row0_col4\" class=\"data row0 col4\" >-0.927438</td>\n",
       "                        <td id=\"T_2db16b50_4051_11eb_900d_0242ac1c0002row0_col5\" class=\"data row0 col5\" >-2.146725</td>\n",
       "                        <td id=\"T_2db16b50_4051_11eb_900d_0242ac1c0002row0_col6\" class=\"data row0 col6\" >-2.522237</td>\n",
       "                        <td id=\"T_2db16b50_4051_11eb_900d_0242ac1c0002row0_col7\" class=\"data row0 col7\" >-0.761441</td>\n",
       "                        <td id=\"T_2db16b50_4051_11eb_900d_0242ac1c0002row0_col8\" class=\"data row0 col8\" >-2.379464</td>\n",
       "                        <td id=\"T_2db16b50_4051_11eb_900d_0242ac1c0002row0_col9\" class=\"data row0 col9\" >-1.368450</td>\n",
       "            </tr>\n",
       "            <tr>\n",
       "                        <th id=\"T_2db16b50_4051_11eb_900d_0242ac1c0002level0_row1\" class=\"row_heading level0 row1\" >1</th>\n",
       "                        <td id=\"T_2db16b50_4051_11eb_900d_0242ac1c0002row1_col0\" class=\"data row1 col0\" >0.868731</td>\n",
       "                        <td id=\"T_2db16b50_4051_11eb_900d_0242ac1c0002row1_col1\" class=\"data row1 col1\" >0.155321</td>\n",
       "                        <td id=\"T_2db16b50_4051_11eb_900d_0242ac1c0002row1_col2\" class=\"data row1 col2\" >0.008853</td>\n",
       "                        <td id=\"T_2db16b50_4051_11eb_900d_0242ac1c0002row1_col3\" class=\"data row1 col3\" >0.101059</td>\n",
       "                        <td id=\"T_2db16b50_4051_11eb_900d_0242ac1c0002row1_col4\" class=\"data row1 col4\" >0.181765</td>\n",
       "                        <td id=\"T_2db16b50_4051_11eb_900d_0242ac1c0002row1_col5\" class=\"data row1 col5\" >-0.423724</td>\n",
       "                        <td id=\"T_2db16b50_4051_11eb_900d_0242ac1c0002row1_col6\" class=\"data row1 col6\" >0.162612</td>\n",
       "                        <td id=\"T_2db16b50_4051_11eb_900d_0242ac1c0002row1_col7\" class=\"data row1 col7\" >-0.050342</td>\n",
       "                        <td id=\"T_2db16b50_4051_11eb_900d_0242ac1c0002row1_col8\" class=\"data row1 col8\" >0.167739</td>\n",
       "                        <td id=\"T_2db16b50_4051_11eb_900d_0242ac1c0002row1_col9\" class=\"data row1 col9\" >-0.150938</td>\n",
       "            </tr>\n",
       "            <tr>\n",
       "                        <th id=\"T_2db16b50_4051_11eb_900d_0242ac1c0002level0_row2\" class=\"row_heading level0 row2\" >2</th>\n",
       "                        <td id=\"T_2db16b50_4051_11eb_900d_0242ac1c0002row2_col0\" class=\"data row2 col0\" >2.331809</td>\n",
       "                        <td id=\"T_2db16b50_4051_11eb_900d_0242ac1c0002row2_col1\" class=\"data row2 col1\" >1.844140</td>\n",
       "                        <td id=\"T_2db16b50_4051_11eb_900d_0242ac1c0002row2_col2\" class=\"data row2 col2\" >2.478842</td>\n",
       "                        <td id=\"T_2db16b50_4051_11eb_900d_0242ac1c0002row2_col3\" class=\"data row2 col3\" >2.833329</td>\n",
       "                        <td id=\"T_2db16b50_4051_11eb_900d_0242ac1c0002row2_col4\" class=\"data row2 col4\" >2.348079</td>\n",
       "                        <td id=\"T_2db16b50_4051_11eb_900d_0242ac1c0002row2_col5\" class=\"data row2 col5\" >2.431913</td>\n",
       "                        <td id=\"T_2db16b50_4051_11eb_900d_0242ac1c0002row2_col6\" class=\"data row2 col6\" >0.914379</td>\n",
       "                        <td id=\"T_2db16b50_4051_11eb_900d_0242ac1c0002row2_col7\" class=\"data row2 col7\" >1.656961</td>\n",
       "                        <td id=\"T_2db16b50_4051_11eb_900d_0242ac1c0002row2_col8\" class=\"data row2 col8\" >1.057632</td>\n",
       "                        <td id=\"T_2db16b50_4051_11eb_900d_0242ac1c0002row2_col9\" class=\"data row2 col9\" >1.838453</td>\n",
       "            </tr>\n",
       "            <tr>\n",
       "                        <th id=\"T_2db16b50_4051_11eb_900d_0242ac1c0002level0_row3\" class=\"row_heading level0 row3\" >3</th>\n",
       "                        <td id=\"T_2db16b50_4051_11eb_900d_0242ac1c0002row3_col0\" class=\"data row3 col0\" >-0.017588</td>\n",
       "                        <td id=\"T_2db16b50_4051_11eb_900d_0242ac1c0002row3_col1\" class=\"data row3 col1\" >-0.401317</td>\n",
       "                        <td id=\"T_2db16b50_4051_11eb_900d_0242ac1c0002row3_col2\" class=\"data row3 col2\" >0.912531</td>\n",
       "                        <td id=\"T_2db16b50_4051_11eb_900d_0242ac1c0002row3_col3\" class=\"data row3 col3\" >-0.471823</td>\n",
       "                        <td id=\"T_2db16b50_4051_11eb_900d_0242ac1c0002row3_col4\" class=\"data row3 col4\" >-0.017242</td>\n",
       "                        <td id=\"T_2db16b50_4051_11eb_900d_0242ac1c0002row3_col5\" class=\"data row3 col5\" >0.072473</td>\n",
       "                        <td id=\"T_2db16b50_4051_11eb_900d_0242ac1c0002row3_col6\" class=\"data row3 col6\" >0.632320</td>\n",
       "                        <td id=\"T_2db16b50_4051_11eb_900d_0242ac1c0002row3_col7\" class=\"data row3 col7\" >-0.727102</td>\n",
       "                        <td id=\"T_2db16b50_4051_11eb_900d_0242ac1c0002row3_col8\" class=\"data row3 col8\" >0.005056</td>\n",
       "                        <td id=\"T_2db16b50_4051_11eb_900d_0242ac1c0002row3_col9\" class=\"data row3 col9\" >-0.262900</td>\n",
       "            </tr>\n",
       "            <tr>\n",
       "                        <th id=\"T_2db16b50_4051_11eb_900d_0242ac1c0002level0_row4\" class=\"row_heading level0 row4\" >4</th>\n",
       "                        <td id=\"T_2db16b50_4051_11eb_900d_0242ac1c0002row4_col0\" class=\"data row4 col0\" >-0.174949</td>\n",
       "                        <td id=\"T_2db16b50_4051_11eb_900d_0242ac1c0002row4_col1\" class=\"data row4 col1\" >-0.192462</td>\n",
       "                        <td id=\"T_2db16b50_4051_11eb_900d_0242ac1c0002row4_col2\" class=\"data row4 col2\" >0.099167</td>\n",
       "                        <td id=\"T_2db16b50_4051_11eb_900d_0242ac1c0002row4_col3\" class=\"data row4 col3\" >0.393973</td>\n",
       "                        <td id=\"T_2db16b50_4051_11eb_900d_0242ac1c0002row4_col4\" class=\"data row4 col4\" >1.062209</td>\n",
       "                        <td id=\"T_2db16b50_4051_11eb_900d_0242ac1c0002row4_col5\" class=\"data row4 col5\" >0.385472</td>\n",
       "                        <td id=\"T_2db16b50_4051_11eb_900d_0242ac1c0002row4_col6\" class=\"data row4 col6\" >0.591569</td>\n",
       "                        <td id=\"T_2db16b50_4051_11eb_900d_0242ac1c0002row4_col7\" class=\"data row4 col7\" >1.045559</td>\n",
       "                        <td id=\"T_2db16b50_4051_11eb_900d_0242ac1c0002row4_col8\" class=\"data row4 col8\" >0.297830</td>\n",
       "                        <td id=\"T_2db16b50_4051_11eb_900d_0242ac1c0002row4_col9\" class=\"data row4 col9\" >0.362947</td>\n",
       "            </tr>\n",
       "    </tbody></table>"
      ],
      "text/plain": [
       "<pandas.io.formats.style.Styler at 0x7f6113bda6a0>"
      ]
     },
     "execution_count": 10,
     "metadata": {
      "tags": []
     },
     "output_type": "execute_result"
    }
   ],
   "source": [
    "pd.DataFrame(x_ice).head().style.applymap(color_imputedvalues_orange, x_miss=x_miss)"
   ]
  },
  {
   "cell_type": "markdown",
   "metadata": {
    "id": "u7GSf3jriPQa"
   },
   "source": [
    "Another estimor can be used, the ExtraTreesRegressor estimator, which trains iterative random forest instead of doing iterative regression and mimics the [missForest](https://cran.r-project.org/web/packages/missForest/missForest.pdf) in R. [ExtraTreesRegressor](https://scikit-learn.org/stable/modules/generated/sklearn.ensemble.ExtraTreesRegressor.html#sklearn.ensemble.ExtraTreesRegressor) fits a number of randomized extra-trees and averages the results. It comes from the module sklearn.ensemble. Its main arguments are the number of trees in the forest and the random state which allows to control the sources of randomness. "
   ]
  },
  {
   "cell_type": "code",
   "execution_count": 11,
   "metadata": {
    "id": "BgflJeWQiQRZ"
   },
   "outputs": [],
   "source": [
    "estimator_rf = ExtraTreesRegressor(n_estimators=10, random_state=0)\n",
    "x_rf = IterativeImputer(estimator=estimator_rf, random_state=0, max_iter=50).fit_transform(x_miss)"
   ]
  },
  {
   "cell_type": "code",
   "execution_count": 12,
   "metadata": {
    "colab": {
     "base_uri": "https://localhost:8080/",
     "height": 145
    },
    "id": "dvIPgX1ViTsj",
    "outputId": "54db216a-7ab4-4ead-969a-5283d658176e"
   },
   "outputs": [
    {
     "data": {
      "text/html": [
       "<style  type=\"text/css\" >\n",
       "#T_351d53b8_4051_11eb_900d_0242ac1c0002row0_col0,#T_351d53b8_4051_11eb_900d_0242ac1c0002row0_col4,#T_351d53b8_4051_11eb_900d_0242ac1c0002row1_col1,#T_351d53b8_4051_11eb_900d_0242ac1c0002row1_col2,#T_351d53b8_4051_11eb_900d_0242ac1c0002row1_col3,#T_351d53b8_4051_11eb_900d_0242ac1c0002row1_col4,#T_351d53b8_4051_11eb_900d_0242ac1c0002row1_col6,#T_351d53b8_4051_11eb_900d_0242ac1c0002row1_col7,#T_351d53b8_4051_11eb_900d_0242ac1c0002row1_col8,#T_351d53b8_4051_11eb_900d_0242ac1c0002row2_col1,#T_351d53b8_4051_11eb_900d_0242ac1c0002row2_col7,#T_351d53b8_4051_11eb_900d_0242ac1c0002row2_col9,#T_351d53b8_4051_11eb_900d_0242ac1c0002row3_col0,#T_351d53b8_4051_11eb_900d_0242ac1c0002row3_col4,#T_351d53b8_4051_11eb_900d_0242ac1c0002row3_col8,#T_351d53b8_4051_11eb_900d_0242ac1c0002row4_col3,#T_351d53b8_4051_11eb_900d_0242ac1c0002row4_col5,#T_351d53b8_4051_11eb_900d_0242ac1c0002row4_col8,#T_351d53b8_4051_11eb_900d_0242ac1c0002row4_col9{\n",
       "            background-color:  orange;\n",
       "        }#T_351d53b8_4051_11eb_900d_0242ac1c0002row0_col1,#T_351d53b8_4051_11eb_900d_0242ac1c0002row0_col2,#T_351d53b8_4051_11eb_900d_0242ac1c0002row0_col3,#T_351d53b8_4051_11eb_900d_0242ac1c0002row0_col5,#T_351d53b8_4051_11eb_900d_0242ac1c0002row0_col6,#T_351d53b8_4051_11eb_900d_0242ac1c0002row0_col7,#T_351d53b8_4051_11eb_900d_0242ac1c0002row0_col8,#T_351d53b8_4051_11eb_900d_0242ac1c0002row0_col9,#T_351d53b8_4051_11eb_900d_0242ac1c0002row1_col0,#T_351d53b8_4051_11eb_900d_0242ac1c0002row1_col5,#T_351d53b8_4051_11eb_900d_0242ac1c0002row1_col9,#T_351d53b8_4051_11eb_900d_0242ac1c0002row2_col0,#T_351d53b8_4051_11eb_900d_0242ac1c0002row2_col2,#T_351d53b8_4051_11eb_900d_0242ac1c0002row2_col3,#T_351d53b8_4051_11eb_900d_0242ac1c0002row2_col4,#T_351d53b8_4051_11eb_900d_0242ac1c0002row2_col5,#T_351d53b8_4051_11eb_900d_0242ac1c0002row2_col6,#T_351d53b8_4051_11eb_900d_0242ac1c0002row2_col8,#T_351d53b8_4051_11eb_900d_0242ac1c0002row3_col1,#T_351d53b8_4051_11eb_900d_0242ac1c0002row3_col2,#T_351d53b8_4051_11eb_900d_0242ac1c0002row3_col3,#T_351d53b8_4051_11eb_900d_0242ac1c0002row3_col5,#T_351d53b8_4051_11eb_900d_0242ac1c0002row3_col6,#T_351d53b8_4051_11eb_900d_0242ac1c0002row3_col7,#T_351d53b8_4051_11eb_900d_0242ac1c0002row3_col9,#T_351d53b8_4051_11eb_900d_0242ac1c0002row4_col0,#T_351d53b8_4051_11eb_900d_0242ac1c0002row4_col1,#T_351d53b8_4051_11eb_900d_0242ac1c0002row4_col2,#T_351d53b8_4051_11eb_900d_0242ac1c0002row4_col4,#T_351d53b8_4051_11eb_900d_0242ac1c0002row4_col6,#T_351d53b8_4051_11eb_900d_0242ac1c0002row4_col7{\n",
       "            background-color:  None;\n",
       "        }</style><table id=\"T_351d53b8_4051_11eb_900d_0242ac1c0002\" ><thead>    <tr>        <th class=\"blank level0\" ></th>        <th class=\"col_heading level0 col0\" >0</th>        <th class=\"col_heading level0 col1\" >1</th>        <th class=\"col_heading level0 col2\" >2</th>        <th class=\"col_heading level0 col3\" >3</th>        <th class=\"col_heading level0 col4\" >4</th>        <th class=\"col_heading level0 col5\" >5</th>        <th class=\"col_heading level0 col6\" >6</th>        <th class=\"col_heading level0 col7\" >7</th>        <th class=\"col_heading level0 col8\" >8</th>        <th class=\"col_heading level0 col9\" >9</th>    </tr></thead><tbody>\n",
       "                <tr>\n",
       "                        <th id=\"T_351d53b8_4051_11eb_900d_0242ac1c0002level0_row0\" class=\"row_heading level0 row0\" >0</th>\n",
       "                        <td id=\"T_351d53b8_4051_11eb_900d_0242ac1c0002row0_col0\" class=\"data row0 col0\" >-1.092444</td>\n",
       "                        <td id=\"T_351d53b8_4051_11eb_900d_0242ac1c0002row0_col1\" class=\"data row0 col1\" >-1.406895</td>\n",
       "                        <td id=\"T_351d53b8_4051_11eb_900d_0242ac1c0002row0_col2\" class=\"data row0 col2\" >-0.701245</td>\n",
       "                        <td id=\"T_351d53b8_4051_11eb_900d_0242ac1c0002row0_col3\" class=\"data row0 col3\" >-0.243445</td>\n",
       "                        <td id=\"T_351d53b8_4051_11eb_900d_0242ac1c0002row0_col4\" class=\"data row0 col4\" >-1.047353</td>\n",
       "                        <td id=\"T_351d53b8_4051_11eb_900d_0242ac1c0002row0_col5\" class=\"data row0 col5\" >-2.146725</td>\n",
       "                        <td id=\"T_351d53b8_4051_11eb_900d_0242ac1c0002row0_col6\" class=\"data row0 col6\" >-2.522237</td>\n",
       "                        <td id=\"T_351d53b8_4051_11eb_900d_0242ac1c0002row0_col7\" class=\"data row0 col7\" >-0.761441</td>\n",
       "                        <td id=\"T_351d53b8_4051_11eb_900d_0242ac1c0002row0_col8\" class=\"data row0 col8\" >-2.379464</td>\n",
       "                        <td id=\"T_351d53b8_4051_11eb_900d_0242ac1c0002row0_col9\" class=\"data row0 col9\" >-1.368450</td>\n",
       "            </tr>\n",
       "            <tr>\n",
       "                        <th id=\"T_351d53b8_4051_11eb_900d_0242ac1c0002level0_row1\" class=\"row_heading level0 row1\" >1</th>\n",
       "                        <td id=\"T_351d53b8_4051_11eb_900d_0242ac1c0002row1_col0\" class=\"data row1 col0\" >0.868731</td>\n",
       "                        <td id=\"T_351d53b8_4051_11eb_900d_0242ac1c0002row1_col1\" class=\"data row1 col1\" >-0.061079</td>\n",
       "                        <td id=\"T_351d53b8_4051_11eb_900d_0242ac1c0002row1_col2\" class=\"data row1 col2\" >0.300028</td>\n",
       "                        <td id=\"T_351d53b8_4051_11eb_900d_0242ac1c0002row1_col3\" class=\"data row1 col3\" >0.015371</td>\n",
       "                        <td id=\"T_351d53b8_4051_11eb_900d_0242ac1c0002row1_col4\" class=\"data row1 col4\" >0.149974</td>\n",
       "                        <td id=\"T_351d53b8_4051_11eb_900d_0242ac1c0002row1_col5\" class=\"data row1 col5\" >-0.423724</td>\n",
       "                        <td id=\"T_351d53b8_4051_11eb_900d_0242ac1c0002row1_col6\" class=\"data row1 col6\" >0.570247</td>\n",
       "                        <td id=\"T_351d53b8_4051_11eb_900d_0242ac1c0002row1_col7\" class=\"data row1 col7\" >-0.237455</td>\n",
       "                        <td id=\"T_351d53b8_4051_11eb_900d_0242ac1c0002row1_col8\" class=\"data row1 col8\" >0.646358</td>\n",
       "                        <td id=\"T_351d53b8_4051_11eb_900d_0242ac1c0002row1_col9\" class=\"data row1 col9\" >-0.150938</td>\n",
       "            </tr>\n",
       "            <tr>\n",
       "                        <th id=\"T_351d53b8_4051_11eb_900d_0242ac1c0002level0_row2\" class=\"row_heading level0 row2\" >2</th>\n",
       "                        <td id=\"T_351d53b8_4051_11eb_900d_0242ac1c0002row2_col0\" class=\"data row2 col0\" >2.331809</td>\n",
       "                        <td id=\"T_351d53b8_4051_11eb_900d_0242ac1c0002row2_col1\" class=\"data row2 col1\" >1.479951</td>\n",
       "                        <td id=\"T_351d53b8_4051_11eb_900d_0242ac1c0002row2_col2\" class=\"data row2 col2\" >2.478842</td>\n",
       "                        <td id=\"T_351d53b8_4051_11eb_900d_0242ac1c0002row2_col3\" class=\"data row2 col3\" >2.833329</td>\n",
       "                        <td id=\"T_351d53b8_4051_11eb_900d_0242ac1c0002row2_col4\" class=\"data row2 col4\" >2.348079</td>\n",
       "                        <td id=\"T_351d53b8_4051_11eb_900d_0242ac1c0002row2_col5\" class=\"data row2 col5\" >2.431913</td>\n",
       "                        <td id=\"T_351d53b8_4051_11eb_900d_0242ac1c0002row2_col6\" class=\"data row2 col6\" >0.914379</td>\n",
       "                        <td id=\"T_351d53b8_4051_11eb_900d_0242ac1c0002row2_col7\" class=\"data row2 col7\" >1.695247</td>\n",
       "                        <td id=\"T_351d53b8_4051_11eb_900d_0242ac1c0002row2_col8\" class=\"data row2 col8\" >1.057632</td>\n",
       "                        <td id=\"T_351d53b8_4051_11eb_900d_0242ac1c0002row2_col9\" class=\"data row2 col9\" >1.232375</td>\n",
       "            </tr>\n",
       "            <tr>\n",
       "                        <th id=\"T_351d53b8_4051_11eb_900d_0242ac1c0002level0_row3\" class=\"row_heading level0 row3\" >3</th>\n",
       "                        <td id=\"T_351d53b8_4051_11eb_900d_0242ac1c0002row3_col0\" class=\"data row3 col0\" >-0.283671</td>\n",
       "                        <td id=\"T_351d53b8_4051_11eb_900d_0242ac1c0002row3_col1\" class=\"data row3 col1\" >-0.401317</td>\n",
       "                        <td id=\"T_351d53b8_4051_11eb_900d_0242ac1c0002row3_col2\" class=\"data row3 col2\" >0.912531</td>\n",
       "                        <td id=\"T_351d53b8_4051_11eb_900d_0242ac1c0002row3_col3\" class=\"data row3 col3\" >-0.471823</td>\n",
       "                        <td id=\"T_351d53b8_4051_11eb_900d_0242ac1c0002row3_col4\" class=\"data row3 col4\" >0.021986</td>\n",
       "                        <td id=\"T_351d53b8_4051_11eb_900d_0242ac1c0002row3_col5\" class=\"data row3 col5\" >0.072473</td>\n",
       "                        <td id=\"T_351d53b8_4051_11eb_900d_0242ac1c0002row3_col6\" class=\"data row3 col6\" >0.632320</td>\n",
       "                        <td id=\"T_351d53b8_4051_11eb_900d_0242ac1c0002row3_col7\" class=\"data row3 col7\" >-0.727102</td>\n",
       "                        <td id=\"T_351d53b8_4051_11eb_900d_0242ac1c0002row3_col8\" class=\"data row3 col8\" >-0.088789</td>\n",
       "                        <td id=\"T_351d53b8_4051_11eb_900d_0242ac1c0002row3_col9\" class=\"data row3 col9\" >-0.262900</td>\n",
       "            </tr>\n",
       "            <tr>\n",
       "                        <th id=\"T_351d53b8_4051_11eb_900d_0242ac1c0002level0_row4\" class=\"row_heading level0 row4\" >4</th>\n",
       "                        <td id=\"T_351d53b8_4051_11eb_900d_0242ac1c0002row4_col0\" class=\"data row4 col0\" >-0.174949</td>\n",
       "                        <td id=\"T_351d53b8_4051_11eb_900d_0242ac1c0002row4_col1\" class=\"data row4 col1\" >-0.192462</td>\n",
       "                        <td id=\"T_351d53b8_4051_11eb_900d_0242ac1c0002row4_col2\" class=\"data row4 col2\" >0.099167</td>\n",
       "                        <td id=\"T_351d53b8_4051_11eb_900d_0242ac1c0002row4_col3\" class=\"data row4 col3\" >0.740265</td>\n",
       "                        <td id=\"T_351d53b8_4051_11eb_900d_0242ac1c0002row4_col4\" class=\"data row4 col4\" >1.062209</td>\n",
       "                        <td id=\"T_351d53b8_4051_11eb_900d_0242ac1c0002row4_col5\" class=\"data row4 col5\" >0.366412</td>\n",
       "                        <td id=\"T_351d53b8_4051_11eb_900d_0242ac1c0002row4_col6\" class=\"data row4 col6\" >0.591569</td>\n",
       "                        <td id=\"T_351d53b8_4051_11eb_900d_0242ac1c0002row4_col7\" class=\"data row4 col7\" >1.045559</td>\n",
       "                        <td id=\"T_351d53b8_4051_11eb_900d_0242ac1c0002row4_col8\" class=\"data row4 col8\" >0.233930</td>\n",
       "                        <td id=\"T_351d53b8_4051_11eb_900d_0242ac1c0002row4_col9\" class=\"data row4 col9\" >0.318939</td>\n",
       "            </tr>\n",
       "    </tbody></table>"
      ],
      "text/plain": [
       "<pandas.io.formats.style.Styler at 0x7f6113b89208>"
      ]
     },
     "execution_count": 12,
     "metadata": {
      "tags": []
     },
     "output_type": "execute_result"
    }
   ],
   "source": [
    "pd.DataFrame(x_rf).head().style.applymap(color_imputedvalues_orange, x_miss=x_miss)"
   ]
  },
  {
   "cell_type": "markdown",
   "metadata": {
    "id": "6fR1VVKjiW5m"
   },
   "source": [
    "### Sinkhorn imputation"
   ]
  },
  {
   "cell_type": "markdown",
   "metadata": {
    "id": "XZ5bwrHoiYR2"
   },
   "source": [
    "Sinkhorn imputation can be used to impute quantitative data. It relies on the idea that two batches extracted randomly from the same dataset should share the same distribution and consists in minimizing OT distances between batches. More details can be found in the original [article](https://arxiv.org/pdf/2002.03860.pdf) and the code is provided [here](https://github.com/BorisMuzellec/MissingDataOT).\n",
    "\n",
    "The main argument are\n",
    "\n",
    "* `eps`: sinkhorn regularization parameter. If the batch size is larger than half the dataset's size, it will be redefined in the imputation methods.\n",
    "\n",
    "* `lr` : learning rate.\n",
    "\n",
    "* `batchsize` : size of the batches on which the sinkhorn divergence is evaluated.\n",
    "\n",
    "* `niter`: number of gradient updates for each model within a cycle.\n",
    "\n",
    "\n",
    "To set the regularization, one uses the function `pick_epsilon` which takes a multiple of the median distance.\n",
    "The method fit_transform allows to fit the imputer on the incomplete matrix and return the complete matrix. \n",
    "\n"
   ]
  },
  {
   "cell_type": "code",
   "execution_count": 13,
   "metadata": {
    "id": "G6ZT577jia1V"
   },
   "outputs": [],
   "source": [
    "X_true = torch.from_numpy(x_comp).double()\n",
    "\n",
    "eps = pick_epsilon(X_miss)\n",
    "\n",
    "sk_imputer = OTimputer(eps=eps, batchsize=128, lr=0.01, niter=15)\n",
    "sk_imp, _, _ = sk_imputer.fit_transform(X_miss, X_true=X_true)"
   ]
  },
  {
   "cell_type": "code",
   "execution_count": 14,
   "metadata": {
    "colab": {
     "base_uri": "https://localhost:8080/",
     "height": 145
    },
    "id": "nD8MI8Z2ie8Y",
    "outputId": "263d9885-04c1-4101-e9a7-52730b31a9b7"
   },
   "outputs": [
    {
     "data": {
      "text/html": [
       "<style  type=\"text/css\" >\n",
       "#T_359ec1a0_4051_11eb_900d_0242ac1c0002row0_col0,#T_359ec1a0_4051_11eb_900d_0242ac1c0002row0_col4,#T_359ec1a0_4051_11eb_900d_0242ac1c0002row1_col1,#T_359ec1a0_4051_11eb_900d_0242ac1c0002row1_col2,#T_359ec1a0_4051_11eb_900d_0242ac1c0002row1_col3,#T_359ec1a0_4051_11eb_900d_0242ac1c0002row1_col4,#T_359ec1a0_4051_11eb_900d_0242ac1c0002row1_col6,#T_359ec1a0_4051_11eb_900d_0242ac1c0002row1_col7,#T_359ec1a0_4051_11eb_900d_0242ac1c0002row1_col8,#T_359ec1a0_4051_11eb_900d_0242ac1c0002row2_col1,#T_359ec1a0_4051_11eb_900d_0242ac1c0002row2_col7,#T_359ec1a0_4051_11eb_900d_0242ac1c0002row2_col9,#T_359ec1a0_4051_11eb_900d_0242ac1c0002row3_col0,#T_359ec1a0_4051_11eb_900d_0242ac1c0002row3_col4,#T_359ec1a0_4051_11eb_900d_0242ac1c0002row3_col8,#T_359ec1a0_4051_11eb_900d_0242ac1c0002row4_col3,#T_359ec1a0_4051_11eb_900d_0242ac1c0002row4_col5,#T_359ec1a0_4051_11eb_900d_0242ac1c0002row4_col8,#T_359ec1a0_4051_11eb_900d_0242ac1c0002row4_col9{\n",
       "            background-color:  orange;\n",
       "        }#T_359ec1a0_4051_11eb_900d_0242ac1c0002row0_col1,#T_359ec1a0_4051_11eb_900d_0242ac1c0002row0_col2,#T_359ec1a0_4051_11eb_900d_0242ac1c0002row0_col3,#T_359ec1a0_4051_11eb_900d_0242ac1c0002row0_col5,#T_359ec1a0_4051_11eb_900d_0242ac1c0002row0_col6,#T_359ec1a0_4051_11eb_900d_0242ac1c0002row0_col7,#T_359ec1a0_4051_11eb_900d_0242ac1c0002row0_col8,#T_359ec1a0_4051_11eb_900d_0242ac1c0002row0_col9,#T_359ec1a0_4051_11eb_900d_0242ac1c0002row1_col0,#T_359ec1a0_4051_11eb_900d_0242ac1c0002row1_col5,#T_359ec1a0_4051_11eb_900d_0242ac1c0002row1_col9,#T_359ec1a0_4051_11eb_900d_0242ac1c0002row2_col0,#T_359ec1a0_4051_11eb_900d_0242ac1c0002row2_col2,#T_359ec1a0_4051_11eb_900d_0242ac1c0002row2_col3,#T_359ec1a0_4051_11eb_900d_0242ac1c0002row2_col4,#T_359ec1a0_4051_11eb_900d_0242ac1c0002row2_col5,#T_359ec1a0_4051_11eb_900d_0242ac1c0002row2_col6,#T_359ec1a0_4051_11eb_900d_0242ac1c0002row2_col8,#T_359ec1a0_4051_11eb_900d_0242ac1c0002row3_col1,#T_359ec1a0_4051_11eb_900d_0242ac1c0002row3_col2,#T_359ec1a0_4051_11eb_900d_0242ac1c0002row3_col3,#T_359ec1a0_4051_11eb_900d_0242ac1c0002row3_col5,#T_359ec1a0_4051_11eb_900d_0242ac1c0002row3_col6,#T_359ec1a0_4051_11eb_900d_0242ac1c0002row3_col7,#T_359ec1a0_4051_11eb_900d_0242ac1c0002row3_col9,#T_359ec1a0_4051_11eb_900d_0242ac1c0002row4_col0,#T_359ec1a0_4051_11eb_900d_0242ac1c0002row4_col1,#T_359ec1a0_4051_11eb_900d_0242ac1c0002row4_col2,#T_359ec1a0_4051_11eb_900d_0242ac1c0002row4_col4,#T_359ec1a0_4051_11eb_900d_0242ac1c0002row4_col6,#T_359ec1a0_4051_11eb_900d_0242ac1c0002row4_col7{\n",
       "            background-color:  None;\n",
       "        }</style><table id=\"T_359ec1a0_4051_11eb_900d_0242ac1c0002\" ><thead>    <tr>        <th class=\"blank level0\" ></th>        <th class=\"col_heading level0 col0\" >0</th>        <th class=\"col_heading level0 col1\" >1</th>        <th class=\"col_heading level0 col2\" >2</th>        <th class=\"col_heading level0 col3\" >3</th>        <th class=\"col_heading level0 col4\" >4</th>        <th class=\"col_heading level0 col5\" >5</th>        <th class=\"col_heading level0 col6\" >6</th>        <th class=\"col_heading level0 col7\" >7</th>        <th class=\"col_heading level0 col8\" >8</th>        <th class=\"col_heading level0 col9\" >9</th>    </tr></thead><tbody>\n",
       "                <tr>\n",
       "                        <th id=\"T_359ec1a0_4051_11eb_900d_0242ac1c0002level0_row0\" class=\"row_heading level0 row0\" >0</th>\n",
       "                        <td id=\"T_359ec1a0_4051_11eb_900d_0242ac1c0002row0_col0\" class=\"data row0 col0\" >-0.045819</td>\n",
       "                        <td id=\"T_359ec1a0_4051_11eb_900d_0242ac1c0002row0_col1\" class=\"data row0 col1\" >-1.406895</td>\n",
       "                        <td id=\"T_359ec1a0_4051_11eb_900d_0242ac1c0002row0_col2\" class=\"data row0 col2\" >-0.701245</td>\n",
       "                        <td id=\"T_359ec1a0_4051_11eb_900d_0242ac1c0002row0_col3\" class=\"data row0 col3\" >-0.243445</td>\n",
       "                        <td id=\"T_359ec1a0_4051_11eb_900d_0242ac1c0002row0_col4\" class=\"data row0 col4\" >0.052253</td>\n",
       "                        <td id=\"T_359ec1a0_4051_11eb_900d_0242ac1c0002row0_col5\" class=\"data row0 col5\" >-2.146725</td>\n",
       "                        <td id=\"T_359ec1a0_4051_11eb_900d_0242ac1c0002row0_col6\" class=\"data row0 col6\" >-2.522237</td>\n",
       "                        <td id=\"T_359ec1a0_4051_11eb_900d_0242ac1c0002row0_col7\" class=\"data row0 col7\" >-0.761441</td>\n",
       "                        <td id=\"T_359ec1a0_4051_11eb_900d_0242ac1c0002row0_col8\" class=\"data row0 col8\" >-2.379464</td>\n",
       "                        <td id=\"T_359ec1a0_4051_11eb_900d_0242ac1c0002row0_col9\" class=\"data row0 col9\" >-1.368450</td>\n",
       "            </tr>\n",
       "            <tr>\n",
       "                        <th id=\"T_359ec1a0_4051_11eb_900d_0242ac1c0002level0_row1\" class=\"row_heading level0 row1\" >1</th>\n",
       "                        <td id=\"T_359ec1a0_4051_11eb_900d_0242ac1c0002row1_col0\" class=\"data row1 col0\" >0.868731</td>\n",
       "                        <td id=\"T_359ec1a0_4051_11eb_900d_0242ac1c0002row1_col1\" class=\"data row1 col1\" >-0.259010</td>\n",
       "                        <td id=\"T_359ec1a0_4051_11eb_900d_0242ac1c0002row1_col2\" class=\"data row1 col2\" >-0.193653</td>\n",
       "                        <td id=\"T_359ec1a0_4051_11eb_900d_0242ac1c0002row1_col3\" class=\"data row1 col3\" >-0.004790</td>\n",
       "                        <td id=\"T_359ec1a0_4051_11eb_900d_0242ac1c0002row1_col4\" class=\"data row1 col4\" >0.058289</td>\n",
       "                        <td id=\"T_359ec1a0_4051_11eb_900d_0242ac1c0002row1_col5\" class=\"data row1 col5\" >-0.423724</td>\n",
       "                        <td id=\"T_359ec1a0_4051_11eb_900d_0242ac1c0002row1_col6\" class=\"data row1 col6\" >0.000216</td>\n",
       "                        <td id=\"T_359ec1a0_4051_11eb_900d_0242ac1c0002row1_col7\" class=\"data row1 col7\" >-0.085299</td>\n",
       "                        <td id=\"T_359ec1a0_4051_11eb_900d_0242ac1c0002row1_col8\" class=\"data row1 col8\" >0.098911</td>\n",
       "                        <td id=\"T_359ec1a0_4051_11eb_900d_0242ac1c0002row1_col9\" class=\"data row1 col9\" >-0.150938</td>\n",
       "            </tr>\n",
       "            <tr>\n",
       "                        <th id=\"T_359ec1a0_4051_11eb_900d_0242ac1c0002level0_row2\" class=\"row_heading level0 row2\" >2</th>\n",
       "                        <td id=\"T_359ec1a0_4051_11eb_900d_0242ac1c0002row2_col0\" class=\"data row2 col0\" >2.331809</td>\n",
       "                        <td id=\"T_359ec1a0_4051_11eb_900d_0242ac1c0002row2_col1\" class=\"data row2 col1\" >-0.121655</td>\n",
       "                        <td id=\"T_359ec1a0_4051_11eb_900d_0242ac1c0002row2_col2\" class=\"data row2 col2\" >2.478842</td>\n",
       "                        <td id=\"T_359ec1a0_4051_11eb_900d_0242ac1c0002row2_col3\" class=\"data row2 col3\" >2.833329</td>\n",
       "                        <td id=\"T_359ec1a0_4051_11eb_900d_0242ac1c0002row2_col4\" class=\"data row2 col4\" >2.348079</td>\n",
       "                        <td id=\"T_359ec1a0_4051_11eb_900d_0242ac1c0002row2_col5\" class=\"data row2 col5\" >2.431913</td>\n",
       "                        <td id=\"T_359ec1a0_4051_11eb_900d_0242ac1c0002row2_col6\" class=\"data row2 col6\" >0.914379</td>\n",
       "                        <td id=\"T_359ec1a0_4051_11eb_900d_0242ac1c0002row2_col7\" class=\"data row2 col7\" >0.268123</td>\n",
       "                        <td id=\"T_359ec1a0_4051_11eb_900d_0242ac1c0002row2_col8\" class=\"data row2 col8\" >1.057632</td>\n",
       "                        <td id=\"T_359ec1a0_4051_11eb_900d_0242ac1c0002row2_col9\" class=\"data row2 col9\" >0.202173</td>\n",
       "            </tr>\n",
       "            <tr>\n",
       "                        <th id=\"T_359ec1a0_4051_11eb_900d_0242ac1c0002level0_row3\" class=\"row_heading level0 row3\" >3</th>\n",
       "                        <td id=\"T_359ec1a0_4051_11eb_900d_0242ac1c0002row3_col0\" class=\"data row3 col0\" >-0.108161</td>\n",
       "                        <td id=\"T_359ec1a0_4051_11eb_900d_0242ac1c0002row3_col1\" class=\"data row3 col1\" >-0.401317</td>\n",
       "                        <td id=\"T_359ec1a0_4051_11eb_900d_0242ac1c0002row3_col2\" class=\"data row3 col2\" >0.912531</td>\n",
       "                        <td id=\"T_359ec1a0_4051_11eb_900d_0242ac1c0002row3_col3\" class=\"data row3 col3\" >-0.471823</td>\n",
       "                        <td id=\"T_359ec1a0_4051_11eb_900d_0242ac1c0002row3_col4\" class=\"data row3 col4\" >-0.084399</td>\n",
       "                        <td id=\"T_359ec1a0_4051_11eb_900d_0242ac1c0002row3_col5\" class=\"data row3 col5\" >0.072473</td>\n",
       "                        <td id=\"T_359ec1a0_4051_11eb_900d_0242ac1c0002row3_col6\" class=\"data row3 col6\" >0.632320</td>\n",
       "                        <td id=\"T_359ec1a0_4051_11eb_900d_0242ac1c0002row3_col7\" class=\"data row3 col7\" >-0.727102</td>\n",
       "                        <td id=\"T_359ec1a0_4051_11eb_900d_0242ac1c0002row3_col8\" class=\"data row3 col8\" >0.146242</td>\n",
       "                        <td id=\"T_359ec1a0_4051_11eb_900d_0242ac1c0002row3_col9\" class=\"data row3 col9\" >-0.262900</td>\n",
       "            </tr>\n",
       "            <tr>\n",
       "                        <th id=\"T_359ec1a0_4051_11eb_900d_0242ac1c0002level0_row4\" class=\"row_heading level0 row4\" >4</th>\n",
       "                        <td id=\"T_359ec1a0_4051_11eb_900d_0242ac1c0002row4_col0\" class=\"data row4 col0\" >-0.174949</td>\n",
       "                        <td id=\"T_359ec1a0_4051_11eb_900d_0242ac1c0002row4_col1\" class=\"data row4 col1\" >-0.192462</td>\n",
       "                        <td id=\"T_359ec1a0_4051_11eb_900d_0242ac1c0002row4_col2\" class=\"data row4 col2\" >0.099167</td>\n",
       "                        <td id=\"T_359ec1a0_4051_11eb_900d_0242ac1c0002row4_col3\" class=\"data row4 col3\" >-0.020245</td>\n",
       "                        <td id=\"T_359ec1a0_4051_11eb_900d_0242ac1c0002row4_col4\" class=\"data row4 col4\" >1.062209</td>\n",
       "                        <td id=\"T_359ec1a0_4051_11eb_900d_0242ac1c0002row4_col5\" class=\"data row4 col5\" >0.181865</td>\n",
       "                        <td id=\"T_359ec1a0_4051_11eb_900d_0242ac1c0002row4_col6\" class=\"data row4 col6\" >0.591569</td>\n",
       "                        <td id=\"T_359ec1a0_4051_11eb_900d_0242ac1c0002row4_col7\" class=\"data row4 col7\" >1.045559</td>\n",
       "                        <td id=\"T_359ec1a0_4051_11eb_900d_0242ac1c0002row4_col8\" class=\"data row4 col8\" >-0.070052</td>\n",
       "                        <td id=\"T_359ec1a0_4051_11eb_900d_0242ac1c0002row4_col9\" class=\"data row4 col9\" >-0.106549</td>\n",
       "            </tr>\n",
       "    </tbody></table>"
      ],
      "text/plain": [
       "<pandas.io.formats.style.Styler at 0x7f6113b82780>"
      ]
     },
     "execution_count": 14,
     "metadata": {
      "tags": []
     },
     "output_type": "execute_result"
    }
   ],
   "source": [
    "sk_imp_np = sk_imp.detach().numpy()\n",
    "pd.DataFrame(sk_imp_np).head().style.applymap(color_imputedvalues_orange, x_miss=x_miss)"
   ]
  },
  {
   "cell_type": "markdown",
   "metadata": {
    "id": "HuLYbqEHih8f"
   },
   "source": [
    "### MIWAE"
   ]
  },
  {
   "cell_type": "markdown",
   "metadata": {
    "id": "W1KOJgHc7M_8"
   },
   "source": [
    "MIWAE imputes missing values with a deep latent variable model based on importance weighted variational inference. The original article is [here](http://proceedings.mlr.press/v97/mattei19a/mattei19a.pdf) and its code is available [here](https://github.com/pamattei/miwae). \n",
    "\n",
    "The main arguments are\n",
    "\n",
    "* `X_miss`: the data set with missing values (tensor).\n",
    "\n",
    "*  `h`: number of hidden units in multi-layer\n",
    "perceptrons (by default, $h=128$).\n",
    "\n",
    "*  `d`: dimension of the latent space (by default $d=1$).\n",
    "\n",
    "* `K`: number of importance sampling during training (by default $K=20$).\n",
    "\n",
    "* `bs`: batch size (by default $bs=64$).\n",
    "\n",
    "* `n_epochs`: number of epochs (by default $n_epochs=2002$).\n"
   ]
  },
  {
   "cell_type": "code",
   "execution_count": 15,
   "metadata": {
    "id": "gO9zd-Va_zeO"
   },
   "outputs": [],
   "source": [
    "x_miwae = MIWAE(X_miss)"
   ]
  },
  {
   "cell_type": "code",
   "execution_count": 16,
   "metadata": {
    "colab": {
     "base_uri": "https://localhost:8080/",
     "height": 145
    },
    "id": "OAlOfaiDw-28",
    "outputId": "eee1088e-4f5a-4eb9-8110-ca7ee1c42ee9"
   },
   "outputs": [
    {
     "data": {
      "text/html": [
       "<style  type=\"text/css\" >\n",
       "#T_e952f20c_4051_11eb_900d_0242ac1c0002row0_col0,#T_e952f20c_4051_11eb_900d_0242ac1c0002row0_col4,#T_e952f20c_4051_11eb_900d_0242ac1c0002row1_col1,#T_e952f20c_4051_11eb_900d_0242ac1c0002row1_col2,#T_e952f20c_4051_11eb_900d_0242ac1c0002row1_col3,#T_e952f20c_4051_11eb_900d_0242ac1c0002row1_col4,#T_e952f20c_4051_11eb_900d_0242ac1c0002row1_col6,#T_e952f20c_4051_11eb_900d_0242ac1c0002row1_col7,#T_e952f20c_4051_11eb_900d_0242ac1c0002row1_col8,#T_e952f20c_4051_11eb_900d_0242ac1c0002row2_col1,#T_e952f20c_4051_11eb_900d_0242ac1c0002row2_col7,#T_e952f20c_4051_11eb_900d_0242ac1c0002row2_col9,#T_e952f20c_4051_11eb_900d_0242ac1c0002row3_col0,#T_e952f20c_4051_11eb_900d_0242ac1c0002row3_col4,#T_e952f20c_4051_11eb_900d_0242ac1c0002row3_col8,#T_e952f20c_4051_11eb_900d_0242ac1c0002row4_col3,#T_e952f20c_4051_11eb_900d_0242ac1c0002row4_col5,#T_e952f20c_4051_11eb_900d_0242ac1c0002row4_col8,#T_e952f20c_4051_11eb_900d_0242ac1c0002row4_col9{\n",
       "            background-color:  orange;\n",
       "        }#T_e952f20c_4051_11eb_900d_0242ac1c0002row0_col1,#T_e952f20c_4051_11eb_900d_0242ac1c0002row0_col2,#T_e952f20c_4051_11eb_900d_0242ac1c0002row0_col3,#T_e952f20c_4051_11eb_900d_0242ac1c0002row0_col5,#T_e952f20c_4051_11eb_900d_0242ac1c0002row0_col6,#T_e952f20c_4051_11eb_900d_0242ac1c0002row0_col7,#T_e952f20c_4051_11eb_900d_0242ac1c0002row0_col8,#T_e952f20c_4051_11eb_900d_0242ac1c0002row0_col9,#T_e952f20c_4051_11eb_900d_0242ac1c0002row1_col0,#T_e952f20c_4051_11eb_900d_0242ac1c0002row1_col5,#T_e952f20c_4051_11eb_900d_0242ac1c0002row1_col9,#T_e952f20c_4051_11eb_900d_0242ac1c0002row2_col0,#T_e952f20c_4051_11eb_900d_0242ac1c0002row2_col2,#T_e952f20c_4051_11eb_900d_0242ac1c0002row2_col3,#T_e952f20c_4051_11eb_900d_0242ac1c0002row2_col4,#T_e952f20c_4051_11eb_900d_0242ac1c0002row2_col5,#T_e952f20c_4051_11eb_900d_0242ac1c0002row2_col6,#T_e952f20c_4051_11eb_900d_0242ac1c0002row2_col8,#T_e952f20c_4051_11eb_900d_0242ac1c0002row3_col1,#T_e952f20c_4051_11eb_900d_0242ac1c0002row3_col2,#T_e952f20c_4051_11eb_900d_0242ac1c0002row3_col3,#T_e952f20c_4051_11eb_900d_0242ac1c0002row3_col5,#T_e952f20c_4051_11eb_900d_0242ac1c0002row3_col6,#T_e952f20c_4051_11eb_900d_0242ac1c0002row3_col7,#T_e952f20c_4051_11eb_900d_0242ac1c0002row3_col9,#T_e952f20c_4051_11eb_900d_0242ac1c0002row4_col0,#T_e952f20c_4051_11eb_900d_0242ac1c0002row4_col1,#T_e952f20c_4051_11eb_900d_0242ac1c0002row4_col2,#T_e952f20c_4051_11eb_900d_0242ac1c0002row4_col4,#T_e952f20c_4051_11eb_900d_0242ac1c0002row4_col6,#T_e952f20c_4051_11eb_900d_0242ac1c0002row4_col7{\n",
       "            background-color:  None;\n",
       "        }</style><table id=\"T_e952f20c_4051_11eb_900d_0242ac1c0002\" ><thead>    <tr>        <th class=\"blank level0\" ></th>        <th class=\"col_heading level0 col0\" >0</th>        <th class=\"col_heading level0 col1\" >1</th>        <th class=\"col_heading level0 col2\" >2</th>        <th class=\"col_heading level0 col3\" >3</th>        <th class=\"col_heading level0 col4\" >4</th>        <th class=\"col_heading level0 col5\" >5</th>        <th class=\"col_heading level0 col6\" >6</th>        <th class=\"col_heading level0 col7\" >7</th>        <th class=\"col_heading level0 col8\" >8</th>        <th class=\"col_heading level0 col9\" >9</th>    </tr></thead><tbody>\n",
       "                <tr>\n",
       "                        <th id=\"T_e952f20c_4051_11eb_900d_0242ac1c0002level0_row0\" class=\"row_heading level0 row0\" >0</th>\n",
       "                        <td id=\"T_e952f20c_4051_11eb_900d_0242ac1c0002row0_col0\" class=\"data row0 col0\" >-0.598022</td>\n",
       "                        <td id=\"T_e952f20c_4051_11eb_900d_0242ac1c0002row0_col1\" class=\"data row0 col1\" >-1.406895</td>\n",
       "                        <td id=\"T_e952f20c_4051_11eb_900d_0242ac1c0002row0_col2\" class=\"data row0 col2\" >-0.701245</td>\n",
       "                        <td id=\"T_e952f20c_4051_11eb_900d_0242ac1c0002row0_col3\" class=\"data row0 col3\" >-0.243445</td>\n",
       "                        <td id=\"T_e952f20c_4051_11eb_900d_0242ac1c0002row0_col4\" class=\"data row0 col4\" >-1.532611</td>\n",
       "                        <td id=\"T_e952f20c_4051_11eb_900d_0242ac1c0002row0_col5\" class=\"data row0 col5\" >-2.146725</td>\n",
       "                        <td id=\"T_e952f20c_4051_11eb_900d_0242ac1c0002row0_col6\" class=\"data row0 col6\" >-2.522237</td>\n",
       "                        <td id=\"T_e952f20c_4051_11eb_900d_0242ac1c0002row0_col7\" class=\"data row0 col7\" >-0.761441</td>\n",
       "                        <td id=\"T_e952f20c_4051_11eb_900d_0242ac1c0002row0_col8\" class=\"data row0 col8\" >-2.379464</td>\n",
       "                        <td id=\"T_e952f20c_4051_11eb_900d_0242ac1c0002row0_col9\" class=\"data row0 col9\" >-1.368450</td>\n",
       "            </tr>\n",
       "            <tr>\n",
       "                        <th id=\"T_e952f20c_4051_11eb_900d_0242ac1c0002level0_row1\" class=\"row_heading level0 row1\" >1</th>\n",
       "                        <td id=\"T_e952f20c_4051_11eb_900d_0242ac1c0002row1_col0\" class=\"data row1 col0\" >0.868731</td>\n",
       "                        <td id=\"T_e952f20c_4051_11eb_900d_0242ac1c0002row1_col1\" class=\"data row1 col1\" >-0.139077</td>\n",
       "                        <td id=\"T_e952f20c_4051_11eb_900d_0242ac1c0002row1_col2\" class=\"data row1 col2\" >0.453679</td>\n",
       "                        <td id=\"T_e952f20c_4051_11eb_900d_0242ac1c0002row1_col3\" class=\"data row1 col3\" >0.151298</td>\n",
       "                        <td id=\"T_e952f20c_4051_11eb_900d_0242ac1c0002row1_col4\" class=\"data row1 col4\" >0.264185</td>\n",
       "                        <td id=\"T_e952f20c_4051_11eb_900d_0242ac1c0002row1_col5\" class=\"data row1 col5\" >-0.423724</td>\n",
       "                        <td id=\"T_e952f20c_4051_11eb_900d_0242ac1c0002row1_col6\" class=\"data row1 col6\" >0.330464</td>\n",
       "                        <td id=\"T_e952f20c_4051_11eb_900d_0242ac1c0002row1_col7\" class=\"data row1 col7\" >-0.033020</td>\n",
       "                        <td id=\"T_e952f20c_4051_11eb_900d_0242ac1c0002row1_col8\" class=\"data row1 col8\" >-0.287527</td>\n",
       "                        <td id=\"T_e952f20c_4051_11eb_900d_0242ac1c0002row1_col9\" class=\"data row1 col9\" >-0.150938</td>\n",
       "            </tr>\n",
       "            <tr>\n",
       "                        <th id=\"T_e952f20c_4051_11eb_900d_0242ac1c0002level0_row2\" class=\"row_heading level0 row2\" >2</th>\n",
       "                        <td id=\"T_e952f20c_4051_11eb_900d_0242ac1c0002row2_col0\" class=\"data row2 col0\" >2.331809</td>\n",
       "                        <td id=\"T_e952f20c_4051_11eb_900d_0242ac1c0002row2_col1\" class=\"data row2 col1\" >1.645124</td>\n",
       "                        <td id=\"T_e952f20c_4051_11eb_900d_0242ac1c0002row2_col2\" class=\"data row2 col2\" >2.478842</td>\n",
       "                        <td id=\"T_e952f20c_4051_11eb_900d_0242ac1c0002row2_col3\" class=\"data row2 col3\" >2.833329</td>\n",
       "                        <td id=\"T_e952f20c_4051_11eb_900d_0242ac1c0002row2_col4\" class=\"data row2 col4\" >2.348079</td>\n",
       "                        <td id=\"T_e952f20c_4051_11eb_900d_0242ac1c0002row2_col5\" class=\"data row2 col5\" >2.431913</td>\n",
       "                        <td id=\"T_e952f20c_4051_11eb_900d_0242ac1c0002row2_col6\" class=\"data row2 col6\" >0.914379</td>\n",
       "                        <td id=\"T_e952f20c_4051_11eb_900d_0242ac1c0002row2_col7\" class=\"data row2 col7\" >1.169068</td>\n",
       "                        <td id=\"T_e952f20c_4051_11eb_900d_0242ac1c0002row2_col8\" class=\"data row2 col8\" >1.057632</td>\n",
       "                        <td id=\"T_e952f20c_4051_11eb_900d_0242ac1c0002row2_col9\" class=\"data row2 col9\" >2.469384</td>\n",
       "            </tr>\n",
       "            <tr>\n",
       "                        <th id=\"T_e952f20c_4051_11eb_900d_0242ac1c0002level0_row3\" class=\"row_heading level0 row3\" >3</th>\n",
       "                        <td id=\"T_e952f20c_4051_11eb_900d_0242ac1c0002row3_col0\" class=\"data row3 col0\" >0.262922</td>\n",
       "                        <td id=\"T_e952f20c_4051_11eb_900d_0242ac1c0002row3_col1\" class=\"data row3 col1\" >-0.401317</td>\n",
       "                        <td id=\"T_e952f20c_4051_11eb_900d_0242ac1c0002row3_col2\" class=\"data row3 col2\" >0.912531</td>\n",
       "                        <td id=\"T_e952f20c_4051_11eb_900d_0242ac1c0002row3_col3\" class=\"data row3 col3\" >-0.471823</td>\n",
       "                        <td id=\"T_e952f20c_4051_11eb_900d_0242ac1c0002row3_col4\" class=\"data row3 col4\" >-0.099112</td>\n",
       "                        <td id=\"T_e952f20c_4051_11eb_900d_0242ac1c0002row3_col5\" class=\"data row3 col5\" >0.072473</td>\n",
       "                        <td id=\"T_e952f20c_4051_11eb_900d_0242ac1c0002row3_col6\" class=\"data row3 col6\" >0.632320</td>\n",
       "                        <td id=\"T_e952f20c_4051_11eb_900d_0242ac1c0002row3_col7\" class=\"data row3 col7\" >-0.727102</td>\n",
       "                        <td id=\"T_e952f20c_4051_11eb_900d_0242ac1c0002row3_col8\" class=\"data row3 col8\" >-0.037815</td>\n",
       "                        <td id=\"T_e952f20c_4051_11eb_900d_0242ac1c0002row3_col9\" class=\"data row3 col9\" >-0.262900</td>\n",
       "            </tr>\n",
       "            <tr>\n",
       "                        <th id=\"T_e952f20c_4051_11eb_900d_0242ac1c0002level0_row4\" class=\"row_heading level0 row4\" >4</th>\n",
       "                        <td id=\"T_e952f20c_4051_11eb_900d_0242ac1c0002row4_col0\" class=\"data row4 col0\" >-0.174949</td>\n",
       "                        <td id=\"T_e952f20c_4051_11eb_900d_0242ac1c0002row4_col1\" class=\"data row4 col1\" >-0.192462</td>\n",
       "                        <td id=\"T_e952f20c_4051_11eb_900d_0242ac1c0002row4_col2\" class=\"data row4 col2\" >0.099167</td>\n",
       "                        <td id=\"T_e952f20c_4051_11eb_900d_0242ac1c0002row4_col3\" class=\"data row4 col3\" >0.806717</td>\n",
       "                        <td id=\"T_e952f20c_4051_11eb_900d_0242ac1c0002row4_col4\" class=\"data row4 col4\" >1.062209</td>\n",
       "                        <td id=\"T_e952f20c_4051_11eb_900d_0242ac1c0002row4_col5\" class=\"data row4 col5\" >0.268613</td>\n",
       "                        <td id=\"T_e952f20c_4051_11eb_900d_0242ac1c0002row4_col6\" class=\"data row4 col6\" >0.591569</td>\n",
       "                        <td id=\"T_e952f20c_4051_11eb_900d_0242ac1c0002row4_col7\" class=\"data row4 col7\" >1.045559</td>\n",
       "                        <td id=\"T_e952f20c_4051_11eb_900d_0242ac1c0002row4_col8\" class=\"data row4 col8\" >0.760923</td>\n",
       "                        <td id=\"T_e952f20c_4051_11eb_900d_0242ac1c0002row4_col9\" class=\"data row4 col9\" >0.168348</td>\n",
       "            </tr>\n",
       "    </tbody></table>"
      ],
      "text/plain": [
       "<pandas.io.formats.style.Styler at 0x7f6113b9f400>"
      ]
     },
     "execution_count": 16,
     "metadata": {
      "tags": []
     },
     "output_type": "execute_result"
    }
   ],
   "source": [
    "pd.DataFrame(x_miwae).head().style.applymap(color_imputedvalues_orange, x_miss=x_miss)"
   ]
  },
  {
   "cell_type": "markdown",
   "metadata": {
    "id": "Rv9ue9GNb9_3"
   },
   "source": [
    "## Numerical experiments to compare the different methods"
   ]
  },
  {
   "cell_type": "markdown",
   "metadata": {
    "id": "lFWcpcJcb_Yg"
   },
   "source": [
    "### Synthetic data\n"
   ]
  },
  {
   "cell_type": "markdown",
   "metadata": {
    "id": "0WsYkb0VcYH1"
   },
   "source": [
    "\n",
    "We compare the methods presented above for different percentage of missing values and for different missing-data mechanisms: \n",
    "\n",
    "* Missing Completely At Random (MCAR) if the probability of being missing is the same for all observations\n",
    "\n",
    "* Missing At Random (MAR) if the probability of being missing only depends on observed values.\n",
    "\n",
    "* Missing Not At Random (MNAR) if the unavailability of the data depends on both observed and unobserved data such as its value itself.\n",
    "\n",
    "We compare the methods in terms of mean squared error (MSE), i.e.:\n",
    "$$MSE(X^{imp}) = \\frac{1}{n_{NA}}\\sum_{i}\\sum_{j} 1_{X^{NA}_{ij}=NA}(X^{imp}_{ij} - X_{ij})^2$$\n",
    "where $n_{NA} = \\sum_{i}\\sum_{j} 1_{X^{NA}_{ij}=NA}$ is the number of missing entries in $X^{NA}$.\n",
    "\n",
    "Note that in order to evaluate this error, we need to know the true values of the missing entries.\n"
   ]
  },
  {
   "cell_type": "markdown",
   "metadata": {
    "id": "E36iXsYFcZs-"
   },
   "source": [
    "The function **HowToImpute** compares the methods above with the naive imputation by the mean in terms of MSE on a complete dataset. More particularly, the function allows to introduce missing values on the complete dataset using different percentages of missing values and missing-data mechanisms and gives the MSE of the methods for the different missing-value settings. The final MSE for one specific missing-value setting is computed by aggregating the MSE's obtained for several simulations, where the stochasticity comes from the process of drawing several times the missing-data pattern.\n",
    "\n",
    "The arguments are the following. \n",
    "\n",
    "* `X`: the complete data set where the missing values will be introduced (matrix).\n",
    "\n",
    "* `perc.list`: list containing the different percentage of missing values. \n",
    "\n",
    "* `mecha.list`: list containing the different missing-data mechanisms (\"MCAR\",\"MAR\", \"MNAR\"). \n",
    "\n",
    "* `nbsim`: number of simulations performed. \n",
    "\n",
    "It returns a table containing the mean of the results for the simulations performed. "
   ]
  },
  {
   "cell_type": "code",
   "execution_count": 17,
   "metadata": {
    "id": "2AYLjE6wcjtP"
   },
   "outputs": [],
   "source": [
    "def HowToImpute(x_comp , perc_list , mecha_list , nbsim):\n",
    "    \"\"\"\n",
    "    Compare in terms of MSE several imputation methods for different percentages of missing values and missing-data mechanisms.\n",
    "    \n",
    "    Parameters\n",
    "    ----------\n",
    "    x_comp : the complete data set where the missing values will be introduced (numpy array).\n",
    "    perc_list : list containing the different percentage of missing values.\n",
    "    mecha_list : list containing the different missing-data mechanisms (\"MCAR\",\"MAR\" or \"MNAR\").\n",
    "    nbsim : number of simulations performed.\n",
    "    \n",
    "    Returns\n",
    "    -------\n",
    "    df: dataframe containing the mean of the MSEs for the simulations performed. \n",
    "    \"\"\"\n",
    "    mecha_perc_list = pd.DataFrame([(mecha,perc) for mecha, perc in product(mecha_list,perc_list)])\n",
    "    df = mecha_perc_list.apply(ComparMethods, axis=1, x_comp=x_comp, nbsim=nbsim)\n",
    "    df.index = mecha_perc_list.apply(lambda x : x[0] + \" \" + str(x[1]), axis=1)\n",
    "    \n",
    "    return df\n",
    "\n",
    "def ComparMethods(mecha_perc, x_comp, nbsim):\n",
    "    \"\"\"\n",
    "    Compare in terms of MSE several imputation methods for a given percentage of missing values and a given missing-data mechanism.\n",
    "    \n",
    "    Parameters\n",
    "    ----------\n",
    "    mecha_perc : list containing the missing-data mechanism and the percentage of missing values to be used for introducing missing values. \n",
    "    x_comp : the complete data set where the missing values will be introduced (matrix).\n",
    "    nbsim : number of simulations performed.\n",
    "    \n",
    "    Returns\n",
    "    -------\n",
    "    df: dataframe containing the mean of the MSEs.\n",
    "    \"\"\"\n",
    "    mecha = mecha_perc[0]\n",
    "    perc = mecha_perc[1]\n",
    "    \n",
    "    RMSE_results = pd.DataFrame()\n",
    "    Methods = ['mean', 'softimpute', 'ice', 'rf','sk','miwae']\n",
    "    for meth in Methods:\n",
    "        RMSE_results[meth]=[]\n",
    "    \n",
    "    for sim in range(0,nbsim):\n",
    "        ## Introduction NA\n",
    "        if mecha == \"MAR\":\n",
    "            XproduceNA = produce_NA(x_comp, perc, mecha, p_obs=0.5)\n",
    "        elif mecha == \"MNAR\":\n",
    "            XproduceNA = produce_NA(x_comp, perc, mecha, p_obs=0.5, opt=\"logistic\")\n",
    "        else: \n",
    "            XproduceNA = produce_NA(x_comp, perc, mecha)\n",
    "        mask = XproduceNA['mask'].numpy()\n",
    "        x_miss = XproduceNA['X_incomp'].numpy()\n",
    "        \n",
    "        ## Mean\n",
    "        x_mean = SimpleImputer().fit_transform(x_miss)\n",
    "        rmse_mean = RMSE(x_mean, x_comp, mask)\n",
    "\n",
    "        ## SoftImpute\n",
    "        cv_error, grid_lambda = cv_softimpute(x_miss, grid_len=15)\n",
    "        lbda = grid_lambda[np.argmin(cv_error)]\n",
    "        x_soft = softimpute((x_miss), lbda)[1]\n",
    "        rmse_soft = RMSE(x_soft, x_comp, mask)\n",
    "\n",
    "        ## Ice\n",
    "        x_ice = IterativeImputer(random_state=0, max_iter=50).fit_transform(x_miss)\n",
    "        rmse_ice = RMSE(x_ice, x_comp, mask)\n",
    "\n",
    "        ## Random Forests\n",
    "        estimator_rf = ExtraTreesRegressor(n_estimators=10, random_state=0)\n",
    "        x_rf = IterativeImputer(estimator=estimator_rf, random_state=0, max_iter=50).fit_transform(x_miss)\n",
    "        rmse_rf = RMSE(x_rf, x_comp, mask)\n",
    "        \n",
    "        ## Sinkhorn imputation\n",
    "        X_true = torch.from_numpy(x_comp).double()\n",
    "        X_miss = XproduceNA['X_incomp']\n",
    "        batchsize = 128\n",
    "        lr = 1e-2\n",
    "        epsilon = pick_epsilon(X_miss)\n",
    "        sk_imputer = OTimputer(eps=epsilon, batchsize=batchsize, lr=lr, niter=2000)\n",
    "        sk_imp, _, _ = sk_imputer.fit_transform(X_miss, verbose=True, report_interval=500, X_true=X_true)\n",
    "        rmse_sk_imp = RMSE(sk_imp.detach().numpy(), x_comp, mask)\n",
    "\n",
    "        ## MIWAE \n",
    "        x_miwae = MIWAE(X_miss)\n",
    "        rmse_miwae = RMSE(x_miwae, x_comp, mask)\n",
    "        \n",
    "        new_rmse = {'mean': rmse_mean, 'softimpute': rmse_soft, 'ice': rmse_ice, 'rf': rmse_rf, 'sk': rmse_sk_imp, 'miwae': rmse_miwae}\n",
    "        RMSE_results = RMSE_results.append(new_rmse, ignore_index=True)\n",
    "\n",
    "        \n",
    "    return RMSE_results.mean()"
   ]
  },
  {
   "cell_type": "code",
   "execution_count": 18,
   "metadata": {
    "id": "3rMVUBU1erzx"
   },
   "outputs": [],
   "source": [
    "perc_list = [0.1, 0.3, 0.5]\n",
    "mecha_list = [\"MCAR\", \"MAR\", \"MNAR\"]\n",
    "\n",
    "results_how_to_impute = HowToImpute(x_comp, perc_list , mecha_list , nbsim=2)"
   ]
  },
  {
   "cell_type": "code",
   "execution_count": 19,
   "metadata": {
    "colab": {
     "base_uri": "https://localhost:8080/",
     "height": 328
    },
    "id": "II4DmN2Dwomi",
    "outputId": "2e71aab9-a7de-4245-fae3-1c644f961736"
   },
   "outputs": [
    {
     "data": {
      "text/html": [
       "<div>\n",
       "<style scoped>\n",
       "    .dataframe tbody tr th:only-of-type {\n",
       "        vertical-align: middle;\n",
       "    }\n",
       "\n",
       "    .dataframe tbody tr th {\n",
       "        vertical-align: top;\n",
       "    }\n",
       "\n",
       "    .dataframe thead th {\n",
       "        text-align: right;\n",
       "    }\n",
       "</style>\n",
       "<table border=\"1\" class=\"dataframe\">\n",
       "  <thead>\n",
       "    <tr style=\"text-align: right;\">\n",
       "      <th></th>\n",
       "      <th>mean</th>\n",
       "      <th>softimpute</th>\n",
       "      <th>ice</th>\n",
       "      <th>rf</th>\n",
       "      <th>sk</th>\n",
       "      <th>miwae</th>\n",
       "    </tr>\n",
       "  </thead>\n",
       "  <tbody>\n",
       "    <tr>\n",
       "      <th>MCAR 0.1</th>\n",
       "      <td>1.013120</td>\n",
       "      <td>0.759655</td>\n",
       "      <td>0.737923</td>\n",
       "      <td>0.796279</td>\n",
       "      <td>0.788860</td>\n",
       "      <td>0.809269</td>\n",
       "    </tr>\n",
       "    <tr>\n",
       "      <th>MCAR 0.3</th>\n",
       "      <td>1.002186</td>\n",
       "      <td>0.774299</td>\n",
       "      <td>0.755748</td>\n",
       "      <td>0.814131</td>\n",
       "      <td>0.795322</td>\n",
       "      <td>0.813881</td>\n",
       "    </tr>\n",
       "    <tr>\n",
       "      <th>MCAR 0.5</th>\n",
       "      <td>1.003069</td>\n",
       "      <td>0.793407</td>\n",
       "      <td>0.878759</td>\n",
       "      <td>0.867005</td>\n",
       "      <td>0.821978</td>\n",
       "      <td>0.835462</td>\n",
       "    </tr>\n",
       "    <tr>\n",
       "      <th>MAR 0.1</th>\n",
       "      <td>1.050321</td>\n",
       "      <td>0.758092</td>\n",
       "      <td>0.738237</td>\n",
       "      <td>0.803955</td>\n",
       "      <td>0.788742</td>\n",
       "      <td>0.798891</td>\n",
       "    </tr>\n",
       "    <tr>\n",
       "      <th>MAR 0.3</th>\n",
       "      <td>1.062849</td>\n",
       "      <td>0.765793</td>\n",
       "      <td>0.741673</td>\n",
       "      <td>0.811506</td>\n",
       "      <td>0.782040</td>\n",
       "      <td>0.802169</td>\n",
       "    </tr>\n",
       "    <tr>\n",
       "      <th>MAR 0.5</th>\n",
       "      <td>1.049719</td>\n",
       "      <td>0.790508</td>\n",
       "      <td>0.883561</td>\n",
       "      <td>0.847754</td>\n",
       "      <td>0.789786</td>\n",
       "      <td>0.816860</td>\n",
       "    </tr>\n",
       "    <tr>\n",
       "      <th>MNAR 0.1</th>\n",
       "      <td>1.014871</td>\n",
       "      <td>0.739994</td>\n",
       "      <td>0.716498</td>\n",
       "      <td>0.784495</td>\n",
       "      <td>0.768068</td>\n",
       "      <td>0.777899</td>\n",
       "    </tr>\n",
       "    <tr>\n",
       "      <th>MNAR 0.3</th>\n",
       "      <td>1.016823</td>\n",
       "      <td>0.762644</td>\n",
       "      <td>0.749701</td>\n",
       "      <td>0.815055</td>\n",
       "      <td>0.786382</td>\n",
       "      <td>0.801572</td>\n",
       "    </tr>\n",
       "    <tr>\n",
       "      <th>MNAR 0.5</th>\n",
       "      <td>1.034766</td>\n",
       "      <td>0.800039</td>\n",
       "      <td>0.922696</td>\n",
       "      <td>0.871829</td>\n",
       "      <td>0.826054</td>\n",
       "      <td>0.842282</td>\n",
       "    </tr>\n",
       "  </tbody>\n",
       "</table>\n",
       "</div>"
      ],
      "text/plain": [
       "              mean  softimpute       ice        rf        sk     miwae\n",
       "MCAR 0.1  1.013120    0.759655  0.737923  0.796279  0.788860  0.809269\n",
       "MCAR 0.3  1.002186    0.774299  0.755748  0.814131  0.795322  0.813881\n",
       "MCAR 0.5  1.003069    0.793407  0.878759  0.867005  0.821978  0.835462\n",
       "MAR 0.1   1.050321    0.758092  0.738237  0.803955  0.788742  0.798891\n",
       "MAR 0.3   1.062849    0.765793  0.741673  0.811506  0.782040  0.802169\n",
       "MAR 0.5   1.049719    0.790508  0.883561  0.847754  0.789786  0.816860\n",
       "MNAR 0.1  1.014871    0.739994  0.716498  0.784495  0.768068  0.777899\n",
       "MNAR 0.3  1.016823    0.762644  0.749701  0.815055  0.786382  0.801572\n",
       "MNAR 0.5  1.034766    0.800039  0.922696  0.871829  0.826054  0.842282"
      ]
     },
     "execution_count": 19,
     "metadata": {
      "tags": []
     },
     "output_type": "execute_result"
    }
   ],
   "source": [
    "results_how_to_impute"
   ]
  },
  {
   "cell_type": "code",
   "execution_count": 27,
   "metadata": {
    "colab": {
     "base_uri": "https://localhost:8080/",
     "height": 288
    },
    "id": "5eb17Rx-k2dy",
    "outputId": "aad4236f-6ba2-444b-97c1-4e40c9367b94"
   },
   "outputs": [
    {
     "data": {
      "image/png": "[encoded data removed]",
      "text/plain": [
       "<Figure size 432x288 with 1 Axes>"
      ]
     },
     "metadata": {
      "needs_background": "light",
      "tags": []
     },
     "output_type": "display_data"
    }
   ],
   "source": [
    "ax = results_how_to_impute.plot(kind=\"bar\",rot=30)\n",
    "ax.get_legend().set_bbox_to_anchor((1, 1))"
   ]
  },
  {
   "cell_type": "markdown",
   "metadata": {
    "id": "87EDi7q22PTV"
   },
   "source": [
    "### Real datasets"
   ]
  },
  {
   "cell_type": "markdown",
   "metadata": {
    "id": "K-WiO6er2Zff"
   },
   "source": [
    "We will now compare the methods on real complete data set taken from [the UCI repository](http://archive.ics.uci.edu/ml) in which we will introduce missing values. In the present workflow, we propose a selection of several data sets (here, the data sets contain only quantitative variables):\n",
    "\n",
    "- Wine Quality - Red (1599x11)\n",
    "- Wine Quality - White (4898x11)\n",
    "- Slump (103x9)\n",
    "\n",
    "But you can test the methods on any complete dataset you want.\n"
   ]
  },
  {
   "cell_type": "code",
   "execution_count": 20,
   "metadata": {
    "id": "rDbXz_6J3i0l"
   },
   "outputs": [],
   "source": [
    "if not os.path.isdir('datasets'):\n",
    "  os.mkdir('datasets')\n",
    "wine_red = dataset_loader('wine_quality_red')\n",
    "wine_white = dataset_loader('wine_quality_white')\n",
    "slump = dataset_loader('concrete_slump')"
   ]
  },
  {
   "cell_type": "markdown",
   "metadata": {
    "id": "M7BjJgDc7UWP"
   },
   "source": [
    "You can choose to scale data prior to running the experiments, which implies that the variable have the same weight in the analysis. Scaling data may be performed on complete data sets but is more difficult for incomplete data sets. (For MCAR values, the estimations of the standard deviation can be unbiased. However, for MNAR values, the estimators will suffer from biases.)"
   ]
  },
  {
   "cell_type": "code",
   "execution_count": 21,
   "metadata": {
    "id": "DBo48Eh_9CPf"
   },
   "outputs": [],
   "source": [
    "sc = True\n",
    "if sc:\n",
    "  wine_white =  scale(wine_white)\n",
    "  wine_red = scale(wine_red)\n",
    "  slump = scale(slump)"
   ]
  },
  {
   "cell_type": "code",
   "execution_count": 22,
   "metadata": {
    "id": "xgARc2hUCS7u"
   },
   "outputs": [],
   "source": [
    "datasets_list = dict(wine_white=wine_white, wine_red=wine_red, slump=slump)\n",
    "names_dataset = ['wine_white','wine_red','slump']\n",
    "perc = [0.1]\n",
    "mecha = [\"MCAR\"]\n",
    "nbsim = 2"
   ]
  },
  {
   "cell_type": "markdown",
   "metadata": {
    "id": "yq9blkHn9fVH"
   },
   "source": [
    "We can then apply the **HowToImpute_real** function. It compares in terms of MSE several imputation methods for different complete datasets where missing values are introduced with a given percentage of missing values and a given missing-data mechanism.\n",
    "\n",
    "The arguments are the following. \n",
    "\n",
    "* `datasets_list`: dictionnary of complete datasets.\n",
    "\n",
    "* `perc`: percentage of missing values.\n",
    "\n",
    "* `mecha`: missing-data mechanism (\"MCAR\",\"MAR\" or \"MNAR\"). \n",
    "\n",
    "* `nbsim`: number of simulations performed. \n",
    "\n",
    "* `names_dataset`: list containing the names of the datasets (for plotting results).\n",
    "\n",
    "It returns a table containing the mean of the MSEs for the simulations performed. "
   ]
  },
  {
   "cell_type": "code",
   "execution_count": 23,
   "metadata": {
    "id": "upBvUBHV9gZQ"
   },
   "outputs": [],
   "source": [
    "def HowToImpute_real(datasets_list, perc, mecha, nbsim, names_dataset):\n",
    "    \"\"\"\n",
    "    Compare in terms of MSE several imputation methods for different complete datasets where missing values are introduced with a given percentage of missing values and a given missing-data mechanism.\n",
    "    \n",
    "    Parameters\n",
    "    ----------\n",
    "    datasets_list : dictionnary of complete datasets.\n",
    "    perc : percentage of missing values.\n",
    "    mecha_list : missing-data mechanism (\"MCAR\",\"MAR\" or \"MNAR\").\n",
    "    nbsim : number of simulations performed.\n",
    "    names_dataset : vector of the names of datasets.\n",
    "    \n",
    "    Returns\n",
    "    -------\n",
    "    res: dataframe containing the mean of the MSEs for the simulations performed. \n",
    "    \"\"\"\n",
    "\n",
    "    for dat in range(0,len(datasets_list)):\n",
    "      df = HowToImpute(datasets_list[names_dataset[dat]], perc, mecha, nbsim)\n",
    "      if dat==0:\n",
    "        res = df\n",
    "      else:\n",
    "        res = pd.concat([res,df])\n",
    "    res.index = names_dataset\n",
    "    return(res)"
   ]
  },
  {
   "cell_type": "code",
   "execution_count": 24,
   "metadata": {
    "id": "G39weYQzE8dV"
   },
   "outputs": [],
   "source": [
    "results_how_to_impute_real = HowToImpute_real(datasets_list, perc, mecha, nbsim, names_dataset)"
   ]
  },
  {
   "cell_type": "code",
   "execution_count": 25,
   "metadata": {
    "colab": {
     "base_uri": "https://localhost:8080/",
     "height": 142
    },
    "id": "F1_-wvJpcUNU",
    "outputId": "cb8c9441-ed74-4d77-c8aa-e126fa3af74e"
   },
   "outputs": [
    {
     "data": {
      "text/html": [
       "<div>\n",
       "<style scoped>\n",
       "    .dataframe tbody tr th:only-of-type {\n",
       "        vertical-align: middle;\n",
       "    }\n",
       "\n",
       "    .dataframe tbody tr th {\n",
       "        vertical-align: top;\n",
       "    }\n",
       "\n",
       "    .dataframe thead th {\n",
       "        text-align: right;\n",
       "    }\n",
       "</style>\n",
       "<table border=\"1\" class=\"dataframe\">\n",
       "  <thead>\n",
       "    <tr style=\"text-align: right;\">\n",
       "      <th></th>\n",
       "      <th>mean</th>\n",
       "      <th>softimpute</th>\n",
       "      <th>ice</th>\n",
       "      <th>rf</th>\n",
       "      <th>sk</th>\n",
       "      <th>miwae</th>\n",
       "    </tr>\n",
       "  </thead>\n",
       "  <tbody>\n",
       "    <tr>\n",
       "      <th>wine_white</th>\n",
       "      <td>0.973379</td>\n",
       "      <td>0.776773</td>\n",
       "      <td>0.756948</td>\n",
       "      <td>0.585265</td>\n",
       "      <td>0.757434</td>\n",
       "      <td>0.945980</td>\n",
       "    </tr>\n",
       "    <tr>\n",
       "      <th>wine_red</th>\n",
       "      <td>0.987606</td>\n",
       "      <td>0.818136</td>\n",
       "      <td>0.779156</td>\n",
       "      <td>0.622590</td>\n",
       "      <td>0.743913</td>\n",
       "      <td>0.935791</td>\n",
       "    </tr>\n",
       "    <tr>\n",
       "      <th>slump</th>\n",
       "      <td>1.006157</td>\n",
       "      <td>0.693511</td>\n",
       "      <td>0.581216</td>\n",
       "      <td>0.802247</td>\n",
       "      <td>0.795880</td>\n",
       "      <td>1.016953</td>\n",
       "    </tr>\n",
       "  </tbody>\n",
       "</table>\n",
       "</div>"
      ],
      "text/plain": [
       "                mean  softimpute       ice        rf        sk     miwae\n",
       "wine_white  0.973379    0.776773  0.756948  0.585265  0.757434  0.945980\n",
       "wine_red    0.987606    0.818136  0.779156  0.622590  0.743913  0.935791\n",
       "slump       1.006157    0.693511  0.581216  0.802247  0.795880  1.016953"
      ]
     },
     "execution_count": 25,
     "metadata": {
      "tags": []
     },
     "output_type": "execute_result"
    }
   ],
   "source": [
    "results_how_to_impute_real"
   ]
  },
  {
   "cell_type": "code",
   "execution_count": 26,
   "metadata": {
    "colab": {
     "base_uri": "https://localhost:8080/",
     "height": 293
    },
    "id": "Jd4SqTTkx0NQ",
    "outputId": "36173129-1fbb-4b38-d23d-2752eb2baa29"
   },
   "outputs": [
    {
     "data": {
      "image/png": "[encoded data removed]",
      "text/plain": [
       "<Figure size 432x288 with 1 Axes>"
      ]
     },
     "metadata": {
      "needs_background": "light",
      "tags": []
     },
     "output_type": "display_data"
    }
   ],
   "source": [
    "ax = results_how_to_impute_real.plot(kind=\"bar\",rot=30)\n",
    "ax.get_legend().set_bbox_to_anchor((1, 1))"
   ]
  }
 ],
 "metadata": {
  "accelerator": "GPU",
  "colab": {
   "authorship_tag": "ABX9TyO8EiPmwiiMG7/RmWy8W8p3",
   "collapsed_sections": [],
   "include_colab_link": true,
   "name": "Howtoimpute.ipynb",
   "provenance": []
  },
  "kernelspec": {
   "display_name": "Python 3",
   "language": "python",
   "name": "python3"
  },
  "language_info": {
   "codemirror_mode": {
    "name": "ipython",
    "version": 3
   },
   "file_extension": ".py",
   "mimetype": "text/x-python",
   "name": "python",
   "nbconvert_exporter": "python",
   "pygments_lexer": "ipython3",
   "version": "3.7.3"
  },
  "toc": {
   "base_numbering": 1,
   "nav_menu": {},
   "number_sections": true,
   "sideBar": true,
   "skip_h1_title": false,
   "title_cell": "Table of Contents",
   "title_sidebar": "Contents",
   "toc_cell": false,
   "toc_position": {},
   "toc_section_display": true,
   "toc_window_display": false
  }
 },
 "nbformat": 4,
 "nbformat_minor": 1
}
